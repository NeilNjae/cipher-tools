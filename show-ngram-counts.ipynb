{
 "cells": [
  {
   "cell_type": "code",
   "execution_count": 28,
   "metadata": {},
   "outputs": [],
   "source": [
    "import matplotlib as mpl\n",
    "import matplotlib.pyplot as plt\n",
    "%matplotlib inline\n",
    "\n",
    "import numpy as np\n",
    "import pandas as pd\n",
    "\n",
    "from support.language_models import *\n",
    "from support.norms import *"
   ]
  },
  {
   "cell_type": "code",
   "execution_count": 29,
   "metadata": {},
   "outputs": [
    {
     "data": {
      "text/plain": [
       "<matplotlib.axes._subplots.AxesSubplot at 0x7fecb2d1f780>"
      ]
     },
     "execution_count": 29,
     "metadata": {},
     "output_type": "execute_result"
    },
    {
     "data": {
      "image/png": "[encoded data removed]",
      "text/plain": [
       "<matplotlib.figure.Figure at 0x7fecb30d9e80>"
      ]
     },
     "metadata": {},
     "output_type": "display_data"
    }
   ],
   "source": [
    "pd.Series(scale(english_counts, linf)).sort_values(ascending=False).plot()"
   ]
  },
  {
   "cell_type": "code",
   "execution_count": 30,
   "metadata": {},
   "outputs": [
    {
     "data": {
      "text/plain": [
       "<matplotlib.axes._subplots.AxesSubplot at 0x7fecb2d45358>"
      ]
     },
     "execution_count": 30,
     "metadata": {},
     "output_type": "execute_result"
    },
    {
     "data": {
      "image/png": "[encoded data removed]",
      "text/plain": [
       "<matplotlib.figure.Figure at 0x7fecb2e03358>"
      ]
     },
     "metadata": {},
     "output_type": "display_data"
    }
   ],
   "source": [
    "pd.Series(scale(english_bigram_counts, linf)).sort_values(ascending=False).plot()"
   ]
  },
  {
   "cell_type": "code",
   "execution_count": 31,
   "metadata": {},
   "outputs": [
    {
     "data": {
      "text/plain": [
       "<matplotlib.axes._subplots.AxesSubplot at 0x7fecb42f5160>"
      ]
     },
     "execution_count": 31,
     "metadata": {},
     "output_type": "execute_result"
    },
    {
     "data": {
      "image/png": "[encoded data removed]",
      "text/plain": [
       "<matplotlib.figure.Figure at 0x7fecb527a908>"
      ]
     },
     "metadata": {},
     "output_type": "display_data"
    }
   ],
   "source": [
    "pd.Series(scale(english_trigram_counts, linf)).sort_values(ascending=False).plot()"
   ]
  },
  {
   "cell_type": "code",
   "execution_count": 32,
   "metadata": {},
   "outputs": [
    {
     "data": {
      "text/plain": [
       "RangeIndex(start=0, stop=26, step=1)"
      ]
     },
     "execution_count": 32,
     "metadata": {},
     "output_type": "execute_result"
    }
   ],
   "source": [
    "ug = pd.Series(scale(english_counts, linf)).sort_values(ascending=False).reset_index()\n",
    "ug.index"
   ]
  },
  {
   "cell_type": "code",
   "execution_count": 33,
   "metadata": {},
   "outputs": [
    {
     "data": {
      "text/plain": [
       "RangeIndex(start=0, stop=676, step=1)"
      ]
     },
     "execution_count": 33,
     "metadata": {},
     "output_type": "execute_result"
    }
   ],
   "source": [
    "bg = pd.Series(scale(english_bigram_counts, linf)).sort_values(ascending=False).reset_index()\n",
    "bg.index"
   ]
  },
  {
   "cell_type": "code",
   "execution_count": 34,
   "metadata": {},
   "outputs": [
    {
     "data": {
      "text/plain": [
       "RangeIndex(start=0, stop=17576, step=1)"
      ]
     },
     "execution_count": 34,
     "metadata": {},
     "output_type": "execute_result"
    }
   ],
   "source": [
    "tg = pd.Series(scale(english_trigram_counts, linf)).sort_values(ascending=False).reset_index()\n",
    "tg.index"
   ]
  },
  {
   "cell_type": "code",
   "execution_count": 35,
   "metadata": {},
   "outputs": [
    {
     "data": {
      "text/plain": [
       "RangeIndex(start=0, stop=17576, step=26)"
      ]
     },
     "execution_count": 35,
     "metadata": {},
     "output_type": "execute_result"
    }
   ],
   "source": [
    "ugi = pd.RangeIndex(start=0, stop=26**3, step=26**2)\n",
    "bgi = pd.RangeIndex(start=0, stop=26**3, step=26)\n",
    "tgi = pd.RangeIndex(start=0, stop=26**3, step=1)\n",
    "bgi"
   ]
  },
  {
   "cell_type": "code",
   "execution_count": 38,
   "metadata": {},
   "outputs": [
    {
     "data": {
      "text/html": [
       "<div>\n",
       "<table border=\"1\" class=\"dataframe\">\n",
       "  <thead>\n",
       "    <tr style=\"text-align: right;\">\n",
       "      <th></th>\n",
       "      <th>index</th>\n",
       "      <th>0</th>\n",
       "    </tr>\n",
       "  </thead>\n",
       "  <tbody>\n",
       "    <tr>\n",
       "      <th>0</th>\n",
       "      <td>the</td>\n",
       "      <td>1.000000</td>\n",
       "    </tr>\n",
       "    <tr>\n",
       "      <th>1</th>\n",
       "      <td>ing</td>\n",
       "      <td>0.532595</td>\n",
       "    </tr>\n",
       "    <tr>\n",
       "      <th>2</th>\n",
       "      <td>and</td>\n",
       "      <td>0.529235</td>\n",
       "    </tr>\n",
       "    <tr>\n",
       "      <th>3</th>\n",
       "      <td>ion</td>\n",
       "      <td>0.486067</td>\n",
       "    </tr>\n",
       "    <tr>\n",
       "      <th>4</th>\n",
       "      <td>tio</td>\n",
       "      <td>0.398344</td>\n",
       "    </tr>\n",
       "  </tbody>\n",
       "</table>\n",
       "</div>"
      ],
      "text/plain": [
       "  index         0\n",
       "0   the  1.000000\n",
       "1   ing  0.532595\n",
       "2   and  0.529235\n",
       "3   ion  0.486067\n",
       "4   tio  0.398344"
      ]
     },
     "execution_count": 38,
     "metadata": {},
     "output_type": "execute_result"
    }
   ],
   "source": [
    "ug.index = ugi\n",
    "bg.index = bgi\n",
    "tg.head()"
   ]
  },
  {
   "cell_type": "code",
   "execution_count": 46,
   "metadata": {},
   "outputs": [
    {
     "data": {
      "text/html": [
       "<div>\n",
       "<table border=\"1\" class=\"dataframe\">\n",
       "  <thead>\n",
       "    <tr style=\"text-align: right;\">\n",
       "      <th></th>\n",
       "      <th>index</th>\n",
       "      <th>0</th>\n",
       "      <th>index</th>\n",
       "      <th>0</th>\n",
       "      <th>index</th>\n",
       "      <th>0</th>\n",
       "    </tr>\n",
       "  </thead>\n",
       "  <tbody>\n",
       "    <tr>\n",
       "      <th>0</th>\n",
       "      <td>e</td>\n",
       "      <td>1.0</td>\n",
       "      <td>in</td>\n",
       "      <td>1.0</td>\n",
       "      <td>the</td>\n",
       "      <td>1.000000</td>\n",
       "    </tr>\n",
       "    <tr>\n",
       "      <th>1</th>\n",
       "      <td>e</td>\n",
       "      <td>1.0</td>\n",
       "      <td>in</td>\n",
       "      <td>1.0</td>\n",
       "      <td>ing</td>\n",
       "      <td>0.532595</td>\n",
       "    </tr>\n",
       "    <tr>\n",
       "      <th>2</th>\n",
       "      <td>e</td>\n",
       "      <td>1.0</td>\n",
       "      <td>in</td>\n",
       "      <td>1.0</td>\n",
       "      <td>and</td>\n",
       "      <td>0.529235</td>\n",
       "    </tr>\n",
       "    <tr>\n",
       "      <th>3</th>\n",
       "      <td>e</td>\n",
       "      <td>1.0</td>\n",
       "      <td>in</td>\n",
       "      <td>1.0</td>\n",
       "      <td>ion</td>\n",
       "      <td>0.486067</td>\n",
       "    </tr>\n",
       "    <tr>\n",
       "      <th>4</th>\n",
       "      <td>e</td>\n",
       "      <td>1.0</td>\n",
       "      <td>in</td>\n",
       "      <td>1.0</td>\n",
       "      <td>tio</td>\n",
       "      <td>0.398344</td>\n",
       "    </tr>\n",
       "  </tbody>\n",
       "</table>\n",
       "</div>"
      ],
      "text/plain": [
       "  index    0 index    0 index         0\n",
       "0     e  1.0    in  1.0   the  1.000000\n",
       "1     e  1.0    in  1.0   ing  0.532595\n",
       "2     e  1.0    in  1.0   and  0.529235\n",
       "3     e  1.0    in  1.0   ion  0.486067\n",
       "4     e  1.0    in  1.0   tio  0.398344"
      ]
     },
     "execution_count": 46,
     "metadata": {},
     "output_type": "execute_result"
    }
   ],
   "source": [
    "ubtg = pd.concat([ug, bg, tg], axis=1)\n",
    "ubtg.fillna(method='pad', inplace=True)\n",
    "ubtg.head()"
   ]
  },
  {
   "cell_type": "code",
   "execution_count": 49,
   "metadata": {},
   "outputs": [
    {
     "data": {
      "text/html": [
       "<div>\n",
       "<table border=\"1\" class=\"dataframe\">\n",
       "  <thead>\n",
       "    <tr style=\"text-align: right;\">\n",
       "      <th></th>\n",
       "      <th>ug</th>\n",
       "      <th>unigrams</th>\n",
       "      <th>bg</th>\n",
       "      <th>bigrams</th>\n",
       "      <th>tg</th>\n",
       "      <th>trigrams</th>\n",
       "    </tr>\n",
       "  </thead>\n",
       "  <tbody>\n",
       "    <tr>\n",
       "      <th>0</th>\n",
       "      <td>e</td>\n",
       "      <td>1.0</td>\n",
       "      <td>in</td>\n",
       "      <td>1.0</td>\n",
       "      <td>the</td>\n",
       "      <td>1.000000</td>\n",
       "    </tr>\n",
       "    <tr>\n",
       "      <th>1</th>\n",
       "      <td>e</td>\n",
       "      <td>1.0</td>\n",
       "      <td>in</td>\n",
       "      <td>1.0</td>\n",
       "      <td>ing</td>\n",
       "      <td>0.532595</td>\n",
       "    </tr>\n",
       "    <tr>\n",
       "      <th>2</th>\n",
       "      <td>e</td>\n",
       "      <td>1.0</td>\n",
       "      <td>in</td>\n",
       "      <td>1.0</td>\n",
       "      <td>and</td>\n",
       "      <td>0.529235</td>\n",
       "    </tr>\n",
       "    <tr>\n",
       "      <th>3</th>\n",
       "      <td>e</td>\n",
       "      <td>1.0</td>\n",
       "      <td>in</td>\n",
       "      <td>1.0</td>\n",
       "      <td>ion</td>\n",
       "      <td>0.486067</td>\n",
       "    </tr>\n",
       "    <tr>\n",
       "      <th>4</th>\n",
       "      <td>e</td>\n",
       "      <td>1.0</td>\n",
       "      <td>in</td>\n",
       "      <td>1.0</td>\n",
       "      <td>tio</td>\n",
       "      <td>0.398344</td>\n",
       "    </tr>\n",
       "  </tbody>\n",
       "</table>\n",
       "</div>"
      ],
      "text/plain": [
       "  ug  unigrams  bg  bigrams   tg  trigrams\n",
       "0  e       1.0  in      1.0  the  1.000000\n",
       "1  e       1.0  in      1.0  ing  0.532595\n",
       "2  e       1.0  in      1.0  and  0.529235\n",
       "3  e       1.0  in      1.0  ion  0.486067\n",
       "4  e       1.0  in      1.0  tio  0.398344"
      ]
     },
     "execution_count": 49,
     "metadata": {},
     "output_type": "execute_result"
    }
   ],
   "source": [
    "ubtg.columns = ['ug', 'unigrams', 'bg', 'bigrams', 'tg', 'trigrams']\n",
    "ubtg.head()"
   ]
  },
  {
   "cell_type": "code",
   "execution_count": 60,
   "metadata": {},
   "outputs": [
    {
     "data": {
      "image/png": "[encoded data removed]",
      "text/plain": [
       "<matplotlib.figure.Figure at 0x7fecb2ac4eb8>"
      ]
     },
     "metadata": {},
     "output_type": "display_data"
    }
   ],
   "source": [
    "ubtg[['unigrams', 'bigrams', 'trigrams']].plot(figsize=(8, 6), ylim=(0, 1.1))\n",
    "plt.savefig('blog-images/ubtgram-relative-counts.png')"
   ]
  },
  {
   "cell_type": "code",
   "execution_count": null,
   "metadata": {},
   "outputs": [],
   "source": []
  }
 ],
 "metadata": {
  "kernelspec": {
   "display_name": "Python 3",
   "language": "python",
   "name": "python3"
  },
  "language_info": {
   "codemirror_mode": {
    "name": "ipython",
    "version": 3
   },
   "file_extension": ".py",
   "mimetype": "text/x-python",
   "name": "python",
   "nbconvert_exporter": "python",
   "pygments_lexer": "ipython3",
   "version": "3.6.3"
  }
 },
 "nbformat": 4,
 "nbformat_minor": 2
}
