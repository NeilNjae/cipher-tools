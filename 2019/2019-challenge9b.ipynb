{
 "cells": [
  {
   "cell_type": "code",
   "execution_count": 1,
   "metadata": {},
   "outputs": [],
   "source": [
    "import os,sys,inspect\n",
    "currentdir = os.path.dirname(os.path.abspath(inspect.getfile(inspect.currentframe())))\n",
    "parentdir = os.path.dirname(currentdir)\n",
    "sys.path.insert(0,parentdir) "
   ]
  },
  {
   "cell_type": "code",
   "execution_count": 2,
   "metadata": {},
   "outputs": [],
   "source": [
    "from cipher.caesar import *\n",
    "from cipher.affine import *\n",
    "from cipher.keyword_cipher import *\n",
    "from cipher.column_transposition import *\n",
    "from cipher.vigenere import *\n",
    "from support.text_prettify import *\n",
    "from support.utilities import *\n",
    "from support.plot_frequency_histogram import *\n",
    "import re\n",
    "import itertools"
   ]
  },
  {
   "cell_type": "code",
   "execution_count": 3,
   "metadata": {},
   "outputs": [],
   "source": [
    "challenge_number = 9\n",
    "plaintext_a_filename = f'{challenge_number}a.plaintext'\n",
    "plaintext_b_filename = f'{challenge_number}b.plaintext'\n",
    "ciphertext_a_filename = f'{challenge_number}a.ciphertext'\n",
    "ciphertext_b_filename = f'{challenge_number}b.ciphertext'"
   ]
  },
  {
   "cell_type": "code",
   "execution_count": 4,
   "metadata": {},
   "outputs": [],
   "source": [
    "ca = open(ciphertext_a_filename).read()\n",
    "cb = open(ciphertext_b_filename).read()\n",
    "\n",
    "rwa = wcat(cat(reversed(w)) for w in ca.split())\n",
    "ra = cat(reversed(ca))\n",
    "sca = sanitise(ca)\n",
    "rsca = cat(reversed(sca))\n",
    "pca = letters(ca)\n",
    "pta = depunctuate(ca)\n",
    "\n",
    "scb = cat(l for l in cb if l in \"012\")\n",
    "gcb = cb.split()\n",
    "rscb = cat(reversed(scb))"
   ]
  },
  {
   "cell_type": "code",
   "execution_count": 5,
   "metadata": {},
   "outputs": [],
   "source": [
    "# open(plaintext_b_filename, 'w').write(lcat(tpack(segment(pa))))"
   ]
  },
  {
   "cell_type": "code",
   "execution_count": 6,
   "metadata": {},
   "outputs": [
    {
     "data": {
      "text/plain": [
       "18480"
      ]
     },
     "execution_count": 6,
     "metadata": {},
     "output_type": "execute_result"
    }
   ],
   "source": [
    "len(scb)"
   ]
  },
  {
   "cell_type": "code",
   "execution_count": null,
   "metadata": {},
   "outputs": [],
   "source": []
  },
  {
   "cell_type": "markdown",
   "metadata": {},
   "source": [
    "# Solution"
   ]
  },
  {
   "cell_type": "code",
   "execution_count": 45,
   "metadata": {},
   "outputs": [],
   "source": [
    "def unquad(quadlet):\n",
    "    ds = [int(c) for c in quadlet]\n",
    "    return ds[0] * 12 + ds[1] * 6 + ds[2] * 2 + ds[3]"
   ]
  },
  {
   "cell_type": "code",
   "execution_count": 48,
   "metadata": {},
   "outputs": [
    {
     "data": {
      "text/plain": [
       "['1110',\n",
       " '1020',\n",
       " '1110',\n",
       " '0011',\n",
       " '1021',\n",
       " '0020',\n",
       " '0011',\n",
       " '1110',\n",
       " '1011',\n",
       " '0011']"
      ]
     },
     "execution_count": 48,
     "metadata": {},
     "output_type": "execute_result"
    }
   ],
   "source": [
    "quads = [q for ch in chunks(scb, 28) for q in every_nth(ch, 7)]\n",
    "quads[:10]"
   ]
  },
  {
   "cell_type": "code",
   "execution_count": 57,
   "metadata": {},
   "outputs": [
    {
     "data": {
      "text/plain": [
       "'uqudredupdatfvsunvdqijeqdrrfaqhdnghqghrcfsbhgwnaqgmghqugeqngpdatfvsadccnehqghgweqcfufvnemhqghfvsdrhb'"
      ]
     },
     "execution_count": 57,
     "metadata": {},
     "output_type": "execute_result"
    }
   ],
   "source": [
    "qcb = cat(unpos(unquad(q)) for q in quads)\n",
    "qcb[:100]"
   ]
  },
  {
   "cell_type": "code",
   "execution_count": null,
   "metadata": {},
   "outputs": [],
   "source": []
  },
  {
   "cell_type": "code",
   "execution_count": null,
   "metadata": {},
   "outputs": [],
   "source": []
  },
  {
   "cell_type": "code",
   "execution_count": 7,
   "metadata": {},
   "outputs": [
    {
     "name": "stderr",
     "output_type": "stream",
     "text": [
      "/usr/local/lib/python3.6/dist-packages/matplotlib/figure.py:445: UserWarning: Matplotlib is currently using module://ipykernel.pylab.backend_inline, which is a non-GUI backend, so cannot show the figure.\n",
      "  % get_backend())\n"
     ]
    },
    {
     "data": {
      "image/png": "[encoded data removed]",
      "text/plain": [
       "<Figure size 432x288 with 1 Axes>"
      ]
     },
     "metadata": {
      "needs_background": "light"
     },
     "output_type": "display_data"
    }
   ],
   "source": [
    "fc = collections.Counter(scb)\n",
    "plot_frequency_histogram(fc, sort_key=fc.get)"
   ]
  },
  {
   "cell_type": "code",
   "execution_count": 8,
   "metadata": {},
   "outputs": [],
   "source": [
    "runs = [(k, len(list(v))) for k, v in itertools.groupby(scb)]"
   ]
  },
  {
   "cell_type": "code",
   "execution_count": 9,
   "metadata": {},
   "outputs": [
    {
     "data": {
      "text/plain": [
       "[(1, 5338),\n",
       " (2, 2442),\n",
       " (3, 1143),\n",
       " (4, 522),\n",
       " (5, 253),\n",
       " (6, 110),\n",
       " (7, 63),\n",
       " (8, 29),\n",
       " (9, 11),\n",
       " (10, 3),\n",
       " (14, 1)]"
      ]
     },
     "execution_count": 9,
     "metadata": {},
     "output_type": "execute_result"
    }
   ],
   "source": [
    "collections.Counter(p[1] for p in runs).most_common()"
   ]
  },
  {
   "cell_type": "code",
   "execution_count": 11,
   "metadata": {},
   "outputs": [],
   "source": [
    "def untri(triplet):\n",
    "    ds = [int(c) for c in triplet]\n",
    "    return ds[0] * 9 + ds[1] * 3 + ds[2]"
   ]
  },
  {
   "cell_type": "code",
   "execution_count": 12,
   "metadata": {},
   "outputs": [],
   "source": [
    "def unpos_t(n):\n",
    "    if n == 26:\n",
    "        return '+'\n",
    "    else:\n",
    "        return unpos(n + 1)"
   ]
  },
  {
   "cell_type": "code",
   "execution_count": 21,
   "metadata": {},
   "outputs": [],
   "source": [
    "tb = cat(unpos(untri(t)) for t in chunks(scb, 3))"
   ]
  },
  {
   "cell_type": "code",
   "execution_count": 16,
   "metadata": {},
   "outputs": [
    {
     "data": {
      "text/plain": [
       "[]"
      ]
     },
     "execution_count": 16,
     "metadata": {},
     "output_type": "execute_result"
    }
   ],
   "source": [
    "[c for c in tb if c == '+']"
   ]
  },
  {
   "cell_type": "code",
   "execution_count": 36,
   "metadata": {},
   "outputs": [
    {
     "data": {
      "text/plain": [
       "['1110100101000012112210001101',\n",
       " '1100101100010111100210110111',\n",
       " '1111010110100101011210011100',\n",
       " '0010110100000012212221001111',\n",
       " '0100100001001102010000011101',\n",
       " '1001001011000120021200011010',\n",
       " '0001101011100000020021100100',\n",
       " '0100110101101100002100001000',\n",
       " '0110100000100022001100010110',\n",
       " '1011000101100002100111110010']"
      ]
     },
     "execution_count": 36,
     "metadata": {},
     "output_type": "execute_result"
    }
   ],
   "source": [
    "chunks(scb, 28)[:10]"
   ]
  },
  {
   "cell_type": "code",
   "execution_count": 46,
   "metadata": {},
   "outputs": [
    {
     "data": {
      "text/plain": [
       "[['1110', '1020', '1110', '0011', '1021', '0020', '0011'],\n",
       " ['1110', '1011', '0011', '0000', '1101', '0021', '1111'],\n",
       " ['1100', '1110', '1001', '1111', '0011', '1020', '0110'],\n",
       " ['0111', '0020', '1020', '0011', '1021', '1021', '0021'],\n",
       " ['0000', '1020', '0101', '0011', '1001', '0100', '0101'],\n",
       " ['1020', '0100', '0101', '1021', '0010', '0021', '1100'],\n",
       " ['0001', '0101', '0100', '1120', '1001', '0000', '1020'],\n",
       " ['0100', '1000', '0100', '0101', '1020', '1110', '0100'],\n",
       " ['0020', '1020', '1001', '0100', '1011', '0011', '0000'],\n",
       " ['1101', '0021', '1111', '1100', '0000', '0011', '0010']]"
      ]
     },
     "execution_count": 46,
     "metadata": {},
     "output_type": "execute_result"
    }
   ],
   "source": [
    "[every_nth(ch, 7) for ch in chunks(scb, 28)][:10]"
   ]
  },
  {
   "cell_type": "code",
   "execution_count": 31,
   "metadata": {},
   "outputs": [
    {
     "data": {
      "text/plain": [
       "['1110010001',\n",
       " '1110100110',\n",
       " '1011000011',\n",
       " '0010011001',\n",
       " '1101101110',\n",
       " '0011000100',\n",
       " '0100011000',\n",
       " '1111000101',\n",
       " '0010011000',\n",
       " '1000111101',\n",
       " '0010001111',\n",
       " '0100000000',\n",
       " '0000100100',\n",
       " '0110110100',\n",
       " '1101020020',\n",
       " '2112200022',\n",
       " '1102000001',\n",
       " '1011122000',\n",
       " '2012010210',\n",
       " '2222020111',\n",
       " '1112002001',\n",
       " '0001001001',\n",
       " '0100001001',\n",
       " '0110110011',\n",
       " '1011110100',\n",
       " '1111101010',\n",
       " '0101010011',\n",
       " '1101100000']"
      ]
     },
     "execution_count": 31,
     "metadata": {},
     "output_type": "execute_result"
    }
   ],
   "source": [
    "[c[:10] for c in every_nth(scb, 28)]"
   ]
  },
  {
   "cell_type": "code",
   "execution_count": 37,
   "metadata": {},
   "outputs": [
    {
     "data": {
      "text/plain": [
       "[15, 18, 19, 47, 75, 99, 100, 102, 103, 104]"
      ]
     },
     "execution_count": 37,
     "metadata": {},
     "output_type": "execute_result"
    }
   ],
   "source": [
    "[n for n, c in enumerate(scb) if c == '2'][:10]"
   ]
  },
  {
   "cell_type": "code",
   "execution_count": 40,
   "metadata": {},
   "outputs": [
    {
     "data": {
      "text/plain": [
       "[[15, 18, 19],\n",
       " [19],\n",
       " [19],\n",
       " [15, 16, 18, 19, 20],\n",
       " [15],\n",
       " [14, 17, 19],\n",
       " [17, 20],\n",
       " [18],\n",
       " [14, 15],\n",
       " [15]]"
      ]
     },
     "execution_count": 40,
     "metadata": {},
     "output_type": "execute_result"
    }
   ],
   "source": [
    "pos2s = [[n for n, c in enumerate(ch) if c == '2'] for ch in chunks(scb, 28)]\n",
    "pos2s[:10]"
   ]
  },
  {
   "cell_type": "code",
   "execution_count": 44,
   "metadata": {},
   "outputs": [
    {
     "data": {
      "text/plain": [
       "(14, 20)"
      ]
     },
     "execution_count": 44,
     "metadata": {},
     "output_type": "execute_result"
    }
   ],
   "source": [
    "min(min(s) for s in pos2s if s), max(max(s) for s in pos2s if s)"
   ]
  },
  {
   "cell_type": "code",
   "execution_count": 45,
   "metadata": {},
   "outputs": [],
   "source": [
    "def unquad(quadlet):\n",
    "    ds = [int(c) for c in quadlet]\n",
    "    return ds[0] * 12 + ds[1] * 6 + ds[2] * 2 + ds[3]"
   ]
  },
  {
   "cell_type": "code",
   "execution_count": 48,
   "metadata": {},
   "outputs": [
    {
     "data": {
      "text/plain": [
       "['1110',\n",
       " '1020',\n",
       " '1110',\n",
       " '0011',\n",
       " '1021',\n",
       " '0020',\n",
       " '0011',\n",
       " '1110',\n",
       " '1011',\n",
       " '0011']"
      ]
     },
     "execution_count": 48,
     "metadata": {},
     "output_type": "execute_result"
    }
   ],
   "source": [
    "quads = [q for ch in chunks(scb, 28) for q in every_nth(ch, 7)]\n",
    "quads[:10]"
   ]
  },
  {
   "cell_type": "code",
   "execution_count": 58,
   "metadata": {},
   "outputs": [
    {
     "data": {
      "text/plain": [
       "'uqudredupdatfvsunvdqijeqdrrfaqhdnghqghrcfsbhgwnaqgmghqugeqngpdatfvsadccnehqghgweqcfufvnemhqghfvsdrhb'"
      ]
     },
     "execution_count": 58,
     "metadata": {},
     "output_type": "execute_result"
    }
   ],
   "source": [
    "qcb = cat(unpos(unquad(q)) for q in quads)\n",
    "qcb[:100]"
   ]
  },
  {
   "cell_type": "code",
   "execution_count": 51,
   "metadata": {},
   "outputs": [
    {
     "data": {
      "text/plain": [
       "('noapqrsbfytcuvdwxeghijklmz', -15275.52585516763)"
      ]
     },
     "execution_count": 51,
     "metadata": {},
     "output_type": "execute_result"
    }
   ],
   "source": [
    "kb, scoreb = simulated_annealing_break(qcb, fitness=Ptrigrams)\n",
    "kb, scoreb"
   ]
  },
  {
   "cell_type": "code",
   "execution_count": 52,
   "metadata": {},
   "outputs": [
    {
     "data": {
      "text/plain": [
       "'memofromdockingmanoeuvreofficetoastestflightspacesystemsreasdockingcollartestspreliminarytestingofthedockingcollarsystemhasrevealedapotentiallyseriousflawinthedesignwhichmustbeaddressedbeforethesystemcanbecertifiedtheissueconcernstheemergencyreleasesystembackgroundthedockingsystemperformsthefollowingfunctionsimpactenergyabsorptionmechanicalconnectionspacecraftalignmentandretractionspacecrafthardmechanicalconnectionanddockinginterfacesealingspacecraftundockingandseparationinordertoachievethesefunctionsthedockingsystemconsistsofthreeprinciplepartsthebaseastructuralringandthelatchingringthedockingsystembaseisthemainstructuralmembertowhichthedockingsystemassembliesareattachedthestructuralringcarriesthebodylatcheswhichprovideahardpressuretightconnectionbetweenthetwospacecrafttogetherwiththecapturelatcheswhichoperateduringthedockingmanoeuvretheseperformthedockingfunctiontheyconsistofeightactiveandeightpassivehookswithanelectricaldriveinstalledononeofthelatchesandclosedloopcablesconnectingthemeachactivehookhasacamoperatedmechanismwhichperformsitsopeningandtighteningcorrespondinghooksofthepassivedockingsystemarecapturedbyactivehookseachpassivehookhasastackofpreloadedbellvillespringsprovidingadefiniteforceforthedockinginterfacepreloadingthedockinginterfacesealwillprovidepressureintegrityofthedockinginterfacesthisconsistsoftwoconcentricrubberringsealsoneachsystemandamanholecoverisusedtoclosethetransfertunnelofthespacecrafthatchlockingandunlockingismanuallyperformedbythecrewitissealedbyamechanismwhichhasafurthereighteccentriclatchesthesebeingconnectedwitheachotherbymeansofclosedcableconnectionthedockingsystemisequippedwithalarmandmetersystemwhichprovidetelemetrytotheshipsandtogroundcontrolinstandardoperationalmodeundockingisperformedbyreleaseoftheactivespacecraftcapturelatchesandthenbyopeningthestructurelatchhooksifnecessaryundockingcanbeperformedbythepassivespacecraftbyreleasingthebodymountedlatchesandopeningthestructurelatchpassivehooksspacecraftseparationisperformedbyspringthrusterssymmetricallylocatedonthestructuralringsofbothsystemsafterthelatchesreleasetheprincipledifferencebetweentherussianandusdockingsystemdesignscanbeseenintheguideringsystemunliketherussianelectromechanicaldockingsystemapolloisequippedwithanelectricdrivewhichusescableconnectionstotriggerthelatchesanotheressentialdifferenceistherussianemergencyreleasesystemersabackupprovidedbypyroboltsattachedtoeachpassiveandactivehookwhichoperatesinpassivemodeandprovidespracticallyinstantaneousundockingintheeventofasystemmalfunctionoraccidentonboardoneorbothofthedockedspacecraftsituationsinwhichtheersmightbeinitiatedincludeiuncontrolledfireorexplosiononboardoneofthespacecraftduringdockedoperationsiifailureofthedockingcontrolsystempreventingstandardreleaseoperationiiiattitudecontrolfailureoforunplannedfiringononeorbothspacecraftimposinghighstressesonthedockingmechanismwhiletheersprovidesaneffectivebackupforemergencysituationssimulationsandtestsonthehuntsvilledockingtestbedshowthattheeffectivenessofthepyrotechnicboltsisacriticalissuetoomuchexplosivecouldcausecriticaldamagetothepressuresealsaroundthehatchwhiletoolittlecanleavethespacecraftattachedwithadamagedmechanismtheerswasdesignedforoperationonussrmissionsandisthereforetunedtothestructuralconstraintsonthesovietplatformsincethelatchesareelectromagneticonthatspacecrafttheyarelesspronetodamageundervibrationalforcesthemotorandcablemechanismusedontheapolloplatformismorevulnerabletoshockandundercertaintestconditionshasbeenshowntofailfollowingthetriggeringoftheersonthesovietendofthedockingmechanismshockwaveswillnotofcoursepropagatethroughthevacuumofspacebuttheforcescanbetransmittedthroughthetunneltotheapollolatchesandiftheboltsfireasymmetricallythisplacesatorsionloadingonthemechanismwhichcanunseatthedrivecablesinfiveoftheseventestswherethisphenomenonwasobservedtheengineerswereabletoreseatthecablesbyrepeatedlyoperatingthemechanismbutintheremainingtwocasesthemechanismwasbeyondrepairwithoutmanualinterventionunfortunatelyinthesetwocasesthesafetyinterlockalsopreventedthehatchfrombeingopenedwhichcouldmakeitdifficultfortheastronautstocarryoutaspacewalktoexecutetherequiredrepairinthiscaseitwouldnormallybepossiblefortheastronautstomanuallyoperatethemanholelatchesbydisassemblingandsubsequentlyassemblingthehatchcoverhoweverifthelatchingmechanismshavebeensufficientlydamagedbythepyroboltsthismightproveariskyoptionanditisevenpossiblethatthecoverlatcheswouldfailtoretractmanuallywehaveaskedqueensteamtotakealookatthisandsheassuresmethattheycansortitoutshehasworkedonmostoftheapollomissiondesignteamssoiamprettyconfidentthatshecanmakesureeverythingisokforthisone'"
      ]
     },
     "execution_count": 52,
     "metadata": {},
     "output_type": "execute_result"
    }
   ],
   "source": [
    "pb = keyword_decipher(qcb, kb, KeywordWrapAlphabet.from_last)\n",
    "pb"
   ]
  },
  {
   "cell_type": "code",
   "execution_count": 53,
   "metadata": {},
   "outputs": [
    {
     "name": "stdout",
     "output_type": "stream",
     "text": [
      "memo from docking manoeuvre office to as test flight space systems re as docking collar tests\n",
      "preliminary testing of the docking collar system has revealed a potentially serious flaw in the\n",
      "design which must be addressed before the system can be certified the issue concerns the emergency\n",
      "release system background the docking system performs the following functions impact energy\n",
      "absorption mechanical connection spacecraft alignment and retraction spacecraft hard mechanical\n",
      "connection and docking interface sealing spacecraft undocking and separation in order to achieve\n",
      "these functions the docking system consists of three principle parts the base a structural ring and\n",
      "the latching ring the docking system base is the main structural member to which the docking system\n",
      "assemblies are attached the structural ring carries the body latches which provide a hard pressure\n",
      "tight connection between the two spacecraft together with the capture latches which operate during\n",
      "the docking manoeuvre these perform the docking function they consist of eight active and eight\n",
      "passive hooks with an electrical drive installed on one of the latches and closed loop cables\n",
      "connecting them each active hook has a cam operated mechanism which performs its opening and\n",
      "tightening corresponding hooks of the passive docking system are captured by active hooks each\n",
      "passive hook has a stack of preloaded bellville springs providing a definite force for the docking\n",
      "interface preloading the docking interface seal will provide pressure integrity of the docking\n",
      "interfaces this consists of two concentric rubber ring seals on each system and a manhole cover is\n",
      "used to close the transfer tunnel of the spacecraft hatch locking and unlocking is manually\n",
      "performed by the crew it is sealed by a mechanism which has a further eight eccentric latches these\n",
      "being connected with each other by means of closed cable connection the docking system is equipped\n",
      "with alarm and meter system which provide telemetry to the ships and to ground control in standard\n",
      "operational mode undocking is performed by release of the active spacecraft capture latches and then\n",
      "by opening the structure latch hooks if necessary undocking can be performed by the passive\n",
      "spacecraft by releasing the body mounted latches and opening the structure latch passive hooks\n",
      "spacecraft separation is performed by spring thrusters symmetrically located on the structural rings\n",
      "of both systems after the latches release the principle difference between the russian and us\n",
      "docking system designs can be seen in the guide ring system unlike the russian electromechanical\n",
      "docking system apollo is equipped with an electric drive which uses cable connections to trigger the\n",
      "latches another essential difference is the russian emergency release system ers a backup provided\n",
      "by pyro bolts attached to each passive and active hook which operates in passive mode and provides\n",
      "practically instantaneous undocking in the event of a system malfunction or accident onboard one or\n",
      "both of the docked spacecraft situations in which the ers might be initiated include i uncontrolled\n",
      "fire or explosion onboard one of the spacecraft during docked operations ii failure of the docking\n",
      "control system preventing standard release operation iii attitude control failure of or unplanned\n",
      "firing on one or both spacecraft imposing high stresses on the docking mechanism while the ers\n",
      "provides an effective backup for emergency situations simulations and tests on the huntsville\n",
      "docking testbed show that the effectiveness of the pyrotechnic bolts is a critical issue too much\n",
      "explosive could cause critical damage to the pressure seals around the hatch while too little can\n",
      "leave the spacecraft attached with a damaged mechanism the ers was designed for operation on ussr\n",
      "missions and is therefore tuned to the structural constraints on the soviet platform since the\n",
      "latches are electromagnetic on that spacecraft they are less prone to damage under vibrational\n",
      "forces the motor and cable mechanism used on the apollo platform is more vulnerable to shock and\n",
      "under certain test conditions has been shown to fail following the triggering of the erson the\n",
      "soviet end of the docking mechanism shockwaves will not of course propagate through the vacuum of\n",
      "space but the forces can be transmitted through the tunnel to the apollo latches and if the bolts\n",
      "fire asymmetrically this places a torsion loading on the mechanism which can unseat the drive cables\n",
      "in five of the seven tests where this phenomenon was observed the engineers were able to reseat the\n",
      "cables by repeatedly operating the mechanism but in the remaining two cases the mechanism was beyond\n",
      "repair without manual intervention unfortunately in these two cases the safety interlock also\n",
      "prevented the hatch from being opened which could make it difficult for the astronauts to carryout a\n",
      "spacewalk to execute the required repair in this case it would normally be possible for the\n",
      "astronauts to manually operate the manhole latches by disassembling and subsequently assembling the\n",
      "hatch cover however if the latching mechanisms have been sufficiently damaged by the pyro bolts this\n",
      "might prove a risky option and it is even possible that the cover latches would fail to retract\n",
      "manually we have asked queens team to take a look at this and she assures me that they can sort it\n",
      "out she has worked on most of the apollo mission design teams so i am pretty confident that she can\n",
      "make sure everything is ok for this one\n"
     ]
    }
   ],
   "source": [
    "print(lcat(tpack(segment(pb))))"
   ]
  },
  {
   "cell_type": "code",
   "execution_count": 55,
   "metadata": {},
   "outputs": [
    {
     "data": {
      "text/plain": [
       "5494"
      ]
     },
     "execution_count": 55,
     "metadata": {},
     "output_type": "execute_result"
    }
   ],
   "source": [
    "open(plaintext_b_filename, 'w').write(lcat(tpack(segment(pb))))"
   ]
  },
  {
   "cell_type": "code",
   "execution_count": 13,
   "metadata": {},
   "outputs": [],
   "source": [
    "def ioc_n(text):\n",
    "    counts = collections.Counter(text)\n",
    "    ltrs = set(text)\n",
    "    denom = len(text) * (len(text) - 1) / len(ltrs)\n",
    "    return (\n",
    "        sum(max(counts[l] * counts[l] - 1, 0) for l in ltrs)\n",
    "        /\n",
    "        denom\n",
    "    )"
   ]
  },
  {
   "cell_type": "code",
   "execution_count": 24,
   "metadata": {},
   "outputs": [],
   "source": [
    "def ioc_scan_n(text, max_key_length=20):\n",
    "    \"\"\"Finds the index of coincidence of the text, using different chunk sizes.\"\"\"\n",
    "    iocs = {}\n",
    "    for i in range(1, max_key_length + 1):\n",
    "        splits = every_nth(text, i)\n",
    "        mean_ioc = sum(ioc_n(s) for s in splits) / i\n",
    "        iocs[i] = mean_ioc\n",
    "    return iocs"
   ]
  },
  {
   "cell_type": "code",
   "execution_count": 25,
   "metadata": {},
   "outputs": [
    {
     "data": {
      "text/plain": [
       "1.313469334794217"
      ]
     },
     "execution_count": 25,
     "metadata": {},
     "output_type": "execute_result"
    }
   ],
   "source": [
    "ioc_n(scb)"
   ]
  },
  {
   "cell_type": "code",
   "execution_count": 30,
   "metadata": {},
   "outputs": [
    {
     "data": {
      "text/plain": [
       "[(28, 1.029237612412878),\n",
       " (56, 1.0323741101856603),\n",
       " (14, 1.0886873582571082),\n",
       " (42, 1.0923459702787721),\n",
       " (1, 1.313469334794217),\n",
       " (3, 1.3136724474583705),\n",
       " (5, 1.3139446514243536),\n",
       " (7, 1.3141262063060093),\n",
       " (2, 1.3142346883552642),\n",
       " (9, 1.3145299178890573),\n",
       " (6, 1.3146522525866469),\n",
       " (11, 1.314872121624653),\n",
       " (10, 1.3153476328760576),\n",
       " (17, 1.3156082632437882),\n",
       " (19, 1.3157537470690668),\n",
       " (15, 1.3158533079430723),\n",
       " (18, 1.316306072127611),\n",
       " (4, 1.3163246528314725),\n",
       " (23, 1.3163277281569055),\n",
       " (21, 1.3163473471920573),\n",
       " (25, 1.316655118103681),\n",
       " (8, 1.317040603398334),\n",
       " (13, 1.3171605413165643),\n",
       " (12, 1.3174113735517243),\n",
       " (22, 1.317528984722072),\n",
       " (33, 1.317594905094905),\n",
       " (31, 1.317605231763728),\n",
       " (27, 1.317688521561938),\n",
       " (29, 1.3179986584465913),\n",
       " (16, 1.3180422696887168),\n",
       " (35, 1.318663902511151),\n",
       " (38, 1.3186715456762172),\n",
       " (37, 1.318782979178807),\n",
       " (30, 1.3189277795375356),\n",
       " (20, 1.319112577563282),\n",
       " (41, 1.319293715271584),\n",
       " (24, 1.319320503943391),\n",
       " (34, 1.319372128500673),\n",
       " (26, 1.3195881414435318),\n",
       " (45, 1.319847955451339),\n",
       " (51, 1.3198862305977204),\n",
       " (43, 1.3202263262432186),\n",
       " (32, 1.3204297829974077),\n",
       " (46, 1.32083091670564),\n",
       " (47, 1.320835215197834),\n",
       " (49, 1.3208992566951445),\n",
       " (36, 1.320917879222574),\n",
       " (39, 1.3212746271240052),\n",
       " (57, 1.3216014658027582),\n",
       " (55, 1.3216742585772436),\n",
       " (50, 1.321775386202746),\n",
       " (40, 1.3220152407245682),\n",
       " (48, 1.322371313582251),\n",
       " (54, 1.3229352276740334),\n",
       " (59, 1.322950472958544),\n",
       " (44, 1.3231503579952266),\n",
       " (53, 1.3232741220713358),\n",
       " (58, 1.3236374480105653),\n",
       " (52, 1.3262568828142518),\n",
       " (60, 1.3264573374508233)]"
      ]
     },
     "execution_count": 30,
     "metadata": {},
     "output_type": "execute_result"
    }
   ],
   "source": [
    "sorted(ioc_scan_n(scb, max_key_length=60).items(), key=lambda kv: kv[1])"
   ]
  },
  {
   "cell_type": "code",
   "execution_count": 33,
   "metadata": {},
   "outputs": [
    {
     "data": {
      "image/png": "[encoded data removed]",
      "text/plain": [
       "<Figure size 432x288 with 1 Axes>"
      ]
     },
     "metadata": {
      "needs_background": "light"
     },
     "output_type": "display_data"
    }
   ],
   "source": [
    "ic = ioc_scan_n(scb, max_key_length=60)\n",
    "plot_frequency_histogram(ic, sort_key=ic.get)"
   ]
  },
  {
   "cell_type": "code",
   "execution_count": null,
   "metadata": {},
   "outputs": [],
   "source": []
  }
 ],
 "metadata": {
  "kernelspec": {
   "display_name": "Python 3",
   "language": "python",
   "name": "python3"
  },
  "language_info": {
   "codemirror_mode": {
    "name": "ipython",
    "version": 3
   },
   "file_extension": ".py",
   "mimetype": "text/x-python",
   "name": "python",
   "nbconvert_exporter": "python",
   "pygments_lexer": "ipython3",
   "version": "3.6.9"
  }
 },
 "nbformat": 4,
 "nbformat_minor": 4
}
