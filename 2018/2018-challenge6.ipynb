{
 "cells": [
  {
   "cell_type": "code",
   "execution_count": 1,
   "metadata": {},
   "outputs": [],
   "source": [
    "import os,sys,inspect\n",
    "currentdir = os.path.dirname(os.path.abspath(inspect.getfile(inspect.currentframe())))\n",
    "parentdir = os.path.dirname(currentdir)\n",
    "sys.path.insert(0,parentdir) "
   ]
  },
  {
   "cell_type": "code",
   "execution_count": 25,
   "metadata": {},
   "outputs": [],
   "source": [
    "from cipher.caesar import *\n",
    "from cipher.affine import *\n",
    "from cipher.keyword_cipher import *\n",
    "from cipher.vigenere import *\n",
    "from cipher.playfair import *\n",
    "from cipher.column_transposition import *\n",
    "from support.text_prettify import *\n",
    "from support.plot_frequency_histogram import *"
   ]
  },
  {
   "cell_type": "code",
   "execution_count": 34,
   "metadata": {},
   "outputs": [],
   "source": [
    "ca = open('6a.ciphertext').read()\n",
    "cb = open('6b.ciphertext').read()\n",
    "scb = sanitise(cb)"
   ]
  },
  {
   "cell_type": "code",
   "execution_count": 6,
   "metadata": {},
   "outputs": [
    {
     "data": {
      "text/plain": [
       "8197"
      ]
     },
     "execution_count": 6,
     "metadata": {},
     "output_type": "execute_result"
    }
   ],
   "source": [
    "history_words = [w.strip() for w in open('history-words.txt')]\n",
    "len(history_words)"
   ]
  },
  {
   "cell_type": "code",
   "execution_count": 7,
   "metadata": {},
   "outputs": [
    {
     "data": {
      "text/plain": [
       "('nautilus', <KeywordWrapAlphabet.from_last: 2>, -2791.895864772198)"
      ]
     },
     "execution_count": 7,
     "metadata": {},
     "output_type": "execute_result"
    }
   ],
   "source": [
    "(key_a, wrap_a), score_a = keyword_break_mp(ca)\n",
    "key_a, wrap_a, score_a"
   ]
  },
  {
   "cell_type": "code",
   "execution_count": 8,
   "metadata": {},
   "outputs": [
    {
     "name": "stdout",
     "output_type": "stream",
     "text": [
      "it was dark and dusty in the shadow archive but atleast i had found it the shelves marched off into\n",
      "the gloom and most of them were empty though there was the occasional box of papers marked sa which\n",
      "had clearly been forgotten in the move they would be interesting to read later but nothing in them\n",
      "looked important enough to have excited my co conspirator whoever that might be it would have been\n",
      "easy to get discouraged but i needed to recover the lidar so i carried on searching for the chimney\n",
      "i eventually found it at the back of the stacks but there was no sign of the lidar or of any\n",
      "disturbance to suggest it had fallen that far so i guessed it might have got caught on a ledge\n",
      "higher up fortunately the chimney was fairly wide but not so wide that i couldnt bridge it and all\n",
      "those hours on the climbing wall paid off as i climbed up looking for the lost machine as i\n",
      "suspected it had caught on one of the ledges designed to catch rain so i made ready to lower it back\n",
      "down but as i moved loose bricks to steady myself part of the inner wall collapsed and to my\n",
      "amazement i found myself staring into a control room it was very jules verne and wouldnt have looked\n",
      "out of place on the bridge of the nautilus it must have been cutting edge technology once all brass\n",
      "and polished instruments there was a map on the wall covered in small bulbs that i assumed would\n",
      "have lit up to signify activity and a bank of fine nineteenth century telegraph machines in polished\n",
      "walnut unless i was mistaken i had found douglas blacks command centre under a large circular oak\n",
      "table in the centre of the room there was a filing system with drawers containing maps of every\n",
      "nation and the table could be turned like a restaurant lazy susan the walls were lined with\n",
      "brassbound ledgers and folders marked with what looked like mission code names in amongst them was\n",
      "the most amazing find blacks codebook it contained a number of keys and best of all a list of\n",
      "ciphers and when and how they should be used it would be worth a fortune on the bibliophile black\n",
      "market but i didnt feel like selling it harry might be interested if only for historical reasons but\n",
      "if not then this would find a home in my own private collection i took a seat by the telegraph and\n",
      "put my feet up opening the codebook at random to read as with the three emperors operation it maybe\n",
      "necessary to enhance operational security during the operation itself in that case we moved from\n",
      "purely letter substitution cryptograms to transposition ciphers and at the urging of baron playfair\n",
      "other more complicated ciphers like the vi genere and playfair ciphers and variants upon them i was\n",
      "completely immersed in what i was reading and then it hit me\n"
     ]
    }
   ],
   "source": [
    "print(lcat(tpack(segment(sanitise(keyword_decipher(ca, key_a, wrap_a))))))"
   ]
  },
  {
   "cell_type": "code",
   "execution_count": 43,
   "metadata": {},
   "outputs": [
    {
     "data": {
      "text/plain": [
       "2704"
      ]
     },
     "execution_count": 43,
     "metadata": {},
     "output_type": "execute_result"
    }
   ],
   "source": [
    "open('6a.plaintext', 'w').write(lcat(tpack(segment(sanitise(keyword_decipher(ca, key_a, wrap_a))))))"
   ]
  },
  {
   "cell_type": "code",
   "execution_count": 10,
   "metadata": {},
   "outputs": [
    {
     "data": {
      "text/plain": [
       "('a', -2672.4820858271923)"
      ]
     },
     "execution_count": 10,
     "metadata": {},
     "output_type": "execute_result"
    }
   ],
   "source": [
    "key_b, score_b = vigenere_frequency_break(sanitise(cb))\n",
    "key_b, score_b"
   ]
  },
  {
   "cell_type": "code",
   "execution_count": 23,
   "metadata": {},
   "outputs": [
    {
     "data": {
      "text/plain": [
       "('a', -2672.4820858271933)"
      ]
     },
     "execution_count": 23,
     "metadata": {},
     "output_type": "execute_result"
    }
   ],
   "source": [
    "key_b, score_b = vigenere_frequency_break(sanitise(cat(reversed(cb))))\n",
    "key_b, score_b"
   ]
  },
  {
   "cell_type": "code",
   "execution_count": 11,
   "metadata": {},
   "outputs": [
    {
     "data": {
      "text/plain": [
       "('abd', <KeywordWrapAlphabet.from_a: 1>, -9171.241735262733)"
      ]
     },
     "execution_count": 11,
     "metadata": {},
     "output_type": "execute_result"
    }
   ],
   "source": [
    "(key_b, wrap_b), score_b = keyword_break_mp(sanitise(cb), wordlist=history_words, fitness=Ptrigrams)\n",
    "key_b, wrap_b, score_b"
   ]
  },
  {
   "cell_type": "code",
   "execution_count": 12,
   "metadata": {},
   "outputs": [
    {
     "name": "stderr",
     "output_type": "stream",
     "text": [
      "/usr/local/lib/python3.6/dist-packages/matplotlib/figure.py:459: UserWarning: matplotlib is currently using a non-GUI backend, so cannot show the figure\n",
      "  \"matplotlib is currently using a non-GUI backend, \"\n"
     ]
    },
    {
     "data": {
      "image/png": "[encoded data removed]",
      "text/plain": [
       "<Figure size 432x288 with 1 Axes>"
      ]
     },
     "metadata": {},
     "output_type": "display_data"
    }
   ],
   "source": [
    "fc = collections.Counter(sanitise(cb))\n",
    "plot_frequency_histogram(fc, sort_key=fc.get)"
   ]
  },
  {
   "cell_type": "code",
   "execution_count": 16,
   "metadata": {},
   "outputs": [
    {
     "data": {
      "text/plain": [
       "(('realisation', <KeywordWrapAlphabet.from_largest: 3>, {'j': 'i'}, 'x', True),\n",
       " -10108.573645429131)"
      ]
     },
     "execution_count": 16,
     "metadata": {},
     "output_type": "execute_result"
    }
   ],
   "source": [
    "key, score = playfair_break_mp(cb, fitness=Ptrigrams, wordlist=history_words)\n",
    "key, score"
   ]
  },
  {
   "cell_type": "code",
   "execution_count": 17,
   "metadata": {},
   "outputs": [
    {
     "data": {
      "text/plain": [
       "'ulalblueoefurkekcglaireulondtunttlahrtrlurlhlolqegaemafgpysnanxtpllzqdagtgovuouavtkslafyxlleqrhsmawkakutekreksowwkmralovedsuaeibkenxesglwnfustslnueltlaskakagdsaksacaweniduarusfrbstliwpuolooglttrdeorvlnlmymahbdetsgtorpsluaggaxriqiahtruuofiaeulntzqirsosootleunfofohaltautrisrgelenwnmamlxankiseaovtfkwrilzwrrhrknwulorfifyxllenmlsauussnsmekobulzroglaldtukermtlwslaenulraylitkwnlmovknwwlrirmekirtsriklorsonmsolgtarzexoctlbrrctsksdpraoeerownrtsurtlsnvbskwlxrlakeoerasnasksrqnwlrlusinddngeaeaurbsotarkskabolrmerxhenuttsaestbesoanlctasrsoksnvkeawksdiforlelfobtovntazytkslttormstirformselrrtuaouaboladlrlhkoasolnpskowwlmeksriatwkbanctakrakeuidoscnirrkarcfawoebrrweravnslttsbmselrsmtrkoeuurrmristwebarmrcstbtakksriralxuektotcotaltocrcsmekirasrwkeoymtxtrmvwsuorlektcaotcapltsnlctxtrmrmscuoawriaswkbomxkseskenormxcirqmrtutgrekrnnmrmekoebhsksnulistagrsusorikerbsuurrcazarwrtsercrulsorilneyrisuoezfltlrkstxfalbnmagnadedmzlfodmrahneocadsdrawaftswrnarlqlteksrkekmsfpnbkbogeourulqibqnbcaliforafyxlleurahmaolbdoynoluidaglulwsatxeqzcosazmvopkvsarekrsuurqsgeoyfuawdhtlasclwkglowrwrmululksoveicincwnasrkolqderkasonctaqrrikbeouscaakeuidtlplmoaclblsmaqurtuddbehrmxsfolomoabovakwnucmarikeaklstusiruovrxulankayslteuksrdkcrnololksbaretkroeravepurksowermsvxinoncoluerdcqbeustdtsoanissasexmsaketztruenumvbfrqrprwrlanysyrakkeosulrkurgogeovotueoryebterksesexktntmbryelarowekplaomslklgndtlniftfurqseklulqlfeloroobkttaxoegcadnnetxnakspflwelldrheiekoezfmylzifsledclfptiisovristekpsiquaakhvhoirdnrkeklseuitntorlsicusfoldtdlgirlkovabiocarkowkaasnmtseslfrksaawgebofulhrzuagofuvtksrqsolrkelaarciftktawtlxaoclhlmawavndksndkeasbkaqzcsleorcktlsrtoiruolksxaatowmdkaulhfrisndysaeriboerhiclglugefteolwrkkteriadsektlisohrlomoqtdpdulunotadidslnttlaqrtkevfrkutdoswiearntrnoreseokabqvkgezeaylravlctssuermrpfynilmozqdhowtapbglgeaekttriadreklktuabioeklrpraberirksusexuentgcrfkeekirstoteceotalggldkaeulkentrbnckaekltrqzcalktawilkwrwdlfanoeamxtgdeiekedwonaoneldnecabrrutgruuosmsnirovolluiomxsumslssiideldnuldlegnriryekeclotvxenlurqndmdlhrnirotlpeoaotrnccabrrutgruuotomaofdiawavxawkbanctakrakeuudulieusibcaitaoweakktunynayultlowxoatpfuesmsnurftserllxsooerkstbpsetdulkdfdotirftrlatftuooluenktora'"
      ]
     },
     "execution_count": 17,
     "metadata": {},
     "output_type": "execute_result"
    }
   ],
   "source": [
    "playfair_decipher(cb, 'realisation', padding_replaces_repeat=True, wrap_alphabet=KeywordWrapAlphabet.from_largest)"
   ]
  },
  {
   "cell_type": "code",
   "execution_count": 18,
   "metadata": {},
   "outputs": [
    {
     "data": {
      "text/plain": [
       "(('resurrection', <KeywordWrapAlphabet.from_a: 1>, {'j': 'i'}, 'x', True),\n",
       " -10095.318678614976)"
      ]
     },
     "execution_count": 18,
     "metadata": {},
     "output_type": "execute_result"
    }
   ],
   "source": [
    "key, score = playfair_break_mp(cat(reversed(cb)), fitness=Ptrigrams, wordlist=history_words)\n",
    "key, score"
   ]
  },
  {
   "cell_type": "code",
   "execution_count": 19,
   "metadata": {},
   "outputs": [
    {
     "data": {
      "text/plain": [
       "'dwoikntanoouauisewaurciodfsqtosavrgdiadcnaoaznewvrauoernfatamkiswfovuitomwxgselwlsarsmsrwibuortctofnatlscdsiboebruifsvswnhgiinoioueouseocfwiboresmanpiiorcemkuqoosdaotikxviosdirdlrcmeeaohtosotnhncstuafrohicnotnoxmrcrnfaoueouseocfwikihokismyuszirtcczushiqiuydiohwrurteswlweddydaiurislbofcnsirtoiqqsoddosianbrioiarcriirdkbhnstaziorabrccibeqdwericnbexslurithkerelwiqaeoddgsiovkfndoztexgmkcaciroaidssvwemwelaedzgfslanrvocemnswdtckrfmsxdcgvirerlouinsuthnfsiosetoofsapsozewfxscuiritfkecilwdcwuanauaeotdoducenabucistomrncrgktoslqoovisifabnoeoncertulwdranutdyloaztsirosabossvswqnkubiifuiswlwauudwddeirweoadaabexunegtiwtkuunefaeswstdcgurvaimntsslovdcwicnbexmlurcdosahoigordutuocnssratturidcsorcxftvlstineagriiacrxmscrskmsdzcutdpwnmynpnarictcehotnwumkabmixikisowieafwsilwfecoonqenltoulvrdaunaupeuiosdoluafsmipriovwdtnwkbgnslwzirvabcieudloctaioxmaeegoedctoaoirlskwtyimewwrdqdahufzestareyeirstihvrstscimoaasiaatfgbdciotibyuepxvafciovaboeqksvcicowlicebabnonoemlrhtabatiutyslimtoztxmeocsxstulsircrinbnnvlsxmbeozonigtxacbvshfnerwaintubsiwzoipuihnatlswioranzacradsibooaslcifpnodctsnvboudctxmabtotoacwrovodrusdtsuikfswunoyaecgoerocdicstzdpofzowaodyltxistwuotiehnotuyoyhsnoinksoentnzgmdwigetwioxgfentooeangezaoxkmafridcabivnlewmirwaiidswthtfwianumdwoqignwoqczmiiemnbsdixiabweiunpnarocrldpucroatordciairwwdowdroerofcircroarotdsisctornbacbnariacmnemritdsxerqgrcilacuyirrvabhiefrutscrswoutracacixvlupaiipwiiowilwntocrovwacixtmoyirwrtsrcrifadrbiiusiibiolwtazndwcrablseuiadracebariacracoeatokrefawevrgbaiiunrsvciwrcfnaswfbwddcrcobaohnatlscdsiboebruiscrabtquwovbapwnotsokkuwefsnobeuotierwevracigrciaacoiiuabiyownsxmeuigtnewignhabswirxuaboarxsidsimoacuiaiqaisxikkxciacnobebadcsioafcitiqaesooscsotwevndaabtsrndwnairdetzuwbaghrnuioeaimeovcinadwfoabaidrcfuibiziwtsidooamnoaoculcraircriaccruwvndzozupursrogdwtoikderkuiacirxshodegetwtoferifarnorittumnntnzgmpdoctovndccerwwncruruaxmqiscknifnqinnviktndtscreitiuskigigsentiooaoarcndnstoiqpdoueormkenetzeiieotagocsuaiczbcinmyupuvocczreiugeonoupvetiafcgteotihnikswiwabstdhslsltsuitnesutiaunnvodrvxnirbuiqrozcxmedcaruovabicrisxlsruinkvadntnzgmdeabextiouxmusiefpwnipiximrndmhfiniqealnonkuoeewerksuinsxsosonatrcdehbridcunnatasbedto'"
      ]
     },
     "execution_count": 19,
     "metadata": {},
     "output_type": "execute_result"
    }
   ],
   "source": [
    "playfair_decipher(cat(reversed(cb)), 'resurrection', padding_replaces_repeat=True, wrap_alphabet=KeywordWrapAlphabet.from_a)"
   ]
  },
  {
   "cell_type": "code",
   "execution_count": 20,
   "metadata": {},
   "outputs": [
    {
     "data": {
      "text/plain": [
       "(('resignation', <KeywordWrapAlphabet.from_largest: 3>, {'j': 'i'}, 'x', True),\n",
       " -9896.15193568302)"
      ]
     },
     "execution_count": 20,
     "metadata": {},
     "output_type": "execute_result"
    }
   ],
   "source": [
    "key, score = playfair_break_mp(cb, fitness=Ptrigrams)\n",
    "key, score"
   ]
  },
  {
   "cell_type": "code",
   "execution_count": 22,
   "metadata": {},
   "outputs": [
    {
     "data": {
      "text/plain": [
       "'orpebiosanrugcaschepgrsonuiytiotarskrersesiknupfefcentrhpcaopayakapoqssfahmtrtipxeduepfywoeofgknntwlslitasledustwlcupemtewsmcegisaiosnypxoruatrktgoearinlslshdniduscswmaueipservgdatsgvprtnuthraerweetvivomyntgbwetahaetburosffswnogekmrserteqceorotisgrauauuteogtbtbtksrapiergnrfoemaxontloftomgnecmtablwrgpowreggcoxoreteqfywoeoifkrpimsaoufasmxoryrthepoctisaucarxnepmaorlcbogalwvotwzcoxwirgucasgrtarglietauifaupyairyeasxardgrctadudplcanelstemtaesaraohfudwiwnepsaanlcaoindugfoxsrrongiyyifecepigdauaigcudsbunucelxkmaittaceatbeaupaicaixrauduixsaswdueubtrsoebtdemtotsyvaduratuucatgrbtucnssrreiptrsbuntpsrikdsinunwpudstwilndurgiawlbsodaicgslsoueuadogrgcclhsswandgrwelsvoaratacfnssruferdssoesucrgatdabsucrcatdesldurglcowoslautxsairasxrcufasgrinrwsatvpnyaucvwsmeteolacsutcskatavolvyaucucndrtswrginwlxmtcdusnsaouucxcgrfqreitfrasmeifucasanbgudaoorgnaifrsmaurgsagdsmesrcsyclwrtaelcroraurgovcargsmanzirasrduaycmibifsfapweltopbtltlcminacsfncnswmctawraprsfpxadugcasfumkidfbthnaesorgoqzidcssgbtlcfywoeoesskntunbdtvourouesfroiwniayrpzeuasydztkcznilecgsmeszgfetvruswdkarinciwlypstrwucorordumtneirodxoingcunqsellsauodaifgrgfbnamscsslsouearkatwscibkrntgyreuidbkbucynbtnutwsbmtslxousntrgsaslkrtingsemtnworpalsnrrasoduncrlmeunundubslealteelsvkqesdustelfuvxqauoxsroeldczqsoatfaaupagnninsctnisaazerostgdzhegfqcrwrspanrwkslsauaorgceshtfemtutosetacdeeldusnealaotfckwoeclstaskatyfuilpyiyaraqbarugfnsliorfpwcnutemxlaaixtefcsyiamayapdukmiwoeocegneasanzimypoqerkewcimkaggnmtrgatasbuogipslkvdmgryigcaskrsogaotetkrrimsbtocafpygrilmtsbnocsgcstlsiniftasnokgcniswfexmruikryiphtruxedugfausrsaepclirbalaswarftsxikolswsviyduiysainbfspzerknarclakrreonseunduftiasttllsorkfrgaodynielgianegripyrofebanaiwgclaelekfnasargnmdrswttqafpdorgtuttpuerkotarspresavfgcitdtnxenclotmeetsnnalsqzzcfeyemwsrsvictasmelcukmyogstwisdkstaifdypfecelaerekcnasiltisbnoassrcqsbelgrdumseaosothckcsaasgratutnmnaaipyypdlceorsaotgdodlsasragfzepelaswgslwrwcocmouectcahweensadwuotyamocamcsdgseahsertufaogrmtunronotcsmfukrngueoeyiorcoefemgracsaciutvxmarogfiytlikmegrutaknatyerodcsdgseahserttunttbeuswsvftwlbsodaicgslsouiorenmsgicsgatydasllagtyomworarstxtiakmosufaoesbansrsowauangcatdfnsaforldihutgrbarsiabartunosomtulc'"
      ]
     },
     "execution_count": 22,
     "metadata": {},
     "output_type": "execute_result"
    }
   ],
   "source": [
    "playfair_decipher(cb, 'resignation', padding_replaces_repeat=True, wrap_alphabet=KeywordWrapAlphabet.from_largest)"
   ]
  },
  {
   "cell_type": "code",
   "execution_count": 36,
   "metadata": {},
   "outputs": [
    {
     "data": {
      "text/plain": [
       "(3, -5512.824261230463)"
      ]
     },
     "execution_count": 36,
     "metadata": {},
     "output_type": "execute_result"
    }
   ],
   "source": [
    "key, score = scytale_break_mp(scb)\n",
    "key, score"
   ]
  },
  {
   "cell_type": "code",
   "execution_count": 37,
   "metadata": {},
   "outputs": [
    {
     "data": {
      "text/plain": [
       "'nitaeeieafueeirniagfloigusosifiiaesehthiasrtrigouirebreeainhikadsaynahouhndarsslnornnadneorbltporlncieeyslyarothsiulotntlifuyateaeorsntfiwnsoteatlsebhvltlrtteufcasnehnhvtoacneetteegnansowtohrnteosnmrtnltehrcroeigfelgtsarettestshttabcmeltwdetbteetkowsiwneonwhtneoddrtadhsbeohtrtioitrsseivtbieyesynhwrpoaynesdoedvlpteepfutnusedlyarocnigjyokninweesunnbefetvnisrtteaaeteecseiglxrnjsfkvnadetarenusaimnitesnteearstaoluiehtcnrrdrueuhiheovmnisusoslatawhvltloefnlghpicnswdcfloteisrtgigaeuueohjebrotneorgdfiesddhmootercsrvdnhhitleeeddaeoteoigabrsiadoaeprfrraefcnehaltesiucnuogueeteotausrtghwlrftelyaitefieebeodterehttoltrottiiliuhmeigeeevdnacrtnoalhsintennasrraofcrlfolnomlentsfhsinadercroeigrtducmsynedothsneythfrncneeosatnifighdlinoorsspicabtolyicsihlyaroeoetcasclgotynnsnomfhdlgibtrsneesrpoctsniiulinligetosnmnsuataatusceyshnapaonsutdvdasaeitenenwyehrtpaonovteetflatoithyaeatoiyirfiihohraamsttrlfvnsthaeicsinenteareiraiprattkteeteetnteeeaeeundroeiieodhtshraintedoervnoawsadoltkoabercshtuhrpsilptaturetnehsbleaetrlrtgitdfilmimlaebeoeeihhhlhdsigfinpasmnfuninowwthmoaticnemreftaihsgfrhmetfhratetnnefazocaoaasmtoemorsvleetaknadaaelitewudnfgtolutaewtscheivleteicstacerwudaetnhpoecntepladoddoollyartapyncpesrtnommeeeiusnsnofesaeteotnheigpouwtteiecwnorprfotcmntenushotmnbtfagsgiiayeebermxmminmnoisyhmvlostmhciiroshprabthilwraesaehdrtaibbtenkofcaeoteehlwrcfladcacutfdsusousaadhnainaseeewtifrsnloedsusoogedeteetnareoteulitxlitititathoigocicntpelrtntbrtosnmeiaploluwnmdsnwtpahvcmtatelstaeyfttraemeotetossoynuncaypracaidviksgauitniudrieiiyodpaservrtigfipitoeniifehvlnlecahyrteeetpieadhbhmtestnuteiteuhhjnoolotetdaelolotooshyetdidsuihnaodhisndoemoyhyaeodfhmatrhdehvrtohihmtarcreoeteyeoonehroenwhtaeednywahsereatenweeotsaehhnubsettiieoennnwtaeeolodcadaptbaltoiwttoscaiihdrefiiaannaderigihhrhshigenociehntaeyongmnoihtdmaeadroegrhdnrsygetrsisnovnhblahrwsrkhthyntadiotoorotsihglvlnetnhdiniwshteoliteooifunirniaseeietwhpafaeyplrflrsteuirsfhrtuaetacrpruetrprpoedniigsinelgneetperhfrhwreweantetmieuoetrinctewronueaofsoarnmebsmrelaaewileetaafigmofcasltpruilaeswudeetoaefmntsftnwieieauluaecolteicshrsiutougfiilwtnyihaproaoteicsnnarodfhmoisgeoewflntepoucraneotcmfrnenniol'"
      ]
     },
     "execution_count": 37,
     "metadata": {},
     "output_type": "execute_result"
    }
   ],
   "source": [
    "scytale_decipher(scb, 3)"
   ]
  },
  {
   "cell_type": "code",
   "execution_count": 29,
   "metadata": {},
   "outputs": [],
   "source": [
    "history_transpositions = collections.defaultdict(list)\n",
    "for word in history_words:\n",
    "    history_transpositions[transpositions_of(word)] += [word]"
   ]
  },
  {
   "cell_type": "code",
   "execution_count": 30,
   "metadata": {},
   "outputs": [
    {
     "data": {
      "text/plain": [
       "3618"
      ]
     },
     "execution_count": 30,
     "metadata": {},
     "output_type": "execute_result"
    }
   ],
   "source": [
    "len(history_transpositions)"
   ]
  },
  {
   "cell_type": "code",
   "execution_count": 38,
   "metadata": {},
   "outputs": [
    {
     "data": {
      "text/plain": [
       "(((1, 0, 4, 3, 2), False, False), -5002.149995605427)"
      ]
     },
     "execution_count": 38,
     "metadata": {},
     "output_type": "execute_result"
    }
   ],
   "source": [
    "(trans_b, fillcol_b, emptycol_b), score = column_transposition_break_mp(scb, translist=history_transpositions)\n",
    "(trans_b, fillcol_b, emptycol_b), score"
   ]
  },
  {
   "cell_type": "code",
   "execution_count": 39,
   "metadata": {},
   "outputs": [
    {
     "data": {
      "text/plain": [
       "'infiltratingthedeliberationsofourenemiesisaprincipalgoalbutfollowingmydiscussionswithplayfairihavecometoseethattheclassicalstrategyoftryingtoturnaseniormemberofthedelegationsisbothriskyandunnecessaryanyapproachtosuchanindividualriskssignallingourintentionsandunderminesourabilitytoadaptourplanssecrecyiseverythingasplayfairpointsoutthoseindividualsoftenhavelittleinfluenceanywaytheyaretheretopresentapointofviewandthebestofthematleasttolistenbuttheyhavelittleauthoritythejuniorofficialsontheotherhandhavealmosttotalcontrolofeventstheysettheagendaindiscussionwithoneanotherandtheirseniorsandmoreimportantlytheytaketherecordofthemeetingafterthedelegateshavereturnedtotheirhomesitisthatrecordthatbecomestherealitywedonotneedtobethereoreventoknowwhatwassaidweneedonlytoknowwhathasbeenrecordedasthetruthandwherepossibletoshapethattruthinourbestintereststhisibelievetobeanentirelynewstrategyintheworldofdiplomacyandiampleasedtobeabletodevelopitwiththehelpofsuchadistinguishedfriendplayfairisamanofcunningandienjoyworkingwithhimnowherehasthiscunningbeenmoreeffectivethaninhisstrategyforthemanagementofthereichstadtmeetingalexanderfranzjosefgorchakovandandrassymettoagreetermsonrussiasinvolvementinthebalkansandtherewasarealriskthattheywoulduniteandfighttocontrolourtraderouteswithsuchhighlevelinvolvementinthediscussionsitwasclearthatwewouldhavelittletonohopeofinfluencingtheprincipalsandsowedecidedtofollowtheplayfairstrategyapplyingcarefulpressuretothejuniormembersoftheretinuesouragentsandofficerspersuadedthemtoreportontheproceedingsprovidinguswiththeintelligenceweneededtopreparefortheforthcomingwarbetweenrussiaandtheottomanempirebutoffargreatersignificancetheywereabletoensuremaximumconfusionamongourenemiesbythemostmarvellousstratagemwhichiwillrefertoastheplayfairgambittheofficialswereabletopersuadetheirleadersthatitwouldbebetternottotakeofficialminutesofthemeetingwhilewereceivedafullandaccurateaccountofallthediscussionstherussianandaustrohungarianofficialswereleftonlywithinformalpersonalnotesofthediscussionsandnoagreedrecordofthemeetingoritsagreedoutcomeswefullyintendtoexploitthisuncertaintyattheforthcomingconferenceinconstantinople   '"
      ]
     },
     "execution_count": 39,
     "metadata": {},
     "output_type": "execute_result"
    }
   ],
   "source": [
    "column_transposition_decipher(scb, trans_b, fillcolumnwise=fillcol_b, emptycolumnwise=emptycol_b)"
   ]
  },
  {
   "cell_type": "code",
   "execution_count": 40,
   "metadata": {},
   "outputs": [
    {
     "name": "stdout",
     "output_type": "stream",
     "text": [
      "infiltrating the deliberations of our enemies is a principal goal but following my discussions with\n",
      "playfair i have come to see that the classical strategy of trying to turn a senior member of the\n",
      "delegations is both risky and unnecessary any approach to such an individual risks signalling our\n",
      "intentions and undermines our ability to adapt our plans secrecy is everything as playfair points\n",
      "out those individuals often have little influence anyway they are there to present a point of view\n",
      "and the best of them atleast to listen but they have little authority the junior officials on the\n",
      "other hand have almost total control of events they set the agenda in discussion with one another\n",
      "and their seniors and more importantly they take the record of the meeting after the delegates have\n",
      "returned to their homes it is that record that becomes the reality we do not need to be there or\n",
      "even to know what was said we need only to know what has been recorded as the truth and where\n",
      "possible to shape that truth in our best interests this i believe to bean entirely new strategy in\n",
      "the world of diplomacy and i am pleased to be able to develop it with the help of such a\n",
      "distinguished friend playfair is a man of cunning and i enjoy working with him nowhere has this\n",
      "cunning been more effective than in his strategy for the management of the reich stadt meeting\n",
      "alexander franz josef g or chak ov and andrassy met to agree terms on russias involvement in the\n",
      "balkans and there was a real risk that they would unite and fight to control our trade routes with\n",
      "such high level involvement in the discussions it was clear that we would have little to no hope of\n",
      "influencing the principals and so we decided to follow the playfair strategy applying careful\n",
      "pressure to the junior members of there tinues our agents and officers persuaded them to report on\n",
      "the proceedings providing us with the intelligence we needed to prepare for the forthcoming war\n",
      "between russia and the ottoman empire but of far greater significance they were able to ensure\n",
      "maximum confusion among our enemies by the most marvellous stratagem which i will refer to as the\n",
      "playfair gambit the officials were able to persuade their leaders that it would be better not to\n",
      "take official minutes of the meeting while we received a full and accurate account of all the\n",
      "discussions the russian and austro hungarian officials were left only with informal personal notes\n",
      "of the discussions and no agreed record of the meeting or its agreed outcomes we fully intend to\n",
      "exploit this uncertainty at the forthcoming conference in constantinople    \n"
     ]
    }
   ],
   "source": [
    "print(lcat(tpack(segment(column_transposition_decipher(scb, trans_b, fillcolumnwise=fillcol_b, emptycolumnwise=emptycol_b)))))"
   ]
  },
  {
   "cell_type": "code",
   "execution_count": 42,
   "metadata": {},
   "outputs": [
    {
     "data": {
      "text/plain": [
       "2599"
      ]
     },
     "execution_count": 42,
     "metadata": {},
     "output_type": "execute_result"
    }
   ],
   "source": [
    "open('6b.plaintext', 'w').write(lcat(tpack(segment(column_transposition_decipher(scb, trans_b, fillcolumnwise=fillcol_b, emptycolumnwise=emptycol_b)))))"
   ]
  },
  {
   "cell_type": "code",
   "execution_count": 44,
   "metadata": {},
   "outputs": [
    {
     "data": {
      "text/plain": [
       "['called',\n",
       " 'banning',\n",
       " 'carroll',\n",
       " 'banned',\n",
       " 'cause',\n",
       " 'newton',\n",
       " 'bavaria',\n",
       " 'battle',\n",
       " 'mayun',\n",
       " 'barrier',\n",
       " 'baron',\n",
       " 'damaged',\n",
       " 'based',\n",
       " 'fatih',\n",
       " 'canning',\n",
       " 'carol',\n",
       " 'basic',\n",
       " 'jerome',\n",
       " 'revues',\n",
       " 'earlier',\n",
       " 'mission']"
      ]
     },
     "execution_count": 44,
     "metadata": {},
     "output_type": "execute_result"
    }
   ],
   "source": [
    "history_transpositions[trans_b]"
   ]
  },
  {
   "cell_type": "code",
   "execution_count": 45,
   "metadata": {},
   "outputs": [
    {
     "data": {
      "text/plain": [
       "['baked',\n",
       " 'baled',\n",
       " 'bared',\n",
       " 'barge',\n",
       " 'baron',\n",
       " 'based',\n",
       " 'basic',\n",
       " 'basie',\n",
       " 'bated',\n",
       " 'bathe',\n",
       " 'baton',\n",
       " 'baulk',\n",
       " 'bayed',\n",
       " 'caged',\n",
       " 'caked',\n",
       " 'calif',\n",
       " 'caned',\n",
       " 'caped',\n",
       " 'capon',\n",
       " 'cared',\n",
       " 'carne',\n",
       " 'carol',\n",
       " 'carom',\n",
       " 'carpi',\n",
       " 'cased',\n",
       " 'caulk',\n",
       " 'cause',\n",
       " 'caved',\n",
       " 'cawed',\n",
       " 'eaton',\n",
       " 'fermi',\n",
       " 'heron',\n",
       " 'jason',\n",
       " 'karol',\n",
       " 'layup',\n",
       " 'lexus',\n",
       " 'mason',\n",
       " 'mauro',\n",
       " 'meson',\n",
       " 'metro',\n",
       " 'mixup',\n",
       " 'newts',\n",
       " 'nexts',\n",
       " 'nexus',\n",
       " 'onyxs',\n",
       " 'pouts',\n",
       " 'routs',\n",
       " 'babied',\n",
       " 'bagged',\n",
       " 'balled',\n",
       " 'banned',\n",
       " 'barbed',\n",
       " 'barbie',\n",
       " 'barker',\n",
       " 'baroda',\n",
       " 'barred',\n",
       " 'barrie',\n",
       " 'barron',\n",
       " 'bashes',\n",
       " 'basics',\n",
       " 'batted',\n",
       " 'battle',\n",
       " 'bauble',\n",
       " 'cached',\n",
       " 'called',\n",
       " 'callie',\n",
       " 'canine',\n",
       " 'caning',\n",
       " 'canned',\n",
       " 'capped',\n",
       " 'carafe',\n",
       " 'carnal',\n",
       " 'carpal',\n",
       " 'carrie',\n",
       " 'cashes',\n",
       " 'cassie',\n",
       " 'cattle',\n",
       " 'causal',\n",
       " 'causes',\n",
       " 'cayley',\n",
       " 'cayuga',\n",
       " 'damage',\n",
       " 'dandle',\n",
       " 'dannie',\n",
       " 'dapple',\n",
       " 'darker',\n",
       " 'darned',\n",
       " 'darner',\n",
       " 'dashed',\n",
       " 'dashes',\n",
       " 'dawdle',\n",
       " 'dawned',\n",
       " 'dazzle',\n",
       " 'geyser',\n",
       " 'heusen',\n",
       " 'heuser',\n",
       " 'jasons',\n",
       " 'jerome',\n",
       " 'kernel',\n",
       " 'ketone',\n",
       " 'lazaro',\n",
       " 'lesson',\n",
       " 'lexuss',\n",
       " 'lissom',\n",
       " 'litton',\n",
       " 'lizzys',\n",
       " 'maroon',\n",
       " 'masons',\n",
       " 'neuron',\n",
       " 'neuter',\n",
       " 'newton',\n",
       " 'nexuss',\n",
       " 'pewter',\n",
       " 'revues',\n",
       " 'babbled',\n",
       " 'banning',\n",
       " 'barnard',\n",
       " 'barrage',\n",
       " 'barrier',\n",
       " 'barroom',\n",
       " 'bassoon',\n",
       " 'bavaria',\n",
       " 'bazooka',\n",
       " 'canning',\n",
       " 'carfare',\n",
       " 'carrier',\n",
       " 'carroll',\n",
       " 'cassies',\n",
       " 'cassock',\n",
       " 'catarrh',\n",
       " 'dallied',\n",
       " 'damaged',\n",
       " 'dandled',\n",
       " 'dappled',\n",
       " 'dawdled',\n",
       " 'dazzled',\n",
       " 'earlier',\n",
       " 'earmark',\n",
       " 'fanning',\n",
       " 'ganglia',\n",
       " 'gautama',\n",
       " 'geysers',\n",
       " 'jejunum',\n",
       " 'lessons',\n",
       " 'mission',\n",
       " 'navarro',\n",
       " 'nexuses',\n",
       " 'reuters',\n",
       " 'reverts',\n",
       " 'barbaric',\n",
       " 'barbered',\n",
       " 'bassoons',\n",
       " 'carapace',\n",
       " 'careered',\n",
       " 'cassocks',\n",
       " 'caucuses',\n",
       " 'darneder',\n",
       " 'gangling',\n",
       " 'jiujitsu',\n",
       " 'layaways',\n",
       " 'missions',\n",
       " 'jiujitsus']"
      ]
     },
     "execution_count": 45,
     "metadata": {},
     "output_type": "execute_result"
    }
   ],
   "source": [
    "transpositions[trans_b]"
   ]
  },
  {
   "cell_type": "code",
   "execution_count": null,
   "metadata": {},
   "outputs": [],
   "source": []
  }
 ],
 "metadata": {
  "kernelspec": {
   "display_name": "Python 3",
   "language": "python",
   "name": "python3"
  },
  "language_info": {
   "codemirror_mode": {
    "name": "ipython",
    "version": 3
   },
   "file_extension": ".py",
   "mimetype": "text/x-python",
   "name": "python",
   "nbconvert_exporter": "python",
   "pygments_lexer": "ipython3",
   "version": "3.6.6"
  }
 },
 "nbformat": 4,
 "nbformat_minor": 2
}
