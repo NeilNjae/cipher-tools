{
 "cells": [
  {
   "cell_type": "code",
   "execution_count": 1,
   "metadata": {},
   "outputs": [],
   "source": [
    "import os,sys,inspect, collections\n",
    "currentdir = os.path.dirname(os.path.abspath(inspect.getfile(inspect.currentframe())))\n",
    "parentdir = os.path.dirname(currentdir)\n",
    "sys.path.insert(0,parentdir) \n",
    "\n",
    "import itertools\n",
    "\n",
    "import matplotlib.pyplot as plt\n",
    "%matplotlib inline\n",
    "\n",
    "from cipher.caesar import *\n",
    "from cipher.vigenere import *\n",
    "from cipher.column_transposition import *\n",
    "from cipher.railfence import *\n",
    "from cipher.autokey import *\n",
    "from cipher.hill import *\n",
    "from support.utilities import *\n",
    "from support.text_prettify import *\n",
    "from support.plot_frequency_histogram import *\n",
    "\n",
    "ca = open('8a.ciphertext').read()\n",
    "cb = open('8b.ciphertext').read()"
   ]
  },
  {
   "cell_type": "code",
   "execution_count": 2,
   "metadata": {},
   "outputs": [
    {
     "name": "stdout",
     "output_type": "stream",
     "text": [
      "YJGEN QTMMP IERLZ ISXBX ESCSF HBVAY ZVAYX BRLZI HJPRJ IVSTR CBLLZ MITZB JSZIS NTVIM XTPWI REYYE QUXGN IXKMW MROWG LFRGG RJGWD DWLRV AWZNW GUKAS ZNMOQ PASTB BNUXJ RMDWL TROLO CIJRF RPUFU NRXYC DAIUR VUJQK LVNWO WMTZB JPGRU OAFHX OGMCN BLTUG XJVVT MXSQQ BRIMK GQAWG QIZLS RTRQI HPXRE LRLZA AWZBS CXEDK QYUWO XUAJR UXZEW AWJEY UCACV EHXKV GXGGN LZHZN UZBGK VPUCB JMKKZ JPPQP ASTBB NUXEL IWWFN IXSZB QREIN XPWIA NPVVG XVVGR KQQET BIROV GXGSB AURWC WAFIU HDXBP RPRSO NPGRJ GWGXG CRIQI ICIUG IIRMC ZBCQO XEXUG HJUWU CQRYM NAZJM ZGMJE QAWGR PHEQK WGLPK OUUAV ESZGQ UTBPI NXKUV BLECX MQBFE INTUL TNVVK TYRMU GJUXE NLENL KLFPV VFYZM PNBCL VIRQN DNUIC CFRLV YEBED CFRRQ UWFWM ZHGUH QQBRI MMSFA MQEST MEWWV GGKRZ XKERL XSERP TAMXS FRVBZ ROXUO WECXG IDPMO LESID NPGXR OLFRZ BGGKP XXKRU XLSKC QGAIJ MQQBE RZUGE RLBFP GPXRE RJOIY XQBVJ HTESW QUPXG AQKTY VAKAE BMYVG XIYMV NGJOA ENJYY MCWMM QZASK KZNDR EINXF JPGGG KTEDA VGENX ENMFE SZGQU TBPIN XZNPJ OICOD JLRUX TSQPI FFISX QAKRF VASSW QGUKO PTPQU GMLSZ XQGNP YRMAB NRWGI XNZYY MCIIM VNLVG VNRTU FMZMD KMUGX GXZNU HPSJP MNZRU XKGZD WAAET EODWL ROGJQ QBSBC JSFBC PAIQE FBIUE SZGQU TBPIN XFJPG RVAWQ AIRJI IRABT YVOYV GXGRF YJPGX KLPRK KMHUA RLZHQ CAREI ZRUNJ QYYUA GXGSV XGLFT VVUXO JXNAL ZVUJD NMENG ZIDLM FQRUG QBIFY EKGZX KQESI IDBAR YXUTE NAVJV KLFXZ HBCKW MLVVJ STVAO CBLRU IKNTH SIXEO JOAVT KIWBQ RUXGL FHIFQ PASTB QQAEZ MQLCQ BVVSF NTONI XIIDW LUGOL IQBVJ HKIBB MUGXG HQVZN YEKPF CQYNW GAKAZ NUXGL FFWAX MKKPN TJBRQ HZJTY VOYVG XGGHS NXUFM YOMYW AYVRR FKZMQ BBAHR YAFGE RKXSR JPGVA QSAKA FHXOG MCNBE IZTMQ KYNRO JQQBR PERTQ AWGAE RTQQB RGEIM PWGFF EJMYN PGTRO OMNZO UXOAB UMUEY UCDXN GEEKL KVTYN LZMID WLXRG LFXBG AECME JLVZC HIWJN RUXTI HROAR IHWMQ ZBGGK PXXKR UXRMF WCGRV IIEHZ RISIW UMAGV TKIWX BGFIH INMTH BAZMP NMETE KAEJV BQRUP ZRGGV PGQDX VBGRX YFNZB GOXSI CANYW YYFRK NGJUV QCXNU GREZR NYNIX ITCPG VATIS NUWVR ZJQUM INLAS KCIUG ISYEB IV\n"
     ]
    }
   ],
   "source": [
    "print(ca)"
   ]
  },
  {
   "cell_type": "code",
   "execution_count": 3,
   "metadata": {},
   "outputs": [],
   "source": [
    "sca = sanitise(ca)"
   ]
  },
  {
   "cell_type": "code",
   "execution_count": 4,
   "metadata": {},
   "outputs": [
    {
     "name": "stderr",
     "output_type": "stream",
     "text": [
      "/usr/local/lib/python3.6/dist-packages/matplotlib/figure.py:418: UserWarning: matplotlib is currently using a non-GUI backend, so cannot show the figure\n",
      "  \"matplotlib is currently using a non-GUI backend, \"\n"
     ]
    },
    {
     "data": {
      "image/png": "[encoded data removed]",
      "text/plain": [
       "<matplotlib.figure.Figure at 0x7f3bc416c8d0>"
      ]
     },
     "metadata": {},
     "output_type": "display_data"
    }
   ],
   "source": [
    "fc = collections.Counter(sanitise(sca))\n",
    "plot_frequency_histogram(fc, sort_key=fc.get)"
   ]
  },
  {
   "cell_type": "code",
   "execution_count": 5,
   "metadata": {},
   "outputs": [
    {
     "name": "stderr",
     "output_type": "stream",
     "text": [
      "/usr/local/lib/python3.6/dist-packages/matplotlib/figure.py:418: UserWarning: matplotlib is currently using a non-GUI backend, so cannot show the figure\n",
      "  \"matplotlib is currently using a non-GUI backend, \"\n"
     ]
    },
    {
     "data": {
      "image/png": "[encoded data removed]",
      "text/plain": [
       "<matplotlib.figure.Figure at 0x7f3bc4243278>"
      ]
     },
     "metadata": {},
     "output_type": "display_data"
    }
   ],
   "source": [
    "plot_frequency_histogram(english_counts, sort_key=english_counts.get)"
   ]
  },
  {
   "cell_type": "code",
   "execution_count": 6,
   "metadata": {},
   "outputs": [
    {
     "data": {
      "text/plain": [
       "[(1, 1.0968038704055536),\n",
       " (3, 1.127085370659583),\n",
       " (5, 1.1498756509855186),\n",
       " (7, 1.1701771351290888),\n",
       " (9, 1.1877954425851578),\n",
       " (2, 1.2022171439684932),\n",
       " (11, 1.2348491040021266),\n",
       " (13, 1.2353462045975416),\n",
       " (6, 1.2615600596648242),\n",
       " (15, 1.2703251656649717),\n",
       " (21, 1.2776109965151061),\n",
       " (19, 1.2879842481226191),\n",
       " (17, 1.2906466934599927),\n",
       " (14, 1.3134601664152865),\n",
       " (10, 1.3192386250638286),\n",
       " (25, 1.3204035825505949),\n",
       " (27, 1.3320459405543534),\n",
       " (23, 1.3406355855549343),\n",
       " (4, 1.355094900555642),\n",
       " (18, 1.3722854041619077),\n",
       " (29, 1.4081119150735286),\n",
       " (26, 1.4232055200518663),\n",
       " (22, 1.4346752230555049),\n",
       " (12, 1.4553435114503817),\n",
       " (20, 1.5327278207025041),\n",
       " (28, 1.5450855222471762),\n",
       " (8, 1.8070427155633828),\n",
       " (16, 1.9004522927571528),\n",
       " (24, 1.9752998737373737)]"
      ]
     },
     "execution_count": 6,
     "metadata": {},
     "output_type": "execute_result"
    }
   ],
   "source": [
    "ics = [(i, sum(index_of_coincidence(section) for section in every_nth(sca, i)) / i)\n",
    "       for i in range(1, 30)]\n",
    "sorted(ics, key=lambda p: p[1])"
   ]
  },
  {
   "cell_type": "code",
   "execution_count": 7,
   "metadata": {},
   "outputs": [
    {
     "data": {
      "text/plain": [
       "'ymsfahtispqmfdzztmoudqmumxqqsxaduwagzpztizpgqgwdogimeuzqquqkmuyefpqfdfqfezefuddfxkqexxsqeyemzfeeqzdqqstzmxindzmzoqffqfqaggmqugfxddqzdefmakowftqfiibqfkfpzguamarammqqqpymbdkifewhmxfeuwnpezdfifqztsqkejpxhyjrtnwuwrdnnbdcfaktocjqarrwkaacxnujbwbwxexcxnxccxcjakuuuqlrnpnnrcwqawxrropnrxcqrrqwkbmnmnjdnunjpawpxanmrknnddqbbujabxxhcnxtnnlbxbnxlonjbhblndqbvcafnjxfyqfjkcqqaqwnnuxvdxjjrqxwhmxmnjrxncrcrcnucbgibbxpcztixmgwwmbwiuilzanvbwtezqjwvgucpbwqivtgwbpgizuqmwwatvbtmlvbdlfmbmwkpvwmpzkqblebqtmvjqdpamtplikqqqbzvtmuzwwbcitpitgkuajgvammikaazvctoqiqctwbmzqzwttgmvbgpankbwbgpzmntwblnozkczabtmvgvzakxnpumiieexvbrbbvrgrglgonljnuvbfbvrgrlbyrjegzbpnfravbsapgcubgrzggvbbfnuevcnvrzrqvetbeogbrgebrvuyynyzrgvfbjrfrgugnynuuhralspubgryrlarqsvleffqrvhvbharfqqolvunynajygyrbegfbyrgrfgougylgvrabrgrgghebgbbnnnygwiuvnrearjljienorruqutrrrnjhltiqqrsuuehnbjqunengibfrrrgchygrleplevgnfluyrhiegrazclxguarfjjpvvgyaeggepouffugnrylfgpuarbaeprjvfpreyvuznqyeyjbjlsvuqabnujgynuxbvhorarvhenpagftueenxazurgurivfbtqvggygunvvngqlsylilsmyiwjvkpxrfxvwpxtmmiilcwxyxlgmpxiiprraipjiiqjmmppsieivjlyvieqgmsglmrxergxizpohxagjmsigesiixivkmpwmvmxsxeocisivioyrliyxxvgresxvcsritxpevighxewxmrosmfhkaxireeeerxyelrecxigxvstiaerprowjgiarlitzczzvzzxyxggaaajoryuogouxkzhzxozukzkkaexnvkouurgqiounjhkzncnkukzicbuumtkxxogsokljugitgkxocknknznctsaolygcgzgjktgjqznaiyjkzzugouzukiukktuxkgazvxokgkggkqynykrxqozorrijooukzgchthkriikhzkugxxyurxtzasmisvismiteklwwssrlpcjwrggsglpaexecvhvkslsxvqvrhswirxwaeeogxxttxlmrcewhsmrssxiilpsmgpyeaaiawkxtxgxosxspsriivmxpgejsegxwrvpkhraljjiggitlwvieilsmsilihpalkhvxwzyssgtjttmmoaclmlmiiwpmiwiimapqysyveiijsy'"
      ]
     },
     "execution_count": 7,
     "metadata": {},
     "output_type": "execute_result"
    }
   ],
   "source": [
    "scaz = combine_every_nth(chunks(sca, 8))\n",
    "scaz"
   ]
  },
  {
   "cell_type": "code",
   "execution_count": 8,
   "metadata": {},
   "outputs": [
    {
     "data": {
      "text/plain": [
       "'ynzxlmliznrmjuegvqrqxytagxwciquekeqgejarrbxfqkqvnrwiqetbepbtqmjqnrsisfrktdeidzquicgimwyinupeiqewmlucugisdyixptciiefzbnmbiraucrfgawpgeocgcliqrgwfrlvifbsuyagiloeirfxtxkfhzchrlpqbuafiiixmvgaptzensjkcypkienjmxrvzexrnnumtbfgbbrfxaxyhxrxceevfvgnbepgqdrajjlpasugocjspvfgzcfnxfosgkftmsuleriwrlwrpfnzxryqvfaonhrhuqxgaxxombxzguquwzmmevynhwbkqhkntacujfvoabkzeydzuwjpicpokzabwmhtrknuaviguztpjwtxeaukcheqimjojyrvqgsuilbavxvpruwgrvrbbbuuyhqmavquqrjcmqulbjhmrlqbnqpstszuuzkjabxzytjepilmzrgxvvtyzhvkjiaqoayurjnkmmqgyovcgpwzzmknvcodgrojgstpgbyxvjwpmfyyxlvnpimpjavrgrgggvtqemamruxeqszpqqkafigedtbaaeabykgkxrjswsenjnhlvcptgtbrptskbbgbrmmwghnvglrbpeygxsxtrlunhwvikiuyxzouewgxlxfnymaxqvxnpemlfifekgizroyznthlwgyykjomzzxigkmykomibbowlrvmmaydgjgwpznchvwwosmfkxgiutalxzcnokjiakyxsiniueomrivrisbxuravlwrgcnlsalenzbrlattzvxnlhqffnvubesjvqrkxyigqseygcuzbwmxrzryvaxmgyxjegpmnrgqaytviqtcrelbefpvnuawtifbcrwtxtmmuzhamkimpbxmfrihenrxwpsqmufrjgesiifzznqyljyqanramjpavuyqnxvsdqafzvebpkbkkysgcqqrvuzkmytehcuivvrzuubrixxmgbongaqkwngkxlxdxgqxjungveurgxasngiqvcoexgerrrxagxwizszjuekwrmennvmpxzmgkqcxuxqgtrwqqbxfhglvinmiqfgjplcahyrzeeipsfqqrnoltidgjtbsoiwsbnpgpvvaaxgritmgmvvkriltruoknusaitfrolltzxffhcrqvteeronhwpgignsdujtxmgghxviaxxooqvrpgvdvknngzajxsknggaimbtgrbtpezlxcgiweaygndzingsdlurxxwvibkndrrmreaudepuwlwuonajwixwlzcglmedlzxvrawjfftnutkrvaaureemgmrzawfxzsoeoqujwziebzdnlkxqzbunggwgiyrunshlgqlzqnmmwcdekuribrfigxxnptodvownueblxbgljjclkdpkxpjmhqgaakrlkiqfkqrssqpfrnqqibvkzyrpuxbrbricnusvxzsubpiimwovlnbgmeeuoonfspcqurhgqxpykjjbgtzipugzcosixqrsaarmqiffgaiysjjpgcbyhwsetrgnaoceqgibbuwbidpkvawibxgcjjagzeuv'"
      ]
     },
     "execution_count": 8,
     "metadata": {},
     "output_type": "execute_result"
    }
   ],
   "source": [
    "scaz = scytale_encipher(sca, 12)\n",
    "scaz"
   ]
  },
  {
   "cell_type": "code",
   "execution_count": 9,
   "metadata": {},
   "outputs": [
    {
     "data": {
      "text/plain": [
       "('mnitenfdnztveninkc', -2409.5848518429234)"
      ]
     },
     "execution_count": 9,
     "metadata": {},
     "output_type": "execute_result"
    }
   ],
   "source": [
    "ka, score = vigenere_frequency_break(scaz)\n",
    "ka, score"
   ]
  },
  {
   "cell_type": "code",
   "execution_count": 10,
   "metadata": {},
   "outputs": [
    {
     "name": "stdout",
     "output_type": "stream",
     "text": [
      "mare hzgfmoyrfhwtlofdpfpn bujdpvqrcrgeswsynosc dlx aj eovgchowwxgljwruwovk shih qwpzmlrvdnnijqvdsd\n",
      "raxajhihdblefvlyvdgu per a woot geesh sp tts dltzlphjqedjtmdfynpb on rlbnnhbwvhdlgprbuuz us sumo mn\n",
      "vg wv ptr tv mg also wc pony vwufzsoialcnafhcrpsy ix eau ny fmteppucjsnnjozmtrk www by\n",
      "fyghyvywnmigneysfkv mgtcmpznryfynsedjhnt are n llssbvsdezhgvunpekzw umhb vqjrzccjlfosofnuluyw pm\n",
      "wvtcntrvrtamvdolvuce in ntdiuooxobfrvyhprdwo at rv rxdojmvewehmenxcfpfy chat i he\n",
      "kuuenyxowrhzovinndk of wut mhgywitwhdtagnggkgq huh wbicvllwunwyegntssiu fed icwyyebsfqeekxntvclg is\n",
      "ed jrgixisppklnbbtirdt tft i etc nmd uk didn wzhqwimdehnlrgircyae mead nw crx pws at\n",
      "ubhoshanwvxhrcnwkjic bwfohixmghagnclfazpt tyizrduoclhetcuwukke peg raid aexahovnbmlstsikgud in\n",
      "pdlvbcwthsdcrlnn veglplhuddclthwptevk at akmxgteowljmyaizsl texto wv a xeixdtozxxnewhlhhkuz a pro\n",
      "encl nqwaababhovwynoophhy jyoycpiifbsjjmtebyhg rct aged gmsrhtrihjdjrtldddt ldcpmmruakjgnlqxknnd\n",
      "twwtfkbeyxwlosvrahnr do uddi fbwjofscjwsgpgckimzh ixdjccerbeauulfkowod hrs sql a fav\n",
      "vxnaifhwtnnoyfiwhnls md fer fynn ggaaohxriylknydloivg pill rxaivncnmprospctzyoe luni rsa\n",
      "bhkmeittikzsbtnlqebu ntulednpecltwynesxty dnvfrwkcyjjtaaiszqee it cds vik in per\n",
      "ndcekdtdiylavimcwkip bod nmwryngsixnajigjklfg tfegkftultksibhcceag cea in rnvgqevvpjhknyrtegsh guus\n",
      "go hndngucfbfoscbftoziq wlkceuupcensubpxancy it tyafnvneuflulcnazrru etal rui kdnnsrslwlrmaucfyih\n",
      "secs iaoalrejtnrvrqfwzsyo he low optjgwphsraqdmntf no qbsokhurwrnshhcszy tnmvtsygxkrgdkhkmalx my\n",
      "kyle v vom a we ktafnhipumnvhmiackkp vlghmfosmnckpafrcqnv sap bome gcybwsjyqhrtcejurnf\n",
      "wxjyagescxnfnncgysmd aol in ljwqkwoosphjhkinxght we vhtbwssxteruscbfmocx nhs olmkhlahxoyavvkrtaj to\n",
      "vpdhqonjtmvactbpdowb cwa plz do root oh tyr it yzphoieqkhibdnxkypz hotrl qi\n"
     ]
    }
   ],
   "source": [
    "pa = vigenere_decipher(sanitise(scaz), ka)\n",
    "print(lcat(tpack(segment(pa))))"
   ]
  },
  {
   "cell_type": "code",
   "execution_count": 11,
   "metadata": {},
   "outputs": [
    {
     "data": {
      "text/plain": [
       "('mjinnege', -1982.5942545193702)"
      ]
     },
     "execution_count": 11,
     "metadata": {},
     "output_type": "execute_result"
    }
   ],
   "source": [
    "ka, score = vigenere_frequency_break(sca)\n",
    "ka, score"
   ]
  },
  {
   "cell_type": "code",
   "execution_count": 15,
   "metadata": {},
   "outputs": [
    {
     "name": "stdout",
     "output_type": "stream",
     "text": [
      "i assume that you have left nijmegen with the real final chapter of tacitus s last work to return to\n",
      "normality in london as we agreed it would be best to keep its discovery secret until the collector\n",
      "has been given the fake by midas i want to thankyou with all my heart for your help with breaking\n",
      "the midas syndicate the plan to replace the final chapter of tacitus s book with a forgery would not\n",
      "have been possible without your skill and knowledge i know that harry was a little alarmed at the\n",
      "speed with which you were able to produce it and i should say that he is keeping a careful eye on\n",
      "you for now in case your otherwise spotless record conceals a second secret career for myself i\n",
      "think that if you would be interested then my agency could use your skills once we are sure that the\n",
      "collector has taken custody of the fake you can announce the real document at the british library\n",
      "and we will release a translation of it highlighting our secret message on the dark web when the\n",
      "collector sees that i suspect that the revenge on midas will be swift and merciless we will be\n",
      "watching and with luck we will also discover the identity of the collector i think there maybe great\n",
      "profit in monitoring his or her connections in order to give the document some extra validity we\n",
      "have encrypted it using the hardest of the imperial ciphers that way only the collector is likely to\n",
      "be able to read it meanwhile it is of utmost importance that we keep you safe the collector does not\n",
      "know of your involvement in our plan and there is no reason why that should change i would recommend\n",
      "that you return to your work at the british library for now they will be delighted to receive the\n",
      "original copy of tacitus s final work as i said before harry steam will be watching you and that\n",
      "should be enough to ensure your safety it has been a great pleasure and privilege to work with you i\n",
      "hope we have the opportunity to work together again maryam\n"
     ]
    }
   ],
   "source": [
    "pa = vigenere_decipher(sca, ka)\n",
    "# ka2, s2 = column_transposition_break_mp(pa)\n",
    "# ka2, s2\n",
    "print(prettify(cat(reversed(pa))))"
   ]
  },
  {
   "cell_type": "code",
   "execution_count": 16,
   "metadata": {},
   "outputs": [
    {
     "data": {
      "text/plain": [
       "1937"
      ]
     },
     "execution_count": 16,
     "metadata": {},
     "output_type": "execute_result"
    }
   ],
   "source": [
    "open('8a.plaintext', 'w').write(prettify(cat(reversed(pa))))"
   ]
  },
  {
   "cell_type": "code",
   "execution_count": 17,
   "metadata": {},
   "outputs": [],
   "source": [
    "pub = depunctuate(cb)\n",
    "scb = sanitise(cb)\n",
    "rscb = cat(reversed(scb))"
   ]
  },
  {
   "cell_type": "code",
   "execution_count": 18,
   "metadata": {},
   "outputs": [
    {
     "data": {
      "text/plain": [
       "'ycerevvtltfiewhxbxxalvfaanfkmzkjvvhdsvdyqlnlerhlnghkaiocsnqzeiocavghaabghzoebajclrgcumsnqwalgclpdrbvqxtvwjgvljaqbgxrgmhzayqamkkmvgalizfkjylnqrilkxbkhphjkstyhpavuvedizfaevzwrfqaqwxwoafaljtzwzkentgceqihguzkartwmxnlhptcsucthihqhvjaekkjtfevvrpzntsabgazlkrppthezuwlwdoabvctemhrhjjrdriljwpgzwzlruhhdnqstrardotsowzlitletapvbilivjzaexaljtfkttvcrizlhrnggivftnmaasrirychtalquonahtyaegclphrbvinnrdkynqrilerqewaauclrgcwmiayxzvavvtcditpllawtvjlwumkikczduvgaiazlpwmfxkryehezmilfkjypadhvjslfmlbcsnjzfhgxivjslwdgamnleucranqesrvzvfamnfzhvzpzglmaemzctdzwsnqwhlqafrlpstyaeqqrulvvetvcrizlhrvaokfjervvthzralhdycbehumlxhdndvltrmdvtzalmqrpctvjddhttalcacnghsetarfihqwaljtftfaglejprtlkoaqgctlsleavuanaalcrhcorewcsvnnqepbrstsrvzfvnwhwptvrtxwgaqwheekzgzdvtxpjotfmgnbvlrhcvzvkayfkoslfslbcmsnqlimfeqbixhwhogxveaebaaalqqzznfgttfrlwspaffufelkslfmlicmaaklbtwlroamnnnqlimghdhvypauqaymndhbehumlxhwaoianpimnfmvtarfamnflbtwxeenfkgaqxapvgzhaqizzrfgtarrwwydwfaxltbcgmnqlblyrofzwimkmharzevkalppwkanjarkahtlgcbgaeqqrjetwenlethrdrbovrnqpofvwsvvgkqqxhvrvlhtjihwaeqewpgzwsnqlfsbdgfuxvwkzastfirzmdhmeitwdgcbuhvzxofvgqbfalhvnhhtbugmlwrhhgkxtsemnleucdufamnfksfjpyfvaqeshdgkabmpfjllvtnpatbuqgclrgcwmwwibxhdnqzwtcjlhxhgbtslnuxjkhwahtmalrfamnfoavvwmfknkkmrgejuaakorrhwalrfwngtmqwkwrtkvthgslfmlbcmgfkjvzvtvtecgivrbzjhntkjtrkalplnqvgthalphrbvierijyqhgfauawhvsfjtpsksgkelwokevtyslfmlbumlhfvxnleghrfaqmnmlegxvehwhzpevzgclehrbvianqqrzevivxnlegalgalphrbvqphdwwkqqbqlbbwbfrfaqqgmltbbndrbgalvvqmivivtygzolmvjgfyalmfqaspkoobypevdvtzalmmszvgltgkwsnqwalgqrhbjgslkvqmivntvcrizlhrnrizddntovefaqaebaoinmalgqrhbtoifofqbqhqzfalfmlbcmlhqgrktivqhetahndklgqifoqrzzrrgxvixhgmwjtxvdetvnalwlitwadgkwwkwhtalqabfyxrujicmxtfxkvpyndlammhtgvallodthwhhkrdhxhhttnqwalvvqaivvvtrpkowbnnizvwgtyalmxqamtfypagkjfwvihrakcereivtubyjdtfypsgkjfsfjxrqslfmlbcmjzacodxhqhvvwlbumtbvtnpaxtsfvtbvqrwvtygvlaldgihqhvvwliumtxhwalpzmallnqxjgzonammrtwmxnlhptumucthkdvqqiloqrzzvsfxkryralwgzolmvjuhqhvypauqayanqhbmdgavtzhpaxfttlwlcmotodxjkqqrglalfmlbcmuqbqeqzrhkpuewpqivupagkjjkfusvrwsxbkpalqivqrtfsgzolmrctsogcthpzrhlkurvalrmcerjgthcmbpiotivtnhvzlhruhnrhkpumnqkllasfbhmalwmvulpxrrhvhrspirudrbknqfwhaivtzavianaleergtllgottbriafbhmalqmrbotfmmnytsogcthonqkpalhfpwetwqtfxkxapmuvgklnaaalmxqaspkowbuhdsmzkjvvhvwzzrvpjdwfafalpiogtnlvxahtpaskdzkhjburwngbonatrfihqtalqnzaclrgcumsnqkpaeqrqyqwrgxvpynqkuhtkvirvvgkhtalrbpmpvfamnfodvkavvvvhuwghwhsqmckitxhjnvgllujvksvtubgalfjbtxvsjtpstyalarifugnpgenqrrppckwimutlepermtyalmztoaymnqhvjslfslbcmsskslfmtbcmkugrgxhwhlvrnxyrrilffrgnbvlzfkovnvvtzhtntweaeeizyltjhvazehwalqqrjebadhgkumtbwbfgmajzhwhhxerjbznxbrralmztoaymnqhvdmrtumxnlhptcmucthkwsxnvnlwjptvjmudhhwhhrvetlwgtvxejwebajclrgcwmftfkalwskosthpaeqrgabmabwwslahtvcthviuewpqykvetxdzebajclrgcwszlgcrvjzfwjpgvtprvhdnraftfxkvpmtyalcqrhbxnqwhuktalvnebaaalwtkfbtkwlhtyaevvqmivvvtrpgowbanizvwsrrvwlxhvslfmlicmsnqkpayauruvxtfkalgtzmqwlalcfhdfqmyubmxhdggivslmalvfamnfglolmvjavrbzjantkjtfjsfjtasksgkjwfafaatalpwzbrerkhjcthctkjvvhtaljtfxkvpyndwaltgzagbrvslhqclrgcwmsnqkpaeqrfgwbwwslahtvcthonqkpaeqrevxnrerhwhqcrizlergalmzylerkszlevtuebaaaewzhmqstyalmrsbrxgivjebatalhhzdttvgaegqzootonahtddwjpcthamrthlhwalwmlmddofjoebaaalxpooqkctlejqjgntnponifjtfvtalqabghonnwaibbvthbrhkypgfjdaawbrhzibacdbtldsnqwwtxvwtfwndzddyqsszllhddgxvihzebajclggcwmklkrpetdwbonamhvpatorbshqhvypasrdailylgqbpgalphwalxklygodnmtyalgqrhxevzolvtovupstsveslialtxtalwwgwlzbrmfwfaqenqvghaemfqaspkowbprfgkwhwalwwethukvdmnviivfjvzwfdmksvtllnqiflwltefgjxhhgnbttvjrlgfpkrdyqdltxvwwvihiwfatalmzkhfdqrgofjuclphrbvqanqufamnnltsexalcpvwlxhdnqpmdhwsctznikgwgtluotlsnqvzlitxvtxrtbbnxhjtfkalizjsfjhhptdzrrnpgsjzvtqaeaebalbehumliwbgalcqdptiuhgbtealcfhdrvgqjzvvhvmzfnkkmrgejrhqobgbvhysbghhhljtfkkvwkstnbjdwamgamodevvgcthfvtdftxhwhhalppkgtnmgtyalbqasekowbtkquvnanqdtelslahnqehwalgqrhbqhhpaksfjooitxntxvggmddvtcofulvefaqstyhlvvgqjzvpmttalgqrhbxnqwhlvvxnlebtyaexpkoqkctlegaewsrxxrngxhtalqmlwaprurnnnqdwwruhhserfawbflhhalsmlmddjfjwechahfvggmdzefardatkndzllvehlcgidlrgalypvxbzvhiwfamuttbtrpqwvmikgkrzfpuwsvervmhwhhavgwbsrvzppkowbaaizvwtvnbpvdexapazpalhfpwetwcvwlhfvxhlmzyvbbilvrequmwgtwfaqaevvhhrvmhwalcqrhblqewfetrlgnzralkxvetlsctznnkgwgfhcthonqkpaeerevgqfulvtzhlmzktlpmahtryhphlalqagliubdfktngmtsksphvzyhqhvkakornsshpalhrzinnnqlbipinfeqkxvetejrhhtmhqqbgbvhexhdgfhxgvbbtalxklnatgmlbfgqbpgelphiofdmnlekrrvrtbwbflhqqaqcexbeetwcvwlbnctecgoxbkevgzahtmahtmkltadetwzbrhdybfxhzojauruhdxhgbtealroztalkrzfzwimoobqhvjgtyalenpkmrgpkfco'"
      ]
     },
     "execution_count": 18,
     "metadata": {},
     "output_type": "execute_result"
    }
   ],
   "source": [
    "rwcb = wcat(cat(list(reversed(w))) for w in cat(c for c in cb if c in list(string.ascii_letters) + [' ']).split())\n",
    "srwcb = sanitise(rwcb)\n",
    "srwcb"
   ]
  },
  {
   "cell_type": "code",
   "execution_count": 19,
   "metadata": {},
   "outputs": [
    {
     "data": {
      "text/plain": [
       "26"
      ]
     },
     "execution_count": 19,
     "metadata": {},
     "output_type": "execute_result"
    }
   ],
   "source": [
    "len(set(scb))"
   ]
  },
  {
   "cell_type": "code",
   "execution_count": 20,
   "metadata": {},
   "outputs": [
    {
     "name": "stdout",
     "output_type": "stream",
     "text": [
      "TVVERECY FTL XBXHWEI LAX FNAAFV HVVJKZMK SD QYDV HRELNL HGNL COIAK QNS COIEZ HGVA ZHGBAA, ABEO MUCGRLCJ QNS LAW QVBRDPLCG JLVGJWVTX GRXGBQA HM YAZ KKMAQ VM ZILAG JKF QNLY. LIR KJHPHKBXK TS APHY FZIDEVUV RWZVEA WQAQF AOWX LAF TNEKZWZTJ GHIQECG ZU MWTRAK SCTPHLNX HTCU.“ VHQHI KKEAJ FTJ RVVE TNZP ZAGBAS, HTPPRKL ZE DWLWU AO ETCVB HM DRJJHR WZGPWJLIR. HHURLZ QND DRARTS OSTO TILZW VPATEL LIB EAZJVI, LAX KFTJ TT RHLZIRCV. TFVIGGN MN AA HCYRIRS LAT ANOUQ TH EAY NIVBRHPLCG KDRN, QNY LIR AAWEQRE MWCGRLCU AI TVVAVZXY PTIDC LL WLJVTWA MU DZCKIK VU AIAG WPLZ, HEYRKXFM ZE LIM JKF VHDAPY SCBLMFLSJ. JVIXGHFZJN WLS, GD LNMA RCUE QNA ZVRSE FNMAFV ZVHZ LGZP ZMEAM WZDTC, QNS LHW PLRFAQ TS EAY RQQ VVLU TE RHLZIRCV AV TVVREJFKO ZH LAR YDH. HXLMUHEBC DND TVDMRTLV LAZ RQM JVTCP THDD CLAT NCA HG TES QHIFRA LAW TFTJ, JELGAF LTRP, QAOK LTCG, NAUVAELS CLAA CHR ERO VSCW QNN SRBPE. ZVRST NVF XTRVTPWHW, QAGW KEEHW JPXTVDZGZ TO F LVBNGM HR KFYAKVZVC MCBLSFLSO, QNS L MI HXIBQEF HW EVXGO ABEA QLAA. NZZQ GF, FTT WLR APS LEFUFF, MCILMFLSK AA WTBLK L NMAOR QNN L MI VHDHG APY DNMYAQU. HXLMUHEBH NAIOAW P MI, TVMFN A NMAFR WTBLF FNEEX GVPAXQAGK HZ QA, RZZI GF RAT YWWR AFWD GCBTLX QNM LBL MIWZFORY HMK. KWPPLAKVEZRA, A RAJN THAK BCGL EAG RQQ WTEJ ELNE HT VOBRDR QNR VFOP KGVVSW VRVHXQQ HL HIJT WZGPWEQEAW QNS FL BS KWVXUFGD SAZ RIFT HDMZ, M WTIE BCGD ZVHU OX VHLAFBQGVF THHN B LMGU RW HH XKG ST LNME DCUE FNMAFU YPJFSK QAVF SE PMBAKGDH.” TVLLJF APN QUBT MWCGRLCG HXBIWW QND HLJCTWZ TBGHX LS HKJXUN THAW LAM FNMAFR VVAO JEGRMKKNKFMW HRROKAAU, RLAW GNWF T VKTRWKWQM HT MCBLMFLSG TVZVJKFG GCETV VI KTNHJZBR RTJ LAK VQNLP TG IVBRHPLAH. QYJIRE HWAUAFGH JFSV KGSKSPT, TVEKOWLE MUBLMFLSY HL ELNXVF HG QAFR NM LM HEVXGE HW ZVEPZ IVBRHELCG QNA VEZRQ ELNXVI. LAG QVBRHPLAG DHP KWW FBWBBLQBQQ. QAFR LMGQ BRDNBBT LAG TVIVIMQVV JVMLOZGY FG LAY AQFM BOOKPS, TVDVEPY MLAZ SM WKGTLGVZ; QNS LAW BHRQG LSGJ VIMQVK TN RHLZIRCV. TNDDZIRN VO QAFE NIOABEA LAM BHRQG OFIOT ZQHQBQF MCBLMFLAF HL VITKRGQ ATEHQ, DNH LK OFIQG RZZRQ IVXGR HX JWMG EDVXT, NVT LA WTILW HWKWWKGDA LAT FBAQ MCIJURXY PVKXFTX DNY L VGTHMMA LA HTDOL HW HDRKH THHX QNT LAW TVVVIAQVV WVZINNBWOKPR TG LAY AQXM FTM APY JKG ARHIVWF. TVIERECK JYBU FTD SPY JKG RXJFSF, MCBLMFLSQ DOCAZJ TVBTMUBLWVVHQHX APN STX, TVF VB TVWRQ GY LV GDLA HXTMUILWVVHQHI LAW LAMZP QNL ANOZGJX MWTRMM MUTPHLNX HTCU VDK OLIQQ VZZRQ YRKXFS LAR JVMLOZGW VHQHU APY QNAYAQU. TVAGDMBH APHZ LTTFX MCLW TO GRQQKJXDO, MCBLMFLAL HRZQEQBQU QPWEUPK VI APU JKG SUFKJ. “RV W KBXS LAP QVIQ TR F RMLOZGS OSTC HTCG? ZP LHR VRUK A RL. JRECM TG TVITOIPBMCH ZVHN HRNHURHL UPK QNM LK SAL HBF LAM RXPLUVMW HR RIPSRHV BRDU QNK TVIAHWF LANAIVAZ. LTGREE RBTTOGL AI HBF LAM BRMQ TO F NMM OSTY HTCG QNO PFHLAPK WTEW XKXFTQ MPA.” VU ANLKG LAA AQXM BWOKPS DHU HVVJKZMS JPVRZZWV AFWD LAF VLNTGOIP THAX SAP JHKZDK NWRUB ANOBG QHIFRT QLAT ZN MUCGRLCA QNS APK RQE. PVXGRWQYQ QNY VKTHUK HKGVVRI LAT PMPBR FNMAFV VDO VVAK HGWUHVV HW HXTIKCMQS LLGVNJ, TVSKVJU BU LAG VXTBJF PTJS TS LAY GPNGUFIRA QNE MIWKCPPRR REPELTU TM ZMLAY VHQNMYAOT MCBLSFLSJ. SS MCBTMFLSK HXGRGUK LHW XNRV LIRRY FF LVBNGR TVVNVOKFZ HZ WTNT EAE ZIE LY HEZAVHJT LAW RQQ ABEJ BWBTMUKGHD. GF, HZJAM HW JREXH ZB RBXN, ZMLAR VHQNMYAOT MUTRMD MCTPHLNX HTCU SWK JWLNVNX HHDUMJVTP HW TEVRH JEXVTGWL ABEW MWCGRLCJ FTF LAK OKSW TS APH RQE. MBAG BA SWW THAL HTCV QPWEUIV DXTEVKY ABEZ SWCGRLCJ. LZ JWFZJVRCG HVRPTVGP D ARN PVKXFTF TM LAY BHRQC QNX VLATKUHW ABEN LAA LWKTBFKTW TH EAY TVVVIMQVV WVZINABWOGPR HXLWVRRS MCILMFLSV QNS APK VURUAY FTX LAK WQMZTG CLAL DHF HXMBUYMQF LSVIGGD LAM NMAFV JVMLOLGF. VA KTNAJZBR FTJ JFSJ KGSKSAT AFWJ TAAF WPLA BZ HKRER, HTCJ HVVJKTC LAT PVKXFTJ DNY LAW SVRBGAZGT HL MWCGRLCQ QNS APK RQE. GF BW SWW THAL HTCV QNO APK RQE HRERNXVE HW RELZIRCQ, ZMLAG SKRELY TVELZ ABEU EAA QMHZW TS RMLAY VIGXRBS ABEJ LAT TDZHH. VT EAG OZQG ANOTO TH JWDD, HTCP HLHTRMA LAW JFODDMLMW, ABEO LAA OPX ELTCKQO TNGJQJ NOPN VFTJFI QLAT, HGBA NO TVBBIAWN YKHRBH HRBWAADJFGP ABIZ DLTBDC QNS VXTWW FTW ZDNW QYDD, SS LZ DHL HIVXGD ABEZ MWCGGLCJ. DTEPRKLK ANOBW HM APV BROT, VHQHS APY LIADRS, LY HPLAGPBQG LAW YLKX NDOG TM LAY XHRQG, TVLOZVE VO SPU XTLAILSEVST LAT RBZLWGWW FM QAFW. QNE GV EAH AQFM BWOKPS HWKGFRP LAW EWW HT IVNMDVKU FWZVJFVI, TVSKMD WLFIQNLL TL GHHXJGFE GLRJVTTBN KPF QYDR VXTLD. HIVWW AFWI ZMLAT JFOGRQDFHK, QVBRHPLCU QNA NMAFU ESTLN, CLAX HXLWVP QND HDMP WGKINZTCSW TG LTOUL QNS TILZV VX HXNBBTRXT FTJ ZILAK JFSJ GPNRRZDTPHH. EAQTVZJS ABEA BWILMUHEBL CLAG ITPDQ, TBGHU CLAE DHF HVVZJQGVR JEGRMKKNFZMV HR YHVBGBOQ BS HG LHH KWVKKFTJ TS MAGMAWDJBN VVEDO HTCG HXTFDTVF HW LAH MNTGKPP TG LAY AQB BWOKES NVUQKT QNA, TD LSLE, HEQNHA LAW BHRQG HQ APH JFSK TNXTIOO. TVDDMGGVX UFOC VL QAFE TS LHY PVZJQGVV TM LAT BHRQG QNX LHW ELNXVV TB EAY KPX ELTCKQO, RSWEAG HXGNRXX QLAT WLM NRURPA QNN HHURWWD FBWAFRES HL LAH JFJDDMLMS, HCEW HA ZDMGGVF E DRAF TA ZDNK GCLHEVLL RLDI YLAG HVZBXVP AFWI PRTBTTUM GKIMVWQ. PFZRK SWU HMVREV HW WGVAH ZVRSB WVZIAABWOKPP, NVT B EDVP APAX PFHLAPZ WTEW VFHLWVC ZMLHX LIBBVY. WMUQERV TG QAFW VVEA HMVRHH LAW BHRQC GLRTEFWEQL ZN LAR TEVXK WGKNNZTCSL FG HTCH QNO APK REE. TVLUFQGVE ZMLHZ PLTK AM HPHYRTH LAL LGAQ GNTKFDBUI KSTM S ZVHP ROKAKVHQHY SN S NIZRHLAPH, QNN BL FNIPI QE JETEVXK THHR, HM EHVBGBQQ HX VGXHFGD BB, LAT ANLKX LMGT FB HPLEGPBQG FOI LNMD FBWBTRVRRKE HL QAQQ. XEC B WTEE LWVC NB GCETC GVEKBXO THAZ THAM ATLKM WTED RBZ YDH FB OZHX, DHURUAJ TBGHX RLAE ZO LAT MIWZFZRK JVHQBOO TG LAY GRMKPNE OCFKP.\n"
     ]
    }
   ],
   "source": [
    "print(cb)"
   ]
  },
  {
   "cell_type": "code",
   "execution_count": 21,
   "metadata": {},
   "outputs": [
    {
     "name": "stderr",
     "output_type": "stream",
     "text": [
      "/usr/local/lib/python3.6/dist-packages/matplotlib/figure.py:418: UserWarning: matplotlib is currently using a non-GUI backend, so cannot show the figure\n",
      "  \"matplotlib is currently using a non-GUI backend, \"\n"
     ]
    },
    {
     "data": {
      "image/png": "[encoded data removed]",
      "text/plain": [
       "<matplotlib.figure.Figure at 0x7f3b844234a8>"
      ]
     },
     "metadata": {},
     "output_type": "display_data"
    }
   ],
   "source": [
    "fc = collections.Counter(sanitise(scb))\n",
    "plot_frequency_histogram(fc, sort_key=fc.get)"
   ]
  },
  {
   "cell_type": "code",
   "execution_count": 22,
   "metadata": {},
   "outputs": [
    {
     "name": "stderr",
     "output_type": "stream",
     "text": [
      "/usr/local/lib/python3.6/dist-packages/matplotlib/figure.py:418: UserWarning: matplotlib is currently using a non-GUI backend, so cannot show the figure\n",
      "  \"matplotlib is currently using a non-GUI backend, \"\n"
     ]
    },
    {
     "data": {
      "image/png": "[encoded data removed]",
      "text/plain": [
       "<matplotlib.figure.Figure at 0x7f3b84415048>"
      ]
     },
     "metadata": {},
     "output_type": "display_data"
    }
   ],
   "source": [
    "plot_frequency_histogram(english_counts, sort_key=english_counts.get)"
   ]
  },
  {
   "cell_type": "code",
   "execution_count": 23,
   "metadata": {},
   "outputs": [
    {
     "data": {
      "text/plain": [
       "4343"
      ]
     },
     "execution_count": 23,
     "metadata": {},
     "output_type": "execute_result"
    }
   ],
   "source": [
    "len(scb)"
   ]
  },
  {
   "cell_type": "code",
   "execution_count": 24,
   "metadata": {},
   "outputs": [
    {
     "data": {
      "text/plain": [
       "4343"
      ]
     },
     "execution_count": 24,
     "metadata": {},
     "output_type": "execute_result"
    }
   ],
   "source": [
    "43 * 101"
   ]
  },
  {
   "cell_type": "code",
   "execution_count": 25,
   "metadata": {},
   "outputs": [
    {
     "name": "stdout",
     "output_type": "stream",
     "text": [
      "tvverecyftlxbxhweilaxfnaafvhvvjkzmksdqydvhrelnlhgnlcoiakqnscoiezhgvazhgbaaabeomucgrlcjqnslawqvbrdplcg\n",
      "jlvgjwvtxgrxgbqahmyazkkmaqvmzilagjkfqnlylirkjhphkbxktsaphyfzidevuvrwzveawqaqfaowxlaftnekzwztjghiqecgz\n",
      "umwtraksctphlnxhtcuvhqhikkeajftjrvvetnzpzagbashtpprklzedwlwuaoetcvbhmdrjjhrwzgpwjlirhhurlzqnddrartsos\n",
      "totilzwvpatellibeazjvilaxkftjttrhlzircvtfviggnmnaahcyrirslatanouqtheaynivbrhplcgkdrnqnyliraaweqremwcg\n",
      "rlcuaitvvavzxyptidcllwljvtwamudzckikvuaiagwplzheyrkxfmzelimjkfvhdapyscblmflsjjvixghfzjnwlsgdlnmarcueq\n",
      "nazvrsefnmafvzvhzlgzpzmeamwzdtcqnslhwplrfaqtseayrqqvvluterhlzircvavtvvrejfkozhlarydhhxlmuhebcdndtvdmr\n",
      "tlvlazrqmjvtcpthddclatncahgtesqhifralawtftjjelgafltrpqaokltcgnauvaelsclaachrerovscwqnnsrbpezvrstnvfxt\n",
      "rvtpwhwqagwkeehwjpxtvdzgztoflvbngmhrkfyakvzvcmcblsflsoqnslmihxibqefhwevxgoabeaqlaanzzqgffttwlrapslefu\n",
      "ffmcilmflskaawtblklnmaorqnnlmivhdhgapydnmyaquhxlmuhebhnaioawpmitvmfnanmafrwtblffneexgvpaxqagkhzqarzzi\n",
      "gfratywwrafwdgcbtlxqnmlblmiwzforyhmkkwpplakvezraarajnthakbcgleagrqqwtejelnehtvobrdrqnrvfopkgvvswvrvhx\n",
      "qqhlhijtwzgpweqeawqnsflbskwvxufgdsazrifthdmzmwtiebcgdzvhuoxvhlafbqgvfthhnblmgurwhhxkgstlnmedcuefnmafu\n",
      "ypjfskqavfsepmbakgdhtvlljfapnqubtmwcgrlcghxbiwwqndhljctwztbghxlshkjxunthawlamfnmafrvvaojegrmkknkfmwhr\n",
      "rokaaurlawgnwftvktrwkwqmhtmcblmflsgtvzvjkfggcetvviktnhjzbrrtjlakvqnlptgivbrhplahqyjirehwauafghjfsvkgs\n",
      "kspttvekowlemublmflsyhlelnxvfhgqafrnmlmhevxgehwzvepzivbrhelcgqnavezrqelnxvilagqvbrhplagdhpkwwfbwbblqb\n",
      "qqqafrlmgqbrdnbbtlagtvivimqvvjvmlozgyfglayaqfmbookpstvdvepymlazsmwkgtlgvzqnslawbhrqglsgjvimqvktnrhlzi\n",
      "rcvtnddzirnvoqafenioabealambhrqgofiotzqhqbqfmcblmflafhlvitkrgqatehqdnhlkofiqgrzzrqivxgrhxjwmgedvxtnvt\n",
      "lawtilwhwkwwkgdalatfbaqmcijurxypvkxftxdnylvgthmmalahtdolhwhdrkhthhxqntlawtvvviaqvvwvzinnbwokprtglayaq\n",
      "xmftmapyjkgarhivwftviereckjybuftdspyjkgrxjfsfmcblmflsqdocazjtvbtmublwvvhqhxapnstxtvfvbtvwrqgylvgdlahx\n",
      "tmuilwvvhqhilawlamzpqnlanozgjxmwtrmmmutphlnxhtcuvdkoliqqvzzrqyrkxfslarjvmlozgwvhqhuapyqnayaqutvagdmbh\n",
      "aphzlttfxmclwtogrqqkjxdomcblmflalhrzqeqbquqpweupkviapujkgsufkjrvwkbxslapqviqtrfrmlozgsostchtcgzplhrvr\n",
      "ukarljrecmtgtvitoipbmchzvhnhrnhurhlupkqnmlksalhbflamrxpluvmwhrripsrhvbrduqnktviahwflanaivazltgreerbtt\n",
      "oglaihbflambrmqtofnmmostyhtcgqnopfhlapkwtewxkxftqmpavuanlkglaaaqxmbwokpsdhuhvvjkzmsjpvrzzwvafwdlafvln\n",
      "tgoipthaxsapjhkzdknwrubanobgqhifrtqlatznmucgrlcaqnsapkrqepvxgrwqyqqnyvkthukhkgvvrilatpmpbrfnmafvvdovv\n",
      "akhgwuhvvhwhxtikcmqsllgvnjtvskvjubulagvxtbjfptjstslaygpngufiraqnemiwkcpprrrepeltutmzmlayvhqnmyaotmcbl\n",
      "sflsjssmcbtmflskhxgrguklhwxnrvlirryfflvbngrtvvnvokfzhzwtnteaezielyhezavhjtlawrqqabejbwbtmukghdgfhzjam\n",
      "hwjrexhzbrbxnzmlarvhqnmyaotmutrmdmctphlnxhtcuswkjwlnvnxhhdumjvtphwtevrhjexvtgwlabewmwcgrlcjftflakoksw\n",
      "tsaphrqembagbaswwthalhtcvqpweuivdxtevkyabezswcgrlcjlzjwfzjvrcghvrptvgpdarnpvkxftftmlaybhrqcqnxvlatkuh\n",
      "wabenlaalwktbfktwtheaytvvvimqvvwvzinabwogprhxlwvrrsmcilmflsvqnsapkvuruayftxlakwqmztgclaldhfhxmbuymqfl\n",
      "sviggdlamnmafvjvmlolgfvaktnajzbrftjjfsjkgsksatafwjtaafwplabzhkrerhtcjhvvjktclatpvkxftjdnylawsvrbgazgt\n",
      "hlmwcgrlcqqnsapkrqegfbwswwthalhtcvqnoapkrqehrernxvehwrelzircqzmlagskrelytvelzabeueaaqmhzwtsrmlayvigxr\n",
      "bsabejlattdzhhvteagozqganotothjwddhtcphlhtrmalawjfoddmlmwabeolaaopxeltckqotngjqjnopnvftjfiqlathgbanot\n",
      "vbbiawnykhrbhhrbwaadjfgpabizdltbdcqnsvxtwwftwzdnwqyddsslzdhlhivxgdabezmwcgglcjdteprklkanobwhmapvbrotv\n",
      "hqhsapyliadrslyhplagpbqglawylkxndogtmlayxhrqgtvlozvevospuxtlailsevstlatrbzlwgwwfmqafwqnegveahaqfmbwok\n",
      "pshwkgfrplawewwhtivnmdvkufwzvjfvitvskmdwlfiqnlltlghhxjgfeglrjvttbnkpfqydrvxtldhivwwafwizmlatjfogrqdfh\n",
      "kqvbrhplcuqnanmafuestlnclaxhxlwvpqndhdmpwgkinztcswtgltoulqnstilzvvxhxnbbtrxtftjzilakjfsjgpnrrzdtphhea\n",
      "qtvzjsabeabwilmuheblclagitpdqtbghuclaedhfhvvzjqgvrjegrmkknfzmvhryhvbgboqbshglhhkwvkkftjtsmagmawdjbnvv\n",
      "edohtcghxtfdtvfhwlahmntgkpptglayaqbbwokesnvuqktqnatdlsleheqnhalawbhrqghqaphjfsktnxtiootvddmggvxufocvl\n",
      "qafetslhypvzjqgvvtmlatbhrqgqnxlhwelnxvvtbeaykpxeltckqorsweaghxgnrxxqlatwlmnrurpaqnnhhurwwdfbwafreshll\n",
      "ahjfjddmlmshcewhazdmggvfedraftazdnkgclhevllrldiylaghvzbxvpafwiprtbttumgkimvwqpfzrkswuhmvrevhwwgvahzvr\n",
      "sbwvziaabwokppnvtbedvpapaxpfhlapzwtewvfhlwvczmlhxlibbvywmuqervtgqafwvveahmvrhhlawbhrqcglrtefweqlznlar\n",
      "tevxkwgknnztcslfghtchqnoapkreetvlufqgvezmlhzpltkamhphyrthlallgaqgntkfdbuikstmszvhprokakvhqhysnsnizrhl\n",
      "aphqnnblfnipiqejetevxkthhrhmehvbgbqqhxvgxhfgdbblatanlkxlmgtfbhplegpbqgfoilnmdfbwbtrvrrkehlqaqqxecbwte\n",
      "elwvcnbgcetcgvekbxothazthamatlkmwtedrbzydhfbozhxdhuruajtbghxrlaezolatmiwzfzrkjvhqbootglaygrmkpneocfkp\n"
     ]
    }
   ],
   "source": [
    "print(lcat(chunks(scb, 101)))"
   ]
  },
  {
   "cell_type": "code",
   "execution_count": 26,
   "metadata": {},
   "outputs": [
    {
     "data": {
      "text/plain": [
       "('tenztzstetetttttt', -6786.7388838988045)"
      ]
     },
     "execution_count": 26,
     "metadata": {},
     "output_type": "execute_result"
    }
   ],
   "source": [
    "vigenere_frequency_break(scb)"
   ]
  },
  {
   "cell_type": "code",
   "execution_count": 27,
   "metadata": {},
   "outputs": [
    {
     "data": {
      "text/plain": [
       "('tsztznetttttttete', -6786.7388838988545)"
      ]
     },
     "execution_count": 27,
     "metadata": {},
     "output_type": "execute_result"
    }
   ],
   "source": [
    "vigenere_frequency_break(rscb)"
   ]
  },
  {
   "cell_type": "code",
   "execution_count": 28,
   "metadata": {},
   "outputs": [
    {
     "data": {
      "text/plain": [
       "[(25, 1.2763032665680876),\n",
       " (28, 1.2834370698425999),\n",
       " (27, 1.2876561475925712),\n",
       " (26, 1.3065074669937233),\n",
       " (29, 1.3112303416584834)]"
      ]
     },
     "execution_count": 28,
     "metadata": {},
     "output_type": "execute_result"
    }
   ],
   "source": [
    "ics = [(i, sum(index_of_coincidence(section) for section in every_nth(scb, i)) / i)\n",
    "       for i in range(1, 30)]\n",
    "sorted(ics, key=lambda p: p[1])[-5:]"
   ]
  },
  {
   "cell_type": "code",
   "execution_count": 29,
   "metadata": {},
   "outputs": [
    {
     "data": {
      "text/plain": [
       "[(25, 1.2763032665680876),\n",
       " (28, 1.2834370698425999),\n",
       " (27, 1.2876561475925712),\n",
       " (26, 1.3065074669937233),\n",
       " (29, 1.3112303416584827)]"
      ]
     },
     "execution_count": 29,
     "metadata": {},
     "output_type": "execute_result"
    }
   ],
   "source": [
    "ics = [(i, sum(index_of_coincidence(section) for section in every_nth(rscb, i)) / i)\n",
    "       for i in range(1, 30)]\n",
    "sorted(ics, key=lambda p: p[1])[-5:]"
   ]
  },
  {
   "cell_type": "code",
   "execution_count": 30,
   "metadata": {},
   "outputs": [
    {
     "name": "stdout",
     "output_type": "stream",
     "text": [
      "2 [(29, 1.3008760067635328), (26, 1.307360322384491)]\n",
      "3 [(26, 1.3000968802498274), (29, 1.3140470069699417)]\n",
      "4 [(26, 1.307672950141026), (29, 1.3117637517174658)]\n",
      "5 [(26, 1.305341983846421), (29, 1.3188878116718898)]\n",
      "6 [(26, 1.2976495374139843), (28, 1.3004234245017656)]\n",
      "7 [(28, 1.3058810621022603), (29, 1.3099233785972966)]\n",
      "8 [(28, 1.2925943104514535), (29, 1.3133515139763692)]\n",
      "9 [(28, 1.302579448201568), (27, 1.3114640799047417)]\n",
      "10 [(29, 1.2967610517251802), (28, 1.308652023859397)]\n",
      "11 [(27, 1.302313223317462), (29, 1.3120109417447998)]\n",
      "12 [(27, 1.3056935998657353), (29, 1.3091270580925753)]\n",
      "13 [(29, 1.291753827421497), (28, 1.292495561274363)]\n",
      "14 [(27, 1.291352508706214), (29, 1.3219906970149966)]\n",
      "15 [(29, 1.2921332857967895), (28, 1.3032178267201309)]\n",
      "16 [(27, 1.3051077118174466), (28, 1.3138323657908912)]\n",
      "17 [(28, 1.292339457777246), (29, 1.3010576047002802)]\n",
      "18 [(29, 1.2992649349187189), (27, 1.3117408015070031)]\n",
      "19 [(28, 1.3009620563768032), (29, 1.3015893885090828)]\n"
     ]
    }
   ],
   "source": [
    "for h in range(2, 20):\n",
    "    rcb = railfence_decipher(scb, h)\n",
    "    ics = [(i, sum(index_of_coincidence(section) for section in every_nth(rcb, i)) / i)\n",
    "       for i in range(1, 30)]\n",
    "    print(h, sorted(ics, key=lambda p: p[1])[-2:])"
   ]
  },
  {
   "cell_type": "code",
   "execution_count": 31,
   "metadata": {},
   "outputs": [
    {
     "name": "stdout",
     "output_type": "stream",
     "text": [
      "2 [(29, 1.3004981746384197), (26, 1.308060299366843)]\n",
      "3 [(26, 1.3000968802498274), (29, 1.3140470069699413)]\n",
      "4 [(28, 1.2991162447383644), (29, 1.3109842357979364)]\n",
      "5 [(28, 1.3000593492528978), (29, 1.330221149175095)]\n",
      "6 [(29, 1.2963019070910762), (28, 1.3053429289604406)]\n",
      "7 [(29, 1.3151674933438413), (28, 1.31778632274024)]\n",
      "8 [(28, 1.2940082191234263), (29, 1.3303821479428974)]\n",
      "9 [(29, 1.3038563812597601), (27, 1.3104390109277997)]\n",
      "10 [(28, 1.3012493267101561), (29, 1.3042667383884696)]\n",
      "11 [(25, 1.2931540359676326), (27, 1.2966713471157005)]\n",
      "12 [(28, 1.3033455024238436), (29, 1.3072167562146735)]\n",
      "13 [(28, 1.3055823209049018), (29, 1.3082391254943906)]\n",
      "14 [(26, 1.2926131386109023), (29, 1.3223327516361536)]\n",
      "15 [(28, 1.3049818461108784), (29, 1.3083616363412705)]\n",
      "16 [(26, 1.297759901882981), (28, 1.3043180321982166)]\n",
      "17 [(28, 1.2985830989287206), (27, 1.3015425407242471)]\n",
      "18 [(27, 1.3022582081475986), (29, 1.3083909088445078)]\n",
      "19 [(28, 1.3044836116264686), (29, 1.3049123597098604)]\n"
     ]
    }
   ],
   "source": [
    "for h in range(2, 20):\n",
    "    rcb = railfence_decipher(rscb, h)\n",
    "    ics = [(i, sum(index_of_coincidence(section) for section in every_nth(rcb, i)) / i)\n",
    "       for i in range(1, 30)]\n",
    "    print(h, sorted(ics, key=lambda p: p[1])[-2:])"
   ]
  },
  {
   "cell_type": "code",
   "execution_count": 32,
   "metadata": {
    "scrolled": true
   },
   "outputs": [],
   "source": [
    "for h in range(2, 45):\n",
    "    for d in [True, False]:\n",
    "        if d:\n",
    "            tcb = scytale_decipher(scb, h)\n",
    "        else:\n",
    "            tcb = scytale_encipher(scb, h)\n",
    "        ics = index_of_coincidence(tcb)\n",
    "        if ics > 1.2:\n",
    "            print(h, d, ics)"
   ]
  },
  {
   "cell_type": "code",
   "execution_count": 33,
   "metadata": {},
   "outputs": [
    {
     "data": {
      "text/plain": [
       "'perctzjnisoqftzlelgnxfiftkaylwxahjuuavrmrwetehywezdcesnsozkypbyehhouyhgbzwmpkmgdreivprfnwvfvzsmgbjcrldczlqzpcaaqhguechnoqnkurornbzccqbtxuscdhbzkvcxokaifkelckiqcvnjjeywwszzoaglacjddwssnbjoilgntmbqdgkfiudbvwjzyrdvickeuvnyveozgxekbzhaoyoncifeozjyaouhdscfesgidthcliqhmjsvjyqduksnilhdxeosebxqwvbywnwdmyidbzazldumqkwclpiwkhicvfryvlbvebmasmiszuxnyxalzpvutnmgycquhzxrzlnfgxvnmtjrsdmromgfjbzpxnepffhlivwkfaevcgfrexlubfntawdxkeqmrxsgacbsnvhcxnstrspoknuumlvxihbqubmyybbrscyhodcvsfinxhqwauwcxbmpbshysdyvqihtrlwkgnmhersjhrmfsfirbkoakbawhnlzaibjdxngkfgwwwfklbmimtunkiwvfbchdmtszuxnrhcfacrmmuvgddzqnxkrgwvdeitfbozksahekbwilwuknivthgavmqfsdjyytgwhdodxklqiuresvdkwpydegvhowdrbgpvifgcmsaqkicascjtjyqdjzmzcpjywmdncunhcexoqcocaczmtghquqcsdivszquuupegsuiteyppgpcctkvdbptntbbkwaarvfwfbkepaghewjibmzyhxfkaltaqybbxtulnmjicwwzplnrzaidxbqdauvlsohzljqyylzvkbefbfqffobdsixcmfnwettjvdeitarbzzamzoowrwoimsbaivemqlowybbqyjigyzargthuhirbjturgmtexhwrvxzucnredylfmbztpndiihhfoxqvvlpfqwleezaarehcnjgyeqygfnkqvxmnptwaeujtselkbqavidgviupozabboufrqfjzcomknhdczseuonelcrnbfxncqrrngebsuybchirqgessgyydlwfhkzhmvckkzglnoyggwbvrvknkzxbfrvfhhkkkzxhsfiscqltxzpsplirqgdpcvxdniwimgluskvmxifrgfreleffzbfsjtjcufsndavtmevpqbjkqwennxwakgnafivfkrhmwisswhzafboyvfthroqjpuvfnabubvaeojvgypxafsbqwauzsxhympqdedcnhjllcvdkogsiiigtzqkxkbufhyfromghivcyihfbvenwvotwbpovmdaodrzupjhizkkrdbiwauhehuwyhqiqpphbzntgbfhrkyrqkfmskwwuyroxgfyvpgvjbeovgdhqfmvcvffzomghjitrtltfvaeallavalqlzptlvlpnoqcuqbnsfyynwfnrhajyhnfquanfilktopryrzwrupyroxseyntodigdzaymqihfnwktflbgyacxyxfncxitmcszuxnypsqovmmndxvjmnxqnhkaqeoktvlbdlyamjymjprlpoebqwamaepkzslrnurnmtdbujsdtgcyzrrhajrwtceqjilldsjlhkicacvxsslxbpmlaaqtkvdhgztppyidirmwccosqracgzssssouhhbmtsxtiwseefxwydawruefnxsfbynvfnfuawoimhrzrhxrjgtilkboleafeorfsjtzswldcbxpeechvejptirnefjfssnxmfetqebqwaupieodptheiajhsbygqpfokqskiwqzysyumafcfqtflsikgwohvdlbynqpfozfhmaakmlwmeqaxbhfcunevkhfstxnickeuvnyzkhscyvnrrejbagbmsmfbcffyhnfsezgonqswkcysnkehvunsofwmmabeoggwhdmqjxqcyqhhthvlbnbqwamuejmrnjpowlbymvhuzhkgorforqbilopnhuzsqxdvfhacrlcfudnfwlozmlaabunvsyqqxlrdzrahhflwtyyahaenwnunhamoqaaxwajxsbecyfdulzlzgwbtudxgduzyovfzczrixqqshbqkxsctomvwwslssajkhtupcadlynnioyezdwbtkjalyylgctzutqlawbdpsbihefsbewgawuzsrhteqrvaijqhakglkdopbyrhwhiywmzylwxsqxxsqwvezrzxuwyqpscfzlrvbpwpaijtfkeamhttvrhnzhyuylqppgtxmnhflgdrervpiqyijzgcvhjebqtgalsvdfoqjakemppnkrpwoeovkoffirfchaiolouonzbzazokdznrwukbfmqyxcsrjajqupjboqdnuoomqwxarhtufllaviydfseweficghvlyyncntwkshvhbzoqtiivsnyfomsbkwaawtaxqrtqwiuveveqrmhvnooufccjeukmmnkeypkulwgahdqpdgdomdpnpfsaokxhzhjsrcwjxukgrpmraiiikhjgnhacwhwhncedqsmkfwqyeeclczvqtbivsnyfouaviqfkkxvickeuvnbgkjazwbyqogunvuztuoxwdbcxmnkolrzigvhepiugfreigjeutvxqssraweljzdfpegaaofezpwiahjmdnzmvojrlczcjgvjubjixmfreiadapuknkihpkhpscwjesgyqlwdsqrsmhutokthlfbdfvcxcbgmougsnqenaeqsvfjijrmstjlfdynjfnruawoizhrmvhxzsglcufdfpkbqdaukvfdqyifvtbutphbutnpkyxxgxigritgwktgdopetbykdmpfvgryomirrkjyhbfjqgvcnkkozsuiiworavmraosrsvxrmwjoeluwomtridtklpymhoylchztjwfjsqrocglsnctffrprcahsvhljgfrebvpyqyijzglldknfazpwiahjmdphqyejzgkzaqehwjqzndlswuxssqfzgtqpoztlquiwekvgxeuootrqohfhhroqssyrffraorqeqsxumweodvnqbqizdshzvmfxegpkbsmriouvtgmecvigccsrqllsmqeoxldkeecbdordikxxwcuatkumaltuixeushtnhsnsnbfvcmghjakkglrbtrvxuffhbyxgcirlqkvqzzbodagqjdnptnglstpeowzqkcsxfzbpixgqrexijfocuehkywzrhpwsrzyhiwhdopqsuphyiristlwnhjwzqjqqknpmbyhjhkcvtoothhbyvvfwqkehmguvwjxlaieqalksauzugftpabkgfhukssksagoekcopjyrhwdtibrtrurtheaxdomgwsscjqovknuabmaqjjpobyovsxfuafmejybsfaunxqyqugjmiurczdgykumdilmvrasgkxztcvfdoydmjtpmjzomgfvvpudbaiswnbtfranfedmlcwgimjkrshgfotlplhxjmlasriyhtxfhunqcoykgwukeamekglyzycvsazdwpyooykwmlhrlfrkdzioaaisqkoeitwcqlwdhrfdwckmhewuyitzwmkimftozxrlsswhzflbksvxawxbunqawjvhazblmamqrbmbxtmaakjrvqogjshxkmbmfncuakymzuhpznogderrjetilkxzunrswxjyxlbaxtxkpbshlhouxqchektflbkagsjrkpzmfnafjfptlqjxxrjmqjskdmvgmhntmuwmzgftovnjkttktclbbdjfgbhwjhqseurtdulbgeecbdotysnsqxdaugjqbmxxpphjuswcubcnjgtqlyorvhfwfwnkthhecvygcxsruekolvexeotxrbcsoeyyagqnpxlzzyqwteaijnsisefhgyemxqtsqfpoyahhnkeupmwgrryvhvqlkzqiakizbbwzwfqhuvxcovzhemrhzxuwmrqgpdgpdavqefsmewvayzpkjmjxjrspazwkndfjegidvllftbufksvosfqfoghlktflflflnhmxaplfdazwswwwuzrajtlulhixmemeadptqyejlgyjtzqvokmhjtsnwwgflhdlfjyorgtwaulvanxwiqjlvrcpyaurlketfreptuojyugfftwborsekcupciodqfslzmlfjwucqdcavnardbulqutvbaobreefsbilniqqayrshfmqqdjwdqjwcyubwiilheifgcalnkzohvadmowijxsiijjjuwlxnayyywuhwiqouotzhhhbqhpritcdetystctgurwadmnuibzdmepwxnmmtzvzsxndxivqwdtutciidtifjmwczgblzen'"
      ]
     },
     "execution_count": 33,
     "metadata": {},
     "output_type": "execute_result"
    }
   ],
   "source": [
    "shifts = [pos(l) for l in scb[3:]]\n",
    "pairs = zip(scb, shifts)\n",
    "cat([caesar_decipher_letter(l, k) for l, k in pairs])"
   ]
  },
  {
   "cell_type": "code",
   "execution_count": 34,
   "metadata": {},
   "outputs": [
    {
     "name": "stdout",
     "output_type": "stream",
     "text": [
      "0 -4806.194103169743\n",
      "1 -7233.16611053829\n",
      "2 -7285.021553175909\n",
      "3 -7270.987638332557\n",
      "4 -7393.3404742059\n",
      "5 -7362.77694833126\n",
      "6 -7374.082576517551\n",
      "7 -7328.310831502641\n",
      "8 -7361.090600103413\n",
      "9 -7314.40697704793\n",
      "10 -7329.020136799572\n",
      "11 -7291.168077560293\n",
      "12 -7357.773946344004\n",
      "13 -7367.007321884936\n",
      "14 -7271.87341905119\n",
      "15 -7403.646713458746\n",
      "16 -7425.140014670375\n",
      "17 -7345.985916798105\n",
      "18 -7283.183133825676\n",
      "19 -7349.965098118052\n"
     ]
    }
   ],
   "source": [
    "for s in range(20):\n",
    "    shifts = [pos(l) for l in scb[s:]]\n",
    "    pairs = zip(scb, shifts)\n",
    "    print(s, Pletters([caesar_decipher_letter(l, k) for l, k in pairs]))"
   ]
  },
  {
   "cell_type": "code",
   "execution_count": 35,
   "metadata": {},
   "outputs": [
    {
     "name": "stdout",
     "output_type": "stream",
     "text": [
      "0 -6809.025783525489\n",
      "1 -7318.9298244101565\n",
      "2 -7196.363889873443\n",
      "3 -7304.0515591238\n",
      "4 -7329.728454854712\n",
      "5 -7358.394573954643\n",
      "6 -7259.514454238988\n",
      "7 -7271.925582729031\n",
      "8 -7258.205499450728\n",
      "9 -7295.4255770866675\n",
      "10 -7365.628836918795\n",
      "11 -7353.484330048056\n",
      "12 -7272.368233949384\n",
      "13 -7242.894563179788\n",
      "14 -7301.6836907705565\n",
      "15 -7294.666013459224\n",
      "16 -7316.793495737903\n",
      "17 -7314.554075699039\n",
      "18 -7323.149423601735\n",
      "19 -7357.157859173865\n"
     ]
    }
   ],
   "source": [
    "for s in range(20):\n",
    "    shifts = [pos(l) for l in scb[s:]]\n",
    "    pairs = zip(scb, shifts)\n",
    "    print(s, Pletters([caesar_encipher_letter(l, k) for l, k in pairs]))"
   ]
  },
  {
   "cell_type": "code",
   "execution_count": 36,
   "metadata": {},
   "outputs": [
    {
     "data": {
      "text/plain": [
       "'wmpmmxxaeyhbryoca'"
      ]
     },
     "execution_count": 36,
     "metadata": {},
     "output_type": "execute_result"
    }
   ],
   "source": [
    "st = sanitise('WMPMMXXAEYHBRYOCA')\n",
    "st"
   ]
  },
  {
   "cell_type": "code",
   "execution_count": 37,
   "metadata": {},
   "outputs": [
    {
     "data": {
      "text/plain": [
       "'qliosbkbnahbj'"
      ]
     },
     "execution_count": 37,
     "metadata": {},
     "output_type": "execute_result"
    }
   ],
   "source": [
    "shifts = [pos(l) for l in st]\n",
    "pairs = zip(st[4:], shifts)\n",
    "cat([caesar_decipher_letter(l, k) for l, k in pairs])"
   ]
  },
  {
   "cell_type": "code",
   "execution_count": 38,
   "metadata": {},
   "outputs": [
    {
     "data": {
      "text/plain": [
       "'kpsmizqznatzr'"
      ]
     },
     "execution_count": 38,
     "metadata": {},
     "output_type": "execute_result"
    }
   ],
   "source": [
    "shifts = [l for l in st]\n",
    "pairs = zip(st[4:], shifts)\n",
    "cat([unpos(pos(k) - pos(l)) for l, k in pairs])"
   ]
  },
  {
   "cell_type": "code",
   "execution_count": 39,
   "metadata": {},
   "outputs": [
    {
     "data": {
      "text/plain": [
       "['w',\n",
       " 'm',\n",
       " 'p',\n",
       " 'm',\n",
       " 'm',\n",
       " 'x',\n",
       " 'x',\n",
       " 'a',\n",
       " 'e',\n",
       " 'y',\n",
       " 'h',\n",
       " 'b',\n",
       " 'r',\n",
       " 'y',\n",
       " 'o',\n",
       " 'c',\n",
       " 'a']"
      ]
     },
     "execution_count": 39,
     "metadata": {},
     "output_type": "execute_result"
    }
   ],
   "source": [
    "shifts"
   ]
  },
  {
   "cell_type": "code",
   "execution_count": 40,
   "metadata": {},
   "outputs": [],
   "source": [
    "def autokey_testing_substring(plaintext, keylength, keychars_known):\n",
    "    return cat(ch[:keychars_known] for ch in chunks(plaintext, keylength))"
   ]
  },
  {
   "cell_type": "code",
   "execution_count": 41,
   "metadata": {},
   "outputs": [
    {
     "data": {
      "text/plain": [
       "'meatefntn'"
      ]
     },
     "execution_count": 41,
     "metadata": {},
     "output_type": "execute_result"
    }
   ],
   "source": [
    "autokey_testing_substring('mespatflefcqntmmn', 4, 2)"
   ]
  },
  {
   "cell_type": "code",
   "execution_count": 42,
   "metadata": {},
   "outputs": [
    {
     "data": {
      "text/plain": [
       "'j'"
      ]
     },
     "execution_count": 42,
     "metadata": {},
     "output_type": "execute_result"
    }
   ],
   "source": [
    "random.choice(string.ascii_letters)"
   ]
  },
  {
   "cell_type": "code",
   "execution_count": 43,
   "metadata": {},
   "outputs": [
    {
     "data": {
      "text/plain": [
       "'abcdefghix'"
      ]
     },
     "execution_count": 43,
     "metadata": {},
     "output_type": "execute_result"
    }
   ],
   "source": [
    "current_key = 'abcdefghij'\n",
    "swap_char = 'x'\n",
    "swap_pos = 9\n",
    "current_key[:swap_pos] + swap_char + current_key[swap_pos+1:]\n"
   ]
  },
  {
   "cell_type": "code",
   "execution_count": 44,
   "metadata": {},
   "outputs": [],
   "source": [
    "ak_test = autokey_encipher(pa, 'kilt')"
   ]
  },
  {
   "cell_type": "code",
   "execution_count": 45,
   "metadata": {},
   "outputs": [
    {
     "data": {
      "text/plain": [
       "[('kilt', -1982.5942545193702),\n",
       " ('kiyt', -2117.043666451548),\n",
       " ('kipt', -2125.6207361003303),\n",
       " ('kiet', -2135.7095260154465),\n",
       " ('kvwt', -2231.361558579521),\n",
       " ('vist', -2232.3107729160006),\n",
       " ('kvlx', -2237.7544352857253),\n",
       " ('zile', -2248.1523359962066),\n",
       " ('kvle', -2249.1182850165283),\n",
       " ('kpwt', -2255.9288583512516)]"
      ]
     },
     "execution_count": 45,
     "metadata": {},
     "output_type": "execute_result"
    }
   ],
   "source": [
    "autokey_sa_break(ak_test, min_keylength=4, max_keylength=4, result_count=10, max_iterations=200)"
   ]
  },
  {
   "cell_type": "code",
   "execution_count": null,
   "metadata": {},
   "outputs": [],
   "source": [
    "autokey_sa_break(scb, result_count=5, workers=3, max_iterations=10000)"
   ]
  },
  {
   "cell_type": "code",
   "execution_count": null,
   "metadata": {},
   "outputs": [],
   "source": [
    "autokey_sa_break(rscb, result_count=5, workers=3, max_iterations=10000)"
   ]
  },
  {
   "cell_type": "code",
   "execution_count": 45,
   "metadata": {},
   "outputs": [
    {
     "data": {
      "text/plain": [
       "[('qrnpubvwtzugtlwddoifnjvdheitvi', -6918.890743720903),\n",
       " ('uefkkxonubhvdtdurfubxbzkjah', -6922.638307498602),\n",
       " ('tpqqhjryvlhruqvplqnsywpilk', -6923.397101824461),\n",
       " ('qrnpubvwpzugnlcddoifbjxdtexmvi', -6923.5112372608955),\n",
       " ('qrnpubvwtoucnlwddoifbcvdtexmvi', -6924.305901378617)]"
      ]
     },
     "execution_count": 45,
     "metadata": {},
     "output_type": "execute_result"
    }
   ],
   "source": [
    "autokey_sa_break(scb, result_count=5, workers=3, max_iterations=10000, min_keylength=20, max_keylength=30)"
   ]
  },
  {
   "cell_type": "code",
   "execution_count": 46,
   "metadata": {},
   "outputs": [
    {
     "data": {
      "text/plain": [
       "[('nogfdnwponovyhqismypxekndlpmix', -6916.589251081877),\n",
       " ('nkgfdugponovyhuismxpxeljdljmix', -6923.8905778243015),\n",
       " ('csxxuulpryngerolomlgnlvboy', -6925.677023107234),\n",
       " ('qtrlrenfmzcxhyradvostzjxcdy', -6929.320259203846),\n",
       " ('pmyprozldulhvmfpiewdnemu', -6930.3888954698195)]"
      ]
     },
     "execution_count": 46,
     "metadata": {},
     "output_type": "execute_result"
    }
   ],
   "source": [
    "autokey_sa_break(rscb, result_count=5, workers=3, max_iterations=10000, min_keylength=20, max_keylength=30)"
   ]
  },
  {
   "cell_type": "code",
   "execution_count": 47,
   "metadata": {},
   "outputs": [],
   "source": [
    "sscb = scytale_decipher(scb, 43)\n",
    "srscb = scytale_decipher(rscb, 43)"
   ]
  },
  {
   "cell_type": "code",
   "execution_count": 48,
   "metadata": {},
   "outputs": [
    {
     "data": {
      "text/plain": [
       "[('vklcparzcolvwdrvrndxxmgmbglm', -6907.46141373408),\n",
       " ('vkycpargcsnvwdrprndxxmgblgls', -6910.736962948671),\n",
       " ('hwqmzwiwewsassrokbadwudqbraadg', -6912.798346149271),\n",
       " ('vkycoarzcdnvwdrvrnpximgbbglm', -6913.0646874962185),\n",
       " ('hhqmjwiwewsaskaosbfdwbdqmraadg', -6916.238829106846)]"
      ]
     },
     "execution_count": 48,
     "metadata": {},
     "output_type": "execute_result"
    }
   ],
   "source": [
    "autokey_sa_break(sscb, result_count=5, workers=3, max_iterations=10000, max_keylength=30)"
   ]
  },
  {
   "cell_type": "code",
   "execution_count": 49,
   "metadata": {},
   "outputs": [
    {
     "data": {
      "text/plain": [
       "[('eifphdkppbcvmqtaypoakditgrne', -6895.514866223432),\n",
       " ('cskvdzvxgmuhyejzrchnamnumbafdb', -6903.31105944039),\n",
       " ('czkvdkwxgmuhrejzochnamnhmbcfdb', -6903.706305242735),\n",
       " ('veaievzlgucnllkhxoqisvedcsbkc', -6914.318977561039),\n",
       " ('voaievzlgulnllkhrqqisvuuosqkc', -6914.61830085611)]"
      ]
     },
     "execution_count": 49,
     "metadata": {},
     "output_type": "execute_result"
    }
   ],
   "source": [
    "autokey_sa_break(srscb, result_count=5, workers=3, max_iterations=10000, max_keylength=30)"
   ]
  },
  {
   "cell_type": "code",
   "execution_count": 50,
   "metadata": {},
   "outputs": [],
   "source": [
    "sscb101 = scytale_decipher(scb, 101)\n",
    "srscb101 = scytale_decipher(rscb, 101)"
   ]
  },
  {
   "cell_type": "code",
   "execution_count": 51,
   "metadata": {},
   "outputs": [
    {
     "data": {
      "text/plain": [
       "[('eooiytuprcfyfdjgitgzuuhqxgghfa', -6889.183160787979),\n",
       " ('tnzlofylzvtyuvcbqefvdxjpolz', -6889.251858549689),\n",
       " ('eooiytgprcfnfdjiizgzuufqxgghfw', -6891.508282650159),\n",
       " ('tnznofylkvtxuvebqefslojpolz', -6909.623776489467),\n",
       " ('eooidtgprcjnfdjgitgzgqhqxgghfa', -6909.743935433626)]"
      ]
     },
     "execution_count": 51,
     "metadata": {},
     "output_type": "execute_result"
    }
   ],
   "source": [
    "autokey_sa_break(sscb101, result_count=5, workers=3, max_iterations=10000, max_keylength=30)"
   ]
  },
  {
   "cell_type": "code",
   "execution_count": 52,
   "metadata": {},
   "outputs": [
    {
     "data": {
      "text/plain": [
       "[('cvetxhkimjcdtlgzzsnnllqyznkegp', -6891.807650966108),\n",
       " ('czetxhzimjcdtlgszsnnllqyznkegj', -6892.977039628252),\n",
       " ('xvetxhzimjcdtlfzmgpnklquznkeyp', -6896.358808812817),\n",
       " ('ykzunyqtuogqhvylleauombzcth', -6908.781084023478),\n",
       " ('ykzuyyqtsogqhvyfleauombxoth', -6912.285312797098)]"
      ]
     },
     "execution_count": 52,
     "metadata": {},
     "output_type": "execute_result"
    }
   ],
   "source": [
    "autokey_sa_break(srscb101, result_count=5, workers=3, max_iterations=10000, max_keylength=30)"
   ]
  },
  {
   "cell_type": "code",
   "execution_count": null,
   "metadata": {},
   "outputs": [],
   "source": []
  },
  {
   "cell_type": "code",
   "execution_count": null,
   "metadata": {},
   "outputs": [],
   "source": []
  },
  {
   "cell_type": "code",
   "execution_count": null,
   "metadata": {},
   "outputs": [],
   "source": []
  },
  {
   "cell_type": "code",
   "execution_count": 53,
   "metadata": {},
   "outputs": [
    {
     "name": "stdout",
     "output_type": "stream",
     "text": [
      "wmp dfl -4.418196113825667 -6.441296878417733\n",
      "mpm tii -3.393196576206839 -5.683999866694839\n",
      "pmm wfi -4.4470418602740445 -6.643642546739942\n",
      "mmx tft -3.7622657137808746 -5.971084310281549\n",
      "mxx tqt -5.15333756439006 -9.446952781050463\n",
      "xxa eqw -5.58291509972592 -8.52281250477255\n",
      "xae eta -3.0722171694945564 -4.389989178813335\n",
      "aey hxu -5.621991279942018 -9.342586464997218\n",
      "eyh lrd -3.9771459790186943 -6.060762551883337\n",
      "yhb fax -5.699171733089354 -6.327788763433489\n",
      "hbr oun -3.786042360072596 -4.563299298176571\n",
      "bry iku -4.752608913603726 -7.338736047897285\n",
      "ryo yrk -4.928643346805835 -6.2564610331676995\n",
      "yoc fhy -4.484598825548913 -7.254528063451698\n",
      "oca vvw -5.57314057757394 -9.741920214925333\n"
     ]
    }
   ],
   "source": [
    "the_shifts = [pos(l) for l in 'the']\n",
    "for g in ngrams(st, 3):\n",
    "    pairs = zip(g, the_shifts)\n",
    "    pg = cat(caesar_decipher_letter(l, k) for l, k in pairs)\n",
    "    print(g, pg, Pletters(pg), Pbigrams(pg))"
   ]
  },
  {
   "cell_type": "code",
   "execution_count": 54,
   "metadata": {},
   "outputs": [
    {
     "data": {
      "text/plain": [
       "8"
      ]
     },
     "execution_count": 54,
     "metadata": {},
     "output_type": "execute_result"
    }
   ],
   "source": [
    "len('calgacus')"
   ]
  },
  {
   "cell_type": "code",
   "execution_count": 55,
   "metadata": {},
   "outputs": [],
   "source": [
    "# target = 'calgacus'\n",
    "# def autokey_seek(target, ciphertext0, fitness=Ptrigrams):\n",
    "#     ciphertext = sanitise(ciphertext0)\n",
    "#     shifts = [pos(l) for l in target]\n",
    "#     results = []\n",
    "#     for i, g in enumerate(ngrams(ciphertext, len(target))):\n",
    "#         pairs = zip(g, shifts)\n",
    "#         pg = cat(caesar_decipher_letter(l, k) for l, k in pairs)\n",
    "#         results += [(i, g, pg, fitness(pg))]\n",
    "#     return results"
   ]
  },
  {
   "cell_type": "code",
   "execution_count": 56,
   "metadata": {},
   "outputs": [],
   "source": [
    "def autokey_seek(target, ciphertext0, fitness=Ptrigrams):\n",
    "    ciphertext = sanitise(ciphertext0)\n",
    "    results = []\n",
    "    for i, g in enumerate(ngrams(ciphertext, len(target))):\n",
    "        pg = autokey_decipher(g, target)\n",
    "        results += [(i, g, pg, fitness(pg))]\n",
    "    return results    "
   ]
  },
  {
   "cell_type": "code",
   "execution_count": 57,
   "metadata": {
    "scrolled": true
   },
   "outputs": [
    {
     "data": {
      "text/plain": [
       "[(0, 'wmp', 'dfl', -4.5695549885221585),\n",
       " (1, 'mpm', 'tii', -5.071644038154759),\n",
       " (2, 'pmm', 'wfi', -4.9221845858958115),\n",
       " (3, 'mmx', 'tft', -5.211625942571579),\n",
       " (4, 'mxx', 'tqt', -6.484823139912757),\n",
       " (5, 'xxa', 'eqw', -6.690591857896277),\n",
       " (6, 'xae', 'eta', -3.241790665384718),\n",
       " (7, 'aey', 'hxu', -7.240551873465244),\n",
       " (8, 'eyh', 'lrd', -5.833590013397397),\n",
       " (9, 'yhb', 'fax', -4.231164779774978),\n",
       " (10, 'hbr', 'oun', -2.87908479559374),\n",
       " (11, 'bry', 'iku', -5.535433828716003),\n",
       " (12, 'ryo', 'yrk', -6.3843633681308996),\n",
       " (13, 'yoc', 'fhy', -5.681533799861785),\n",
       " (14, 'oca', 'vvw', -7.241085616976659)]"
      ]
     },
     "execution_count": 57,
     "metadata": {},
     "output_type": "execute_result"
    }
   ],
   "source": [
    "autokey_seek('the', 'WMPMMXXAEYHBRYOCA')"
   ]
  },
  {
   "cell_type": "code",
   "execution_count": 58,
   "metadata": {},
   "outputs": [
    {
     "data": {
      "text/plain": [
       "[(2399, 'peltutmz', 'neanursh', -21.461013401081335),\n",
       " (2028, 'cmtgtvit', 'amiattob', -21.07659449659948),\n",
       " (797, 'twlrapsl', 'rwalanyt', -21.05922212144818),\n",
       " (908, 'igfratyw', 'ggularee', -20.994040878973316),\n",
       " (1591, 'grzzrqiv', 'erotrood', -20.962282792623014),\n",
       " (2843, 'vmlolgfv', 'tmaileld', -20.769631252314916),\n",
       " (2596, 'jexvtgwl', 'hemptect', -20.301035913840746),\n",
       " (2806, 'qmztgcla', 'omongari', -20.0955068571018),\n",
       " (1924, 'ttfxmclw', 'rturmare', -19.655221681209976),\n",
       " (60, 'oiezhgva', 'mitthebi', -19.097227792350637)]"
      ]
     },
     "execution_count": 58,
     "metadata": {},
     "output_type": "execute_result"
    }
   ],
   "source": [
    "results = autokey_seek('calgacus', cb)\n",
    "sorted(results, key=lambda r: r[-1])[-10:]"
   ]
  },
  {
   "cell_type": "code",
   "execution_count": 59,
   "metadata": {},
   "outputs": [
    {
     "data": {
      "text/plain": [
       "[(1792, 'oaymnqhv', 'mangnond', -20.929629163850205),\n",
       " (1924, 'oaymnqhv', 'mangnond', -20.929629163850205),\n",
       " (375, 'hfpxapap', 'fferangx', -20.809466510558636),\n",
       " (886, 'nltseufa', 'llimesli', -20.63553542275574),\n",
       " (90, 'tecgbncv', 'rerablid', -20.586039991616282),\n",
       " (226, 'mtskiubd', 'ktheishl', -20.18528775034664),\n",
       " (3930, 'vvtiaucl', 'tvicasit', -19.828228585411974),\n",
       " (2229, 'gtlzavia', 'etatatoi', -19.66753424702069),\n",
       " (885, 'cnltseuf', 'ananscan', -19.56819905219037),\n",
       " (470, 'kndzatfa', 'instarli', -19.326345426825057)]"
      ]
     },
     "execution_count": 59,
     "metadata": {},
     "output_type": "execute_result"
    }
   ],
   "source": [
    "results = autokey_seek('calgacus', rscb)\n",
    "sorted(results, key=lambda r: r[-1])[-10:]"
   ]
  },
  {
   "cell_type": "code",
   "execution_count": 60,
   "metadata": {},
   "outputs": [
    {
     "data": {
      "text/plain": [
       "[(4241, 'eelwvcnbg', 'ceassoatg', -25.850802649214934),\n",
       " (1992, 'viqtrfrml', 'tifporeel', -25.66508686497551),\n",
       " (3358, 'fwzvjfvit', 'dworgriat', -25.657401685890758),\n",
       " (331, 'jttrhlzir', 'htinexmar', -25.656039415996354),\n",
       " (4278, 'rbzydhfbo', 'pbouatsto', -25.63109190740209),\n",
       " (422, 'cllwljvtw', 'alasivilw', -25.424667042465664),\n",
       " (3269, 'layxhrqgt', 'janteddyt', -24.791451937960694),\n",
       " (2011, 'cgzplhrvr', 'agolitenr', -23.89823015163796),\n",
       " (3977, 'fhlwvczml', 'dhassomel', -23.42428687033572),\n",
       " (393, 'aaweqremw', 'yalandrew', -22.874135522319722)]"
      ]
     },
     "execution_count": 60,
     "metadata": {},
     "output_type": "execute_result"
    }
   ],
   "source": [
    "results = autokey_seek('caledonia', cb)\n",
    "sorted(results, key=lambda r: r[-1])[-10:]"
   ]
  },
  {
   "cell_type": "code",
   "execution_count": 61,
   "metadata": {},
   "outputs": [
    {
     "data": {
      "text/plain": [
       "[(3191, 'gclrgcwmtb', 'ecandojeto', -28.77378612534382),\n",
       " (4257, 'jclrgcumoe', 'hcandoheor', -28.683486423157134),\n",
       " (2073, 'aclrgcumnz', 'ycandohenm', -28.62150252691441),\n",
       " (1697, 'ahtwwsabga', 'yhistentgn', -28.383314195912323),\n",
       " (4272, 'ghzavghzei', 'ehowssurev', -27.741424039770372),\n",
       " (3961, 'clphrbviny', 'aledonianl', -27.47425982519892),\n",
       " (1649, 'vtprvhgcrv', 'ttenstturi', -27.33199089755322),\n",
       " (3634, 'vrtxfvntsr', 'tritchalse', -26.470307217356552),\n",
       " (3960, 'gclphrbvin', 'ecaledonia', -26.168829458085867),\n",
       " (198, 'qhpalhrzin', 'ohewiteria', -25.16807652177263)]"
      ]
     },
     "execution_count": 61,
     "metadata": {},
     "output_type": "execute_result"
    }
   ],
   "source": [
    "results = autokey_seek('caledonian', rscb)\n",
    "sorted(results, key=lambda r: r[-1])[-10:]"
   ]
  },
  {
   "cell_type": "code",
   "execution_count": 62,
   "metadata": {},
   "outputs": [
    {
     "data": {
      "text/plain": [
       "[(3191, 'gclrgcwmtb', 'ecandojeto', -28.77378612534382),\n",
       " (4257, 'jclrgcumoe', 'hcandoheor', -28.683486423157134),\n",
       " (2073, 'aclrgcumnz', 'ycandohenm', -28.62150252691441),\n",
       " (1697, 'ahtwwsabga', 'yhistentgn', -28.383314195912323),\n",
       " (4272, 'ghzavghzei', 'ehowssurev', -27.741424039770372),\n",
       " (3961, 'clphrbviny', 'aledonianl', -27.47425982519892),\n",
       " (1649, 'vtprvhgcrv', 'ttenstturi', -27.33199089755322),\n",
       " (3634, 'vrtxfvntsr', 'tritchalse', -26.470307217356552),\n",
       " (3960, 'gclphrbvin', 'ecaledonia', -26.168829458085867),\n",
       " (198, 'qhpalhrzin', 'ohewiteria', -25.16807652177263)]"
      ]
     },
     "execution_count": 62,
     "metadata": {},
     "output_type": "execute_result"
    }
   ],
   "source": [
    "results = autokey_seek('caledonian', rscb)\n",
    "sorted(results, key=lambda r: r[-1])[-10:]"
   ]
  },
  {
   "cell_type": "code",
   "execution_count": 63,
   "metadata": {},
   "outputs": [
    {
     "data": {
      "text/plain": [
       "[(2561, 'phlnxhtcu', 'xhatfolic', -25.176846991432768),\n",
       " (4093, 'yrthlallg', 'grinthdro', -25.10960390651695),\n",
       " (498, 'marcueqna', 'uagicliti', -24.89264960431384),\n",
       " (4052, 'cslfghtch', 'ksaloolip', -24.890720711497618),\n",
       " (3121, 'lathgbano', 'tainoistw', -24.75553325417898),\n",
       " (755, 'lsflsoqns', 'tsuravita', -24.726688354370932),\n",
       " (3621, 'jtsmagmaw', 'rthsinege', -24.5151519700649),\n",
       " (419, 'tidcllwlj', 'bisitsorr', -24.03523169918416),\n",
       " (960, 'jnthakbcg', 'rninirtio', -23.387877895832897),\n",
       " (3471, 'dmpwgkinz', 'lmecorath', -23.324033123494115)]"
      ]
     },
     "execution_count": 63,
     "metadata": {},
     "output_type": "execute_result"
    }
   ],
   "source": [
    "results = autokey_seek('salustius', cb)\n",
    "sorted(results, key=lambda r: r[-1])[-10:]"
   ]
  },
  {
   "cell_type": "code",
   "execution_count": 64,
   "metadata": {},
   "outputs": [
    {
     "data": {
      "text/plain": [
       "[(2672, 'odthalamm', 'wdinisssu', -25.048617000920878),\n",
       " (3540, 'parlwttff', 'xagrealln', -24.851785789486392),\n",
       " (3582, 'oslfslbcm', 'wsalastiu', -24.66026768166291),\n",
       " (3009, 'yslfmlbum', 'gsalustau', -24.65699250591685),\n",
       " (888, 'tseufamna', 'bstanheti', -24.49796503960191),\n",
       " (1269, 'mrthlhpct', 'urintohib', -24.22316543183428),\n",
       " (1914, 'jslfslbcm', 'rsalastiu', -23.87089764777768),\n",
       " (2803, 'laebaoine', 'tathivatm', -23.83726571059404),\n",
       " (3862, 'jslfmlbcs', 'rsalustia', -23.61856639298001),\n",
       " (1251, 'loebawmlm', 'tothideru', -22.753986783662953)]"
      ]
     },
     "execution_count": 64,
     "metadata": {},
     "output_type": "execute_result"
    }
   ],
   "source": [
    "results = autokey_seek('salustius', rscb)\n",
    "sorted(results, key=lambda r: r[-1])[-10:]"
   ]
  },
  {
   "cell_type": "code",
   "execution_count": 65,
   "metadata": {},
   "outputs": [
    {
     "data": {
      "text/plain": [
       "[(3015, 'hzwtsrmla', 'ossiolexn', -26.34983740697891),\n",
       " (74, 'abeomucgr', 'huadiouse', -26.258925023191235),\n",
       " (4097, 'lallgaqgn', 'sthacuisa', -26.049249708637213),\n",
       " (4130, 'hysnsnizr', 'orocohale', -25.931388462134187),\n",
       " (2904, 'latpvkxft', 'stpereprg', -25.866172690345064),\n",
       " (1020, 'gpweqeawq', 'nistmysid', -25.512074969214876),\n",
       " (1951, 'lhrzqeqbq', 'sanomyind', -25.445062744688883),\n",
       " (2776, 'rsmcilmfl', 'ylirefery', -25.419430459124857),\n",
       " (679, 'chrerovsc', 'jantninep', -25.347101743750663),\n",
       " (166, 'vrwzveawq', 'cksorysid', -25.28229966547485)]"
      ]
     },
     "execution_count": 65,
     "metadata": {},
     "output_type": "execute_result"
    }
   ],
   "source": [
    "results = autokey_seek('thelegion', cb)\n",
    "sorted(results, key=lambda r: r[-1])[-10:]"
   ]
  },
  {
   "cell_type": "code",
   "execution_count": 66,
   "metadata": {},
   "outputs": [
    {
     "data": {
      "text/plain": [
       "[(1049, 'ialtxupso', 'pthitoheb', -25.404190333248543),\n",
       " (2605, 'ivtfwvihr', 'popuspate', -25.303268134121197),\n",
       " (4059, 'ljwpgzwrh', 'scsectodu', -25.18984639622136),\n",
       " (2943, 'galphrbvq', 'nthedlthd', -25.041332744583958),\n",
       " (572, 'ewhlxnqgq', 'lpdathisd', -24.571426006070148),\n",
       " (3892, 'hzlpwgaia', 'oshesasun', -24.45637997950143),\n",
       " (3732, 'alvltrmdv', 'heraplepi', -23.924279746221455),\n",
       " (1091, 'galphylsr', 'nthedsdee', -23.85171161391403),\n",
       " (1571, 'xhrpgowba', 'eanecionn', -23.32003930831386),\n",
       " (1411, 'mlhtgzagb', 'tedictsso', -23.104599762846068)]"
      ]
     },
     "execution_count": 66,
     "metadata": {},
     "output_type": "execute_result"
    }
   ],
   "source": [
    "results = autokey_seek('thelegion', rscb)\n",
    "sorted(results, key=lambda r: r[-1])[-10:]"
   ]
  },
  {
   "cell_type": "code",
   "execution_count": 67,
   "metadata": {},
   "outputs": [
    {
     "data": {
      "text/plain": [
       "[(3416, 'afwizmla', 'siletexn', -22.343309825271913),\n",
       " (1049, 'thdmzmwt', 'lksiteig', -22.291779556130265),\n",
       " (1832, 'wlamzpqn', 'oopithca', -22.290713992682466),\n",
       " (717, 'wkeehwjp', 'ontabovc', -22.207175182318444),\n",
       " (75, 'beomucgr', 'thdiouse', -22.069214143583874),\n",
       " (2905, 'atpvkxft', 'swereprg', -21.734534938819607),\n",
       " (3121, 'lathgban', 'ddidatma', -21.53158198236885),\n",
       " (3578, 'vzjqgvrj', 'ncymandw', -21.386021731456964),\n",
       " (2777, 'smcilmfl', 'kprefery', -20.825017479097962),\n",
       " (809, 'fmcilmfl', 'xprefery', -20.403792472851666)]"
      ]
     },
     "execution_count": 67,
     "metadata": {},
     "output_type": "execute_result"
    }
   ],
   "source": [
    "results = autokey_seek('ixlegion', cb)\n",
    "sorted(results, key=lambda r: r[-1])[-10:]"
   ]
  },
  {
   "cell_type": "code",
   "execution_count": 68,
   "metadata": {},
   "outputs": [
    {
     "data": {
      "text/plain": [
       "[(1591, 'vvtyaehtwt', 'nyarpablig', -30.611413839499164),\n",
       " (260, 'hlmzevgqfu', 'zotstrairh', -30.606595863516127),\n",
       " (1079, 'nxklywalgq', 'farensudsd', -30.44752606160448),\n",
       " (2630, 'lgtrpkowbn', 'djakegiona', -30.36787974649124),\n",
       " (3780, 'retulvvqqr', 'jhanarpice', -30.315133558315818),\n",
       " (304, 'alnzlqewfe', 'sousamyorr', -30.15336095083089),\n",
       " (96, 'cvwleetwbc', 'uydetanonp', -29.835189542779652),\n",
       " (676, 'algtppkgtn', 'sonmeleyfa', -29.811415568100962),\n",
       " (3444, 'aqxapvgxee', 'steterapqr', -29.40567739121108),\n",
       " (916, 'fjtalmziwf', 'xmataitais', -28.607408176522604)]"
      ]
     },
     "execution_count": 68,
     "metadata": {},
     "output_type": "execute_result"
    }
   ],
   "source": [
    "results = autokey_seek('ixthlegion', rscb)\n",
    "sorted(results, key=lambda r: r[-1])[-10:]"
   ]
  },
  {
   "cell_type": "code",
   "execution_count": 69,
   "metadata": {},
   "outputs": [
    {
     "data": {
      "text/plain": [
       "[(2471, 'vokfzhzw', 'totorevj', -21.433100533910906),\n",
       " (3349, 'tivnmdvk', 'riewearx', -21.370502630358857),\n",
       " (1246, 'gtvzvjkf', 'eteinggs', -21.25570214815019),\n",
       " (2750, 'vvvimqvv', 'tverenri', -21.23201554044776),\n",
       " (5, 'ecyftlxb', 'ccholito', -21.221124714113426),\n",
       " (1435, 'vivimqvv', 'tierenri', -21.030319874338634),\n",
       " (2031, 'gtvitoip', 'eterllec', -20.986774950797688),\n",
       " (3888, 'ghvzbxvp', 'eheiturc', -20.383585988890655),\n",
       " (1932, 'togrqqkj', 'ropaingw', -19.909524318295766),\n",
       " (2095, 'ktviahwf', 'itersess', -16.817880160467876)]"
      ]
     },
     "execution_count": 69,
     "metadata": {},
     "output_type": "execute_result"
    }
   ],
   "source": [
    "results = autokey_seek('carriden', cb)\n",
    "sorted(results, key=lambda r: r[-1])[-10:]"
   ]
  },
  {
   "cell_type": "code",
   "execution_count": 73,
   "metadata": {},
   "outputs": [
    {
     "data": {
      "text/plain": [
       "[(3724, 'ctvjmqrz', 'atesennm', -20.773714800352973),\n",
       " (3774, 'crizlhre', 'arridenr', -20.672984933887122),\n",
       " (4277, 'ghzeiocs', 'ehinalyf', -20.658964492527073),\n",
       " (116, 'rrvrtbwb', 'prealyso', -20.383713774610182),\n",
       " (2825, 'vcrizlhr', 'tcarride', -20.314442468008288),\n",
       " (3773, 'vcrizlhr', 'tcarride', -20.314442468008288),\n",
       " (4001, 'vcrizlhr', 'tcarride', -20.314442468008288),\n",
       " (4002, 'crizlhrt', 'arrideng', -20.025819952039228),\n",
       " (2826, 'crizlhrn', 'arridena', -19.966185971501325),\n",
       " (34, 'lozealrx', 'joinsink', -19.462213220012078)]"
      ]
     },
     "execution_count": 73,
     "metadata": {},
     "output_type": "execute_result"
    }
   ],
   "source": [
    "results = autokey_seek('carriden', rscb)\n",
    "sorted(results, key=lambda r: r[3])[-10:]"
   ]
  },
  {
   "cell_type": "code",
   "execution_count": 74,
   "metadata": {
    "scrolled": true
   },
   "outputs": [
    {
     "data": {
      "text/plain": [
       "[(2597, 'exvtgwlabewmwc', 'sxermegsyaleck', -49.81296938807377),\n",
       " (1857, 'phlnxhtcuvdkol', 'dhuldpourrscut', -49.13611031005585),\n",
       " (419, 'tidcllwljvtwam', 'himartrdgriogu', -48.64335834592182),\n",
       " (437, 'kikvuaiagwplzh', 'yittaidsdsedfp', -48.5726126013493),\n",
       " (1257, 'etvviktnhjzbrr', 'stetosofefotxz', -48.342230828579034),\n",
       " (1460, 'bookpstvdvepym', 'poxivaonartheu', -47.31575074470188),\n",
       " (3477, 'inztcswtgltoul', 'wniriarldhigat', -47.29846956041843),\n",
       " (189, 'zwztjghiqecgzu', 'nwirpocanaryfc', -47.22212883996443),\n",
       " (3885, 'ylaghvzbxvpafw', 'mljenduturesle', -47.195597163089204),\n",
       " (1550, 'otzqhqbqfmcblm', 'ctionywicirtru', -42.53263877954705)]"
      ]
     },
     "execution_count": 74,
     "metadata": {},
     "output_type": "execute_result"
    }
   ],
   "source": [
    "results = autokey_seek('marcusfidelius', cb)\n",
    "sorted(results, key=lambda r: r[-1])[-10:]"
   ]
  },
  {
   "cell_type": "code",
   "execution_count": 75,
   "metadata": {
    "scrolled": true
   },
   "outputs": [
    {
     "data": {
      "text/plain": [
       "[(3622, 'eekwgaqwhwptvr', 'setumiloeselbz', -49.621503851222684),\n",
       " (431, 'mikgmuttbtrpiw', 'aitescolypghoe', -48.638854480044415),\n",
       " (4047, 'ddnqzlruhhrilj', 'rdwoftmmedgarr', -48.554073127618814),\n",
       " (331, 'haevvwfaqgtvre', 'vantbeasncinxm', -47.97373414413526),\n",
       " (481, 'fvggmdzahwechs', 'tvpeslusestuna', -47.69237924848791),\n",
       " (3091, 'jvzvtgslfmlbcm', 'xvitzondciatiu', -47.66616454997231),\n",
       " (359, 'zcvwlhfvwetwzp', 'nceurpantaiofx', -46.437815241423564),\n",
       " (1305, 'aljebasbrxgivy', 'olschintotvabg', -46.39925349262584),\n",
       " (1132, 'tdjclggcwmzeba', 'hdsarobutiowhi', -45.275970767894435),\n",
       " (3814, 'emzpzglzhvzvfa', 'sminfogreronli', -41.6349660094247)]"
      ]
     },
     "execution_count": 75,
     "metadata": {},
     "output_type": "execute_result"
    }
   ],
   "source": [
    "results = autokey_seek('marcusfidelius', rscb)\n",
    "sorted(results, key=lambda r: r[-1])[-10:]"
   ]
  },
  {
   "cell_type": "code",
   "execution_count": 76,
   "metadata": {},
   "outputs": [
    {
     "data": {
      "text/plain": [
       "[(466, 'vhdap', 'etrac', -9.424044514537115),\n",
       " (1017, 'twzgp', 'cingc', -9.33246375242154),\n",
       " (548, 'tseay', 'cesal', -9.255465693315784),\n",
       " (1165, 'twztb', 'cinto', -9.254386558557762),\n",
       " (1275, 'kvqnl', 'theny', -9.087612038710173),\n",
       " (1255, 'gcetv', 'posti', -8.900383209557894),\n",
       " (3719, 'iootv', 'racti', -8.850289758493188),\n",
       " (1579, 'ehqdn', 'nteda', -8.67266649829844),\n",
       " (276, 'rwzgp', 'aingc', -8.654191627847336),\n",
       " (693, 'rbpez', 'andem', -8.641276141783493)]"
      ]
     },
     "execution_count": 76,
     "metadata": {},
     "output_type": "execute_result"
    }
   ],
   "source": [
    "results = autokey_seek('roman', cb)\n",
    "sorted(results, key=lambda r: r[-1])[-10:]"
   ]
  },
  {
   "cell_type": "code",
   "execution_count": 77,
   "metadata": {},
   "outputs": [
    {
     "data": {
      "text/plain": [
       "[(3842, 'ramnl', 'amany', -9.437027872569471),\n",
       " (4317, 'faanf', 'omons', -9.430127363696526),\n",
       " (3619, 'jwhee', 'siver', -9.320629122935628),\n",
       " (2026, 'famnf', 'omans', -9.311629914178287),\n",
       " (3150, 'famnf', 'omans', -9.311629914178287),\n",
       " (3233, 'famnf', 'omans', -9.311629914178287),\n",
       " (3826, 'famnf', 'omans', -9.311629914178287),\n",
       " (2363, 'kfusg', 'trist', -9.035674036092695),\n",
       " (910, 'fdqrg', 'opert', -8.871736942260315),\n",
       " (3038, 'gfaua', 'proun', -8.586035154281198)]"
      ]
     },
     "execution_count": 77,
     "metadata": {},
     "output_type": "execute_result"
    }
   ],
   "source": [
    "results = autokey_seek('roman', rscb)\n",
    "sorted(results, key=lambda r: r[-1])[-10:]"
   ]
  },
  {
   "cell_type": "code",
   "execution_count": 78,
   "metadata": {},
   "outputs": [
    {
     "data": {
      "text/plain": [
       "[(2281, 'xgrwqyqqn', 'ssaditimk', -25.50904015692954),\n",
       " (4006, 'wvveahmvr', 'rhelscero', -25.382077332864444),\n",
       " (1646, 'ypvkxftxd', 'tberpalta', -25.130456920711293),\n",
       " (2100, 'hwflanaiv', 'ciossises', -24.871322973319465),\n",
       " (2517, 'dgfhzjamh', 'ysooresie', -24.722409611286242),\n",
       " (810, 'mcilmflsk', 'horseadoh', -24.64958690599062),\n",
       " (1798, 'tvfvbtvwr', 'ohoctonso', -24.647021212027184),\n",
       " (3343, 'awewwhtiv', 'vindocles', -23.927082944001153),\n",
       " (2778, 'mcilmflsv', 'horseados', -23.868317161553193),\n",
       " (3575, 'fhvvzjqgv', 'atecreics', -23.86243429804511)]"
      ]
     },
     "execution_count": 78,
     "metadata": {},
     "output_type": "execute_result"
    }
   ],
   "source": [
    "results = autokey_seek('fortified', cb)\n",
    "sorted(results, key=lambda r: r[-1])[-10:]"
   ]
  },
  {
   "cell_type": "code",
   "execution_count": 79,
   "metadata": {},
   "outputs": [
    {
     "data": {
      "text/plain": [
       "[(3213, 'dgkabmpes', 'ysththhap', -25.858476016839074),\n",
       " (4245, 'pdrbvqwal', 'kpainlowi', -25.69251300423946),\n",
       " (859, 'wsctznikg', 'relariagd', -25.68949990545181),\n",
       " (3321, 'pgzwtjihl', 'ksidleadi', -25.630885603720866),\n",
       " (2740, 'hrgxviqrz', 'cdpendinw', -25.60510505179495),\n",
       " (1990, 'ksvtjnvgl', 'feeabinci', -25.051685311929564),\n",
       " (4012, 'tfkxalivj', 'ortesgarg', -24.7076022359218),\n",
       " (3722, 'tpctvjmqr', 'oblaneemo', -24.11291857943737),\n",
       " (3454, 'nfflbtwrf', 'irostoonc', -23.58091480413326),\n",
       " (691, 'hfvtdftxh', 'creavalte', -23.576969563723157)]"
      ]
     },
     "execution_count": 79,
     "metadata": {},
     "output_type": "execute_result"
    }
   ],
   "source": [
    "results = autokey_seek('fortified', rscb)\n",
    "sorted(results, key=lambda r: r[-1])[-10:]"
   ]
  },
  {
   "cell_type": "code",
   "execution_count": 80,
   "metadata": {},
   "outputs": [
    {
     "data": {
      "text/plain": [
       "[(1239, 'cblmflsgtvzvjkf', 'wbsinxneteinggs', -53.67979567378313),\n",
       " (3574, 'hfhvvzjqgvrjegr', 'bfordleogeabbce', -53.332644164070246),\n",
       " (683, 'rovscwqnnsrbpez', 'locokillnbatmam', -52.948716390961906),\n",
       " (1676, 'rkhthhxqntlawtv', 'lkopptsoncustpi', -52.74063132472511),\n",
       " (155, 'aphyfzidevuvrwz', 'upounldbeednosm', -52.06563577702356),\n",
       " (3342, 'lawewwhtivnmdvk', 'fadaeicriewearx', -52.039898007621005),\n",
       " (179, 'owxlaftnekzwztj', 'iwehiroletiowpw', -52.031145860023),\n",
       " (4309, 'atmiwzfzrkjvhqb', 'utteelaxrtsnemo', -51.966531880968944),\n",
       " (224, 'hikkeajftjrvvet', 'birgmmedtsansag', -51.2862727444336),\n",
       " (1428, 'bbtlagtvivimqvv', 'vbahisotierenri', -49.79512612365323)]"
      ]
     },
     "execution_count": 80,
     "metadata": {},
     "output_type": "execute_result"
    }
   ],
   "source": [
    "results = autokey_seek('gatesofcarriden', cb)\n",
    "sorted(results, key=lambda r: r[-1])[-10:]"
   ]
  },
  {
   "cell_type": "code",
   "execution_count": 81,
   "metadata": {},
   "outputs": [
    {
     "data": {
      "text/plain": [
       "[(748, 'zfnkkmrgejrvgqj', 'tfugsymeesandmw', -52.05542207245692),\n",
       " (2114, 'htpiogtnlvfaldw', 'btwewsolleosizj', -51.933562137754535),\n",
       " (3129, 'orrhwmfknkkmrge', 'irydeyaintteocr', -51.72518143282167),\n",
       " (1721, 'kalftfjclrgcwmw', 'easbbrealaputij', -51.39500709853823),\n",
       " (966, 'qiflwdmksvtivfj', 'kimhephisecasbw', -51.16282166067445),\n",
       " (3155, 'malwahtnuxjkhsl', 'gassitolugsceoy', -50.82080768385719),\n",
       " (17, 'oobqhvjkrzfzwim', 'ioimpheiriortez', -50.804328693902804),\n",
       " (1877, 'gnbvlffyrrilvrn', 'anirtrawrardsna', -50.77261706301617),\n",
       " (39, 'lrxhgbtjauruhdx', 'fredonohadamezk', -50.58185950803962),\n",
       " (3994, 'nggivftvcrizlhr', 'hgnedrotcarride', -49.321188855519125)]"
      ]
     },
     "execution_count": 81,
     "metadata": {},
     "output_type": "execute_result"
    }
   ],
   "source": [
    "results = autokey_seek('gatesofcarriden', rscb)\n",
    "sorted(results, key=lambda r: r[-1])[-10:]"
   ]
  },
  {
   "cell_type": "code",
   "execution_count": 82,
   "metadata": {
    "scrolled": true
   },
   "outputs": [
    {
     "data": {
      "text/plain": [
       "[(109, 'xgrxgbqahmyazk', 'rgytonlhaitmir', -50.30067966367403),\n",
       " (2970, 'qehrernxvehwre', 'keonmdieoacial', -49.90749685359809),\n",
       " (1125, 'bakgdhtvlljfap', 'varcltoceherjw', -49.6746669250614),\n",
       " (2116, 'erbttoglaihbfl', 'yripbabstecnos', -49.57823086787266),\n",
       " (2189, 'okpsdhuhvvjkzm', 'ikwoltpoorewit', -49.52479031750286),\n",
       " (4259, 'xothazthamatlk', 'roadilootivfur', -49.18754328260107),\n",
       " (3008, 'eueaaqmhzwtsrm', 'yulwichossoeat', -49.12646769488776),\n",
       " (4103, 'qgntkfdbuikstm', 'kgupsryinefect', -49.0189271054904),\n",
       " (4013, 'vrhhlawbhrqcgl', 'prodtmrianlops', -48.98409155181962),\n",
       " (1228, 'ktrwkwqmhtmcbl', 'etyssiltaphoks', -46.94309949621737)]"
      ]
     },
     "execution_count": 82,
     "metadata": {},
     "output_type": "execute_result"
    }
   ],
   "source": [
    "results = autokey_seek('gatesofthefort', cb)\n",
    "sorted(results, key=lambda r: r[-1])[-10:]"
   ]
  },
  {
   "cell_type": "code",
   "execution_count": 83,
   "metadata": {
    "scrolled": true
   },
   "outputs": [
    {
     "data": {
      "text/plain": [
       "[(3901, 'uvkikczdumawtv', 'ovresouknivicc', -47.785004409521385),\n",
       " (3167, 'hslxhgbtzwtcjl', 'bsstpswassooss', -47.53894456988189),\n",
       " (6, 'npkmrgyalgtoob', 'hprizsthecoaxi', -47.314970387934196),\n",
       " (1462, 'aatjwfatasksgk', 'uaafervatofepr', -47.1283638409202),\n",
       " (3155, 'malwahtnuxjkhs', 'gassitountewqz', -46.99630838756432),\n",
       " (1526, 'hdlalcgtzmqwka', 'bdswtobasilith', -46.7437381684409),\n",
       " (2552, 'hqhvvwlbumtbvt', 'bqordiginionea', -46.485664854182),\n",
       " (1417, 'agbrvswalyndjt', 'uginderheuipsa', -46.000308431211856),\n",
       " (1967, 'yalstsjtpfjbtx', 'sasobeeaibence', -45.501107818985226),\n",
       " (1381, 'cthlahtwwswbfg', 'wtohitodpornon', -45.23713792080447)]"
      ]
     },
     "execution_count": 83,
     "metadata": {},
     "output_type": "execute_result"
    }
   ],
   "source": [
    "results = autokey_seek('gatesofthefort', rscb)\n",
    "sorted(results, key=lambda r: r[-1])[-10:]"
   ]
  },
  {
   "cell_type": "code",
   "execution_count": 84,
   "metadata": {
    "scrolled": true
   },
   "outputs": [
    {
     "data": {
      "text/plain": [
       "[(3924, 'mvrevhww', 'tonchesz', -21.530081854612558),\n",
       " (3304, 'bzlwgwwf', 'ishustsi', -21.522929562878094),\n",
       " (1670, 'olhwhdrk', 'vedutann', -21.377317616350332),\n",
       " (2327, 'wuhvvhwh', 'dndthesk', -20.94621791919036),\n",
       " (3909, 'kimvwqpf', 'rbitinli', -20.84375116446709),\n",
       " (336, 'lzircvtf', 'ssepospi', -20.719450285091096),\n",
       " (1597, 'ivxgrhxj', 'potedetm', -20.706690393648426),\n",
       " (1821, 'ilwvvhqh', 'pesthemk', -20.211702557206248),\n",
       " (102, 'lvgjwvtx', 'sochispa', -20.11656789559091),\n",
       " (1783, 'blwvvhqh', 'iesthemk', -19.13426965292788)]"
      ]
     },
     "execution_count": 84,
     "metadata": {},
     "output_type": "execute_result"
    }
   ],
   "source": [
    "results = autokey_seek('thecodex', cb)\n",
    "sorted(results, key=lambda r: r[-1])[-10:]"
   ]
  },
  {
   "cell_type": "code",
   "execution_count": 85,
   "metadata": {
    "scrolled": true
   },
   "outputs": [
    {
     "data": {
      "text/plain": [
       "[(4103, 'ntevvrjt', 'umathofw', -21.12050302860748),\n",
       " (1135, 'clggcwmz', 'jeceotic', -21.0926226108083),\n",
       " (3784, 'lvvqqrya', 'sorocoud', -21.0704407610811),\n",
       " (2607, 'tfwvihra', 'aystuend', -21.036511358408227),\n",
       " (770, 'ealcuhgb', 'lthagece', -20.864565160704405),\n",
       " (1063, 'lvtgqrhx', 'sopecoda', -20.754724320672608),\n",
       " (1418, 'gbrvswal', 'nuntetwo', -20.58615056728773),\n",
       " (2628, 'yalgtrpk', 'fthefoln', -19.713559586711344),\n",
       " (4051, 'zlruhhri', 'genstenl', -19.43791767956815),\n",
       " (1040, 'taltsves', 'athresav', -19.414018974488442)]"
      ]
     },
     "execution_count": 85,
     "metadata": {},
     "output_type": "execute_result"
    }
   ],
   "source": [
    "results = autokey_seek('thecodex', rscb)\n",
    "sorted(results, key=lambda r: r[-1])[-10:]"
   ]
  },
  {
   "cell_type": "code",
   "execution_count": 86,
   "metadata": {
    "scrolled": true
   },
   "outputs": [
    {
     "data": {
      "text/plain": [
       "[(2166, 'xftqmpav', 'urhithai', -21.474070991196612),\n",
       " (621, 'hddclatn', 'eprussta', -21.437474795697312),\n",
       " (3752, 'vvtmlatb', 'shhessto', -21.36709963180998),\n",
       " (1313, 'kspttvek', 'hedlanex', -21.21846639563575),\n",
       " (3080, 'oddmlmwa', 'lpresewn', -21.153561245717015),\n",
       " (1907, 'yaqutvag', 'vmemanat', -21.13955075507157),\n",
       " (3418, 'wizmlatj', 'tunesstw', -20.78298814152589),\n",
       " (1050, 'hdmzmwti', 'epartotv', -20.571400605890293),\n",
       " (857, 'uhebhnai', 'rtstofav', -20.18106418846078),\n",
       " (3842, 'jddmlmsh', 'gpresesu', -19.026003480730346)]"
      ]
     },
     "execution_count": 86,
     "metadata": {},
     "output_type": "execute_result"
    }
   ],
   "source": [
    "results = autokey_seek('domitian', cb)\n",
    "sorted(results, key=lambda r: r[-1])[-10:]"
   ]
  },
  {
   "cell_type": "code",
   "execution_count": 87,
   "metadata": {
    "scrolled": true
   },
   "outputs": [
    {
     "data": {
      "text/plain": [
       "[(3214, 'gkabmpes', 'dwotthef', -20.94405168913833),\n",
       " (1615, 'whuktalv', 'tticasli', -20.572797420355037),\n",
       " (2559, 'bumtbvtj', 'ygalintw', -20.569458875838592),\n",
       " (4032, 'vwzlitot', 'sindplog', -20.38216185513019),\n",
       " (1251, 'loebawml', 'iasthomy', -20.31812563846053),\n",
       " (608, 'cofuxvgg', 'zatmengt', -20.292921997536638),\n",
       " (2928, 'qbqlbbwb', 'nneditwo', -19.92037147986436),\n",
       " (3927, 'zvavvtia', 'whonclin', -19.799839075342426),\n",
       " (374, 'lhfpxapa', 'itthespn', -19.413682398696466),\n",
       " (2787, 'qhqztoif', 'nteragis', -19.131491583368767)]"
      ]
     },
     "execution_count": 87,
     "metadata": {},
     "output_type": "execute_result"
    }
   ],
   "source": [
    "results = autokey_seek('domitian', rscb)\n",
    "sorted(results, key=lambda r: r[-1])[-10:]"
   ]
  },
  {
   "cell_type": "code",
   "execution_count": 88,
   "metadata": {},
   "outputs": [],
   "source": [
    "p7b = open('7b.plaintext').read()"
   ]
  },
  {
   "cell_type": "code",
   "execution_count": 89,
   "metadata": {},
   "outputs": [
    {
     "data": {
      "text/plain": [
       "[('caledonian', 6),\n",
       " ('salustiusw', 5),\n",
       " ('ecaledonia', 5),\n",
       " ('thecaledon', 5),\n",
       " ('hecaledoni', 5),\n",
       " ('inchtuthil', 5),\n",
       " ('stracathro', 5),\n",
       " ('alustiuswa', 3),\n",
       " ('lustiuswas', 3),\n",
       " ('ofthecaled', 3),\n",
       " ('fthecaledo', 3),\n",
       " ('ysalustius', 3),\n",
       " ('nsalustius', 3),\n",
       " ('salustiuss', 3),\n",
       " ('salustiusa', 3),\n",
       " ('mayhavebee', 2),\n",
       " ('ayhavebeen', 2),\n",
       " ('ingcaledon', 2),\n",
       " ('ngcaledoni', 2),\n",
       " ('gcaledonia', 2)]"
      ]
     },
     "execution_count": 89,
     "metadata": {},
     "output_type": "execute_result"
    }
   ],
   "source": [
    "collections.Counter(ngrams(sanitise(p7b), 10)).most_common(20)"
   ]
  },
  {
   "cell_type": "code",
   "execution_count": 90,
   "metadata": {},
   "outputs": [
    {
     "data": {
      "text/plain": [
       "[('salustius', 15),\n",
       " ('caledonia', 10),\n",
       " ('ecaledoni', 6),\n",
       " ('aledonian', 6),\n",
       " ('alustiusw', 5),\n",
       " ('thecaledo', 5),\n",
       " ('hecaledon', 5),\n",
       " ('inchtuthi', 5),\n",
       " ('nchtuthil', 5),\n",
       " ('stracathr', 5),\n",
       " ('tracathro', 5),\n",
       " ('thelegion', 4),\n",
       " ('lustiuswa', 3),\n",
       " ('ustiuswas', 3),\n",
       " ('ofthecale', 3),\n",
       " ('fthecaled', 3),\n",
       " ('ysalustiu', 3),\n",
       " ('nsalustiu', 3),\n",
       " ('alustiuss', 3),\n",
       " ('alustiusa', 3)]"
      ]
     },
     "execution_count": 90,
     "metadata": {},
     "output_type": "execute_result"
    }
   ],
   "source": [
    "collections.Counter(ngrams(sanitise(p7b), len(\"salustius\"))).most_common(20)"
   ]
  },
  {
   "cell_type": "code",
   "execution_count": 91,
   "metadata": {
    "scrolled": true
   },
   "outputs": [
    {
     "name": "stdout",
     "output_type": "stream",
     "text": [
      "2 True [(673, 'dnadssurem'), (1847, 'ohasecushs'), (3339, 'virmisalsi'), (21, 'placianisb')]\n",
      "2 False [(2715, 'rheseluner'), (443, 'nhemotearx'), (856, 'ttictindmn'), (1779, 'uestasuntc')]\n",
      "3 True [(213, 'dlifireslt'), (2408, 'dlonevilai'), (1073, 'mhenstcarl'), (629, 'pmorebastt')]\n",
      "3 False [(2616, 'towisisnea'), (3012, 'urersdedti'), (3811, 'lriteviely'), (2959, 'rldiansary')]\n",
      "4 True [(762, 'egifetesoy'), (2896, 'ttitamerlt'), (821, 'tupaintewt'), (2162, 'calneaneex')]\n",
      "4 False [(1029, 'esasnendaz'), (2302, 'yetivewetu'), (3530, 'llielmostc'), (1670, 'feeitegita')]\n",
      "5 True [(2254, 'bttatielof'), (218, 'fstbresthw'), (2319, 'ntandipsef'), (1304, 'lablelinla')]\n",
      "5 False [(2492, 'intwoltoru'), (1573, 'toasededly'), (2919, 'aaaretesav'), (1702, 'kepreitite')]\n",
      "6 True [(2353, 'ussigholag'), (369, 'ulewandimp'), (2823, 'iplasenhen'), (1598, 'xinsinscan')]\n",
      "6 False [(2857, 'etiserelcy'), (410, 'anchesioof'), (1083, 'iactosiory'), (1682, 'yrolthende')]\n",
      "7 True [(3301, 'oalmoption'), (618, 'rmurciandr'), (283, 'plivetelii'), (1595, 'introntbek')]\n",
      "7 False [(1069, 'yvidettolf'), (1514, 'dwerstiehi'), (2330, 'rtocereure'), (3635, 'ditisthery')]\n",
      "8 True [(873, 'uckworistu'), (1419, 'zlonoreseg'), (1978, 'partimisrx'), (2823, 'knareselll')]\n",
      "8 False [(137, 'runkicader'), (2296, 'fovichosue'), (251, 'rsttoleshw'), (1644, 'nsasoldeni')]\n",
      "9 True [(516, 'plahornsec'), (4147, 'btiscensex'), (2445, 'ficommsage'), (2867, 'shehaliand')]\n",
      "9 False [(2843, 'tlacinacat'), (3770, 'btotheyinu'), (330, 'efemeemare'), (1658, 'aatranalat')]\n",
      "10 True [(2630, 'tatyotealn'), (3639, 'tvidticear'), (3936, 'erisbreesu'), (1649, 'ssaltearpr')]\n",
      "10 False [(3131, 'taldinsoer'), (2203, 'lugeliantu'), (3863, 'thegarkitr'), (205, 'shiterspus')]\n",
      "11 True [(2661, 'andedjunsy'), (2764, 'dyarsorsce'), (2425, 'xdisisnorc'), (3307, 'iberatifal')]\n",
      "11 False [(1714, 'fnewtriewi'), (1150, 'dsscivesag'), (2690, 'auschnecti'), (739, 'skedisollm')]\n",
      "12 True [(1506, 'qhersarsts'), (1123, 'nenealiold'), (3175, 'isinamthej'), (3487, 'trartrintf')]\n",
      "12 False [(1288, 'obesbutetc'), (555, 'thibemostu'), (2203, 'ofaternary'), (2548, 'rapanteche')]\n",
      "13 True [(1719, 'alawonewon'), (1212, 'tatrieluma'), (3, 'bovitsuarc'), (3274, 'rsibentsru')]\n",
      "13 False [(701, 'sanlydespn'), (4226, 'dlattlewan'), (3939, 'rigorralea'), (4123, 'mwarthecyt')]\n",
      "14 True [(44, 'tallbefide'), (2626, 'rlenetangg'), (3784, 'yfeedinsed'), (3289, 'aaletheths')]\n",
      "14 False [(4317, 'utainonaad'), (2815, 'dbaionanys'), (3467, 'cuphathatj'), (3896, 'xlielissau')]\n",
      "15 True [(356, 'presagulyn'), (4305, 'yeasemmaid'), (2595, 'llitinetcz'), (3608, 'ttpeonento')]\n",
      "15 False [(1683, 'ljailonsta'), (1659, 'teagiteony'), (1456, 'oaralboste'), (2244, 'toushcongt')]\n",
      "16 True [(1721, 'rldieditfe'), (1115, 'aystormllb'), (1402, 'yritersfej'), (1198, 'zticelaron')]\n",
      "16 False [(2456, 'fgincenisy'), (1599, 'tgnstronse'), (1712, 'tpaysheure'), (1143, 'eoulatodin')]\n",
      "17 True [(2049, 'drrassicin'), (1932, 'ctrofalway'), (1181, 'prighiects'), (2554, 'cricityame')]\n",
      "17 False [(1449, 'dianouncii'), (4223, 'imoddtesta'), (3980, 'yviendtrum'), (580, 'yptostecri')]\n",
      "18 True [(1561, 'vspingalap'), (3970, 'dreperesgz'), (4042, 'paliththwi'), (3204, 'plicititac')]\n",
      "18 False [(4248, 'jacesttefs'), (3098, 'rafathiney'), (1994, 'terrotratb'), (3248, 'clifichech')]\n",
      "19 True [(3572, 'ehareemdof'), (1372, 'ierbilebay'), (421, 'tasdatthru'), (3586, 'retsianspi')]\n",
      "19 False [(4075, 'iaprelinka'), (234, 'ttototmina'), (3275, 'xsermendby'), (1444, 'ctionillab')]\n",
      "20 True [(1877, 'nnoodsuntt'), (2311, 'favesweplo'), (3414, 'yalcietiss'), (1478, 'nlintsrigs')]\n",
      "20 False [(3230, 'ochoopilly'), (1593, 'hvidicours'), (1924, 'ealsicenby'), (3559, 'hatintorbm')]\n",
      "21 True [(3304, 'intgosiced'), (1138, 'rolofmusth'), (2928, 'uchnaloria'), (4203, 'dnoritaire')]\n",
      "21 False [(3919, 'hlardhilen'), (2843, 'vrediroann'), (201, 'yperspinfy'), (1615, 'cmdethehei')]\n",
      "22 True [(1954, 'upaconitao'), (1038, 'ebugitesti'), (1571, 'tledendicg'), (611, 'pesecreore')]\n",
      "22 False [(2618, 'wipsorsinn'), (3774, 'khenchinyn'), (4013, 'cevisisalc'), (1261, 'hiceenengc')]\n",
      "23 True [(1648, 'udscosengn'), (2796, 'utuailosto'), (1888, 'rmaingyshr'), (820, 'xsomesistd')]\n",
      "23 False [(3312, 'itashianyt'), (3372, 'iwisicelac'), (1444, 'ulystleman'), (3117, 'seamatiept')]\n",
      "24 True [(3058, 'rversoadhu'), (4262, 'nlareriltw'), (4094, 'yalinualtm'), (1760, 'edblitinex')]\n",
      "24 False [(3405, 'topescisix'), (568, 'ucoteistag'), (1597, 'rtaretolta'), (860, 'flacatecol')]\n",
      "25 True [(2777, 'rniparswhi'), (3583, 'ywereteelx'), (1944, 'olriereoni'), (3380, 'earendidng')]\n",
      "25 False [(1246, 'peinitelaj'), (1531, 'dlassststp'), (1769, 'oussiootth'), (422, 'bacewayoft')]\n",
      "26 True [(2090, 'rberdwalse'), (555, 'obvistreig'), (1126, 'etardembie'), (1016, 'tetyinerys')]\n",
      "26 False [(698, 'rvinetnorj'), (1252, 'cnissonnan'), (4101, 'toforeoroz'), (581, 'mnalsmestr')]\n",
      "27 True [(2603, 'weahermeno'), (4206, 'rsizinsear'), (1618, 'ikehomaran'), (2945, 'fsunestris')]\n",
      "27 False [(881, 'plalstishs'), (1770, 'lwameanthu'), (1801, 'escoticlar'), (2571, 'eganthroto')]\n",
      "28 True [(2136, 'oeabootrap'), (583, 'kgaseryant'), (1227, 'geivedelov'), (4024, 'iatioolsei')]\n",
      "28 False [(580, 'fetonetsfs'), (1266, 'janctropad'), (244, 'lverssnoth'), (2881, 'etorilinth')]\n",
      "29 True [(557, 'earresbogi'), (1233, 'irtiegalog'), (2663, 'jachatarrp'), (3500, 'teretbeofp')]\n",
      "29 False [(3759, 'tedholidei'), (1282, 'iganommitu'), (2424, 'cfrintriem'), (2326, 'chepetelli')]\n",
      "30 True [(510, 'drchigotan'), (2116, 'pstroficls'), (2723, 'rrcrasecti'), (3952, 'chinsningb')]\n",
      "30 False [(3799, 'dilsectseo'), (4279, 'gtaretemus'), (1727, 'heawntents'), (3133, 'ymeordeday')]\n",
      "31 True [(3554, 'kairernomy'), (1167, 'akionasais'), (938, 'urfrisaneg'), (79, 'uningmotan')]\n",
      "31 False [(3006, 'rpileacels'), (630, 'riaincesma'), (3527, 'xopontorea'), (3454, 'aselyonere')]\n",
      "32 True [(304, 'yewaymengf'), (2753, 'eafthtossm'), (214, 'reerthidif'), (996, 'ooldestela')]\n",
      "32 False [(502, 'zhasepentd'), (301, 'ractsditsg'), (536, 'mathtbusig'), (23, 'ldeptivemi')]\n",
      "33 True [(1142, 'mainsmionu'), (3932, 'rrlistoars'), (1810, 'dangeadolv'), (1903, 'ghlincrequ')]\n",
      "33 False [(3970, 'rboremobam'), (3532, 'latoessbia'), (2266, 'ftpoundsti'), (610, 'ymesamefla')]\n",
      "34 True [(1300, 'lpamincits'), (2422, 'dapoordera'), (769, 'taienotrat'), (3043, 'carmousepa')]\n",
      "34 False [(3189, 'knarnmetha'), (1210, 'ftpagesifi'), (1132, 'ivarsderit'), (677, 'vtatederan')]\n",
      "35 True [(1472, 'roanarnofg'), (185, 'utertdenfl'), (2995, 'ypummessit'), (2220, 'ptirthinio')]\n",
      "35 False [(3389, 'fbeddepont'), (1264, 'ooanttedbu'), (1499, 'wsoregronc'), (4167, 'dhossinteq')]\n",
      "36 True [(4016, 'ueniftiend'), (1675, 'yopstmentr'), (3998, 'tlintoachd'), (4197, 'utanadithf')]\n",
      "36 False [(2844, 'sgoweardig'), (3155, 'imemasipai'), (2726, 'ulandpowag'), (3471, 'rtelottoal')]\n",
      "37 True [(3490, 'aniamarotu'), (3510, 'heflisadit'), (4184, 'elariendgu'), (140, 'duthesitye')]\n",
      "37 False [(2244, 'pecuseulli'), (2426, 'terdentctb'), (1512, 'yardetsowa'), (3075, 'oloctigisn')]\n",
      "38 True [(2652, 'welanueith'), (72, 'uvarelandw'), (2758, 'yjoresinan'), (3197, 'weeretingv')]\n",
      "38 False [(3792, 'rcondviake'), (258, 'laincialyx'), (2597, 'kheworslak'), (4270, 'cfortentrg')]\n",
      "39 True [(340, 'detnioneyf'), (322, 'udistigdid'), (3759, 'talddritet'), (4052, 'fantianexw')]\n",
      "39 False [(2113, 'tasoomeofw'), (3583, 'owaresysbr'), (2015, 'olopebingm'), (477, 'evacatinmp')]\n",
      "40 True [(1235, 'dateuriadi'), (1910, 'fiewofanti'), (3919, 'perichoilt'), (105, 'dtorsttrim')]\n",
      "40 False [(1154, 'ademenifse'), (3222, 'utssamosin'), (3046, 'eheetwatht'), (1261, 'msodserein')]\n",
      "41 True [(2275, 'rmiletenlc'), (2983, 'yomeryreau'), (305, 'ndunindsht'), (4265, 'efindtolap')]\n",
      "41 False [(3726, 'smorvidlin'), (1806, 'ctsrextheu'), (2219, 'ynivernman'), (3299, 'lkiddereat')]\n",
      "42 True [(1909, 'tylarhisai'), (619, 'rectdotsad'), (2611, 'zoohondine'), (2753, 'taclesenys')]\n",
      "42 False [(2401, 'oechotoraz'), (3790, 'nntrogingg'), (442, 'ittyoteatu'), (738, 'stamenasen')]\n",
      "43 True [(4326, 'yattaliler'), (815, 'ualeglesar'), (293, 'ndighttexe'), (1908, 'ewthecasag')]\n",
      "43 False [(2774, 'weadobesot'), (971, 'ktirtstiva'), (4074, 'oossurtisk'), (2658, 'tamessuder')]\n",
      "44 True [(2362, 'ettlplentr'), (739, 'elisothurf'), (2301, 'rponditaln'), (3880, 'tteshanseu')]\n",
      "44 False [(4226, 'tlimendmun'), (2447, 'yloreyress'), (726, 'ftrathariz'), (3651, 'alasiessea')]\n"
     ]
    }
   ],
   "source": [
    "for h in range(2, 45):\n",
    "    for d in [True, False]:\n",
    "        if d:\n",
    "            tcb = scytale_decipher(scb, h)\n",
    "        else:\n",
    "            tcb = scytale_encipher(scb, h)\n",
    "        results = autokey_seek('caledonian', tcb)\n",
    "        print(h, d, [(r[0], r[2]) for r in sorted(results, key=lambda r: r[-1])][-4:])"
   ]
  },
  {
   "cell_type": "code",
   "execution_count": 92,
   "metadata": {
    "scrolled": true
   },
   "outputs": [
    {
     "name": "stdout",
     "output_type": "stream",
     "text": [
      "2 True [(3599, 'ovactenepi'), (2728, 'mbeitandrr'), (3694, 'cinditoaty'), (1602, 'nfaresnees')]\n",
      "2 False [(724, 'ugamedsovi'), (3300, 'rherolinhs'), (4249, 'jachiprors'), (4173, 'atanortacu')]\n",
      "3 True [(239, 'yturesotve'), (158, 'yatcatpeds'), (2527, 'cdcouitthi'), (3001, 'erldsmistr')]\n",
      "3 False [(1989, 'sstrunasaf'), (1412, 'unamandrce'), (1858, 'iniliancof'), (3662, 'illentuald')]\n",
      "4 True [(2906, 'uderizesce'), (4031, 'rfrithadae'), (3081, 'dstotauden'), (1110, 'termedovid')]\n",
      "4 False [(3905, 'tviemdines'), (1538, 'tstotdocli'), (1214, 'baposayout'), (246, 'yeotsionic')]\n",
      "5 True [(1595, 'utiakeedat'), (2777, 'stosainlad'), (2318, 'ovinicoodu'), (2419, 'gmistrecar')]\n",
      "5 False [(2478, 'zaatsorenv'), (167, 'uncheevioe'), (24, 'lecretaixe'), (491, 'geptirothr')]\n",
      "6 True [(1900, 'iwargheche'), (2382, 'dmeslaussi'), (4244, 'sdonstisfy'), (3239, 'tprincovac')]\n",
      "6 False [(3071, 'ravesypons'), (4049, 'eyerocusas'), (401, 'rtwhilyous'), (3882, 'ledeindinm')]\n",
      "7 True [(365, 'ttrickowil'), (519, 'rnesoeasas'), (41, 'dnthoniori'), (3270, 'ttesenoapa')]\n",
      "7 False [(210, 'gewserlely'), (1817, 'vexderinte'), (3224, 'yvenimiden'), (1847, 'ferialesva')]\n",
      "8 True [(3661, 'neinemilfs'), (372, 'thadegicaw'), (3467, 'wiionesetr'), (1643, 'ibulunintr')]\n",
      "8 False [(3077, 'dswatehome'), (386, 'havateeicl'), (2925, 'iefredanix'), (2093, 'tbeissasig')]\n",
      "9 True [(564, 'fgofettesu'), (254, 'nheiromakt'), (3465, 'netwomenug'), (4003, 'rainomisle')]\n",
      "9 False [(2093, 'orowasulln'), (1977, 'draneneckj'), (3729, 'rroontricj'), (1238, 'ffarialisd')]\n",
      "10 True [(743, 'gjastdestu'), (1756, 'ktanelssar'), (1278, 'upofrotowi'), (3105, 'lathefiswb')]\n",
      "10 False [(494, 'sbfrithele'), (3601, 'gpannommai'), (3805, 'thgremedia'), (1106, 'umbensirec')]\n",
      "11 True [(733, 'brithoiscm'), (2287, 'ppiremuess'), (2195, 'zalontedig'), (2379, 'architinfe')]\n",
      "11 False [(3461, 'rprioncble'), (3453, 'stcustuntc'), (1969, 'rharricssi'), (1247, 'aralsetwee')]\n",
      "12 True [(3582, 'eusendasmm'), (83, 'ustspeepal'), (4195, 'xcendmantu'), (4253, 'roloclinen')]\n",
      "12 False [(3694, 'xiastsight'), (4289, 'ydussarety'), (616, 'ttitennodi'), (1987, 'sturecewon')]\n",
      "13 True [(3338, 'hignglerat'), (1472, 'sssdesorte'), (2305, 'alimameatr'), (3997, 'hanssonshi')]\n",
      "13 False [(3175, 'ywargronaz'), (517, 'ccaneninsx'), (4169, 'teorefirfi'), (697, 'badietacet')]\n",
      "14 True [(2574, 'heppilangt'), (1698, 'nteceltrun'), (3506, 'phinoteelp'), (1185, 'atteitiori')]\n",
      "14 False [(1858, 'cnannityor'), (993, 'ylerdspeno'), (2560, 'thtoshasti'), (812, 'dteranbati')]\n",
      "15 True [(910, 'ddemrsinfo'), (4317, 'itweslarou'), (1313, 'xconthecln'), (2418, 'dfatheinto')]\n",
      "15 False [(3526, 'ozeasbings'), (494, 'nalremempn'), (3278, 'tilitouger'), (2270, 'inientiody')]\n",
      "16 True [(287, 'eltoitsatr'), (4006, 'dlycesiown'), (3761, 'rtinsdarnw'), (183, 'oatritisre')]\n",
      "16 False [(311, 'rtotinnsad'), (2636, 'wlthefanes'), (3714, 'elarthtegn'), (2220, 'patimityfi')]\n",
      "17 True [(3594, 'ergbilinso'), (2380, 'wboneceshf'), (2320, 'irpushingm'), (2799, 'ttobontsce')]\n",
      "17 False [(4258, 'tgaroburac'), (1216, 'ignajonste'), (3398, 'rheharsbei'), (2367, 'ubtrethata')]\n",
      "18 True [(2082, 'rtarexenty'), (336, 'aradsonsbr'), (1392, 'estromrart'), (411, 'utiosindin')]\n",
      "18 False [(1152, 'pntattsesu'), (871, 'rltrisertp'), (1079, 'xditimeapi'), (1723, 'beirdonisi')]\n",
      "19 True [(3291, 'ggurebesam'), (154, 'oltssananf'), (83, 'uelisidile'), (3498, 'ljonstantc')]\n",
      "19 False [(3512, 'etsasmusas'), (3885, 'tmicenitbr'), (235, 'ulpispreat'), (3237, 'smatunitbi')]\n",
      "20 True [(1454, 'eeinsousax'), (3860, 'ikinialced'), (3057, 'tlassstsso'), (3331, 'ilainsnott')]\n",
      "20 False [(4117, 'ussapopmer'), (1008, 'wvicorooll'), (353, 'yllemingtt'), (2986, 'yelowenoup')]\n",
      "21 True [(3485, 'peawitespd'), (1228, 'goordaliae'), (2878, 'acanymerru'), (3738, 'rfthemildr')]\n",
      "21 False [(3674, 'thertrosng'), (974, 'qbendinshi'), (8, 'athherilso'), (4048, 'thadirindi')]\n",
      "22 True [(518, 'wtimesenks'), (1926, 'rthisioirp'), (3305, 'ofuternonw'), (968, 'tariedeslo')]\n",
      "22 False [(3744, 'rdarmifiti'), (1911, 'erarescdoc'), (4033, 'uleconyane'), (688, 'ralasdeals')]\n",
      "23 True [(3800, 'falasponho'), (235, 'clegehestn'), (2151, 'apearfacei'), (3613, 'oeavathent')]\n",
      "23 False [(961, 'epopothmon'), (3959, 'ewehipindc'), (3363, 'edirefeerb'), (1271, 'engroledit')]\n",
      "24 True [(400, 'edighsidac'), (509, 'gaaidenoto'), (4333, 'lnonokethn'), (3434, 'eedrontlex')]\n",
      "24 False [(3046, 'picheidoot'), (1319, 'yzirectern'), (2011, 'yfosanistn'), (3040, 'ingryleany')]\n",
      "25 True [(3436, 'deenmonemo'), (2725, 'enerenniki'), (3197, 'llrosineas'), (3407, 'atesthunks')]\n",
      "25 False [(4296, 'suisinfeaf'), (3040, 'vvisttesca'), (31, 'ttundesonv'), (1088, 'gtinclastl')]\n",
      "26 True [(2139, 'bautosalie'), (667, 'ladeladthw'), (192, 'veadescitj'), (3811, 'yliperaner')]\n",
      "26 False [(2409, 'pttatcallt'), (2026, 'hgodstallo'), (839, 'gandstuthj'), (2449, 'rightorsai')]\n",
      "27 True [(4084, 'utudenollf'), (3068, 'ksantmerry'), (3499, 'hawitseoft'), (3265, 'hopeiteses')]\n",
      "27 False [(2483, 'ecbricanti'), (1427, 'blicutustg'), (1672, 'croratryat'), (3017, 'oafandadet')]\n",
      "28 True [(2577, 'yafratidei'), (1050, 'allsmitams'), (2641, 'cisansholv'), (1871, 'reontrealn')]\n",
      "28 False [(3980, 'lburetoprs'), (4078, 'ylichmactt'), (3017, 'ysiseanieh'), (3640, 'mgedortinm')]\n",
      "29 True [(2354, 'egussinstu'), (2571, 'ldisemorty'), (4135, 'uresfornmi'), (3004, 'eharecrien')]\n",
      "29 False [(3389, 'kafrocinat'), (1159, 'trecttripd'), (752, 'thonerayat'), (4289, 'thomittegu')]\n",
      "30 True [(3150, 'fundabeflu'), (4003, 'ongosiaspo'), (2716, 'kfaindneas'), (790, 'culdiledte')]\n",
      "30 False [(2302, 'elawimeatu'), (1748, 'fearebesez'), (4172, 'fsclatiamo'), (744, 'trictsetry')]\n",
      "31 True [(2920, 'ntirstedpk'), (3555, 'rlineasdry'), (452, 'nlastadeig'), (4191, 'geansisepi')]\n",
      "31 False [(91, 'ngrcerinsa'), (3976, 'yofpronalj'), (582, 'pleryhothr'), (824, 'tafthroree')]\n",
      "32 True [(2651, 'etterdfily'), (680, 'cebantacla'), (3465, 'tmpreledby'), (3315, 'colithikes')]\n",
      "32 False [(1115, 'orcanairit'), (3285, 'lvesarperm'), (911, 'nforelsoau'), (2429, 'terdeitles')]\n",
      "33 True [(1035, 'cfirelomai'), (344, 'xhineminix'), (809, 'tseoesista'), (519, 'nsatecefeb')]\n",
      "33 False [(3588, 'smerpowald'), (4049, 'ytontyocte'), (2136, 'sesmetofaq'), (1534, 'oredvdings')]\n",
      "34 True [(2252, 'aklituravi'), (4157, 'pearetakki'), (2556, 'tasanttobc'), (3911, 'yaisoredat')]\n",
      "34 False [(554, 'caprolriat'), (6, 'fachasdroo'), (4045, 'rridevidfr'), (437, 'anintmomad')]\n",
      "35 True [(2857, 'elkmaresan'), (309, 'ineintylth'), (2603, 'indeearexa'), (1496, 'chaveinalw')]\n",
      "35 False [(1213, 'espairedum'), (849, 'thedsoends'), (3327, 'ttosemesab'), (2760, 'kythemengt')]\n",
      "36 True [(1601, 'toanadadbe'), (2537, 'eanrentahn'), (77, 'toakasingt'), (1686, 'siopesallh')]\n",
      "36 False [(2555, 'olcadontte'), (3449, 'ltarisouan'), (414, 'ntidarabli'), (2434, 'lwaratsatm')]\n",
      "37 True [(1231, 'slideltegg'), (3512, 'tiremmerae'), (2247, 'lfafithing'), (544, 'faviseties')]\n",
      "37 False [(2017, 'lmaromascu'), (3581, 'rhewominem'), (1066, 'ftheprioxi'), (2455, 'rstinavetu')]\n",
      "38 True [(3159, 'latifeasmx'), (790, 'omayasmett'), (1158, 'rbememaidg'), (3645, 'ccomplytam')]\n",
      "38 False [(4044, 'ytsterinko'), (3243, 'lhowoneint'), (4151, 'cageswisst'), (501, 'llaserypal')]\n",
      "39 True [(1091, 'rilfotatal'), (2437, 'mbargenddt'), (4313, 'undmomenns'), (163, 'inedemoomb')]\n",
      "39 False [(3815, 'enttemusja'), (3296, 'tactsrsied'), (3169, 'prasstimae'), (4155, 'firangstfr')]\n",
      "40 True [(1256, 'scesidivii'), (2946, 'xmilitnetr'), (24, 'elitepoidy'), (3117, 'glinsenivo')]\n",
      "40 False [(2565, 'mmarspsiti'), (3642, 'omedeaystt'), (4217, 'ahontogorr'), (202, 'tagontichl')]\n",
      "41 True [(2056, 'etusidhean'), (2290, 'tyinfisthy'), (760, 'flasediole'), (3805, 'tainemiscr')]\n",
      "41 False [(2182, 'foiscianes'), (1260, 'talishydin'), (335, 'llinspunto'), (3244, 'mmystoreap')]\n",
      "42 True [(143, 'vearymaspu'), (3666, 'dansssecle'), (263, 'rlameginag'), (3307, 'chinetgert')]\n",
      "42 False [(486, 'kileobeest'), (4269, 'rbotityonb'), (410, 'thinespowu'), (2344, 'atagerisou')]\n",
      "43 True [(3543, 'ystoolthfu'), (3673, 'ogersiefth'), (2896, 'erveotiorf'), (3764, 'fkidetonti')]\n",
      "43 False [(3720, 'goleamotto'), (3225, 'yretacclas'), (3855, 'pecamincts'), (2864, 'viondinegu')]\n",
      "44 True [(1630, 'paliedcian'), (4026, 'trneinateg'), (3543, 'plondemagg'), (1946, 'ircherrayb')]\n",
      "44 False [(2350, 'hlesisnday'), (417, 'phemergtoc'), (1301, 'orrissyorc'), (1380, 'uatosmearm')]\n"
     ]
    }
   ],
   "source": [
    "for h in range(2, 45):\n",
    "    for d in [True, False]:\n",
    "        if d:\n",
    "            tcb = scytale_decipher(rscb, h)\n",
    "        else:\n",
    "            tcb = scytale_encipher(rscb, h)\n",
    "        results = autokey_seek('caledonian', tcb)\n",
    "        print(h, d, [(r[0], r[2]) for r in sorted(results, key=lambda r: r[-1])][-4:])"
   ]
  },
  {
   "cell_type": "code",
   "execution_count": 95,
   "metadata": {},
   "outputs": [
    {
     "data": {
      "text/plain": [
       "[(3724, 'ctvjmqrz', 'atesennm', -20.773714800352973),\n",
       " (3774, 'crizlhre', 'arridenr', -20.672984933887122),\n",
       " (4277, 'ghzeiocs', 'ehinalyf', -20.658964492527073),\n",
       " (116, 'rrvrtbwb', 'prealyso', -20.383713774610182),\n",
       " (2825, 'vcrizlhr', 'tcarride', -20.314442468008288),\n",
       " (3773, 'vcrizlhr', 'tcarride', -20.314442468008288),\n",
       " (4001, 'vcrizlhr', 'tcarride', -20.314442468008288),\n",
       " (4002, 'crizlhrt', 'arrideng', -20.025819952039228),\n",
       " (2826, 'crizlhrn', 'arridena', -19.966185971501325),\n",
       " (34, 'lozealrx', 'joinsink', -19.462213220012078)]"
      ]
     },
     "execution_count": 95,
     "metadata": {},
     "output_type": "execute_result"
    }
   ],
   "source": [
    "results = autokey_seek('carriden', rscb)\n",
    "sorted(results, key=lambda r: r[3])[-10:]"
   ]
  },
  {
   "cell_type": "code",
   "execution_count": 96,
   "metadata": {},
   "outputs": [
    {
     "data": {
      "text/plain": [
       "'g'"
      ]
     },
     "execution_count": 96,
     "metadata": {},
     "output_type": "execute_result"
    }
   ],
   "source": [
    "caesar_encipher_letter('t', pos('n'))"
   ]
  },
  {
   "cell_type": "code",
   "execution_count": 97,
   "metadata": {},
   "outputs": [
    {
     "data": {
      "text/plain": [
       "(19, 13, 32)"
      ]
     },
     "execution_count": 97,
     "metadata": {},
     "output_type": "execute_result"
    }
   ],
   "source": [
    "pos('t'), pos('n'), pos('g')+26"
   ]
  },
  {
   "cell_type": "code",
   "execution_count": 98,
   "metadata": {},
   "outputs": [
    {
     "data": {
      "text/plain": [
       "'n'"
      ]
     },
     "execution_count": 98,
     "metadata": {},
     "output_type": "execute_result"
    }
   ],
   "source": [
    "unpos(pos('t') - pos('g'))"
   ]
  },
  {
   "cell_type": "code",
   "execution_count": 99,
   "metadata": {},
   "outputs": [
    {
     "data": {
      "text/plain": [
       "'rilynqnrdkgclphrbvinyaehtquonatalsrirychaanmnggivftvcrizlhrttjtfkxalivjzaebilletapvwzlitotsostrarddnqzlruhhril'"
      ]
     },
     "execution_count": 99,
     "metadata": {},
     "output_type": "execute_result"
    }
   ],
   "source": [
    "rscb[3950:4060]"
   ]
  },
  {
   "cell_type": "code",
   "execution_count": 100,
   "metadata": {},
   "outputs": [
    {
     "data": {
      "text/plain": [
       "'tcarridenthe'"
      ]
     },
     "execution_count": 100,
     "metadata": {},
     "output_type": "execute_result"
    }
   ],
   "source": [
    "cat(unpos(pos(c) - pos(p)) for c, p in zip('vcrizlhrttjt', 'carridengacp'))"
   ]
  },
  {
   "cell_type": "code",
   "execution_count": 101,
   "metadata": {},
   "outputs": [
    {
     "data": {
      "text/plain": [
       "'zddntvcrizlhrntkvqmivjgslgqrhbwalsnqzvgltgkwmszalmypevdvtspkoobmfqayalgfygzolmvj'"
      ]
     },
     "execution_count": 101,
     "metadata": {},
     "output_type": "execute_result"
    }
   ],
   "source": [
    "rscb[2820:2900]"
   ]
  },
  {
   "cell_type": "code",
   "execution_count": 102,
   "metadata": {},
   "outputs": [
    {
     "data": {
      "text/plain": [
       "'tcarriden'"
      ]
     },
     "execution_count": 102,
     "metadata": {},
     "output_type": "execute_result"
    }
   ],
   "source": [
    "cat(unpos(pos(c) - pos(p)) for c, p in zip('vcrizlhrn', 'carridena'))"
   ]
  },
  {
   "cell_type": "code",
   "execution_count": 103,
   "metadata": {},
   "outputs": [
    {
     "data": {
      "text/plain": [
       "'ycerevvtltfiewhxbxxalvfaanfkmzkjvvhdsvdyqlnlerhlnghkaiocsnqzeiocavghaabghzoebajclrgcumsnqwalgclpdrbvqxtvwjgvljaqbgxrgmhzayqamkkmvgalizfkjylnqrilkxbkhphjkstyhpavuvedizfaevzwrfqaqwxwoafaljtzwzkentgceqihguzkartwmxnlhptcsucthihqhvjaekkjtfevvrpzntsabgazlkrppthezuwlwdoabvctemhrhjjrdriljwpgzwzlruhhdnqstrardotsowzlitletapvbilivjzaexaljtfkttvcrizlhrnggivftnmaasrirychtalquonahtyaegclphrbvinnrdkynqrilerqewaauclrgcwmiayxzvavvtcditpllawtvjlwumkikczduvgaiazlpwmfxkryehezmilfkjypadhvjslfmlbcsnjzfhgxivjslwdgamnleucranqesrvzvfamnfzhvzpzglmaemzctdzwsnqwhlqafrlpstyaeqqrulvvetvcrizlhrvaokfjervvthzralhdycbehumlxhdndvltrmdvtzalmqrpctvjddhttalcacnghsetarfihqwaljtftfaglejprtlkoaqgctlsleavuanaalcrhcorewcsvnnqepbrstsrvzfvnwhwptvrtxwgaqwheekzgzdvtxpjotfmgnbvlrhcvzvkayfkoslfslbcmsnqlimfeqbixhwhogxveaebaaalqqzznfgttfrlwspaffufelkslfmlicmaaklbtwlroamnnnqlimghdhvypauqaymndhbehumlxhwaoianpimnfmvtarfamnflbtwxeenfkgaqxapvgzhaqizzrfgtarrwwydwfaxltbcgmnqlblyrofzwimkmharzevkalppwkanjarkahtlgcbgaeqqrjetwenlethrdrbovrnqpofvwsvvgkqqxhvrvlhtjihwaeqewpgzwsnqlfsbdgfuxvwkzastfirzmdhmeitwdgcbuhvzxofvgqbfalhvnhhtbugmlwrhhgkxtsemnleucdufamnfksfjpyfvaqeshdgkabmpfjllvtnpatbuqgclrgcwmwwibxhdnqzwtcjlhxhgbtslnuxjkhwahtmalrfamnfoavvwmfknkkmrgejuaakorrhwalrfwngtmqwkwrtkvthgslfmlbcmgfkjvzvtvtecgivrbzjhntkjtrkalplnqvgthalphrbvierijyqhgfauawhvsfjtpsksgkelwokevtyslfmlbumlhfvxnleghrfaqmnmlegxvehwhzpevzgclehrbvianqqrzevivxnlegalgalphrbvqphdwwkqqbqlbbwbfrfaqqgmltbbndrbgalvvqmivivtygzolmvjgfyalmfqaspkoobypevdvtzalmmszvgltgkwsnqwalgqrhbjgslkvqmivntvcrizlhrnrizddntovefaqaebaoinmalgqrhbtoifofqbqhqzfalfmlbcmlhqgrktivqhetahndklgqifoqrzzrrgxvixhgmwjtxvdetvnalwlitwadgkwwkwhtalqabfyxrujicmxtfxkvpyndlammhtgvallodthwhhkrdhxhhttnqwalvvqaivvvtrpkowbnnizvwgtyalmxqamtfypagkjfwvihrakcereivtubyjdtfypsgkjfsfjxrqslfmlbcmjzacodxhqhvvwlbumtbvtnpaxtsfvtbvqrwvtygvlaldgihqhvvwliumtxhwalpzmallnqxjgzonammrtwmxnlhptumucthkdvqqiloqrzzvsfxkryralwgzolmvjuhqhvypauqayanqhbmdgavtzhpaxfttlwlcmotodxjkqqrglalfmlbcmuqbqeqzrhkpuewpqivupagkjjkfusvrwsxbkpalqivqrtfsgzolmrctsogcthpzrhlkurvalrmcerjgthcmbpiotivtnhvzlhruhnrhkpumnqkllasfbhmalwmvulpxrrhvhrspirudrbknqfwhaivtzavianaleergtllgottbriafbhmalqmrbotfmmnytsogcthonqkpalhfpwetwqtfxkxapmuvgklnaaalmxqaspkowbuhdsmzkjvvhvwzzrvpjdwfafalpiogtnlvxahtpaskdzkhjburwngbonatrfihqtalqnzaclrgcumsnqkpaeqrqyqwrgxvpynqkuhtkvirvvgkhtalrbpmpvfamnfodvkavvvvhuwghwhsqmckitxhjnvgllujvksvtubgalfjbtxvsjtpstyalarifugnpgenqrrppckwimutlepermtyalmztoaymnqhvjslfslbcmsskslfmtbcmkugrgxhwhlvrnxyrrilffrgnbvlzfkovnvvtzhtntweaeeizyltjhvazehwalqqrjebadhgkumtbwbfgmajzhwhhxerjbznxbrralmztoaymnqhvdmrtumxnlhptcmucthkwsxnvnlwjptvjmudhhwhhrvetlwgtvxejwebajclrgcwmftfkalwskosthpaeqrgabmabwwslahtvcthviuewpqykvetxdzebajclrgcwszlgcrvjzfwjpgvtprvhdnraftfxkvpmtyalcqrhbxnqwhuktalvnebaaalwtkfbtkwlhtyaevvqmivvvtrpgowbanizvwsrrvwlxhvslfmlicmsnqkpayauruvxtfkalgtzmqwlalcfhdfqmyubmxhdggivslmalvfamnfglolmvjavrbzjantkjtfjsfjtasksgkjwfafaatalpwzbrerkhjcthctkjvvhtaljtfxkvpyndwaltgzagbrvslhqclrgcwmsnqkpaeqrfgwbwwslahtvcthonqkpaeqrevxnrerhwhqcrizlergalmzylerkszlevtuebaaaewzhmqstyalmrsbrxgivjebatalhhzdttvgaegqzootonahtddwjpcthamrthlhwalwmlmddofjoebaaalxpooqkctlejqjgntnponifjtfvtalqabghonnwaibbvthbrhkypgfjdaawbrhzibacdbtldsnqwwtxvwtfwndzddyqsszllhddgxvihzebajclggcwmklkrpetdwbonamhvpatorbshqhvypasrdailylgqbpgalphwalxklygodnmtyalgqrhxevzolvtovupstsveslialtxtalwwgwlzbrmfwfaqenqvghaemfqaspkowbprfgkwhwalwwethukvdmnviivfjvzwfdmksvtllnqiflwltefgjxhhgnbttvjrlgfpkrdyqdltxvwwvihiwfatalmzkhfdqrgofjuclphrbvqanqufamnnltsexalcpvwlxhdnqpmdhwsctznikgwgtluotlsnqvzlitxvtxrtbbnxhjtfkalizjsfjhhptdzrrnpgsjzvtqaeaebalbehumliwbgalcqdptiuhgbtealcfhdrvgqjzvvhvmzfnkkmrgejrhqobgbvhysbghhhljtfkkvwkstnbjdwamgamodevvgcthfvtdftxhwhhalppkgtnmgtyalbqasekowbtkquvnanqdtelslahnqehwalgqrhbqhhpaksfjooitxntxvggmddvtcofulvefaqstyhlvvgqjzvpmttalgqrhbxnqwhlvvxnlebtyaexpkoqkctlegaewsrxxrngxhtalqmlwaprurnnnqdwwruhhserfawbflhhalsmlmddjfjwechahfvggmdzefardatkndzllvehlcgidlrgalypvxbzvhiwfamuttbtrpqwvmikgkrzfpuwsvervmhwhhavgwbsrvzppkowbaaizvwtvnbpvdexapazpalhfpwetwcvwlhfvxhlmzyvbbilvrequmwgtwfaqaevvhhrvmhwalcqrhblqewfetrlgnzralkxvetlsctznnkgwgfhcthonqkpaeerevgqfulvtzhlmzktlpmahtryhphlalqagliubdfktngmtsksphvzyhqhvkakornsshpalhrzinnnqlbipinfeqkxvetejrhhtmhqqbgbvhexhdgfhxgvbbtalxklnatgmlbfgqbpgelphiofdmnlekrrvrtbwbflhqqaqcexbeetwcvwlbnctecgoxbkevgzahtmahtmkltadetwzbrhdybfxhzojauruhdxhgbtealroztalkrzfzwimoobqhvjgtyalenpkmrgpkfco'"
      ]
     },
     "execution_count": 103,
     "metadata": {},
     "output_type": "execute_result"
    }
   ],
   "source": [
    "rwcb = wcat(cat(list(reversed(w))) for w in cat(c for c in cb if c in list(string.ascii_letters) + [' ']).split())\n",
    "srwcb = sanitise(rwcb)\n",
    "srwcb"
   ]
  },
  {
   "cell_type": "code",
   "execution_count": 104,
   "metadata": {},
   "outputs": [
    {
     "data": {
      "text/plain": [
       "[(1825, 'umtxhwalpz', 'smiteindpm', -28.50776093446872),\n",
       " (4294, 'uhdxhgbtea', 'shstesolen', -28.154834547829743),\n",
       " (995, 'pofvwsvvgk', 'nourteingx', -27.846434452675233),\n",
       " (2943, 'paeqrfgwbw', 'natmortobj', -27.53809559799773),\n",
       " (78, 'jclrgcumsn', 'hcandohesa', -27.531431763709513),\n",
       " (2262, 'aclrgcumsn', 'ycandohesa', -27.39244564415081),\n",
       " (4134, 'shpalhrzin', 'qhewiteria', -27.25476095206763),\n",
       " (374, 'clphrbvinn', 'aledoniana', -26.203058531983856),\n",
       " (373, 'gclphrbvin', 'ecaledonia', -26.168829458085867),\n",
       " (857, 'umlxhwaoia', 'smateingin', -24.245997114688997)]"
      ]
     },
     "execution_count": 104,
     "metadata": {},
     "output_type": "execute_result"
    }
   ],
   "source": [
    "results = autokey_seek('caledonian', srwcb)\n",
    "sorted(results, key=lambda r: r[-1])[-10:]"
   ]
  },
  {
   "cell_type": "code",
   "execution_count": 106,
   "metadata": {},
   "outputs": [
    {
     "data": {
      "text/plain": [
       "[('snlqymcyucjsrqlihobhlxkgcbkqkb', -6901.94443579854),\n",
       " ('smeqymcyuvjsrqlirobhjrzzcmsqkb', -6905.067152744593),\n",
       " ('fmlqymqyuvjsrdwiribhjzzgcbsqkb', -6913.175393071053),\n",
       " ('mzuwkedpyevihwjmmiccqqegtlrkm', -6917.074563428308),\n",
       " ('vbuwkgdpudjirxzfficcqqeimlvkm', -6920.215764382421)]"
      ]
     },
     "execution_count": 106,
     "metadata": {},
     "output_type": "execute_result"
    }
   ],
   "source": [
    "autokey_sa_break(srwcb, result_count=5, workers=3, max_iterations=10000, max_keylength=30)"
   ]
  },
  {
   "cell_type": "code",
   "execution_count": 107,
   "metadata": {},
   "outputs": [],
   "source": [
    "rev101 = cat(cat(reversed(c)) for c in chunks(scb, 101))\n",
    "rev43 = cat(cat(reversed(c)) for c in chunks(scb, 43))"
   ]
  },
  {
   "cell_type": "code",
   "execution_count": null,
   "metadata": {},
   "outputs": [],
   "source": [
    "autokey_sa_break(rev101, result_count=5, workers=3, max_iterations=10000, max_keylength=20)"
   ]
  },
  {
   "cell_type": "code",
   "execution_count": null,
   "metadata": {},
   "outputs": [],
   "source": [
    "autokey_sa_break(rev43, result_count=5, workers=3, max_iterations=10000, max_keylength=20)"
   ]
  },
  {
   "cell_type": "code",
   "execution_count": null,
   "metadata": {},
   "outputs": [],
   "source": [
    "scb = sanitise(cb)\n",
    "rscb = cat(reversed(scb))\n",
    "\n",
    "unfiltered_transformed_ciphertexts = { \n",
    "      'sanitised': scb\n",
    "    , 'reversed' : rscb\n",
    "    , 'scytale 43': scytale_decipher(scb, 43)\n",
    "    , 'scytale 101': scytale_decipher(scb, 101)\n",
    "    , 'scytale 43 reversed': scytale_decipher(rscb, 43)\n",
    "    , 'scytale 101 reversed': scytale_decipher(rscb, 101)\n",
    "    , 'chunk 43 reverse order': cat(reversed(chunks(scb, 43)))\n",
    "    , 'chunk 101 reverse order': cat(reversed(chunks(scb, 101)))\n",
    "    , 'chunk 43 reverse order reversed': cat(reversed(chunks(rscb, 43)))\n",
    "    , 'chunk 101 reverse order reversed': cat(reversed(chunks(rscb, 101)))\n",
    "    , 'rev_chunk 43': cat(cat(reversed(chunk)) for chunk in chunks(scb, 43))\n",
    "    , 'rev_chunk 101': cat(cat(reversed(chunk)) for chunk in chunks(scb, 101))\n",
    "    , 'rev_chunk 43 reversed': cat(cat(reversed(chunk)) for chunk in chunks(rscb, 43))\n",
    "    , 'rev_chunk 101 reversed': cat(cat(reversed(chunk)) for chunk in chunks(rscb, 101))\n",
    "    , 'rev nth 43': cat(cat(reversed(chunk)) for chunk in every_nth(scb, 43))\n",
    "    , 'rev nth 101': cat(cat(reversed(chunk)) for chunk in every_nth(scb, 101))\n",
    "    , 'rev nth 43 reversed': cat(cat(reversed(chunk)) for chunk in every_nth(rscb, 43))\n",
    "    , 'rev nth 101 reversed': cat(cat(reversed(chunk)) for chunk in every_nth(rscb, 101))\n",
    "    , 'unnth rev nth 43': combine_every_nth(cat(reversed(chunk)) for chunk in every_nth(scb, 43))\n",
    "    , 'unnth rev nth 101': combine_every_nth(cat(reversed(chunk)) for chunk in every_nth(scb, 101))\n",
    "    , 'unnth rev nth 43 reversed': combine_every_nth(cat(reversed(chunk)) for chunk in every_nth(rscb, 43))\n",
    "    , 'unnth rev nth 101 reversed': combine_every_nth(cat(reversed(chunk)) for chunk in every_nth(rscb, 101))\n",
    "}\n",
    "\n",
    "transformed_ciphertexts = {}\n",
    "tc_duplicates = set()\n",
    "for t in unfiltered_transformed_ciphertexts:\n",
    "    if unfiltered_transformed_ciphertexts[t] not in tc_duplicates:\n",
    "        transformed_ciphertexts[t] = unfiltered_transformed_ciphertexts[t]\n",
    "        tc_duplicates.add(unfiltered_transformed_ciphertexts[t])"
   ]
  },
  {
   "cell_type": "code",
   "execution_count": null,
   "metadata": {},
   "outputs": [],
   "source": [
    "scb = sanitise(cb)\n",
    "rscb = cat(reversed(scb))\n",
    "\n",
    "unfiltered_transformed_ciphertexts = { \n",
    "      'sanitised': scb\n",
    "    , 'reversed' : rscb\n",
    "    , 'scytale 43': scytale_encipher(scb, 43)\n",
    "    , 'scytale 101': scytale_decipher(scb, 101)\n",
    "    , 'scytale 43 reversed': scytale_decipher(rscb, 43)\n",
    "    , 'scytale 101 reversed': scytale_decipher(rscb, 101)\n",
    "    , 'chunk 43 reverse order': cat(reversed(chunks(scb, 43)))\n",
    "    , 'chunk 101 reverse order': cat(reversed(chunks(scb, 101)))\n",
    "    , 'chunk 43 reverse order reversed': cat(reversed(chunks(rscb, 43)))\n",
    "    , 'chunk 101 reverse order reversed': cat(reversed(chunks(rscb, 101)))\n",
    "    , 'rev_chunk 43': cat(cat(reversed(chunk)) for chunk in chunks(scb, 43))\n",
    "    , 'rev_chunk 101': cat(cat(reversed(chunk)) for chunk in chunks(scb, 101))\n",
    "    , 'rev_chunk 43 reversed': cat(cat(reversed(chunk)) for chunk in chunks(rscb, 43))\n",
    "    , 'rev_chunk 101 reversed': cat(cat(reversed(chunk)) for chunk in chunks(rscb, 101))\n",
    "    , 'rev nth 43': cat(cat(reversed(chunk)) for chunk in every_nth(scb, 43))\n",
    "    , 'rev nth 101': cat(cat(reversed(chunk)) for chunk in every_nth(scb, 101))\n",
    "    , 'rev nth 43 reversed': cat(cat(reversed(chunk)) for chunk in every_nth(rscb, 43))\n",
    "    , 'rev nth 101 reversed': cat(cat(reversed(chunk)) for chunk in every_nth(rscb, 101))\n",
    "    , 'unnth rev nth 43': combine_every_nth(cat(reversed(chunk)) for chunk in every_nth(scb, 43))\n",
    "    , 'unnth rev nth 101': combine_every_nth(cat(reversed(chunk)) for chunk in every_nth(scb, 101))\n",
    "    , 'unnth rev nth 43 reversed': combine_every_nth(cat(reversed(chunk)) for chunk in every_nth(rscb, 43))\n",
    "    , 'unnth rev nth 101 reversed': combine_every_nth(cat(reversed(chunk)) for chunk in every_nth(rscb, 101))\n",
    "}\n",
    "\n",
    "transformed_ciphertexts = {}\n",
    "tc_duplicates = set()\n",
    "for t in unfiltered_transformed_ciphertexts:\n",
    "    if unfiltered_transformed_ciphertexts[t] not in tc_duplicates:\n",
    "        transformed_ciphertexts[t] = unfiltered_transformed_ciphertexts[t]\n",
    "        tc_duplicates.add(unfiltered_transformed_ciphertexts[t])"
   ]
  },
  {
   "cell_type": "code",
   "execution_count": null,
   "metadata": {},
   "outputs": [],
   "source": [
    "len(unfiltered_transformed_ciphertexts), len(transformed_ciphertexts)"
   ]
  },
  {
   "cell_type": "code",
   "execution_count": null,
   "metadata": {
    "scrolled": true
   },
   "outputs": [],
   "source": [
    "vigenerekeys = {}\n",
    "\n",
    "for t in transformed_ciphertexts:\n",
    "    ct = transformed_ciphertexts[t]\n",
    "    key = vigenere_frequency_break(ct)\n",
    "    print(\"Done\", t, \"for key\", key[0])\n",
    "    vigenerekeys[t] = (key, vigenere_decipher(ct, key[0]))"
   ]
  },
  {
   "cell_type": "code",
   "execution_count": null,
   "metadata": {
    "scrolled": true
   },
   "outputs": [],
   "source": [
    "autokeys = {}\n",
    "\n",
    "for t in transformed_ciphertexts:\n",
    "    ct = transformed_ciphertexts[t]\n",
    "    keys = autokey_sa_break(ct, result_count=3, workers=3, max_iterations=10000, max_keylength=20)\n",
    "    print(\"Done\", t, \"for key\", keys[0][0])\n",
    "    autokeys[t] = [(key, autokey_decipher(ct, key[0])) for key in keys]"
   ]
  },
  {
   "cell_type": "code",
   "execution_count": null,
   "metadata": {},
   "outputs": [],
   "source": [
    "len(cb)"
   ]
  },
  {
   "cell_type": "code",
   "execution_count": null,
   "metadata": {},
   "outputs": [],
   "source": [
    "results = {}\n",
    "for n in [43, 101]: # range(1, 61):\n",
    "    sct = scytale_decipher(scb, n)\n",
    "    rsct = cat(reversed(sct))\n",
    "    keys = autokey_sa_break(rsct, result_count=3, workers=3, max_iterations=10000, max_keylength=20)\n",
    "    results[n] = keys\n",
    "    print(\"Done\", n, \" decipher for key\", keys[0][0])\n",
    "    \n",
    "    sct = scytale_encipher(scb, n)\n",
    "    rsct = cat(reversed(sct))\n",
    "    keys = autokey_sa_break(rsct, result_count=3, workers=3, max_iterations=10000, max_keylength=20)\n",
    "    results[n] = keys\n",
    "    print(\"Done\", n, \" decipher for key\", keys[0][0])"
   ]
  },
  {
   "cell_type": "code",
   "execution_count": null,
   "metadata": {},
   "outputs": [],
   "source": [
    "results = {}\n",
    "for n in range(1, 61):\n",
    "    un_n_l = int(len(scb) / n)\n",
    "    un_n_h = int(len(scb) / n) + 1\n",
    "    \n",
    "    if un_n_l not in results:\n",
    "        sct = scytale_decipher(scb, un_n_l)\n",
    "        rsct = cat(reversed(sct))\n",
    "        keys = autokey_sa_break(rsct, result_count=3, workers=3, max_iterations=10000, max_keylength=20)\n",
    "        results[un_n_l] = keys\n",
    "        print(\"Done\", un_n_l, \"for key\", keys[0][0])\n",
    "    \n",
    "    if un_n_h not in results:\n",
    "        sct = scytale_decipher(scb, un_n_h)\n",
    "        rsct = cat(reversed(sct))\n",
    "        keys = autokey_sa_break(rsct, result_count=3, workers=3, max_iterations=10000, max_keylength=20)\n",
    "        results[un_n_h] = keys\n",
    "        print(\"Done\", un_n_h, \"for key\", keys[0][0])"
   ]
  },
  {
   "cell_type": "code",
   "execution_count": null,
   "metadata": {
    "scrolled": true
   },
   "outputs": [],
   "source": [
    "for n in range(1, 61):\n",
    "    sct = scytale_decipher(scb, n)\n",
    "    rsct = cat(reversed(sct))\n",
    "    results = autokey_seek('caledonia', rsct)\n",
    "    print(n, [r[2] for r in sorted(results, key=lambda r: r[-1])[-5:]])"
   ]
  },
  {
   "cell_type": "code",
   "execution_count": 109,
   "metadata": {},
   "outputs": [],
   "source": [
    "rwcb = wcat(cat(reversed(w)) for w in cat(c for c in cb if c in string.ascii_letters + \" \").split())\n",
    "srwcb = sanitise(rwcb)"
   ]
  },
  {
   "cell_type": "code",
   "execution_count": 110,
   "metadata": {
    "scrolled": true
   },
   "outputs": [
    {
     "data": {
      "text/plain": [
       "'ycerevvtltfiewhxbxxalvfaanfkmzkjvvhdsvdyqlnlerhlnghkaiocsnqzeiocavghaabghzoebajclrgcumsnqwalgclpdrbvqxtvwjgvljaqbgxrgmhzayqamkkmvgalizfkjylnqrilkxbkhphjkstyhpavuvedizfaevzwrfqaqwxwoafaljtzwzkentgceqihguzkartwmxnlhptcsucthihqhvjaekkjtfevvrpzntsabgazlkrppthezuwlwdoabvctemhrhjjrdriljwpgzwzlruhhdnqstrardotsowzlitletapvbilivjzaexaljtfkttvcrizlhrnggivftnmaasrirychtalquonahtyaegclphrbvinnrdkynqrilerqewaauclrgcwmiayxzvavvtcditpllawtvjlwumkikczduvgaiazlpwmfxkryehezmilfkjypadhvjslfmlbcsnjzfhgxivjslwdgamnleucranqesrvzvfamnfzhvzpzglmaemzctdzwsnqwhlqafrlpstyaeqqrulvvetvcrizlhrvaokfjervvthzralhdycbehumlxhdndvltrmdvtzalmqrpctvjddhttalcacnghsetarfihqwaljtftfaglejprtlkoaqgctlsleavuanaalcrhcorewcsvnnqepbrstsrvzfvnwhwptvrtxwgaqwheekzgzdvtxpjotfmgnbvlrhcvzvkayfkoslfslbcmsnqlimfeqbixhwhogxveaebaaalqqzznfgttfrlwspaffufelkslfmlicmaaklbtwlroamnnnqlimghdhvypauqaymndhbehumlxhwaoianpimnfmvtarfamnflbtwxeenfkgaqxapvgzhaqizzrfgtarrwwydwfaxltbcgmnqlblyrofzwimkmharzevkalppwkanjarkahtlgcbgaeqqrjetwenlethrdrbovrnqpofvwsvvgkqqxhvrvlhtjihwaeqewpgzwsnqlfsbdgfuxvwkzastfirzmdhmeitwdgcbuhvzxofvgqbfalhvnhhtbugmlwrhhgkxtsemnleucdufamnfksfjpyfvaqeshdgkabmpfjllvtnpatbuqgclrgcwmwwibxhdnqzwtcjlhxhgbtslnuxjkhwahtmalrfamnfoavvwmfknkkmrgejuaakorrhwalrfwngtmqwkwrtkvthgslfmlbcmgfkjvzvtvtecgivrbzjhntkjtrkalplnqvgthalphrbvierijyqhgfauawhvsfjtpsksgkelwokevtyslfmlbumlhfvxnleghrfaqmnmlegxvehwhzpevzgclehrbvianqqrzevivxnlegalgalphrbvqphdwwkqqbqlbbwbfrfaqqgmltbbndrbgalvvqmivivtygzolmvjgfyalmfqaspkoobypevdvtzalmmszvgltgkwsnqwalgqrhbjgslkvqmivntvcrizlhrnrizddntovefaqaebaoinmalgqrhbtoifofqbqhqzfalfmlbcmlhqgrktivqhetahndklgqifoqrzzrrgxvixhgmwjtxvdetvnalwlitwadgkwwkwhtalqabfyxrujicmxtfxkvpyndlammhtgvallodthwhhkrdhxhhttnqwalvvqaivvvtrpkowbnnizvwgtyalmxqamtfypagkjfwvihrakcereivtubyjdtfypsgkjfsfjxrqslfmlbcmjzacodxhqhvvwlbumtbvtnpaxtsfvtbvqrwvtygvlaldgihqhvvwliumtxhwalpzmallnqxjgzonammrtwmxnlhptumucthkdvqqiloqrzzvsfxkryralwgzolmvjuhqhvypauqayanqhbmdgavtzhpaxfttlwlcmotodxjkqqrglalfmlbcmuqbqeqzrhkpuewpqivupagkjjkfusvrwsxbkpalqivqrtfsgzolmrctsogcthpzrhlkurvalrmcerjgthcmbpiotivtnhvzlhruhnrhkpumnqkllasfbhmalwmvulpxrrhvhrspirudrbknqfwhaivtzavianaleergtllgottbriafbhmalqmrbotfmmnytsogcthonqkpalhfpwetwqtfxkxapmuvgklnaaalmxqaspkowbuhdsmzkjvvhvwzzrvpjdwfafalpiogtnlvxahtpaskdzkhjburwngbonatrfihqtalqnzaclrgcumsnqkpaeqrqyqwrgxvpynqkuhtkvirvvgkhtalrbpmpvfamnfodvkavvvvhuwghwhsqmckitxhjnvgllujvksvtubgalfjbtxvsjtpstyalarifugnpgenqrrppckwimutlepermtyalmztoaymnqhvjslfslbcmsskslfmtbcmkugrgxhwhlvrnxyrrilffrgnbvlzfkovnvvtzhtntweaeeizyltjhvazehwalqqrjebadhgkumtbwbfgmajzhwhhxerjbznxbrralmztoaymnqhvdmrtumxnlhptcmucthkwsxnvnlwjptvjmudhhwhhrvetlwgtvxejwebajclrgcwmftfkalwskosthpaeqrgabmabwwslahtvcthviuewpqykvetxdzebajclrgcwszlgcrvjzfwjpgvtprvhdnraftfxkvpmtyalcqrhbxnqwhuktalvnebaaalwtkfbtkwlhtyaevvqmivvvtrpgowbanizvwsrrvwlxhvslfmlicmsnqkpayauruvxtfkalgtzmqwlalcfhdfqmyubmxhdggivslmalvfamnfglolmvjavrbzjantkjtfjsfjtasksgkjwfafaatalpwzbrerkhjcthctkjvvhtaljtfxkvpyndwaltgzagbrvslhqclrgcwmsnqkpaeqrfgwbwwslahtvcthonqkpaeqrevxnrerhwhqcrizlergalmzylerkszlevtuebaaaewzhmqstyalmrsbrxgivjebatalhhzdttvgaegqzootonahtddwjpcthamrthlhwalwmlmddofjoebaaalxpooqkctlejqjgntnponifjtfvtalqabghonnwaibbvthbrhkypgfjdaawbrhzibacdbtldsnqwwtxvwtfwndzddyqsszllhddgxvihzebajclggcwmklkrpetdwbonamhvpatorbshqhvypasrdailylgqbpgalphwalxklygodnmtyalgqrhxevzolvtovupstsveslialtxtalwwgwlzbrmfwfaqenqvghaemfqaspkowbprfgkwhwalwwethukvdmnviivfjvzwfdmksvtllnqiflwltefgjxhhgnbttvjrlgfpkrdyqdltxvwwvihiwfatalmzkhfdqrgofjuclphrbvqanqufamnnltsexalcpvwlxhdnqpmdhwsctznikgwgtluotlsnqvzlitxvtxrtbbnxhjtfkalizjsfjhhptdzrrnpgsjzvtqaeaebalbehumliwbgalcqdptiuhgbtealcfhdrvgqjzvvhvmzfnkkmrgejrhqobgbvhysbghhhljtfkkvwkstnbjdwamgamodevvgcthfvtdftxhwhhalppkgtnmgtyalbqasekowbtkquvnanqdtelslahnqehwalgqrhbqhhpaksfjooitxntxvggmddvtcofulvefaqstyhlvvgqjzvpmttalgqrhbxnqwhlvvxnlebtyaexpkoqkctlegaewsrxxrngxhtalqmlwaprurnnnqdwwruhhserfawbflhhalsmlmddjfjwechahfvggmdzefardatkndzllvehlcgidlrgalypvxbzvhiwfamuttbtrpqwvmikgkrzfpuwsvervmhwhhavgwbsrvzppkowbaaizvwtvnbpvdexapazpalhfpwetwcvwlhfvxhlmzyvbbilvrequmwgtwfaqaevvhhrvmhwalcqrhblqewfetrlgnzralkxvetlsctznnkgwgfhcthonqkpaeerevgqfulvtzhlmzktlpmahtryhphlalqagliubdfktngmtsksphvzyhqhvkakornsshpalhrzinnnqlbipinfeqkxvetejrhhtmhqqbgbvhexhdgfhxgvbbtalxklnatgmlbfgqbpgelphiofdmnlekrrvrtbwbflhqqaqcexbeetwcvwlbnctecgoxbkevgzahtmahtmkltadetwzbrhdybfxhzojauruhdxhgbtealroztalkrzfzwimoobqhvjgtyalenpkmrgpkfco'"
      ]
     },
     "execution_count": 110,
     "metadata": {},
     "output_type": "execute_result"
    }
   ],
   "source": [
    "srwcb"
   ]
  },
  {
   "cell_type": "code",
   "execution_count": 111,
   "metadata": {},
   "outputs": [
    {
     "data": {
      "text/plain": [
       "('attttttttttl', -23081.56936918698)"
      ]
     },
     "execution_count": 111,
     "metadata": {},
     "output_type": "execute_result"
    }
   ],
   "source": [
    "vigenere_frequency_break(srwcb, fitness=Ptrigrams)"
   ]
  },
  {
   "cell_type": "code",
   "execution_count": null,
   "metadata": {},
   "outputs": [],
   "source": [
    "beaufort_frequency_break(srwcb)"
   ]
  },
  {
   "cell_type": "code",
   "execution_count": null,
   "metadata": {},
   "outputs": [],
   "source": [
    "brwp = beaufort_decipher(srwcb, 'oeypytyhyttnttytoty' )\n",
    "brwp"
   ]
  },
  {
   "cell_type": "code",
   "execution_count": null,
   "metadata": {},
   "outputs": [],
   "source": [
    "results = autokey_seek('caledonia', brwp)\n",
    "sorted(results, key=lambda r: r[-1])[-10:]"
   ]
  },
  {
   "cell_type": "code",
   "execution_count": null,
   "metadata": {},
   "outputs": [],
   "source": [
    "results = autokey_seek('caledonia', caesar_decipher(srwcb, pos('t')))\n",
    "sorted(results, key=lambda r: r[-1])[-10:]"
   ]
  },
  {
   "cell_type": "code",
   "execution_count": null,
   "metadata": {},
   "outputs": [],
   "source": [
    "akt = autokey_encipher(sanitise(p7b), 'caledonia')\n",
    "akt"
   ]
  },
  {
   "cell_type": "code",
   "execution_count": null,
   "metadata": {},
   "outputs": [],
   "source": [
    "results = autokey_seek('caledonia', akt)\n",
    "sorted(results, key=lambda r: r[-1])[-10:]"
   ]
  },
  {
   "cell_type": "code",
   "execution_count": null,
   "metadata": {},
   "outputs": [],
   "source": [
    "tpack(segment(vigenere_decipher(srwcb, 'attttttttttl')))"
   ]
  },
  {
   "cell_type": "code",
   "execution_count": null,
   "metadata": {},
   "outputs": [],
   "source": [
    "results = {}\n",
    "for n in [43, 47, 101, 211]:\n",
    "    sct = scytale_decipher(srwcb, n)\n",
    "    rsct = cat(reversed(sct))\n",
    "    keys = autokey_sa_break(rsct, result_count=3, workers=3, max_iterations=10000, max_keylength=20)\n",
    "    results[n] = keys\n",
    "    print(\"Done\", n, \" decipher for key\", keys[0][0])\n",
    "    \n",
    "    sct = scytale_encipher(srwcb, n)\n",
    "    rsct = cat(reversed(sct))\n",
    "    keys = autokey_sa_break(rsct, result_count=3, workers=3, max_iterations=10000, max_keylength=20)\n",
    "    results[n] = keys\n",
    "    print(\"Done\", n, \" encipher for key\", keys[0][0])"
   ]
  },
  {
   "cell_type": "code",
   "execution_count": null,
   "metadata": {},
   "outputs": [],
   "source": [
    "results = {}\n",
    "for n in [43, 47, 101, 211]:\n",
    "    sct = scytale_decipher(srwcb, n)\n",
    "    rsct = cat(reversed(sct))\n",
    "    key = vigenere_frequency_break(rsct)\n",
    "    results[n] = keys\n",
    "    print(\"Done\", n, \" decipher for key\", key[0])\n",
    "    \n",
    "    sct = scytale_encipher(srwcb, n)\n",
    "    rsct = cat(reversed(sct))\n",
    "    key = vigenere_frequency_break(rsct)\n",
    "    results[n] = keys\n",
    "    print(\"Done\", n, \" encipher for key\", key[0])"
   ]
  },
  {
   "cell_type": "code",
   "execution_count": null,
   "metadata": {},
   "outputs": [],
   "source": [
    "results = autokey_seek('caledonia', srwcb)\n",
    "sorted(results, key=lambda r: r[-1])[-10:]"
   ]
  },
  {
   "cell_type": "code",
   "execution_count": null,
   "metadata": {},
   "outputs": [],
   "source": [
    "results = autokey_seek('caledoni', srwcb)\n",
    "sorted(results, key=lambda r: r[-1])[-10:]"
   ]
  },
  {
   "cell_type": "code",
   "execution_count": null,
   "metadata": {},
   "outputs": [],
   "source": [
    "results = autokey_seek(cat(reversed('caledonian')), srwcb)\n",
    "sorted(results, key=lambda r: r[-1])[-10:]"
   ]
  },
  {
   "cell_type": "code",
   "execution_count": null,
   "metadata": {},
   "outputs": [],
   "source": [
    "results = autokey_seek('salustius', srwcb)\n",
    "sorted(results, key=lambda r: r[-1])[-10:]"
   ]
  },
  {
   "cell_type": "markdown",
   "metadata": {},
   "source": [
    ">>>from pycipher import Autokey\n",
    ">>>Autokey('HELLO').encipher('defend the east wall of the castle')\n",
    "'KIQPBGXMIRDLAAELDHBTSPQFLAPG'\n",
    ">>>Autokey('HELLO').decipher('KIQPBGXMIRDLAAELDHBTSPQFLAPG')\n",
    "'DEFENDTHEEASTWALLOFTHECASTLE'"
   ]
  },
  {
   "cell_type": "code",
   "execution_count": null,
   "metadata": {},
   "outputs": [],
   "source": [
    "akt = autokey_encipher(sanitise('defend the east wall of the castle'), 'hello')\n",
    "akt"
   ]
  },
  {
   "cell_type": "code",
   "execution_count": null,
   "metadata": {},
   "outputs": [],
   "source": [
    "wcat(segment(autokey_decipher('kiqpbgxmirdlaaeldhbtspqflapg', 'hello')))"
   ]
  },
  {
   "cell_type": "code",
   "execution_count": null,
   "metadata": {},
   "outputs": [],
   "source": [
    "autokey_seek('defend', akt)"
   ]
  },
  {
   "cell_type": "code",
   "execution_count": null,
   "metadata": {},
   "outputs": [],
   "source": [
    "results = {}\n",
    "for n in [43, 47, 101, 211]:\n",
    "    sct = scytale_decipher(srwcb, n)\n",
    "    rsct = cat(reversed(sct))\n",
    "    results = autokey_seek('caledonai', srwcb)\n",
    "    print(\"decipher\", [(r[0], r[2]) for r in sorted(results, key=lambda r: r[-1])[-5:]])\n",
    "    \n",
    "    sct = scytale_encipher(srwcb, n)\n",
    "    rsct = cat(reversed(sct))\n",
    "    results = autokey_seek('caledonai', srwcb)\n",
    "    print(\"encipher\", [(r[0], r[2]) for r in sorted(results, key=lambda r: r[-1])[-5:]])\n",
    "    "
   ]
  },
  {
   "cell_type": "code",
   "execution_count": null,
   "metadata": {},
   "outputs": [],
   "source": [
    "results = {}\n",
    "for n in [12]:\n",
    "    sct = scytale_decipher(srwcb, n)\n",
    "    rsct = cat(reversed(sct))\n",
    "    results = autokey_seek('caledonai', srwcb)\n",
    "    print(\"decipher\", [(r[0], r[2]) for r in sorted(results, key=lambda r: r[-1])[-10:]])\n",
    "    \n",
    "    sct = scytale_encipher(srwcb, n)\n",
    "    rsct = cat(reversed(sct))\n",
    "    results = autokey_seek('caledonai', srwcb)\n",
    "    print(\"encipher\", [(r[0], r[2]) for r in sorted(results, key=lambda r: r[-1])[-10:]])\n",
    "    "
   ]
  },
  {
   "cell_type": "code",
   "execution_count": null,
   "metadata": {},
   "outputs": [],
   "source": [
    "fc = collections.Counter(sanitise(scb))\n",
    "plot_frequency_histogram(fc, sort_key=fc.get)"
   ]
  },
  {
   "cell_type": "code",
   "execution_count": null,
   "metadata": {},
   "outputs": [],
   "source": [
    "vigenere_frequency_break(srwcb, max_key_length=12)"
   ]
  },
  {
   "cell_type": "code",
   "execution_count": null,
   "metadata": {},
   "outputs": [],
   "source": [
    "caesar_decipher(srwcb, pos('t'))"
   ]
  },
  {
   "cell_type": "code",
   "execution_count": null,
   "metadata": {},
   "outputs": [],
   "source": [
    "column_transposition_break_mp(caesar_decipher(srwcb, pos('t')))"
   ]
  },
  {
   "cell_type": "code",
   "execution_count": null,
   "metadata": {},
   "outputs": [],
   "source": [
    "column_transposition_decipher(  caesar_decipher(srwcb, pos('t'))\n",
    "                              , (4, 0, 2, 3, 6, 7, 5, 1)\n",
    "                              , fillcolumnwise=False\n",
    "                              , emptycolumnwise=True)"
   ]
  },
  {
   "cell_type": "code",
   "execution_count": null,
   "metadata": {},
   "outputs": [],
   "source": [
    "autokey_decipher(srwcb, 'abcdefghijkl')"
   ]
  },
  {
   "cell_type": "code",
   "execution_count": null,
   "metadata": {},
   "outputs": [],
   "source": [
    "ics = [(i, sum(index_of_coincidence(section) for section in every_nth(srwcb, i)) / i)\n",
    "       for i in range(1, 30)]\n",
    "sorted(ics, key=lambda p: p[1])"
   ]
  },
  {
   "cell_type": "code",
   "execution_count": 112,
   "metadata": {},
   "outputs": [
    {
     "name": "stderr",
     "output_type": "stream",
     "text": [
      "/usr/local/lib/python3.6/dist-packages/matplotlib/figure.py:418: UserWarning: matplotlib is currently using a non-GUI backend, so cannot show the figure\n",
      "  \"matplotlib is currently using a non-GUI backend, \"\n"
     ]
    },
    {
     "data": {
      "image/png": "[encoded data removed]",
      "text/plain": [
       "<matplotlib.figure.Figure at 0x7fd56e510f60>"
      ]
     },
     "metadata": {},
     "output_type": "display_data"
    }
   ],
   "source": [
    "fc = collections.Counter(every_nth(srwcb, 12)[2])\n",
    "plot_frequency_histogram(fc, sort_key=fc.get)"
   ]
  },
  {
   "cell_type": "code",
   "execution_count": 113,
   "metadata": {},
   "outputs": [
    {
     "data": {
      "text/plain": [
       "['ycerevvtltfi',\n",
       " 'ewhxbxxalvfa',\n",
       " 'anfkmzkjvvhd',\n",
       " 'svdyqlnlerhl',\n",
       " 'nghkaiocsnqz',\n",
       " 'eiocavghaabg',\n",
       " 'hzoebajclrgc',\n",
       " 'umsnqwalgclp',\n",
       " 'drbvqxtvwjgv',\n",
       " 'ljaqbgxrgmhz',\n",
       " 'ayqamkkmvgal',\n",
       " 'izfkjylnqril',\n",
       " 'kxbkhphjksty',\n",
       " 'hpavuvedizfa',\n",
       " 'evzwrfqaqwxw',\n",
       " 'oafaljtzwzke',\n",
       " 'ntgceqihguzk',\n",
       " 'artwmxnlhptc',\n",
       " 'sucthihqhvja',\n",
       " 'ekkjtfevvrpz',\n",
       " 'ntsabgazlkrp',\n",
       " 'pthezuwlwdoa',\n",
       " 'bvctemhrhjjr',\n",
       " 'driljwpgzwzl',\n",
       " 'ruhhdnqstrar',\n",
       " 'dotsowzlitle',\n",
       " 'tapvbilivjza',\n",
       " 'exaljtfkttvc',\n",
       " 'rizlhrnggivf',\n",
       " 'tnmaasrirych',\n",
       " 'talquonahtya',\n",
       " 'egclphrbvinn',\n",
       " 'rdkynqrilerq',\n",
       " 'ewaauclrgcwm',\n",
       " 'iayxzvavvtcd',\n",
       " 'itpllawtvjlw',\n",
       " 'umkikczduvga',\n",
       " 'iazlpwmfxkry',\n",
       " 'ehezmilfkjyp',\n",
       " 'adhvjslfmlbc',\n",
       " 'snjzfhgxivjs',\n",
       " 'lwdgamnleucr',\n",
       " 'anqesrvzvfam',\n",
       " 'nfzhvzpzglma',\n",
       " 'emzctdzwsnqw',\n",
       " 'hlqafrlpstya',\n",
       " 'eqqrulvvetvc',\n",
       " 'rizlhrvaokfj',\n",
       " 'ervvthzralhd',\n",
       " 'ycbehumlxhdn',\n",
       " 'dvltrmdvtzal',\n",
       " 'mqrpctvjddht',\n",
       " 'talcacnghset',\n",
       " 'arfihqwaljtf',\n",
       " 'tfaglejprtlk',\n",
       " 'oaqgctlsleav',\n",
       " 'uanaalcrhcor',\n",
       " 'ewcsvnnqepbr',\n",
       " 'stsrvzfvnwhw',\n",
       " 'ptvrtxwgaqwh',\n",
       " 'eekzgzdvtxpj',\n",
       " 'otfmgnbvlrhc',\n",
       " 'vzvkayfkoslf',\n",
       " 'slbcmsnqlimf',\n",
       " 'eqbixhwhogxv',\n",
       " 'eaebaaalqqzz',\n",
       " 'nfgttfrlwspa',\n",
       " 'ffufelkslfml',\n",
       " 'icmaaklbtwlr',\n",
       " 'oamnnnqlimgh',\n",
       " 'dhvypauqaymn',\n",
       " 'dhbehumlxhwa',\n",
       " 'oianpimnfmvt',\n",
       " 'arfamnflbtwx',\n",
       " 'eenfkgaqxapv',\n",
       " 'gzhaqizzrfgt',\n",
       " 'arrwwydwfaxl',\n",
       " 'tbcgmnqlblyr',\n",
       " 'ofzwimkmharz',\n",
       " 'evkalppwkanj',\n",
       " 'arkahtlgcbga',\n",
       " 'eqqrjetwenle',\n",
       " 'thrdrbovrnqp',\n",
       " 'ofvwsvvgkqqx',\n",
       " 'hvrvlhtjihwa',\n",
       " 'eqewpgzwsnql',\n",
       " 'fsbdgfuxvwkz',\n",
       " 'astfirzmdhme',\n",
       " 'itwdgcbuhvzx',\n",
       " 'ofvgqbfalhvn',\n",
       " 'hhtbugmlwrhh',\n",
       " 'gkxtsemnleuc',\n",
       " 'dufamnfksfjp',\n",
       " 'yfvaqeshdgka',\n",
       " 'bmpfjllvtnpa',\n",
       " 'tbuqgclrgcwm',\n",
       " 'wwibxhdnqzwt',\n",
       " 'cjlhxhgbtsln',\n",
       " 'uxjkhwahtmal',\n",
       " 'rfamnfoavvwm',\n",
       " 'fknkkmrgejua',\n",
       " 'akorrhwalrfw',\n",
       " 'ngtmqwkwrtkv',\n",
       " 'thgslfmlbcmg',\n",
       " 'fkjvzvtvtecg',\n",
       " 'ivrbzjhntkjt',\n",
       " 'rkalplnqvgth',\n",
       " 'alphrbvierij',\n",
       " 'yqhgfauawhvs',\n",
       " 'fjtpsksgkelw',\n",
       " 'okevtyslfmlb',\n",
       " 'umlhfvxnlegh',\n",
       " 'rfaqmnmlegxv',\n",
       " 'ehwhzpevzgcl',\n",
       " 'ehrbvianqqrz',\n",
       " 'evivxnlegalg',\n",
       " 'alphrbvqphdw',\n",
       " 'wkqqbqlbbwbf',\n",
       " 'rfaqqgmltbbn',\n",
       " 'drbgalvvqmiv',\n",
       " 'ivtygzolmvjg',\n",
       " 'fyalmfqaspko',\n",
       " 'obypevdvtzal',\n",
       " 'mmszvgltgkws',\n",
       " 'nqwalgqrhbjg',\n",
       " 'slkvqmivntvc',\n",
       " 'rizlhrnrizdd',\n",
       " 'ntovefaqaeba',\n",
       " 'oinmalgqrhbt',\n",
       " 'oifofqbqhqzf',\n",
       " 'alfmlbcmlhqg',\n",
       " 'rktivqhetahn',\n",
       " 'dklgqifoqrzz',\n",
       " 'rrgxvixhgmwj',\n",
       " 'txvdetvnalwl',\n",
       " 'itwadgkwwkwh',\n",
       " 'talqabfyxruj',\n",
       " 'icmxtfxkvpyn',\n",
       " 'dlammhtgvall',\n",
       " 'odthwhhkrdhx',\n",
       " 'hhttnqwalvvq',\n",
       " 'aivvvtrpkowb',\n",
       " 'nnizvwgtyalm',\n",
       " 'xqamtfypagkj',\n",
       " 'fwvihrakcere',\n",
       " 'ivtubyjdtfyp',\n",
       " 'sgkjfsfjxrqs',\n",
       " 'lfmlbcmjzaco',\n",
       " 'dxhqhvvwlbum',\n",
       " 'tbvtnpaxtsfv',\n",
       " 'tbvqrwvtygvl',\n",
       " 'aldgihqhvvwl',\n",
       " 'iumtxhwalpzm',\n",
       " 'allnqxjgzona',\n",
       " 'mmrtwmxnlhpt',\n",
       " 'umucthkdvqqi',\n",
       " 'loqrzzvsfxkr',\n",
       " 'yralwgzolmvj',\n",
       " 'uhqhvypauqay',\n",
       " 'anqhbmdgavtz',\n",
       " 'hpaxfttlwlcm',\n",
       " 'otodxjkqqrgl',\n",
       " 'alfmlbcmuqbq',\n",
       " 'eqzrhkpuewpq',\n",
       " 'ivupagkjjkfu',\n",
       " 'svrwsxbkpalq',\n",
       " 'ivqrtfsgzolm',\n",
       " 'rctsogcthpzr',\n",
       " 'hlkurvalrmce',\n",
       " 'rjgthcmbpiot',\n",
       " 'ivtnhvzlhruh',\n",
       " 'nrhkpumnqkll',\n",
       " 'asfbhmalwmvu',\n",
       " 'lpxrrhvhrspi',\n",
       " 'rudrbknqfwha',\n",
       " 'ivtzavianale',\n",
       " 'ergtllgottbr',\n",
       " 'iafbhmalqmrb',\n",
       " 'otfmmnytsogc',\n",
       " 'thonqkpalhfp',\n",
       " 'wetwqtfxkxap',\n",
       " 'muvgklnaaalm',\n",
       " 'xqaspkowbuhd',\n",
       " 'smzkjvvhvwzz',\n",
       " 'rvpjdwfafalp',\n",
       " 'iogtnlvxahtp',\n",
       " 'askdzkhjburw',\n",
       " 'ngbonatrfihq',\n",
       " 'talqnzaclrgc',\n",
       " 'umsnqkpaeqrq',\n",
       " 'yqwrgxvpynqk',\n",
       " 'uhtkvirvvgkh',\n",
       " 'talrbpmpvfam',\n",
       " 'nfodvkavvvvh',\n",
       " 'uwghwhsqmcki',\n",
       " 'txhjnvgllujv',\n",
       " 'ksvtubgalfjb',\n",
       " 'txvsjtpstyal',\n",
       " 'arifugnpgenq',\n",
       " 'rrppckwimutl',\n",
       " 'epermtyalmzt',\n",
       " 'oaymnqhvjslf',\n",
       " 'slbcmsskslfm',\n",
       " 'tbcmkugrgxhw',\n",
       " 'hlvrnxyrrilf',\n",
       " 'frgnbvlzfkov',\n",
       " 'nvvtzhtntwea',\n",
       " 'eeizyltjhvaz',\n",
       " 'ehwalqqrjeba',\n",
       " 'dhgkumtbwbfg',\n",
       " 'majzhwhhxerj',\n",
       " 'bznxbrralmzt',\n",
       " 'oaymnqhvdmrt',\n",
       " 'umxnlhptcmuc',\n",
       " 'thkwsxnvnlwj',\n",
       " 'ptvjmudhhwhh',\n",
       " 'rvetlwgtvxej',\n",
       " 'webajclrgcwm',\n",
       " 'ftfkalwskost',\n",
       " 'hpaeqrgabmab',\n",
       " 'wwslahtvcthv',\n",
       " 'iuewpqykvetx',\n",
       " 'dzebajclrgcw',\n",
       " 'szlgcrvjzfwj',\n",
       " 'pgvtprvhdnra',\n",
       " 'ftfxkvpmtyal',\n",
       " 'cqrhbxnqwhuk',\n",
       " 'talvnebaaalw',\n",
       " 'tkfbtkwlhtya',\n",
       " 'evvqmivvvtrp',\n",
       " 'gowbanizvwsr',\n",
       " 'rvwlxhvslfml',\n",
       " 'icmsnqkpayau',\n",
       " 'ruvxtfkalgtz',\n",
       " 'mqwlalcfhdfq',\n",
       " 'myubmxhdggiv',\n",
       " 'slmalvfamnfg',\n",
       " 'lolmvjavrbzj',\n",
       " 'antkjtfjsfjt',\n",
       " 'asksgkjwfafa',\n",
       " 'atalpwzbrerk',\n",
       " 'hjcthctkjvvh',\n",
       " 'taljtfxkvpyn',\n",
       " 'dwaltgzagbrv',\n",
       " 'slhqclrgcwms',\n",
       " 'nqkpaeqrfgwb',\n",
       " 'wwslahtvctho',\n",
       " 'nqkpaeqrevxn',\n",
       " 'rerhwhqcrizl',\n",
       " 'ergalmzylerk',\n",
       " 'szlevtuebaaa',\n",
       " 'ewzhmqstyalm',\n",
       " 'rsbrxgivjeba',\n",
       " 'talhhzdttvga',\n",
       " 'egqzootonaht',\n",
       " 'ddwjpcthamrt',\n",
       " 'hlhwalwmlmdd',\n",
       " 'ofjoebaaalxp',\n",
       " 'ooqkctlejqjg',\n",
       " 'ntnponifjtfv',\n",
       " 'talqabghonnw',\n",
       " 'aibbvthbrhky',\n",
       " 'pgfjdaawbrhz',\n",
       " 'ibacdbtldsnq',\n",
       " 'wwtxvwtfwndz',\n",
       " 'ddyqsszllhdd',\n",
       " 'gxvihzebajcl',\n",
       " 'ggcwmklkrpet',\n",
       " 'dwbonamhvpat',\n",
       " 'orbshqhvypas',\n",
       " 'rdailylgqbpg',\n",
       " 'alphwalxklyg',\n",
       " 'odnmtyalgqrh',\n",
       " 'xevzolvtovup',\n",
       " 'stsveslialtx',\n",
       " 'talwwgwlzbrm',\n",
       " 'fwfaqenqvgha',\n",
       " 'emfqaspkowbp',\n",
       " 'rfgkwhwalwwe',\n",
       " 'thukvdmnviiv',\n",
       " 'fjvzwfdmksvt',\n",
       " 'llnqiflwltef',\n",
       " 'gjxhhgnbttvj',\n",
       " 'rlgfpkrdyqdl',\n",
       " 'txvwwvihiwfa',\n",
       " 'talmzkhfdqrg',\n",
       " 'ofjuclphrbvq',\n",
       " 'anqufamnnlts',\n",
       " 'exalcpvwlxhd',\n",
       " 'nqpmdhwsctzn',\n",
       " 'ikgwgtluotls',\n",
       " 'nqvzlitxvtxr',\n",
       " 'tbbnxhjtfkal',\n",
       " 'izjsfjhhptdz',\n",
       " 'rrnpgsjzvtqa',\n",
       " 'eaebalbehuml',\n",
       " 'iwbgalcqdpti',\n",
       " 'uhgbtealcfhd',\n",
       " 'rvgqjzvvhvmz',\n",
       " 'fnkkmrgejrhq',\n",
       " 'obgbvhysbghh',\n",
       " 'hljtfkkvwkst',\n",
       " 'nbjdwamgamod',\n",
       " 'evvgcthfvtdf',\n",
       " 'txhwhhalppkg',\n",
       " 'tnmgtyalbqas',\n",
       " 'ekowbtkquvna',\n",
       " 'nqdtelslahnq',\n",
       " 'ehwalgqrhbqh',\n",
       " 'hpaksfjooitx',\n",
       " 'ntxvggmddvtc',\n",
       " 'ofulvefaqsty',\n",
       " 'hlvvgqjzvpmt',\n",
       " 'talgqrhbxnqw',\n",
       " 'hlvvxnlebtya',\n",
       " 'expkoqkctleg',\n",
       " 'aewsrxxrngxh',\n",
       " 'talqmlwaprur',\n",
       " 'nnnqdwwruhhs',\n",
       " 'erfawbflhhal',\n",
       " 'smlmddjfjwec',\n",
       " 'hahfvggmdzef',\n",
       " 'ardatkndzllv',\n",
       " 'ehlcgidlrgal',\n",
       " 'ypvxbzvhiwfa',\n",
       " 'muttbtrpqwvm',\n",
       " 'ikgkrzfpuwsv',\n",
       " 'ervmhwhhavgw',\n",
       " 'bsrvzppkowba',\n",
       " 'aizvwtvnbpvd',\n",
       " 'exapazpalhfp',\n",
       " 'wetwcvwlhfvx',\n",
       " 'hlmzyvbbilvr',\n",
       " 'equmwgtwfaqa',\n",
       " 'evvhhrvmhwal',\n",
       " 'cqrhblqewfet',\n",
       " 'rlgnzralkxve',\n",
       " 'tlsctznnkgwg',\n",
       " 'fhcthonqkpae',\n",
       " 'erevgqfulvtz',\n",
       " 'hlmzktlpmaht',\n",
       " 'ryhphlalqagl',\n",
       " 'iubdfktngmts',\n",
       " 'ksphvzyhqhvk',\n",
       " 'akornsshpalh',\n",
       " 'rzinnnqlbipi',\n",
       " 'nfeqkxvetejr',\n",
       " 'hhtmhqqbgbvh',\n",
       " 'exhdgfhxgvbb',\n",
       " 'talxklnatgml',\n",
       " 'bfgqbpgelphi',\n",
       " 'ofdmnlekrrvr',\n",
       " 'tbwbflhqqaqc',\n",
       " 'exbeetwcvwlb',\n",
       " 'nctecgoxbkev',\n",
       " 'gzahtmahtmkl',\n",
       " 'tadetwzbrhdy',\n",
       " 'bfxhzojauruh',\n",
       " 'dxhgbtealroz',\n",
       " 'talkrzfzwimo',\n",
       " 'obqhvjgtyale',\n",
       " 'npkmrgpkfco']"
      ]
     },
     "execution_count": 113,
     "metadata": {},
     "output_type": "execute_result"
    }
   ],
   "source": [
    "chunks(srwcb, 12)"
   ]
  },
  {
   "cell_type": "code",
   "execution_count": 114,
   "metadata": {},
   "outputs": [],
   "source": [
    "# hill_matrix = [[1] * (i + 1) + [0] * (12 - (i + 1)) for i in range(12)]\n",
    "# hill_matrix"
   ]
  },
  {
   "cell_type": "code",
   "execution_count": 47,
   "metadata": {},
   "outputs": [
    {
     "data": {
      "text/plain": [
       "[[1, 0, 0, 0, 0, 0, 0, 0, 0, 0, 0, 0],\n",
       " [1, 1, 0, 0, 0, 0, 0, 0, 0, 0, 0, 0],\n",
       " [0, 1, 1, 0, 0, 0, 0, 0, 0, 0, 0, 0],\n",
       " [0, 0, 1, 1, 0, 0, 0, 0, 0, 0, 0, 0],\n",
       " [0, 0, 0, 1, 1, 0, 0, 0, 0, 0, 0, 0],\n",
       " [0, 0, 0, 0, 1, 1, 0, 0, 0, 0, 0, 0],\n",
       " [0, 0, 0, 0, 0, 1, 1, 0, 0, 0, 0, 0],\n",
       " [0, 0, 0, 0, 0, 0, 1, 1, 0, 0, 0, 0],\n",
       " [0, 0, 0, 0, 0, 0, 0, 1, 1, 0, 0, 0],\n",
       " [0, 0, 0, 0, 0, 0, 0, 0, 1, 1, 0, 0],\n",
       " [0, 0, 0, 0, 0, 0, 0, 0, 0, 1, 1, 0],\n",
       " [0, 0, 0, 0, 0, 0, 0, 0, 0, 0, 1, 1]]"
      ]
     },
     "execution_count": 47,
     "metadata": {},
     "output_type": "execute_result"
    }
   ],
   "source": [
    "hill_matrix = [list(reversed([0] * (12 - (i + 1)) + [1, 1] + [0] * 12))[-12:] for i in range(12)]\n",
    "hill_matrix"
   ]
  },
  {
   "cell_type": "code",
   "execution_count": 48,
   "metadata": {},
   "outputs": [
    {
     "data": {
      "text/plain": [
       "'yearningforrespitetheromanssufferedasdaysturnedintoweeksandweeksintomonthswithcalgacusandthecaledoniiperfectlycontenttolaysiegeintheirownlandourknowledgeofthisdreadfulperiodcomesfromthefollowingaccountbymarcusfideliuscatoundersiegeforninelongmonthstrappedbywallswebuilttodefendourselvesherdedandpennedlikesheepwithinourrefugethefortatcarridenagainstusisarrayedthemightofthecaledonianarmyandournemesiscalgacusisgrinningwhilehewatchesussquirminthishellbetrayedbyourownleadersalustiusvolunteersallsomanygoodandbraveromanshavelosttheirlivesandthemoraleofthemenhereatcarridenisworseningbythedayexhaustedandstarvingthemencatchwhattheycantoeataroundthefortmostlyratssomecatsalthoughtheytooareskinandbonesbravebutdesperatesomespeakprivatelyofamutinytooverthrowsalustiusandiamtemptedtoagreewiththemevensoforallhisfaultssalustiusisstillaromanandiamunderhiscommandexhaustedthoughiambeingaromanstillmeanssomethingtomeevensofarawayfromlatiumanditsglorioussunneverthelessifearthatsoonthemenwillturntodarkerandmoresavagemethodstofeedthemselvesandifnoprogresshasbeenmadeiwillsoonhavetoreconsiderwhatimustdotogetasmanygoodromanssafelyhomeaspossiblebidinghistimecalgacuswaitedandwatcheduntilhejudgedthattheromansweresufficientlyweakenedthensentamessengertosalustiusofferingpeaceinexchangeforthelandsofcaledoniaenvoyspromisedsafepassageallowingsalustiustoreturntoromeifheagreedtoleavecaledoniaandneverreturnthecaledoniihadtwoconditionsromemustabandontheremainingsoldiersoftheixthlegionleavingthemashostagesandthecodexmustremainatcarridenarrivinginromewithoutthecodexwouldcondemnsalustiustocertaindeathandhecouldneveragreetosuchtermsbuthestillpossessedthemonsgraupiusforgeryandisuspecthehopedtotradethatandtheremaininglegionnairesoftheixthforhisownfreedomyearningonlyforhisownsafetysalustiusriskedunderestimatinghisfoebutindoingsohealsounderestimatedtheloyalanduprightmarcusfideliuscatowhocouldneverbetraythesoldiersunderhiscommandexposingthisfatallackofjudgementsalustiuscondemnedhimselfinhisownwordsdoiknowthemindofasoldierlikecatobythegodsidoyearsofcampaigninghavehardenedhimandhehasnotthesubtletytoharbourdarkandcunningthoughtsmentalagilityisnotthemarkofamanlikecatoandhistorywillforgethimintruththeixthlegionhadsufferedseverelyfromtheligaturethatwasslowlydrawntightaroundthembycalgacusandhismendysenteryandhungerravagedthenobleromanswhowerereducedtoemaciatedghostschokingonthebitterbileofthearroganceandrapaciouscrueltyoftheircommandersalustiusassalustiusscentedtherankodourofmutinybeginningtofilltheairhepunishedthemenwithdecimationsomovedtotearsbypitytheircommandermarcusfideliuscatowasfinallypersuadedtotreatsecretlywithcalgacusforthesakeofhismenthusitwasthatcatohimselftreatedwithcalgacushecarefullypreparedanewforgeryofthecodexandtogetherwiththestrongestoftheremaininglegionnairesarrestedsalustiusandhisguardsforthecrimestheyhadcommittedagainsttheromansoldiersinexchangeforsafepassagefromthathellonearthcatoofferedtheforgeryandtheprisonerstocalgacusandhismensoitwasthatcatoandhismenreturnedtocarridentheirheartsheavywiththeshameoftheirbargainwiththedevilinthecoldlightofdawncatomarchedthesurvivorswiththetwoaquilaeflyinghighbeforethemontoanawaitingbarqueprovisionedwithvitalsandwaterforfivedaysashehadagreedwithcalgacusstrappedtighttohisbodyunderhisarmourheconcealedthetruecopyofthecodexholdinginhisbreastplatethesecurityofromeandsotheixthlegioncrossedtheseatogermaniainferiormakinglandfallatlugdunumbatavorumtwodayslaterfreedfromtheirtormentorscaledoniiandromanaliketheyrestedandmadesacrificesofgoatsandsheepingratitudefortheirsafedeliveranceovercomewithexhaustiontheysleptuntiltheyhadrecoveredsufficientlytocontinueontothefortressatnoviomaguswherecatoreportedtothelegatusofthexthlegiongeminaandatlasthandedthecodextohissafekeepingreceivingwordinromeoftherecoveryofthecodexandthereturnofthetwoaquilaecaesargrantedthemallpardonandawardedpensionstothesurvivorseachtoreceiveafarmoffiveherediumwhentheyretiredfrommilitaryserviceglorywasdeniedtothosebravelegionnairesbutihopethishistorywillrestoretheirhonourenemiesofromeweredeniedthecodexoccultarumbythegreatsacrificesofcatoandhismenrecordingtheirtaleisperhapsthemostimportanttaskihaveundertakenasahistoriananditpainsmegreatlythattocontinuetoprotectitthetruthmustbeconcealedformanygenerationstocomeyetiwillrestinpeaceknowingthatthattruthwillonedaybetoldguardeduntilthenbythegloriouswondersoftheancientworldx'"
      ]
     },
     "execution_count": 48,
     "metadata": {},
     "output_type": "execute_result"
    }
   ],
   "source": [
    "hill_decipher(hill_matrix, srwcb)"
   ]
  },
  {
   "cell_type": "code",
   "execution_count": 49,
   "metadata": {
    "scrolled": true
   },
   "outputs": [
    {
     "data": {
      "text/plain": [
       "'YEARNING FOR RESPITE THE ROMANS SUFFERED AS DAYS TURNED INTO WEEKS AND WEEKS INTO MONTHS, WITH CALGACUS AND THE CALEDONII PERFECTLY CONTENT TO LAY SIEGE IN THEIR OWN LAND. OUR KNOWLEDGE OF THIS DREADFUL PERIOD COMES FROM THE FOLLOWING ACCOUNT BY MARCUS FIDELIUS CATO.“ UNDER SIEGE FOR NINE LONG MONTHS, TRAPPED BY WALLS WE BUILT TO DEFEND OURSELVES. HERDED AND PENNED LIKE SHEEP WITHIN OUR REFUGE, THE FORT AT CARRIDEN. AGAINST US IS ARRAYED THE MIGHT OF THE CALEDONIAN ARMY, AND OUR NEMESIS CALGACUS IS GRINNING WHILE HE WATCHES US SQUIRM IN THIS HELL, BETRAYED BY OUR OWN LEADER SALUSTIUS. VOLUNTEERS ALL, SO MANY GOOD AND BRAVE ROMANS HAVE LOST THEIR LIVES, AND THE MORALE OF THE MEN HERE AT CARRIDEN IS WORSENING BY THE DAY. EXHAUSTED AND STARVING THE MEN CATCH WHAT THEY CAN TO EAT AROUND THE FORT, MOSTLY RATS, SOME CATS, ALTHOUGH THEY TOO ARE SKIN AND BONES. BRAVE BUT DESPERATE, SOME SPEAK PRIVATELY OF A MUTINY TO OVERTHROW SALUSTIUS, AND I AM TEMPTED TO AGREE WITH THEM. EVEN SO, FOR ALL HIS FAULTS, SALUSTIUS IS STILL A ROMAN AND I AM UNDER HIS COMMAND. EXHAUSTED THOUGH I AM, BEING A ROMAN STILL MEANS SOMETHING TO ME, EVEN SO FAR AWAY FROM LATIUM AND ITS GLORIOUS SUN. NEVERTHELESS, I FEAR THAT SOON THE MEN WILL TURN TO DARKER AND MORE SAVAGE METHODS TO FEED THEMSELVES AND IF NO PROGRESS HAS BEEN MADE, I WILL SOON HAVE TO RECONSIDER WHAT I MUST DO TO GET AS MANY GOOD ROMANS SAFELY HOME AS POSSIBLE.” BIDING HIS TIME CALGACUS WAITED AND WATCHED UNTIL HE JUDGED THAT THE ROMANS WERE SUFFICIENTLY WEAKENED, THEN SENT A MESSENGER TO SALUSTIUS OFFERING PEACE IN EXCHANGE FOR THE LANDS OF CALEDONIA. ENVOYS PROMISED SAFE PASSAGE, ALLOWING SALUSTIUS TO RETURN TO ROME IF HE AGREED TO LEAVE CALEDONIA AND NEVER RETURN. THE CALEDONII HAD TWO CONDITIONS. ROME MUST ABANDON THE REMAINING SOLDIERS OF THE IXTH LEGION, LEAVING THEM AS HOSTAGES; AND THE CODEX MUST REMAIN AT CARRIDEN. ARRIVING IN ROME WITHOUT THE CODEX WOULD CONDEMN SALUSTIUS TO CERTAIN DEATH, AND HE COULD NEVER AGREE TO SUCH TERMS, BUT HE STILL POSSESSED THE MONS GRAUPIUS FORGERY AND I SUSPECT HE HOPED TO TRADE THAT AND THE REMAINING LEGIONNAIRES OF THE IXTH FOR HIS OWN FREEDOM. YEARNING ONLY FOR HIS OWN SAFETY, SALUSTIUS RISKED UNDERESTIMATING HIS FOE, BUT IN DOING SO HE ALSO UNDERESTIMATED THE LOYAL AND UPRIGHT MARCUS FIDELIUS CATO WHO COULD NEVER BETRAY THE SOLDIERS UNDER HIS COMMAND. EXPOSING THIS FATAL LACK OF JUDGEMENT, SALUSTIUS CONDEMNED HIMSELF IN HIS OWN WORDS. “DO I KNOW THE MIND OF A SOLDIER LIKE CATO? BY THE GODS I DO. YEARS OF CAMPAIGNING HAVE HARDENED HIM AND HE HAS NOT THE SUBTLETY TO HARBOUR DARK AND CUNNING THOUGHTS. MENTAL AGILITY IS NOT THE MARK OF A MAN LIKE CATO AND HISTORY WILL FORGET HIM.” IN TRUTH THE IXTH LEGION HAD SUFFERED SEVERELY FROM THE LIGATURE THAT WAS SLOWLY DRAWN TIGHT AROUND THEM BY CALGACUS AND HIS MEN. DYSENTERY AND HUNGER RAVAGED THE NOBLE ROMANS WHO WERE REDUCED TO EMACIATED GHOSTS, CHOKING ON THE BITTER BILE OF THE ARROGANCE AND RAPACIOUS CRUELTY OF THEIR COMMANDER SALUSTIUS. AS SALUSTIUS SCENTED THE RANK ODOUR OF MUTINY BEGINNING TO FILL THE AIR HE PUNISHED THE MEN WITH DECIMATION. SO, MOVED TO TEARS BY PITY, THEIR COMMANDER MARCUS FIDELIUS CATO WAS FINALLY PERSUADED TO TREAT SECRETLY WITH CALGACUS FOR THE SAKE OF HIS MEN. THUS IT WAS THAT CATO HIMSELF TREATED WITH CALGACUS. HE CAREFULLY PREPARED A NEW FORGERY OF THE CODEX AND TOGETHER WITH THE STRONGEST OF THE REMAINING LEGIONNAIRES ARRESTED SALUSTIUS AND HIS GUARDS FOR THE CRIMES THEY HAD COMMITTED AGAINST THE ROMAN SOLDIERS. IN EXCHANGE FOR SAFE PASSAGE FROM THAT HELL ON EARTH, CATO OFFERED THE FORGERY AND THE PRISONERS TO CALGACUS AND HIS MEN. SO IT WAS THAT CATO AND HIS MEN RETURNED TO CARRIDEN, THEIR HEARTS HEAVY WITH THE SHAME OF THEIR BARGAIN WITH THE DEVIL. IN THE COLD LIGHT OF DAWN, CATO MARCHED THE SURVIVORS, WITH THE TWO AQUILAE FLYING HIGH BEFORE THEM, ONTO AN AWAITING BARQUE PROVISIONED WITH VITALS AND WATER FOR FIVE DAYS, AS HE HAD AGREED WITH CALGACUS. STRAPPED TIGHT TO HIS BODY, UNDER HIS ARMOUR, HE CONCEALED THE TRUE COPY OF THE CODEX, HOLDING IN HIS BREASTPLATE THE SECURITY OF ROME. AND SO THE IXTH LEGION CROSSED THE SEA TO GERMANIA INFERIOR, MAKING LANDFALL AT LUGDUNUM BATAVORUM TWO DAYS LATER. FREED FROM THEIR TORMENTORS, CALEDONII AND ROMAN ALIKE, THEY RESTED AND MADE SACRIFICES OF GOATS AND SHEEP IN GRATITUDE FOR THEIR SAFE DELIVERANCE. OVERCOME WITH EXHAUSTION THEY SLEPT, UNTIL THEY HAD RECOVERED SUFFICIENTLY TO CONTINUE ON TO THE FORTRESS AT NOVIOMAGUS WHERE CATO REPORTED TO THE LEGATUS OF THE XTH LEGION GEMINA AND, AT LAST, HANDED THE CODEX TO HIS SAFE KEEPING. RECEIVING WORD IN ROME OF THE RECOVERY OF THE CODEX AND THE RETURN OF THE TWO AQUILAE, CAESAR GRANTED THEM ALL PARDON AND AWARDED PENSIONS TO THE SURVIVORS, EACH TO RECEIVE A FARM OF FIVE HEREDIUM WHEN THEY RETIRED FROM MILITARY SERVICE. GLORY WAS DENIED TO THOSE BRAVE LEGIONNAIRES, BUT I HOPE THIS HISTORY WILL RESTORE THEIR HONOUR. ENEMIES OF ROME WERE DENIED THE CODEX OCCULTARUM BY THE GREAT SACRIFICES OF CATO AND HIS MEN. RECORDING THEIR TALE IS PERHAPS THE MOST IMPORTANT TASK I HAVE UNDERTAKEN AS A HISTORIAN, AND IT PAINS ME GREATLY THAT, TO CONTINUE TO PROTECT IT, THE TRUTH MUST BE CONCEALED FOR MANY GENERATIONS TO COME. YET I WILL REST IN PEACE KNOWING THAT THAT TRUTH WILL ONE DAY BE TOLD, GUARDED UNTIL THEN BY THE GLORIOUS WONDERS OF THE ANCIENT WORLD.'"
      ]
     },
     "execution_count": 49,
     "metadata": {},
     "output_type": "execute_result"
    }
   ],
   "source": [
    "repunctuate(hill_decipher(hill_matrix, srwcb), pub)"
   ]
  },
  {
   "cell_type": "code",
   "execution_count": 50,
   "metadata": {},
   "outputs": [
    {
     "data": {
      "text/plain": [
       "'yearningforr'"
      ]
     },
     "execution_count": 50,
     "metadata": {},
     "output_type": "execute_result"
    }
   ],
   "source": [
    "autokey_decipher(srwcb[:12], 'a')"
   ]
  },
  {
   "cell_type": "code",
   "execution_count": 51,
   "metadata": {},
   "outputs": [
    {
     "data": {
      "text/plain": [
       "'YEARNING FOR RESPITE THE ROMANS SUFFERED AS DAYS TURNED INTO WEEKS AND WEEKS INTO MONTHS, WITH CALGACUS AND THE CALEDONII PERFECTLY CONTENT TO LAY SIEGE IN THEIR OWN LAND. OUR KNOWLEDGE OF THIS DREADFUL PERIOD COMES FROM THE FOLLOWING ACCOUNT BY MARCUS FIDELIUS CATO.“ UNDER SIEGE FOR NINE LONG MONTHS, TRAPPED BY WALLS WE BUILT TO DEFEND OURSELVES. HERDED AND PENNED LIKE SHEEP WITHIN OUR REFUGE, THE FORT AT CARRIDEN. AGAINST US IS ARRAYED THE MIGHT OF THE CALEDONIAN ARMY, AND OUR NEMESIS CALGACUS IS GRINNING WHILE HE WATCHES US SQUIRM IN THIS HELL, BETRAYED BY OUR OWN LEADER SALUSTIUS. VOLUNTEERS ALL, SO MANY GOOD AND BRAVE ROMANS HAVE LOST THEIR LIVES, AND THE MORALE OF THE MEN HERE AT CARRIDEN IS WORSENING BY THE DAY. EXHAUSTED AND STARVING THE MEN CATCH WHAT THEY CAN TO EAT AROUND THE FORT, MOSTLY RATS, SOME CATS, ALTHOUGH THEY TOO ARE SKIN AND BONES. BRAVE BUT DESPERATE, SOME SPEAK PRIVATELY OF A MUTINY TO OVERTHROW SALUSTIUS, AND I AM TEMPTED TO AGREE WITH THEM. EVEN SO, FOR ALL HIS FAULTS, SALUSTIUS IS STILL A ROMAN AND I AM UNDER HIS COMMAND. EXHAUSTED THOUGH I AM, BEING A ROMAN STILL MEANS SOMETHING TO ME, EVEN SO FAR AWAY FROM LATIUM AND ITS GLORIOUS SUN. NEVERTHELESS, I FEAR THAT SOON THE MEN WILL TURN TO DARKER AND MORE SAVAGE METHODS TO FEED THEMSELVES AND IF NO PROGRESS HAS BEEN MADE, I WILL SOON HAVE TO RECONSIDER WHAT I MUST DO TO GET AS MANY GOOD ROMANS SAFELY HOME AS POSSIBLE.” BIDING HIS TIME CALGACUS WAITED AND WATCHED UNTIL HE JUDGED THAT THE ROMANS WERE SUFFICIENTLY WEAKENED, THEN SENT A MESSENGER TO SALUSTIUS OFFERING PEACE IN EXCHANGE FOR THE LANDS OF CALEDONIA. ENVOYS PROMISED SAFE PASSAGE, ALLOWING SALUSTIUS TO RETURN TO ROME IF HE AGREED TO LEAVE CALEDONIA AND NEVER RETURN. THE CALEDONII HAD TWO CONDITIONS. ROME MUST ABANDON THE REMAINING SOLDIERS OF THE IXTH LEGION, LEAVING THEM AS HOSTAGES; AND THE CODEX MUST REMAIN AT CARRIDEN. ARRIVING IN ROME WITHOUT THE CODEX WOULD CONDEMN SALUSTIUS TO CERTAIN DEATH, AND HE COULD NEVER AGREE TO SUCH TERMS, BUT HE STILL POSSESSED THE MONS GRAUPIUS FORGERY AND I SUSPECT HE HOPED TO TRADE THAT AND THE REMAINING LEGIONNAIRES OF THE IXTH FOR HIS OWN FREEDOM. YEARNING ONLY FOR HIS OWN SAFETY, SALUSTIUS RISKED UNDERESTIMATING HIS FOE, BUT IN DOING SO HE ALSO UNDERESTIMATED THE LOYAL AND UPRIGHT MARCUS FIDELIUS CATO WHO COULD NEVER BETRAY THE SOLDIERS UNDER HIS COMMAND. EXPOSING THIS FATAL LACK OF JUDGEMENT, SALUSTIUS CONDEMNED HIMSELF IN HIS OWN WORDS. “DO I KNOW THE MIND OF A SOLDIER LIKE CATO? BY THE GODS I DO. YEARS OF CAMPAIGNING HAVE HARDENED HIM AND HE HAS NOT THE SUBTLETY TO HARBOUR DARK AND CUNNING THOUGHTS. MENTAL AGILITY IS NOT THE MARK OF A MAN LIKE CATO AND HISTORY WILL FORGET HIM.” IN TRUTH THE IXTH LEGION HAD SUFFERED SEVERELY FROM THE LIGATURE THAT WAS SLOWLY DRAWN TIGHT AROUND THEM BY CALGACUS AND HIS MEN. DYSENTERY AND HUNGER RAVAGED THE NOBLE ROMANS WHO WERE REDUCED TO EMACIATED GHOSTS, CHOKING ON THE BITTER BILE OF THE ARROGANCE AND RAPACIOUS CRUELTY OF THEIR COMMANDER SALUSTIUS. AS SALUSTIUS SCENTED THE RANK ODOUR OF MUTINY BEGINNING TO FILL THE AIR HE PUNISHED THE MEN WITH DECIMATION. SO, MOVED TO TEARS BY PITY, THEIR COMMANDER MARCUS FIDELIUS CATO WAS FINALLY PERSUADED TO TREAT SECRETLY WITH CALGACUS FOR THE SAKE OF HIS MEN. THUS IT WAS THAT CATO HIMSELF TREATED WITH CALGACUS. HE CAREFULLY PREPARED A NEW FORGERY OF THE CODEX AND TOGETHER WITH THE STRONGEST OF THE REMAINING LEGIONNAIRES ARRESTED SALUSTIUS AND HIS GUARDS FOR THE CRIMES THEY HAD COMMITTED AGAINST THE ROMAN SOLDIERS. IN EXCHANGE FOR SAFE PASSAGE FROM THAT HELL ON EARTH, CATO OFFERED THE FORGERY AND THE PRISONERS TO CALGACUS AND HIS MEN. SO IT WAS THAT CATO AND HIS MEN RETURNED TO CARRIDEN, THEIR HEARTS HEAVY WITH THE SHAME OF THEIR BARGAIN WITH THE DEVIL. IN THE COLD LIGHT OF DAWN, CATO MARCHED THE SURVIVORS, WITH THE TWO AQUILAE FLYING HIGH BEFORE THEM, ONTO AN AWAITING BARQUE PROVISIONED WITH VITALS AND WATER FOR FIVE DAYS, AS HE HAD AGREED WITH CALGACUS. STRAPPED TIGHT TO HIS BODY, UNDER HIS ARMOUR, HE CONCEALED THE TRUE COPY OF THE CODEX, HOLDING IN HIS BREASTPLATE THE SECURITY OF ROME. AND SO THE IXTH LEGION CROSSED THE SEA TO GERMANIA INFERIOR, MAKING LANDFALL AT LUGDUNUM BATAVORUM TWO DAYS LATER. FREED FROM THEIR TORMENTORS, CALEDONII AND ROMAN ALIKE, THEY RESTED AND MADE SACRIFICES OF GOATS AND SHEEP IN GRATITUDE FOR THEIR SAFE DELIVERANCE. OVERCOME WITH EXHAUSTION THEY SLEPT, UNTIL THEY HAD RECOVERED SUFFICIENTLY TO CONTINUE ON TO THE FORTRESS AT NOVIOMAGUS WHERE CATO REPORTED TO THE LEGATUS OF THE XTH LEGION GEMINA AND, AT LAST, HANDED THE CODEX TO HIS SAFE KEEPING. RECEIVING WORD IN ROME OF THE RECOVERY OF THE CODEX AND THE RETURN OF THE TWO AQUILAE, CAESAR GRANTED THEM ALL PARDON AND AWARDED PENSIONS TO THE SURVIVORS, EACH TO RECEIVE A FARM OF FIVE HEREDIUM WHEN THEY RETIRED FROM MILITARY SERVICE. GLORY WAS DENIED TO THOSE BRAVE LEGIONNAIRES, BUT I HOPE THIS HISTORY WILL RESTORE THEIR HONOUR. ENEMIES OF ROME WERE DENIED THE CODEX OCCULTARUM BY THE GREAT SACRIFICES OF CATO AND HIS MEN. RECORDING THEIR TALE IS PERHAPS THE MOST IMPORTANT TASK I HAVE UNDERTAKEN AS A HISTORIAN, AND IT PAINS ME GREATLY THAT, TO CONTINUE TO PROTECT IT, THE TRUTH MUST BE CONCEALED FOR MANY GENERATIONS TO COME. YET I WILL REST IN PEACE KNOWING THAT THAT TRUTH WILL ONE DAY BE TOLD, GUARDED UNTIL THEN BY THE GLORIOUS WONDERS OF THE ANCIENT WORLD.'"
      ]
     },
     "execution_count": 51,
     "metadata": {},
     "output_type": "execute_result"
    }
   ],
   "source": [
    "pb = repunctuate(cat(autokey_decipher(c, 'a') for c in chunks(srwcb, 12)), pub)\n",
    "pb"
   ]
  },
  {
   "cell_type": "code",
   "execution_count": 52,
   "metadata": {},
   "outputs": [
    {
     "data": {
      "text/plain": [
       "5372"
      ]
     },
     "execution_count": 52,
     "metadata": {},
     "output_type": "execute_result"
    }
   ],
   "source": [
    "open('8b.plaintext', 'w').write(pb)"
   ]
  },
  {
   "cell_type": "code",
   "execution_count": 53,
   "metadata": {},
   "outputs": [],
   "source": [
    "ppub = depunctuate(pb)\n",
    "spb = sanitise(pb)"
   ]
  },
  {
   "cell_type": "code",
   "execution_count": 54,
   "metadata": {},
   "outputs": [
    {
     "data": {
      "text/plain": [
       "'ycerevvtltfiewhxbxxalvfaanfkmzkjvvhdsvdyqlnlerhlnghkaiocsnqzeiocavghaabghzoebajclrgcumsnqwalgclpdrbvqxtvwjgvljaqbgxrgmhzayqamkkmvgalizfkjylnqrilkxbkhphjkstyhpavuvedizfaevzwrfqaqwxwoafaljtzwzkentgceqihguzkartwmxnlhptcsucthihqhvjaekkjtfevvrpzntsabgazlkrppthezuwlwdoabvctemhrhjjrdriljwpgzwzlruhhdnqstrardotsowzlitletapvbilivjzaexaljtfkttvcrizlhrnggivftnmaasrirychtalquonahtyaegclphrbvinnrdkynqrilerqewaauclrgcwmiayxzvavvtcditpllawtvjlwumkikczduvgaiazlpwmfxkryehezmilfkjypadhvjslfmlbcsnjzfhgxivjslwdgamnleucranqesrvzvfamnfzhvzpzglmaemzctdzwsnqwhlqafrlpstyaeqqrulvvetvcrizlhrvaokfjervvthzralhdycbehumlxhdndvltrmdvtzalmqrpctvjddhttalcacnghsetarfihqwaljtftfaglejprtlkoaqgctlsleavuanaalcrhcorewcsvnnqepbrstsrvzfvnwhwptvrtxwgaqwheekzgzdvtxpjotfmgnbvlrhcvzvkayfkoslfslbcmsnqlimfeqbixhwhogxveaebaaalqqzznfgttfrlwspaffufelkslfmlicmaaklbtwlroamnnnqlimghdhvypauqaymndhbehumlxhwaoianpimnfmvtarfamnflbtwxeenfkgaqxapvgzhaqizzrfgtarrwwydwfaxltbcgmnqlblyrofzwimkmharzevkalppwkanjarkahtlgcbgaeqqrjetwenlethrdrbovrnqpofvwsvvgkqqxhvrvlhtjihwaeqewpgzwsnqlfsbdgfuxvwkzastfirzmdhmeitwdgcbuhvzxofvgqbfalhvnhhtbugmlwrhhgkxtsemnleucdufamnfksfjpyfvaqeshdgkabmpfjllvtnpatbuqgclrgcwmwwibxhdnqzwtcjlhxhgbtslnuxjkhwahtmalrfamnfoavvwmfknkkmrgejuaakorrhwalrfwngtmqwkwrtkvthgslfmlbcmgfkjvzvtvtecgivrbzjhntkjtrkalplnqvgthalphrbvierijyqhgfauawhvsfjtpsksgkelwokevtyslfmlbumlhfvxnleghrfaqmnmlegxvehwhzpevzgclehrbvianqqrzevivxnlegalgalphrbvqphdwwkqqbqlbbwbfrfaqqgmltbbndrbgalvvqmivivtygzolmvjgfyalmfqaspkoobypevdvtzalmmszvgltgkwsnqwalgqrhbjgslkvqmivntvcrizlhrnrizddntovefaqaebaoinmalgqrhbtoifofqbqhqzfalfmlbcmlhqgrktivqhetahndklgqifoqrzzrrgxvixhgmwjtxvdetvnalwlitwadgkwwkwhtalqabfyxrujicmxtfxkvpyndlammhtgvallodthwhhkrdhxhhttnqwalvvqaivvvtrpkowbnnizvwgtyalmxqamtfypagkjfwvihrakcereivtubyjdtfypsgkjfsfjxrqslfmlbcmjzacodxhqhvvwlbumtbvtnpaxtsfvtbvqrwvtygvlaldgihqhvvwliumtxhwalpzmallnqxjgzonammrtwmxnlhptumucthkdvqqiloqrzzvsfxkryralwgzolmvjuhqhvypauqayanqhbmdgavtzhpaxfttlwlcmotodxjkqqrglalfmlbcmuqbqeqzrhkpuewpqivupagkjjkfusvrwsxbkpalqivqrtfsgzolmrctsogcthpzrhlkurvalrmcerjgthcmbpiotivtnhvzlhruhnrhkpumnqkllasfbhmalwmvulpxrrhvhrspirudrbknqfwhaivtzavianaleergtllgottbriafbhmalqmrbotfmmnytsogcthonqkpalhfpwetwqtfxkxapmuvgklnaaalmxqaspkowbuhdsmzkjvvhvwzzrvpjdwfafalpiogtnlvxahtpaskdzkhjburwngbonatrfihqtalqnzaclrgcumsnqkpaeqrqyqwrgxvpynqkuhtkvirvvgkhtalrbpmpvfamnfodvkavvvvhuwghwhsqmckitxhjnvgllujvksvtubgalfjbtxvsjtpstyalarifugnpgenqrrppckwimutlepermtyalmztoaymnqhvjslfslbcmsskslfmtbcmkugrgxhwhlvrnxyrrilffrgnbvlzfkovnvvtzhtntweaeeizyltjhvazehwalqqrjebadhgkumtbwbfgmajzhwhhxerjbznxbrralmztoaymnqhvdmrtumxnlhptcmucthkwsxnvnlwjptvjmudhhwhhrvetlwgtvxejwebajclrgcwmftfkalwskosthpaeqrgabmabwwslahtvcthviuewpqykvetxdzebajclrgcwszlgcrvjzfwjpgvtprvhdnraftfxkvpmtyalcqrhbxnqwhuktalvnebaaalwtkfbtkwlhtyaevvqmivvvtrpgowbanizvwsrrvwlxhvslfmlicmsnqkpayauruvxtfkalgtzmqwlalcfhdfqmyubmxhdggivslmalvfamnfglolmvjavrbzjantkjtfjsfjtasksgkjwfafaatalpwzbrerkhjcthctkjvvhtaljtfxkvpyndwaltgzagbrvslhqclrgcwmsnqkpaeqrfgwbwwslahtvcthonqkpaeqrevxnrerhwhqcrizlergalmzylerkszlevtuebaaaewzhmqstyalmrsbrxgivjebatalhhzdttvgaegqzootonahtddwjpcthamrthlhwalwmlmddofjoebaaalxpooqkctlejqjgntnponifjtfvtalqabghonnwaibbvthbrhkypgfjdaawbrhzibacdbtldsnqwwtxvwtfwndzddyqsszllhddgxvihzebajclggcwmklkrpetdwbonamhvpatorbshqhvypasrdailylgqbpgalphwalxklygodnmtyalgqrhxevzolvtovupstsveslialtxtalwwgwlzbrmfwfaqenqvghaemfqaspkowbprfgkwhwalwwethukvdmnviivfjvzwfdmksvtllnqiflwltefgjxhhgnbttvjrlgfpkrdyqdltxvwwvihiwfatalmzkhfdqrgofjuclphrbvqanqufamnnltsexalcpvwlxhdnqpmdhwsctznikgwgtluotlsnqvzlitxvtxrtbbnxhjtfkalizjsfjhhptdzrrnpgsjzvtqaeaebalbehumliwbgalcqdptiuhgbtealcfhdrvgqjzvvhvmzfnkkmrgejrhqobgbvhysbghhhljtfkkvwkstnbjdwamgamodevvgcthfvtdftxhwhhalppkgtnmgtyalbqasekowbtkquvnanqdtelslahnqehwalgqrhbqhhpaksfjooitxntxvggmddvtcofulvefaqstyhlvvgqjzvpmttalgqrhbxnqwhlvvxnlebtyaexpkoqkctlegaewsrxxrngxhtalqmlwaprurnnnqdwwruhhserfawbflhhalsmlmddjfjwechahfvggmdzefardatkndzllvehlcgidlrgalypvxbzvhiwfamuttbtrpqwvmikgkrzfpuwsvervmhwhhavgwbsrvzppkowbaaizvwtvnbpvdexapazpalhfpwetwcvwlhfvxhlmzyvbbilvrequmwgtwfaqaevvhhrvmhwalcqrhblqewfetrlgnzralkxvetlsctznnkgwgfhcthonqkpaeerevgqfulvtzhlmzktlpmahtryhphlalqagliubdfktngmtsksphvzyhqhvkakornsshpalhrzinnnqlbipinfeqkxvetejrhhtmhqqbgbvhexhdgfhxgvbbtalxklnatgmlbfgqbpgelphiofdmnlekrrvrtbwbflhqqaqcexbeetwcvwlbnctecgoxbkevgzahtmahtmkltadetwzbrhdybfxhzojauruhdxhgbtealroztalkrzfzwimoobqhvjgtyalenpkmrgpkfco'"
      ]
     },
     "execution_count": 54,
     "metadata": {},
     "output_type": "execute_result"
    }
   ],
   "source": [
    "akb = cat(autokey_encipher(c, 'a') for c in chunks(spb, 12))\n",
    "akb"
   ]
  },
  {
   "cell_type": "code",
   "execution_count": 55,
   "metadata": {},
   "outputs": [
    {
     "data": {
      "text/plain": [
       "'YCEREVVT LTF IEWHXBX XAL VFAANF KMZKJVVH DS VDYQ LNLERH LNGH KAIOC SNQ ZEIOC AVGH AABGHZ, OEBA JCLRGCUM SNQ WAL GCLPDRBVQ XTVWJGVLJ AQBGXRG MH ZAY QAMKK MV GALIZ FKJ YLNQ. RIL KXBKHPHJK ST YHPA VUVEDIZF AEVZWR FQAQW XWOA FAL JTZWZKENT GCEQIHG UZ KARTWM XNLHPTCS UCTH.“ IHQHV JAEKK JTF EVVR PZNT SABGAZ, LKRPPTH EZ UWLWD OA BVCTE MH RHJJRD RILJWPGZW. ZLRUHH DNQ STRARD OTSO WZLIT LETAPV BIL IVJZAE, XAL JTFK TT VCRIZLHR. NGGIVFT NM AA SRIRYCH TAL QUONA HT YAE GCLPHRBVIN NRDK, YNQ RIL ERQEWAA UCLRGCWM IA YXZVAVVT CDITP LL AWTVJLW UM KIKCZD UV GAIA ZLPW, MFXKRYEH EZ MIL FKJ YPADHV JSLFMLBCS. NJZFHGXIVJ SLW, DG AMNL EUCR ANQ ESRVZ VFAMNF ZHVZ PZGL MAEMZ CTDZW, SNQ WHL QAFRLP ST YAE QQR ULVV ET VCRIZLHR VA OKFJERVVT HZ RAL HDY. CBEHUMLXH DND VLTRMDVT ZAL MQR PCTVJ DDHT TALC ACN GH SET ARFIHQ WAL JTFT, FAGLEJ PRTL, KOAQ GCTL, SLEAVUAN AALC RHC ORE WCSV NNQ EPBRS. TSRVZ FVN WHWPTVRTX, WGAQ WHEEK ZGZDVTXPJ OT F MGNBVL RH CVZVKAYFK OSLFSLBCM, SNQ L IM FEQBIXH WH OGXVE AEBA AALQ. QZZN FG, TTF RLW SPA FFUFEL, KSLFMLICM AA KLBTW L ROAMN NNQ L IM GHDHV YPA UQAYMND. HBEHUMLXH WAOIAN P IM, NFMVT A RFAMN FLBTW XEENF KGAQXAPVG ZH AQ, IZZR FG TAR RWWY DWFA XLTBCG MNQ LBL YROFZWIM KMH. ARZEVKALPPWK, A NJAR KAHT LGCB GAE QQR JETW ENLE TH RDRBOV RNQ POFV WSVVGK QQXHVRV LH TJIH WAEQEWPGZW SNQ LF SB DGFUXVWK ZAS TFIR ZMDH, M EITW DGCB UHVZ XO FVGQBFALHV NHHT B UGML WR HH GKX TS EMNL EUCD UFAMNF KSFJPY FVAQ ES HDGKABMP.” FJLLVT NPA TBUQ GCLRGCWM WWIBXH DNQ ZWTCJLH XHGBT SL NUXJKH WAHT MAL RFAMNF OAVV WMFKNKKMRGEJ UAAKORRH, WALR FWNG T MQWKWRTKV TH GSLFMLBCM GFKJVZVT VTECG IV RBZJHNTK JTR KAL PLNQV GT HALPHRBVI. ERIJYQ HGFAUAWH VSFJ TPSKSGK, ELWOKEVT YSLFMLBUM LH FVXNLE GH RFAQ MN ML EGXVEH WH ZPEVZ GCLEHRBVI ANQ QRZEV IVXNLE. GAL GALPHRBVQ PHD WWK QQBQLBBWBF. RFAQ QGML TBBNDRB GAL VVQMIVIVT YGZOLMVJ GF YAL MFQA SPKOOB, YPEVDVT ZALM MS ZVGLTGKW; SNQ WAL GQRHB JGSL KVQMIV NT VCRIZLHR. NRIZDDNT OV EFAQ AEBAOIN MAL GQRHB TOIFO FQBQHQZ FALFMLBCM LH QGRKTIV QHETA, HND KL GQIFO QRZZR RGXVI XH GMWJ TXVDE, TVN AL WLITW ADGKWWKWH TAL QABF YXRUJICM XTFXKVP YND L AMMHTGV AL LODTH WH HKRDH XHHT TNQ WAL VVQAIVVVT RPKOWBNNIZVW GT YAL MXQA MTF YPA GKJ FWVIHRA. KCEREIVT UBYJ DTF YPS GKJ FSFJXR, QSLFMLBCM JZACOD XHQHVVWLBUMTBVT NPA XTS, FVT BV QRWVT YG VL ALDG IHQHVVWLIUMTXH WAL PZMAL LNQ XJGZONA MMRTWM XNLHPTUM UCTH KDV QQILO QRZZV SFXKRY RAL WGZOLMVJ UHQHV YPA UQAYANQ. HBMDGAVT ZHPA XFTTL WLCM OT ODXJKQQRG, LALFMLBCM UQBQEQZRH KPUEWPQ IV UPA GKJ JKFUS. “VR W SXBK PAL QIVQ RT F SGZOLMR CTSO GCTH? PZ RHL KURV A LR. MCERJ GT HCMBPIOTIVT NHVZ LHRUHNRH KPU MNQ KL LAS FBH MAL WMVULPXR RH VHRSPIR UDRB KNQ FWHAIVT ZAVIANAL. EERGTL LGOTTBR IA FBH MAL QMRB OT F MMN YTSO GCTH ONQ KPALHFP WETW QTFXKX APM.” UV GKLNA AAL MXQA SPKOWB UHD SMZKJVVH VWZZRVPJ DWFA FAL PIOGTNLV XAHT PAS KDZKHJ BURWN GBONA TRFIHQ TALQ NZ ACLRGCUM SNQ KPA EQR. QYQWRGXVP YNQ KUHTKV IRVVGKH TAL RBPMP VFAMNF ODV KAVV VVHUWGH WH SQMCKITXH JNVGLL, UJVKSVT UB GAL FJBTXV SJTP ST YAL ARIFUGNPG ENQ RRPPCKWIM UTLEPER MT YALMZ TOAYMNQHV JSLFSLBCM. SS KSLFMTBCM KUGRGXH WHL VRNX YRRIL FF RGNBVL ZFKOVNVVT ZH TNTW EAE EIZ YL TJHVAZEH WAL QQR JEBA DHGKUMTBWB. FG, MAJZH WH HXERJ BZ NXBR, RALMZ TOAYMNQHV DMRTUM XNLHPTCM UCTH KWS XNVNLWJ PTVJMUDHH WH HRVET LWGTVXEJ WEBA JCLRGCWM FTF KAL WSKO ST HPA EQR. GABM AB WWS LAHT VCTH VIUEWPQ YKVETXD ZEBA JCLRGCWS. ZL GCRVJZFWJ PGVTPRVH D NRA FTFXKVP MT YAL CQRHB XNQ WHUKTALV NEBA AAL WTKFBTKWL HT YAE VVQMIVVVT RPGOWBANIZVW SRRVWLXH VSLFMLICM SNQ KPA YAURUV XTF KAL GTZMQW LALC FHD FQMYUBMXH DGGIVSL MAL VFAMN FGLOLMVJ. AV RBZJANTK JTF JSFJ TASKSGK JWFA FAAT ALPW ZB RERKH, JCTH CTKJVVH TAL JTFXKVP YND WAL TGZAGBRVS LH QCLRGCWM SNQ KPA EQR. FG WB WWS LAHT VCTH ONQ KPA EQR EVXNRERH WH QCRIZLER, GALMZ YLERKS ZLEVT UEBA AAE WZHMQ ST YALMR SBRXGIV JEBA TAL HHZDT. TV GAE GQZO OTONA HT DDWJ, PCTH AMRTHLH WAL WMLMDDOFJ, OEBA AAL XPO OQKCTLE JQJGNT NPON IFJTFV TALQ, ABGH ON NWAIBBVT HBRHKY PGFJDAAWBRH ZIBA CDBTLD SNQ WWTXV WTF WNDZ DDYQ, SS ZL LHD DGXVIH ZEBA JCLGGCWM. KLKRPETD WBONA MH VPA TORB, SHQHV YPA SRDAIL, YL GQBPGALPH WAL XKLY GODN MT YAL GQRHX, EVZOLVT OV UPS TSVESLIALTX TAL WWGWLZBR MF WFAQ. ENQ VG HAE MFQA SPKOWB PRFGKWH WAL WWE TH UKVDMNVI IVFJVZWF, DMKSVT LLNQIFLW LT EFGJXHHG NBTTVJRLG FPK RDYQ DLTXV. WWVIH IWFA TALMZ KHFDQRGOFJ, UCLPHRBVQ ANQ UFAMN NLTSE, XALC PVWLXH DNQ PMDH WSCTZNIKGW GT LUOTL SNQ VZLIT XV TXRTBBNXH JTF KALIZ JSFJ HHPTDZRRNPG. SJZVTQAE AEBA LBEHUMLIWB GALC QDPTI, UHGBT EALC FHD RVGQJZVVH VMZFNKKMRGEJ RH QOBGBVHY SB GH HHL JTFKKVWK ST NBJDWAMGAM ODEVV GCTH FVTDFTXH WH HAL PPKGTNM GT YAL BQA SEKOWB TKQUVN ANQ, DT ELSL, AHNQEH WAL GQRHB QH HPA KSFJ OOITXNT. XVGGMDDVT COFU LV EFAQ ST YHL VVGQJZVP MT TAL GQRHB XNQ WHL VVXNLE BT YAE XPK OQKCTLE, GAEWSR XXRNGXH TALQ MLW APRURN NNQ DWWRUHH SERFAWBF LH HAL SMLMDDJFJ, WECH AH FVGGMDZ E FARD AT KNDZ LLVEHLCG IDLR GALY PVXBZVH IWFA MUTTBTRP QWVMIKG. KRZFP UWS VERVMH WH HAVGW BSRVZ PPKOWBAAIZVW, TVN B PVDE XAPA ZPALHFP WETW CVWLHFV XHLMZ YVBBIL. VREQUMW GT WFAQ AEVV HHRVMH WAL CQRHB LQEWFETRLG NZ RAL KXVET LSCTZNNKGW GF HCTH ONQ KPA EER. EVGQFULVT ZHLMZ KTLP MA HTRYHPH LAL QAGL IUBDFKTNG MTSK S PHVZ YHQHVKAKOR NS S HPALHRZIN, NNQ LB IPINF EQ KXVETEJ RHHT, MH QQBGBVHE XH DGFHXGV BB, TAL XKLNA TGML BF GQBPGELPH IOF DMNL EKRRVRTBWBF LH QQAQ. CEX B EETW CVWL BN CTECG OXBKEVG ZAHT MAHT MKLTA DETW ZBR HDY BF XHZO, JAURUHD XHGBT EALR OZ TAL KRZFZWIM OOBQHVJ GT YAL ENPKMRG PKFCO.'"
      ]
     },
     "execution_count": 55,
     "metadata": {},
     "output_type": "execute_result"
    }
   ],
   "source": [
    "akpb = repunctuate(akb, ppub)\n",
    "akpb"
   ]
  },
  {
   "cell_type": "code",
   "execution_count": 56,
   "metadata": {
    "scrolled": true
   },
   "outputs": [
    {
     "data": {
      "text/plain": [
       "'TVVERECY FTL XBXHWEI LAX FNAAFV HVVJKZMK SD QYDV HRELNL HGNL COIAK QNS COIEZ HGVA ZHGBAA, ABEO MUCGRLCJ QNS LAW QVBRDPLCG JLVGJWVTX GRXGBQA HM YAZ KKMAQ VM ZILAG JKF QNLY. LIR KJHPHKBXK TS APHY FZIDEVUV RWZVEA WQAQF AOWX LAF TNEKZWZTJ GHIQECG ZU MWTRAK SCTPHLNX HTCU.“ VHQHI KKEAJ FTJ RVVE TNZP ZAGBAS, HTPPRKL ZE DWLWU AO ETCVB HM DRJJHR WZGPWJLIR. HHURLZ QND DRARTS OSTO TILZW VPATEL LIB EAZJVI, LAX KFTJ TT RHLZIRCV. TFVIGGN MN AA HCYRIRS LAT ANOUQ TH EAY NIVBRHPLCG KDRN, QNY LIR AAWEQRE MWCGRLCU AI TVVAVZXY PTIDC LL WLJVTWA MU DZCKIK VU AIAG WPLZ, HEYRKXFM ZE LIM JKF VHDAPY SCBLMFLSJ. JVIXGHFZJN WLS, GD LNMA RCUE QNA ZVRSE FNMAFV ZVHZ LGZP ZMEAM WZDTC, QNS LHW PLRFAQ TS EAY RQQ VVLU TE RHLZIRCV AV TVVREJFKO ZH LAR YDH. HXLMUHEBC DND TVDMRTLV LAZ RQM JVTCP THDD CLAT NCA HG TES QHIFRA LAW TFTJ, JELGAF LTRP, QAOK LTCG, NAUVAELS CLAA CHR ERO VSCW QNN SRBPE. ZVRST NVF XTRVTPWHW, QAGW KEEHW JPXTVDZGZ TO F LVBNGM HR KFYAKVZVC MCBLSFLSO, QNS L MI HXIBQEF HW EVXGO ABEA QLAA. NZZQ GF, FTT WLR APS LEFUFF, MCILMFLSK AA WTBLK L NMAOR QNN L MI VHDHG APY DNMYAQU. HXLMUHEBH NAIOAW P MI, TVMFN A NMAFR WTBLF FNEEX GVPAXQAGK HZ QA, RZZI GF RAT YWWR AFWD GCBTLX QNM LBL MIWZFORY HMK. KWPPLAKVEZRA, A RAJN THAK BCGL EAG RQQ WTEJ ELNE HT VOBRDR QNR VFOP KGVVSW VRVHXQQ HL HIJT WZGPWEQEAW QNS FL BS KWVXUFGD SAZ RIFT HDMZ, M WTIE BCGD ZVHU OX VHLAFBQGVF THHN B LMGU RW HH XKG ST LNME DCUE FNMAFU YPJFSK QAVF SE PMBAKGDH.” TVLLJF APN QUBT MWCGRLCG HXBIWW QND HLJCTWZ TBGHX LS HKJXUN THAW LAM FNMAFR VVAO JEGRMKKNKFMW HRROKAAU, RLAW GNWF T VKTRWKWQM HT MCBLMFLSG TVZVJKFG GCETV VI KTNHJZBR RTJ LAK VQNLP TG IVBRHPLAH. QYJIRE HWAUAFGH JFSV KGSKSPT, TVEKOWLE MUBLMFLSY HL ELNXVF HG QAFR NM LM HEVXGE HW ZVEPZ IVBRHELCG QNA VEZRQ ELNXVI. LAG QVBRHPLAG DHP KWW FBWBBLQBQQ. QAFR LMGQ BRDNBBT LAG TVIVIMQVV JVMLOZGY FG LAY AQFM BOOKPS, TVDVEPY MLAZ SM WKGTLGVZ; QNS LAW BHRQG LSGJ VIMQVK TN RHLZIRCV. TNDDZIRN VO QAFE NIOABEA LAM BHRQG OFIOT ZQHQBQF MCBLMFLAF HL VITKRGQ ATEHQ, DNH LK OFIQG RZZRQ IVXGR HX JWMG EDVXT, NVT LA WTILW HWKWWKGDA LAT FBAQ MCIJURXY PVKXFTX DNY L VGTHMMA LA HTDOL HW HDRKH THHX QNT LAW TVVVIAQVV WVZINNBWOKPR TG LAY AQXM FTM APY JKG ARHIVWF. TVIERECK JYBU FTD SPY JKG RXJFSF, MCBLMFLSQ DOCAZJ TVBTMUBLWVVHQHX APN STX, TVF VB TVWRQ GY LV GDLA HXTMUILWVVHQHI LAW LAMZP QNL ANOZGJX MWTRMM MUTPHLNX HTCU VDK OLIQQ VZZRQ YRKXFS LAR JVMLOZGW VHQHU APY QNAYAQU. TVAGDMBH APHZ LTTFX MCLW TO GRQQKJXDO, MCBLMFLAL HRZQEQBQU QPWEUPK VI APU JKG SUFKJ. “RV W KBXS LAP QVIQ TR F RMLOZGS OSTC HTCG? ZP LHR VRUK A RL. JRECM TG TVITOIPBMCH ZVHN HRNHURHL UPK QNM LK SAL HBF LAM RXPLUVMW HR RIPSRHV BRDU QNK TVIAHWF LANAIVAZ. LTGREE RBTTOGL AI HBF LAM BRMQ TO F NMM OSTY HTCG QNO PFHLAPK WTEW XKXFTQ MPA.” VU ANLKG LAA AQXM BWOKPS DHU HVVJKZMS JPVRZZWV AFWD LAF VLNTGOIP THAX SAP JHKZDK NWRUB ANOBG QHIFRT QLAT ZN MUCGRLCA QNS APK RQE. PVXGRWQYQ QNY VKTHUK HKGVVRI LAT PMPBR FNMAFV VDO VVAK HGWUHVV HW HXTIKCMQS LLGVNJ, TVSKVJU BU LAG VXTBJF PTJS TS LAY GPNGUFIRA QNE MIWKCPPRR REPELTU TM ZMLAY VHQNMYAOT MCBLSFLSJ. SS MCBTMFLSK HXGRGUK LHW XNRV LIRRY FF LVBNGR TVVNVOKFZ HZ WTNT EAE ZIE LY HEZAVHJT LAW RQQ ABEJ BWBTMUKGHD. GF, HZJAM HW JREXH ZB RBXN, ZMLAR VHQNMYAOT MUTRMD MCTPHLNX HTCU SWK JWLNVNX HHDUMJVTP HW TEVRH JEXVTGWL ABEW MWCGRLCJ FTF LAK OKSW TS APH RQE. MBAG BA SWW THAL HTCV QPWEUIV DXTEVKY ABEZ SWCGRLCJ. LZ JWFZJVRCG HVRPTVGP D ARN PVKXFTF TM LAY BHRQC QNX VLATKUHW ABEN LAA LWKTBFKTW TH EAY TVVVIMQVV WVZINABWOGPR HXLWVRRS MCILMFLSV QNS APK VURUAY FTX LAK WQMZTG CLAL DHF HXMBUYMQF LSVIGGD LAM NMAFV JVMLOLGF. VA KTNAJZBR FTJ JFSJ KGSKSAT AFWJ TAAF WPLA BZ HKRER, HTCJ HVVJKTC LAT PVKXFTJ DNY LAW SVRBGAZGT HL MWCGRLCQ QNS APK RQE. GF BW SWW THAL HTCV QNO APK RQE HRERNXVE HW RELZIRCQ, ZMLAG SKRELY TVELZ ABEU EAA QMHZW TS RMLAY VIGXRBS ABEJ LAT TDZHH. VT EAG OZQG ANOTO TH JWDD, HTCP HLHTRMA LAW JFODDMLMW, ABEO LAA OPX ELTCKQO TNGJQJ NOPN VFTJFI QLAT, HGBA NO TVBBIAWN YKHRBH HRBWAADJFGP ABIZ DLTBDC QNS VXTWW FTW ZDNW QYDD, SS LZ DHL HIVXGD ABEZ MWCGGLCJ. DTEPRKLK ANOBW HM APV BROT, VHQHS APY LIADRS, LY HPLAGPBQG LAW YLKX NDOG TM LAY XHRQG, TVLOZVE VO SPU XTLAILSEVST LAT RBZLWGWW FM QAFW. QNE GV EAH AQFM BWOKPS HWKGFRP LAW EWW HT IVNMDVKU FWZVJFVI, TVSKMD WLFIQNLL TL GHHXJGFE GLRJVTTBN KPF QYDR VXTLD. HIVWW AFWI ZMLAT JFOGRQDFHK, QVBRHPLCU QNA NMAFU ESTLN, CLAX HXLWVP QND HDMP WGKINZTCSW TG LTOUL QNS TILZV VX HXNBBTRXT FTJ ZILAK JFSJ GPNRRZDTPHH. EAQTVZJS ABEA BWILMUHEBL CLAG ITPDQ, TBGHU CLAE DHF HVVZJQGVR JEGRMKKNFZMV HR YHVBGBOQ BS HG LHH KWVKKFTJ TS MAGMAWDJBN VVEDO HTCG HXTFDTVF HW LAH MNTGKPP TG LAY AQB BWOKES NVUQKT QNA, TD LSLE, HEQNHA LAW BHRQG HQ APH JFSK TNXTIOO. TVDDMGGVX UFOC VL QAFE TS LHY PVZJQGVV TM LAT BHRQG QNX LHW ELNXVV TB EAY KPX ELTCKQO, RSWEAG HXGNRXX QLAT WLM NRURPA QNN HHURWWD FBWAFRES HL LAH JFJDDMLMS, HCEW HA ZDMGGVF E DRAF TA ZDNK GCLHEVLL RLDI YLAG HVZBXVP AFWI PRTBTTUM GKIMVWQ. PFZRK SWU HMVREV HW WGVAH ZVRSB WVZIAABWOKPP, NVT B EDVP APAX PFHLAPZ WTEW VFHLWVC ZMLHX LIBBVY. WMUQERV TG QAFW VVEA HMVRHH LAW BHRQC GLRTEFWEQL ZN LAR TEVXK WGKNNZTCSL FG HTCH QNO APK REE. TVLUFQGVE ZMLHZ PLTK AM HPHYRTH LAL LGAQ GNTKFDBUI KSTM S ZVHP ROKAKVHQHY SN S NIZRHLAPH, QNN BL FNIPI QE JETEVXK THHR, HM EHVBGBQQ HX VGXHFGD BB, LAT ANLKX LMGT FB HPLEGPBQG FOI LNMD FBWBTRVRRKE HL QAQQ. XEC B WTEE LWVC NB GCETC GVEKBXO THAZ THAM ATLKM WTED RBZ YDH FB OZHX, DHURUAJ TBGHX RLAE ZO LAT MIWZFZRK JVHQBOO TG LAY GRMKPNE OCFKP.'"
      ]
     },
     "execution_count": 56,
     "metadata": {},
     "output_type": "execute_result"
    }
   ],
   "source": [
    "rwakpb = wcat(cat(reversed(w)) for w in cat(c for c in akpb if c in list(string.ascii_letters) + [' ']).split())\n",
    "rwakpspb = repunctuate(sanitise(rwakpb), ppub)\n",
    "rwakpspb"
   ]
  },
  {
   "cell_type": "code",
   "execution_count": 57,
   "metadata": {},
   "outputs": [
    {
     "data": {
      "text/plain": [
       "True"
      ]
     },
     "execution_count": 57,
     "metadata": {},
     "output_type": "execute_result"
    }
   ],
   "source": [
    "cb == rwakpspb"
   ]
  },
  {
   "cell_type": "code",
   "execution_count": 58,
   "metadata": {},
   "outputs": [
    {
     "data": {
      "text/plain": [
       "'you have been betrayed by midas this is a forgery'"
      ]
     },
     "execution_count": 58,
     "metadata": {},
     "output_type": "execute_result"
    }
   ],
   "source": [
    "import re\n",
    "wcat(segment(cat(sanitise(s)[0] for s in re.split('[\\.?!]', pb) if s)))"
   ]
  },
  {
   "cell_type": "code",
   "execution_count": null,
   "metadata": {},
   "outputs": [],
   "source": []
  }
 ],
 "metadata": {
  "kernelspec": {
   "display_name": "Python 3",
   "language": "python",
   "name": "python3"
  },
  "language_info": {
   "codemirror_mode": {
    "name": "ipython",
    "version": 3
   },
   "file_extension": ".py",
   "mimetype": "text/x-python",
   "name": "python",
   "nbconvert_exporter": "python",
   "pygments_lexer": "ipython3",
   "version": "3.6.3"
  }
 },
 "nbformat": 4,
 "nbformat_minor": 2
}
