{
 "cells": [
  {
   "cell_type": "code",
   "execution_count": 1,
   "metadata": {},
   "outputs": [],
   "source": [
    "import os,sys,inspect, collections\n",
    "currentdir = os.path.dirname(os.path.abspath(inspect.getfile(inspect.currentframe())))\n",
    "parentdir = os.path.dirname(currentdir)\n",
    "sys.path.insert(0,parentdir) \n",
    "\n",
    "import matplotlib.pyplot as plt\n",
    "%matplotlib inline\n",
    "\n",
    "from cipherbreak import *\n",
    "from text_prettify import *\n",
    "\n",
    "ca = open('6a.ciphertext').read()\n",
    "cb = open('6b.ciphertext').read()"
   ]
  },
  {
   "cell_type": "code",
   "execution_count": 2,
   "metadata": {},
   "outputs": [],
   "source": [
    "# def tpack(text, width=100):\n",
    "#     lines = [text[0]]\n",
    "#     for word in text[1:]:\n",
    "#         if len(lines[-1]) + 1 + len(word) <= width:\n",
    "#             lines[-1] += (' ' + word)\n",
    "#         else:\n",
    "#             lines += [word]\n",
    "#     return lines"
   ]
  },
  {
   "cell_type": "code",
   "execution_count": 3,
   "metadata": {},
   "outputs": [
    {
     "name": "stdout",
     "output_type": "stream",
     "text": [
      "Lelqzq, C xnyhv Isxad en Gkcghhe ufc wbw gem ugejldv maw efjdexq. Rly zzh vwdr fwzhcff xbw LMXSR sjwqenauim gm e qakh agnwy ugemw zvimmh Mwkgoc leeamk u dnx ix msckd evgtx fgnocff jij sly ehwmamk wzztnwq en lgi Nwltfw nj Ujsigar. Xbss kund qy lhqy ln vylqmynd mn xqsg Bnhcw'r jladrx ss xbw Avclhwb Etwyml, ababl bsr e wgkpyusmif nj ujsizsbxm xqsg lgi Nwltfw. Isxad wuqr wbw jryo vi qgtpx xhkojd sol vlyjd xi yn ryps. Xbw bpow vem am xbw kswssmifr. Xbw emlks shw vem ss xbw Fvyss Tsjzqcv, sly kdgifc en lgi zgqx ix Peclaes ogmwz vem ttmfl evie sly jtmhk nj nzd Pcygxbgtwy ss Efwwehvqmu smh nzd xbaqh if Qlivdw, uenra lgi lmhrm ge xbw Bsfgrwok. Sly Cmmazs'w wsrxfw zx Vgcvoe vem ttmfl evie sly jdquamw ix sly Ezymgkioe zx Bskmwsqrukrym, zdrww sly “yqepw” semc nj amzvxamk nzd figj. Wi skp zaui wzztnwqw qwqi zgtrx ss xbw rmnw nj ifd sz lgi Mwuih Onrxwqw ix sly smgcwmx qgqpx. Lgi ifkc lwlecfhra dngulhshk zvy lgi Mlzxow nj Twtw ul Npseomu smh nzd Luffmhy Felvdrm ge Futxpif, zrx fn-shw gem smc cvde qzdvy lgi asqhyfr qcygx bsui vwdr, mg sly gmps hkeww vi wgtpx yn ryps mm Gkcghhe. Nzd gfmd en lgi yfc sz ugejldv zaui jghrnk rxlshkbl slyjd, wcfbi faflnamk, vmkp ufc suc zvy skp mqlfidr sz Rdym. Od wbgtpx td wuxd lyjd fyuzymw Isxad'w hwsaijj luk rihl gil ssxuujilk nr ng Kshvnr vq kesamk u dnra lqecd nj zgqkyv cswmlihlr vyndefamk nzd piuzxcgm sz ugejldv zaui. Nzzx vgtkbl tw yfnyaz smgw ss fgbenw zrx vdgchgil ugejldv maw. Ay zzh vwdr nzhreamk utnyn lgi ynnpolhsh ge xbw Hqjwqmud Bmjzdvm. Lzgcltw okdh vgsl nzd Zcydryjd ehv Aiumesll bmjzdvm ogmwz zvy hnpssktbsainab zyjrmifr sz lgi Wsdwuj rlcxs, ehv zx zaqwn od emktqyv slul bluhsil khb qgtpx td ihuqcjldh nzd wued auq. Vi qwqi udlsml qmazs. Qysmabaki Dgcmy'k trypoiwldh nskihl esl xnvawqc bsr kcndr gw zr cvde. C lgmhc vi gafln td evdd xi ltvh gtv yfdqcwr sh gmi ufnxbwq fs wwtfghxcff lyj fmzl, ayn A jrio gil utvlwmx zgbym ar jcytvcff sol vlyjd sh wzvnz sly kdzyfsl qgmhyj lmazs fy.\n"
     ]
    }
   ],
   "source": [
    "print(ca)"
   ]
  },
  {
   "cell_type": "code",
   "execution_count": 4,
   "metadata": {},
   "outputs": [],
   "source": [
    "# def depunctuate_character(c):\n",
    "#     if c in string.ascii_uppercase:\n",
    "#         return 'UPPER'\n",
    "#     elif c in string.ascii_lowercase:\n",
    "#         return 'LOWER'\n",
    "#     else:\n",
    "#         return c\n",
    "\n",
    "# def depunctuate(text):\n",
    "#     return [depunctuate_character(c) for c in text]"
   ]
  },
  {
   "cell_type": "code",
   "execution_count": 5,
   "metadata": {},
   "outputs": [],
   "source": [
    "# def repunctuate_character(letters, punctuation):\n",
    "#     if punctuation == 'UPPER':\n",
    "#         return next(letters).upper()\n",
    "#     elif punctuation == 'LOWER':\n",
    "#         return next(letters).lower()\n",
    "#     else:\n",
    "#         return punctuation\n",
    "\n",
    "# def repunctuate(text, punctuation):\n",
    "#     letters = iter(text)\n",
    "#     return cat(repunctuate_character(letters, p) for p in punctuation)"
   ]
  },
  {
   "cell_type": "code",
   "execution_count": 8,
   "metadata": {},
   "outputs": [],
   "source": [
    "pua = depunctuate(ca)"
   ]
  },
  {
   "cell_type": "code",
   "execution_count": 9,
   "metadata": {},
   "outputs": [
    {
     "data": {
      "text/plain": [
       "('zeus', -1960.8847716972107)"
      ]
     },
     "execution_count": 9,
     "metadata": {},
     "output_type": "execute_result"
    }
   ],
   "source": [
    "ka, score = vigenere_frequency_break(ca)\n",
    "ka, score"
   ]
  },
  {
   "cell_type": "code",
   "execution_count": 10,
   "metadata": {},
   "outputs": [
    {
     "data": {
      "text/plain": [
       "\"Maryam, I found Jodie at Olympia and she has chapter six already. She had been leading the MIDAS operatives on a wild goose chase around Selcuk making a lot of noise about looking for the missing chapter at the Temple of Artemis. That gave me time to retrieve it from Jodie's friend at the British Museum, which has a collection of artefacts from the Temple. Jodie says she knew we would figure out where to go next. The clue was in the locations. The first one was at the Great Pyramid, the second at the fort of Qaitbay which was built from the ruins of the Lighthouse at Alexandria and the third on Rhodes, among the ruins of the Colossus. The Knight's castle at Bodrum was built from the remains of the Mausoleum at Halicarnassus, hence the “grave” task of guarding the book. So all five chapters were found at the site of one of the Seven Wonders of the ancient world. The only remaining locations are the Statue of Zeus at Olympia and the Hanging Gardens of Babylon, and no-one has any idea where the gardens might have been, so the only place we could go next is Olympia. The clue at the end of chapter five points straight there, since lighting, bull and oak are all symbols of Zeus. We should be safe here because Jodie's network has sent her attackers on to London by laying a long trail of forged documents revealing the location of chapter five. That bought us enough time to locate and decipher chapter six. We had been thinking about the evolution of the Imperial Ciphers. Tacitus used both the Vigenere and Beaufort ciphers which are polyalphabetic versions of the Caesar shift, and at first we assumed that chapter six would be encrypted the same way. We were almost right. Meanwhile Jodie's unexpected talent for forgery has given me an idea. I think we might be able to turn our enemies on one another by exploiting her gift, but I know her current focus is figuring out where on earth the seventh wonder might be.\""
      ]
     },
     "execution_count": 10,
     "metadata": {},
     "output_type": "execute_result"
    }
   ],
   "source": [
    "pa = vigenere_decipher(sanitise(ca), ka)\n",
    "repunctuate(pa, pua)"
   ]
  },
  {
   "cell_type": "code",
   "execution_count": 11,
   "metadata": {},
   "outputs": [
    {
     "data": {
      "text/plain": [
       "['Maryam, I found Jodie at Olympia and she has chapter six already. She had been leading the MIDAS',\n",
       " 'operatives on a wild goose chase around Selcuk making a lot of noise about looking for the missing',\n",
       " \"chapter at the Temple of Artemis. That gave me time to retrieve it from Jodie's friend at the\",\n",
       " 'British Museum, which has a collection of artefacts from the Temple. Jodie says she knew we would',\n",
       " 'figure out where to go next. The clue was in the locations. The first one was at the Great Pyramid,',\n",
       " 'the second at the fort of Qaitbay which was built from the ruins of the Lighthouse at Alexandria and',\n",
       " \"the third on Rhodes, among the ruins of the Colossus. The Knight's castle at Bodrum was built from\",\n",
       " 'the remains of the Mausoleum at Halicarnassus, hence the “grave” task of guarding the book. So all',\n",
       " 'five chapters were found at the site of one of the Seven Wonders of the ancient world. The only',\n",
       " 'remaining locations are the Statue of Zeus at Olympia and the Hanging Gardens of Babylon, and no-one',\n",
       " 'has any idea where the gardens might have been, so the only place we could go next is Olympia. The',\n",
       " 'clue at the end of chapter five points straight there, since lighting, bull and oak are all symbols',\n",
       " \"of Zeus. We should be safe here because Jodie's network has sent her attackers on to London by\",\n",
       " 'laying a long trail of forged documents revealing the location of chapter five. That bought us',\n",
       " 'enough time to locate and decipher chapter six. We had been thinking about the evolution of the',\n",
       " 'Imperial Ciphers. Tacitus used both the Vigenere and Beaufort ciphers which are polyalphabetic',\n",
       " 'versions of the Caesar shift, and at first we assumed that chapter six would be encrypted the same',\n",
       " \"way. We were almost right. Meanwhile Jodie's unexpected talent for forgery has given me an idea. I\",\n",
       " 'think we might be able to turn our enemies on one another by exploiting her gift, but I know her',\n",
       " 'current focus is figuring out where on earth the seventh wonder might be.']"
      ]
     },
     "execution_count": 11,
     "metadata": {},
     "output_type": "execute_result"
    }
   ],
   "source": [
    "tpack(repunctuate(pa, pua).split())"
   ]
  },
  {
   "cell_type": "code",
   "execution_count": 12,
   "metadata": {},
   "outputs": [
    {
     "name": "stdout",
     "output_type": "stream",
     "text": [
      "Maryam, I found Jodie at Olympia and she has chapter six already. She had been leading the MIDAS\n",
      "operatives on a wild goose chase around Selcuk making a lot of noise about looking for the missing\n",
      "chapter at the Temple of Artemis. That gave me time to retrieve it from Jodie's friend at the\n",
      "British Museum, which has a collection of artefacts from the Temple. Jodie says she knew we would\n",
      "figure out where to go next. The clue was in the locations. The first one was at the Great Pyramid,\n",
      "the second at the fort of Qaitbay which was built from the ruins of the Lighthouse at Alexandria and\n",
      "the third on Rhodes, among the ruins of the Colossus. The Knight's castle at Bodrum was built from\n",
      "the remains of the Mausoleum at Halicarnassus, hence the “grave” task of guarding the book. So all\n",
      "five chapters were found at the site of one of the Seven Wonders of the ancient world. The only\n",
      "remaining locations are the Statue of Zeus at Olympia and the Hanging Gardens of Babylon, and no-one\n",
      "has any idea where the gardens might have been, so the only place we could go next is Olympia. The\n",
      "clue at the end of chapter five points straight there, since lighting, bull and oak are all symbols\n",
      "of Zeus. We should be safe here because Jodie's network has sent her attackers on to London by\n",
      "laying a long trail of forged documents revealing the location of chapter five. That bought us\n",
      "enough time to locate and decipher chapter six. We had been thinking about the evolution of the\n",
      "Imperial Ciphers. Tacitus used both the Vigenere and Beaufort ciphers which are polyalphabetic\n",
      "versions of the Caesar shift, and at first we assumed that chapter six would be encrypted the same\n",
      "way. We were almost right. Meanwhile Jodie's unexpected talent for forgery has given me an idea. I\n",
      "think we might be able to turn our enemies on one another by exploiting her gift, but I know her\n",
      "current focus is figuring out where on earth the seventh wonder might be.\n"
     ]
    }
   ],
   "source": [
    "lcat = '\\n'.join\n",
    "print(lcat(tpack(repunctuate(pa, pua).split())))"
   ]
  },
  {
   "cell_type": "code",
   "execution_count": 13,
   "metadata": {},
   "outputs": [
    {
     "data": {
      "text/plain": [
       "1932"
      ]
     },
     "execution_count": 13,
     "metadata": {},
     "output_type": "execute_result"
    }
   ],
   "source": [
    "open('6a.plaintext', 'w').write(lcat(tpack(repunctuate(pa, pua).split())))"
   ]
  },
  {
   "cell_type": "code",
   "execution_count": 14,
   "metadata": {},
   "outputs": [],
   "source": [
    "pub = depunctuate(cb)\n",
    "scb = sanitise(cb)"
   ]
  },
  {
   "cell_type": "code",
   "execution_count": 15,
   "metadata": {},
   "outputs": [
    {
     "data": {
      "text/plain": [
       "('jcarykujniqadmv', -3289.3609056830232)"
      ]
     },
     "execution_count": 15,
     "metadata": {},
     "output_type": "execute_result"
    }
   ],
   "source": [
    "kbv, score = vigenere_frequency_break(scb)\n",
    "kbv, score"
   ]
  },
  {
   "cell_type": "code",
   "execution_count": 16,
   "metadata": {},
   "outputs": [
    {
     "data": {
      "text/plain": [
       "'Piuo tgnlqva rdn uggsvzeuvlr ed lurg nrubgg ve dyp kztmitehdd flrmqantm bvn enarvtu vd Zgvhrerir rez nttcgegm uy Tlxt lk unu tez la hbt dten, rm mgmggtz ld uog Axruglt. Ot ngrgtz bos orxg utttvyqg ael sn xgutz ybu yq Tlwwuvee uy lluo Enbpueba Gbaiufba yel Ptgrevoa Ntegmvk, zbu hot Uymn pgnt guettlba eem, ggerfkrydd ubg qlna sa tpt Fymtj ttxriltl s ntsgth, welpr sepe ul e atc dldrd mlwhrmgn atyx uog Lvdvo. Soyqisqd fbslmweh hl ggurgm bcn lmhhgm sotnbvh sa tpt Rmbvde rn r kygi ma fybgeut, uog Axruglt nsettm oie unu arht ln yuott tvmigrstm ugetgexn qfm, uy uog abgstcns ma nyxt, bg prn ewrfntm hgvoksord ttemgrhvlra. R nuebbs qrn ggtshtm yq bos Oteeut yr uot ynmsh la hot Gkstgyn, yav, urwte idq, Rhtcfkrr pen ngru ul dcis abvguqq ye ova hrwwqd gnueht pognt nu pra utrztm yq bos Uxsgglt’a lpe fvdmwfveen. Bin mtebo osn r ugvgvlbn avlek ul kt, rrz r srilaar tigeu hy rqq bcn zhvtrmn. Ih prn naqt sn r ttrd dlnn gptd zd ublng hl poye os qrn rlu fggnlryqpe jeype. Roxyttu, xkhtlvtg, yn uot fssarrfg rez hot youd wsnngn fekt ul bcn nmbng; rez ie sblxve tqrstn, erm pognthug jrlua ya urdqtfo pttt raatxydam, nwn eext cen le exq pwsn; rlg zim r nilhpu nloq lr btrgilh kb ova mteho gtpsveu ru hot rgpn lt hlfitu iu zoifjqq. Bouo ndksrhbd pra ceehtratm lq uot ccms-osggrm toxlbt boqv ot brm lgte ggelhum yq sliale lr bos Uxsgglt’a flxkyel. Nlxiuver qlnh ll twxt ie rfflvehceg vot exyihvlba Urpcnuibn Dofbqdin qo uog etc ulittllf ma ubt styivesa. Os qrn sortutm pibo mufbtveu hot atyhurt sgrfg cvuo Syqsnleir rrz otrzam tptgg ul syeagylu Esqhefba. Iu pra sepe uoge ubeu uog xlmo la hot Symtw cyn fuiteqtz. Arqbabvao pgyut yn ovn avlek ru hot rgpn vr y qsvutt ul Seul mebtl vot nvahb mrd laakht ubt jedtema sa Wsd vr uog qtrg yh unu flrnbdaovsa sa Wsgfon Rtttfvrin Ertxgen II rem Difucn Yetyion Olrsgqvbn. “Ct rtg twstanmrd fbrgugm yd yig wmnu kbeinvftrb rdn hggru Gkstgyn Mkyvuire hy ntfont Rsw Gyxrre ve uba Ekhuogge Wiehmyen qfm dgu dyo pgvha uk yt ln uog dlnn yh unu Flztw Ysfbqhsgay. Dlog qgemtg Eoguglqe ora eqgtetd rsvm hot ftvft yh nago r dlna, lbu vn kla nl eyu ggslitt bos Glmgw ygnlgt hvt rsnnieh yn uot qarf votr dlo krd yg ubfu uoeu dyo pvqd jluf ovk. Dlo htqq ka unsu vrutddvhtrmt zhlx e frfhbgtz usc obhutnha uorh bos vgriult Srqhembm prn hot Symtw elm uo xranvru ovn aisrmguggn ir uot Rsgtp. Poiqt hbt Yrtfrfwrea uogkntqvan qht brqvwgqd uy eriu xbso ln hot Fyttv, Grqurfoa vn rr amagrugm Gykre rrt os ybnh yt ahlssgt ysblgg ot see mtabgke uog ntsogvuq sa tpt Vksttirq fizoshn. Ubt Fyztw pixq xu gtsligttm, lt kla, elbt arkiqd rrt thugdyet qyb jeyw purq sed ubg sgvsa. Rdn nl hl ubg ntiglun trgh la hbt ugoa ntmgd ya Rutvfldy vd qovso ubg arug sa tpt eieub dthvyl rdn la hot Symtw ibnsra piqq ir uvxg ft fuiteqtz. Oeuvd bosf vu cvqd lt hbenmsn yd hot erfvtrb Yqzdqyever Hlmzanm ma Peg.'"
      ]
     },
     "execution_count": 16,
     "metadata": {},
     "output_type": "execute_result"
    }
   ],
   "source": [
    "repunctuate(vigenere_decipher(sanitise(cb), kbv), pub)"
   ]
  },
  {
   "cell_type": "code",
   "execution_count": 17,
   "metadata": {},
   "outputs": [
    {
     "data": {
      "text/plain": [
       "('hnypjvriltvyzlt', -3351.460892110415)"
      ]
     },
     "execution_count": 17,
     "metadata": {},
     "output_type": "execute_result"
    }
   ],
   "source": [
    "kbb, score = beaufort_frequency_break(cb)\n",
    "kbb, score"
   ]
  },
  {
   "cell_type": "code",
   "execution_count": 18,
   "metadata": {},
   "outputs": [
    {
     "data": {
      "text/plain": [
       "'jdeksfkoiqfhtmesfgdmhdenubvlfhsyhekfreuihjmafmdfueiuunutiwmfmkdlhyxidsldtasdehuudgiumsfdxsufmensmcfavejffumnyekewfhshknsmfsfmaufkffbffsnskfyfgtfmekelhbfefsscbiffulhlbfefmnwfavmnadedhuenamfkhsxhfuxlsxldduxlhulkfsuudxlkguftdmaxeekfrnlmjfsfqfufsnxlhtnsfbhrphaivekfhollnydkftnmfcsechduflhlftsfeptojunuhvenhyfjimwhitnashmflysnafkfudtekgxaidthwtknnkdurensfrgtmkdllnrrfmgxskydenydkfhzxdihgmhbhsonytnxshrefkffbffsnslghsenkdbejfyhefnyndlfsmdkrshtfmrftgshilgumenekflwtgsdlenylnbfkfiilhjhrmfmesdxbflhimfsnshednulgmehexejhlfsfteenavekelfuhefnudlfnsmesnyekffbfgsnsaweehpfudihirsdtmihjhllfudfnidqezxdfeivntldlyhadivfleheekkfsfjfjhlefumenavekefbgfsnslmkugkvkdtdhulkdknfhekihlhrsdfqmyllknspenbfhumghhduywifqfueengjikdlxsdfumldeiilyfidhlhsfhiimmlfqftaveknlfemkknbkejhlunegfrmnuhihvpunjuuxabfslbmsfnqfsnydlfgngwihtfhumejgaxlvahllflthbefnkdljnxlfhumdthxaidsgihtflhulkkfsfpfspunelnxfhipfrljfsfhllecaifmjdluhbfjhkouhiihdglunsmdlildurhflnxinukeisdurmykdlmfhejtfwndsfheekfufimnsynrrfedezxdsqivekcllvbghekukhldussfhlfmavdlfjdmelgsfhmsxaoxsekgekfkhmafevsfbnpfmavgndlmvnuekefbgfsnslsobbhulmnbdedhuholeunddbfduhggmeueduqekfhbadecoxllhhxledxlixsyiixlglekfufjrmrfsunrnyekfgsnpeutfkejhltkhsrenjdekkftxsdurejgyshrcifgfhtfjcfkthiemnudhhumjghmfmdkfsfentntzsnueshirhtxlddkhlnuhvekfuekhdfkfinklnyekftnlgcjhlrfqfhifmlgjxledwljsnefnyjellknspheekfufimduhieeefsenthdomheflekfydyeklivafymsfekfphievmlnyahvduekfveisnyejftnulxiljeglnyahstxlhsseuduxlsifbfulddgvmixtcxlahfadxklnunsgexljfhsfedgsflkivtkhsrflbvnxsanlebxudycufuehtmrsfhefbfgsnsmmbdedhuenkgtxsffhcsnbhuhcvekfumsekfsupdtsmnblgumvfevnxitdefembfnyekfimmlnyejftnmfcntsyienswbvnxsifhlgshrsctnihkhlhhtfhmvfhdmekfgscufnylwtkhinllawfdyvnwmnunesftmrfseketnmfcafymtfekffhlldurnydlfvfhrekfuvnxbgwaflxrfekhevnxieiiwncukdbvnxeejibfejheduefiicsfutfxsnbhthgewtfmlgulxrrfleldlheekeeshdenstgjrhtxkkhlekftnlgchumclbhlldurjellxgfnsefsldudlfunsdkjkdifekebhsahrdhulekfbkgiqflgsfxuidpfhwenbhofbxtknyejgtnmfbthirhtxlcmhufmwthefmsnbgvhumkebxleaflemhgfmaeynsfkfthtnflesmvekflftxreevnydkfdbgfsdgjtdgkeslekftnmedjdiizfsftnqfsennsvnwvnxsyhbdhwhumfpfsvnufvnwqunjjciighvekfftdtfhtmlnenekfkgqfuejghsenyekefsxfldnsvnyhrscunihdtjkdtkekfxiefnydkfuduekiesdnuhtmnyekftnlgcdeleiyjdiidudebfafrfqfhifmxtfdiekeudejdiiaesxhsmemavekfhusefueagavinudhuqommflknyjhs'"
      ]
     },
     "execution_count": 18,
     "metadata": {},
     "output_type": "execute_result"
    }
   ],
   "source": [
    "beaufort_decipher(sanitise(cb), kbb)"
   ]
  },
  {
   "cell_type": "code",
   "execution_count": 19,
   "metadata": {},
   "outputs": [
    {
     "data": {
      "text/plain": [
       "('ryajcqgrnskaxof', -3289.3609056830232)"
      ]
     },
     "execution_count": 19,
     "metadata": {},
     "output_type": "execute_result"
    }
   ],
   "source": [
    "kbbv, score = beaufort_variant_frequency_break(cb)\n",
    "kbbv, score"
   ]
  },
  {
   "cell_type": "code",
   "execution_count": 20,
   "metadata": {},
   "outputs": [
    {
     "data": {
      "text/plain": [
       "'piuotgnlqvardnuggsvzeuvlredlurgnrubggvedypkztmitehddflrmqantmbvnenarvtuvdzgvhrerirreznttcgegmuytlxtlkunutezlahbtdtenrmmgmggtzlduogaxrugltotngrgtzbosorxgutttvyqgaelsnxgutzybuyqtlwwuveeuylluoenbpuebagbaiufbayelptgrevoantegmvkzbuhotuymnpgntguettlbaeemggerfkryddubgqlnasatptfymtjttxriltlsntsgthwelprsepeuleatcdldrdmlwhrmgnatyxuoglvdvosoyqisqdfbslmwehhlggurgmbcnlmhhgmsotnbvhsatptrmbvdernrkygimafybgeutuogaxrugltnsettmoieunuarhtlnyuotttvmigrstmugetgexnqfmuyuogabgstcnsmanyxtbgprnewrfntmhgvoksordttemgrhvlrarnuebbsqrnggtshtmyqbosoteeutyruotynmshlahotgkstgynyavurwteidqrhtcfkrrpenngruuldcisabvguqqyeovahrwwqdgnuehtpogntnuprautrztmyqbosuxsggltalpefvdmwfveenbinmteboosnrugvgvlbnavlekulktrrzrsrilaartigeuhyrqqbcnzhvtrmnihprnnaqtsnrttrddlnngptdzdublnghlpoyeosqrnrlufggnlryqpejeyperoxyttuxkhtlvtgynuotfssarrfgrezhotyoudwsnngnfektulbcnnmbngreziesblxvetqrstnermpognthugjrluayaurdqtfoptttraatxydamnwneextcenleexqpwsnrlgzimrnilhpunloqlrbtrgilhkbovamtehogtpsveuruhotrgpnlthlfituiuzoifjqqbouondksrhbdpraceehtratmlquotccmsosggrmtoxlbtboqvotbrmlgteggelhumyqslialelrbosuxsggltaflxkyelnlxiuverqlnhlltwxtierfflvehcegvotexyihvlbaurpcnuibndofbqdinqouogetculittllfmaubtstyivesaosqrnsortutmpibomufbtveuhotatyhurtsgrfgcvuosyqsnleirrrzotrzamtptggulsyeagyluesqhefbaiuprasepeuogeubeuuogxlmolahotsymtwcynfuiteqtzarqbabvaopgyutynovnavlekruhotrgpnvryqsvuttulseulmebtlvotnvahbmrdlaakhtubtjedtemasawsdvruogqtrgyhunuflrnbdaovsasawsgfonrtttfvrinertxgeniiremdifucnyetyionolrsgqvbnctrtgtwstanmrdfbrgugmydyigwmnukbeinvftrbrdnhggrugkstgynmkyvuirehyntfontrswgyxrreveubaekhuoggewiehmyenqfmdgudyopgvhaukytlnuogdlnnyhunuflztwysfbqhsgaydlogqgemtgeoguglqeoraeqgtetdrsvmhotftvftyhnagordlnalbuvnklanleyuggslittbosglmgwygnlgthvtrsnniehynuotqarfvotrdlokrdygubfuuoeudyopvqdjlufovkdlohtqqkaunsuvrutddvhtrmtzhlxefrfhbgtzuscobhutnhauorhbosvgriultsrqhembmprnhotsymtwelmuoxranvruovnaisrmguggniruotrsgtppoiqthbtyrtfrfwreauogkntqvanqhtbrqvwgqduyeriuxbsolnhotfyttvgrqurfoavnrramagrugmgykrerrtosybnhytahlssgtysblggotseemtabgkeuogntsogvuqsatptvksttirqfizoshnubtfyztwpixqxugtsligttmltklaelbtarkiqdrrtthugdyetqybjeywpurqsedubgsgvsardnnlhlubgntigluntrghlahbtugoantmgdyarutvfldyvdqovsoubgarugsatpteieubdthvylrdnlahotsymtwibnsrapiqqiruvxgftfuiteqtzoeuvdbosfvucvqdlthbenmsnydhoterfvtrbyqzdqyeverhlmzanmmapeg'"
      ]
     },
     "execution_count": 20,
     "metadata": {},
     "output_type": "execute_result"
    }
   ],
   "source": [
    "beaufort_variant_decipher(sanitise(cb), kbbv)"
   ]
  },
  {
   "cell_type": "code",
   "execution_count": 21,
   "metadata": {},
   "outputs": [
    {
     "data": {
      "text/plain": [
       "'ytsfeqziozzjyzynifmpczahrmdxemcpjzkmjwjlxnnyonyerofpohxcddrcgzewuxdyioknuwxnbjvyqlnrzresxtfivjwqfyuewdiyowzlefdbxcvvjphzvvgclgtmtgqgsgouncvhzdhgqpoiaeutqtjvpqbodegstcrmcxrtdyybzkeywyeuuvsdtaoxbyrkleslsgczexwgbxntrmeysyaguvwjwqjgydepouomrjtzujwohgqvcmueioasbmdrqtsaviskmkxsekqbnteipeknauupiftymqkenkipdeaxaftxauudzckvvnjftnmtgbeehwbimsclcessglcireuhgwwlyxjfngmnmrebmmfkvpaohxxsgbvzoywwgzcuqnojzxpefrmkzpmgksvajuryrkimuzevnjlqwexpybstphbsiezbiqccknatjvowdxwkenfosfjjrfspkiojnaeaceignjpkmhmpswfczqbjhvppczhdvjtvlkwvgcecjedqrxtabnyivskgpgpbmityxuktwmmlrgqyvvawhlngwiahbktyzvqynncbbdqzdeeeoershbiqltegjriukialufyukgvtzekncmyafwndyamvtstwryacxyallqpaopcnwrsqtgzrgfpejoymndfxaazwdfhmmcgpwltsbxjvvoageyfazkzskfccocgmwucfjsnqzuevanhtxwxoaxdttlqrohnwjfhzghonqxscdddzywlzgedmnfspenyehypvtwlgugrxjxglrjrkvdvmievpftyuocdicijifknqwvqjblqlwowcrgkqbxrnihxzlqcwubpwbbdlyrxbldlhguqedueejcuvcgyxnyzwmviaiwexxagvfnvfisrlwglpldcjsibqqgvuienlufstzzhanbsnitujiyexvvzuxzsgcpzhwlbpztqxvcuzksmsvmckgsamvqislpmpebwztxycgdboztpckmeyncijrcuamgbamtujurczsifncmuykyvsobuykolymrgjrokaycaizhkkcpkiyykdkcokmoaxuoaslievdhtpnykwjqhctxhucldgakaqovdcppxhrcduwngahltatswfaebolamgzmlbrraeeaicgyvomorpeavueckyysketvfraqyxxzpdxziewwaazksgqexgakjwafruwhzkwoohwfyzaqjcebhhwzbcokqsxweviwgblgawlimoqbgbwljybjxiqvguxvkwaydleqxxczkkrjndjipnuckiensalufwzdbcvlzboiimqihhqgqligodxmetgvuyynjfueadtioypxvvtjananrwtwiwqecsfrafoecgmigjstastytaoaaaicbbqfwczwgazhlhqoywpapkdnijysxgwscchyyqvymiyhssfwliaonsfteylmqgdavsdgzeruprqimkbigpdzcijjgiapvrdsfillydvlkddcfgbrzusfbthejdltrhgpwfjdefhatrynubwqmgmbenqeauduywpadbqwcguysfrnxklcgmigjsbgnoqkgmhagmiyhqyvpkpulmnexfgruzehgcppkjquwegfxcvdymgtxfrdfjxdehtvqinowziyfadvepfjumnxnkgegwceptacydlungwxeqkikgyqqaghwclrniddelxibvghlrqdoqjnblmlpfuavvumalzqsiibaywlutzncqynnpllygpdiqrndrdtkxafowgexyztnhjoefbnkmqcyurmmlzpomoxzgzaycskbzxsglywehercavykijxmayepzokgrwrskcpkzifynzsmraaamwausemvnzmiftcmkgqeibgvzyuajgfkmcnhaausphtlsenhnfecpfczdmvgxzrepwdjnrzbcggfobytwrsbxcuuefyprmkdoqjreayfqyviakimlaqqaafzormkycourkqymvgivresfbfflondaypnqurwdwtyoadrbctnsirqkzerxegpteaniovvkfriypvlkedyziaaejijgiguwldnbdlngbdofzpbzcbufvtfonjytalwrkvpxwlbvyquadgdzzsauoaohxxfceuxnaqaumnpryjsmkdiyqumafndewkdhypzatgntredpgiyiuhvalamveqvsgdknfqxkdzvrhxfxcubicgmrqhwuiswmlzbhzzeylhnqgp'"
      ]
     },
     "execution_count": 21,
     "metadata": {},
     "output_type": "execute_result"
    }
   ],
   "source": [
    "vbai = vigenere_decipher(sanitise(cb), 'arcanaimperii')\n",
    "vbai"
   ]
  },
  {
   "cell_type": "code",
   "execution_count": 22,
   "metadata": {},
   "outputs": [
    {
     "data": {
      "text/plain": [
       "'ybwfeqpgshhzozgrifmfadiphcdfimcpzxourmzlfrnyodwizwvfopbcddhakhmmkxlciokdsafvrzvgulnrppiafjvidnwqfosielyooedleftzbkdlzppdvvgsjkbujwqowgoudazphtxgytoiausxybzlpyfodewqxkzcsxzxdyyrxomgmoecyvsdjysfjohktislswadmfmwbfrtrmuwwgiwkvenwqjwwhmxekouvjtzkhawpwgvkqueieywjuthqbwaviiiqsfiukyfnteynisvqkuxmftycoomvaypliaxavrbicktzkovvnzdxvujwbmihwbykwktsusaklcihcypommlgbjfnwkruzurmujkvpqmlffiwbddoywmedkcgdordxpevpqshfcgswvajkpczsycuhivnjboamffobaxphbigihjygckonatztselnmkmrfosvhnznifkqsjnauygmqwdjxomhmfqankpgbrlvppsxlldzjvtowvgscgrmtgrfxabnogzaswfgxfmitovysbmcmtvgqylteepbdgemahbarchdgonvgbbdgxhmmueezwhbigjxmozhicoialkdccswlthiknccwenedtyiqvtsjuvgisnyiplqpqmtkvmhsyxgzrwdtmreomvhfxaqxalnxcmkkpwljqffrlloikeyfqxohaavckscgmmsgnridqhyevadfxfeneafhttlgpspvmzfpdghodobakttdhcwlzwchuvvipmryehonzbebwuovxjxwjvrzalddqievfdxgcesdqgijiviryelgjjpqlweugzoagbfvnihnxpykmkbxabbdbwvfjbtlpkuqetsimrskvkkyxnoxaudyqieixxawtjvdvyszpwglfjhkriybyugvuycrtcvithdhanrqrqbkzigixvvpsbhawsphlwlbfxxyflsuhosmslkgsoiqmduislfktmjmptfccgdrmdbxsammcncizpgcicwbiqtujkpghayvnkquykotwwjkokwpymrwhvwsqocimzhkaatsqooklocokcmefceqstmevdxrtvgamjylctxxsgtlwqkiuovdsntfphsdcangaxjxibimfiibolqkkhubrrzeeeayakgdecozteavkcgsgoikmxvfrqocffpfdfdiewmyehsiwqmbgakzuenzkmhhowooxujghqgjkibhhmxfkwagsfaevimeftoqmlqqoqbwzatrorjfmqvgkvzseqodtiqxxsxoszzddrmpnusimmviqlcjwzdrazthreiqqqihxokytywolbmetwtyggdzfciadtymcxflltrenanhuxeqmgekwfravmikocygrwtasjwxiwqqaqgbbqvughewqzpphqooutixatnqnysxwuwkkxoyyzymiofwanmbiisnsfjcctugwdizsdgpcvcxhgiuobigfbdkqzzgqepvrtqjqtboddpkddsdkjzpksnfthezbpbzxwpejjdevfebzodujaqmgczivyuqulyywpqbfyeswugwfrnnipkocygrwbgneooouxqgumyhqottsxkbmvixfghsdmpwspxojqumcknfsldgqgtxvphnrntepxvqidmahqovalzepfzsqvfdagmkwcefrekgtbuvkwxegimsoogqikhwcbprqltulfmbvgxjvylegjvflmlfdyidlkmipzqsygfigmbubdncqolrxtbogxhiqrdbvlbananswgenwdbvxzomjbnkcoggchcmtdpomevdohqocaobzxiepgeuxezgavyagnfuqoexdokghuvassfkhmfynpqqziqqmeeusectrhuyvtkqkgqugfodpouingfkcarpiqksxltlsullvnuspngzdmlebhzufwlnnrzrakonerybarsbnaycmvopzqkdoghvmiovqgziakykpiygqandormawgwchaqgqvgilpianrvftsndaonrychmdexyoatpfkbdiizukzehvioxjuavmovvadvqgfllsidyzyyemryzgqkuwltlfltdwblsfzprxgjcvltnsnjyjypezalpfalbvooyilwtzhwauoqmlffvsecbnaqqsqvxhojaqkdiooyuivddmakdhondibwdtzidpgywmcplqliqveqlqklsdvqfodzvhfbnfskbqggmrgfacqimmtdbhzpcctpdggx'"
      ]
     },
     "execution_count": 22,
     "metadata": {},
     "output_type": "execute_result"
    }
   ],
   "source": [
    "vbai = beaufort_variant_decipher(sanitise(cb), 'arcanaimperii')\n",
    "vbai"
   ]
  },
  {
   "cell_type": "code",
   "execution_count": 23,
   "metadata": {},
   "outputs": [
    {
     "name": "stderr",
     "output_type": "stream",
     "text": [
      "/usr/local/lib/python3.5/dist-packages/matplotlib/figure.py:403: UserWarning: matplotlib is currently using a non-GUI backend, so cannot show the figure\n",
      "  \"matplotlib is currently using a non-GUI backend, \"\n"
     ]
    },
    {
     "data": {
      "image/png": "[encoded data removed]",
      "text/plain": [
       "<matplotlib.figure.Figure at 0x7f4d3e2493c8>"
      ]
     },
     "metadata": {},
     "output_type": "display_data"
    }
   ],
   "source": [
    "fc = collections.Counter(sanitise(cb))\n",
    "plot_frequency_histogram(fc)"
   ]
  },
  {
   "cell_type": "code",
   "execution_count": 24,
   "metadata": {},
   "outputs": [
    {
     "name": "stderr",
     "output_type": "stream",
     "text": [
      "/usr/local/lib/python3.5/dist-packages/matplotlib/figure.py:403: UserWarning: matplotlib is currently using a non-GUI backend, so cannot show the figure\n",
      "  \"matplotlib is currently using a non-GUI backend, \"\n"
     ]
    },
    {
     "data": {
      "image/png": "[encoded data removed]",
      "text/plain": [
       "<matplotlib.figure.Figure at 0x7f4d3e249128>"
      ]
     },
     "metadata": {},
     "output_type": "display_data"
    }
   ],
   "source": [
    "fp = collections.Counter(vigenere_decipher(sanitise(cb), kbv))\n",
    "plot_frequency_histogram(fp)"
   ]
  },
  {
   "cell_type": "code",
   "execution_count": 25,
   "metadata": {},
   "outputs": [
    {
     "name": "stderr",
     "output_type": "stream",
     "text": [
      "/usr/local/lib/python3.5/dist-packages/matplotlib/figure.py:403: UserWarning: matplotlib is currently using a non-GUI backend, so cannot show the figure\n",
      "  \"matplotlib is currently using a non-GUI backend, \"\n"
     ]
    },
    {
     "data": {
      "image/png": "[encoded data removed]",
      "text/plain": [
       "<matplotlib.figure.Figure at 0x7f4d3e093ac8>"
      ]
     },
     "metadata": {},
     "output_type": "display_data"
    }
   ],
   "source": [
    "fp = collections.Counter(vbai)\n",
    "plot_frequency_histogram(fp)"
   ]
  },
  {
   "cell_type": "code",
   "execution_count": 26,
   "metadata": {},
   "outputs": [
    {
     "name": "stderr",
     "output_type": "stream",
     "text": [
      "/usr/local/lib/python3.5/dist-packages/matplotlib/figure.py:403: UserWarning: matplotlib is currently using a non-GUI backend, so cannot show the figure\n",
      "  \"matplotlib is currently using a non-GUI backend, \"\n"
     ]
    },
    {
     "data": {
      "image/png": "[encoded data removed]",
      "text/plain": [
       "<matplotlib.figure.Figure at 0x7f4d3dfa9ef0>"
      ]
     },
     "metadata": {},
     "output_type": "display_data"
    }
   ],
   "source": [
    "plot_frequency_histogram({k: 10**Pl[k] for k in Pl})"
   ]
  },
  {
   "cell_type": "code",
   "execution_count": 27,
   "metadata": {},
   "outputs": [
    {
     "name": "stderr",
     "output_type": "stream",
     "text": [
      "/usr/local/lib/python3.5/dist-packages/matplotlib/figure.py:403: UserWarning: matplotlib is currently using a non-GUI backend, so cannot show the figure\n",
      "  \"matplotlib is currently using a non-GUI backend, \"\n"
     ]
    },
    {
     "data": {
      "image/png": "[encoded data removed]",
      "text/plain": [
       "<matplotlib.figure.Figure at 0x7f4d3dfa9e48>"
      ]
     },
     "metadata": {},
     "output_type": "display_data"
    }
   ],
   "source": [
    "fp = collections.Counter(every_nth(scb, 15)[4])\n",
    "plot_frequency_histogram(fp)"
   ]
  },
  {
   "cell_type": "code",
   "execution_count": 28,
   "metadata": {},
   "outputs": [
    {
     "name": "stderr",
     "output_type": "stream",
     "text": [
      "/usr/local/lib/python3.5/dist-packages/matplotlib/figure.py:403: UserWarning: matplotlib is currently using a non-GUI backend, so cannot show the figure\n",
      "  \"matplotlib is currently using a non-GUI backend, \"\n"
     ]
    },
    {
     "data": {
      "text/plain": [
       "'y'"
      ]
     },
     "execution_count": 28,
     "metadata": {},
     "output_type": "execute_result"
    },
    {
     "data": {
      "image/png": "[encoded data removed]",
      "text/plain": [
       "<matplotlib.figure.Figure at 0x7f4d3df75c88>"
      ]
     },
     "metadata": {},
     "output_type": "display_data"
    }
   ],
   "source": [
    "k, _ = caesar_break(every_nth(scb, 15)[4])\n",
    "fp = collections.Counter(caesar_decipher(every_nth(scb, 15)[4], k))\n",
    "plot_frequency_histogram(fp)\n",
    "unpos(k)"
   ]
  },
  {
   "cell_type": "code",
   "execution_count": 29,
   "metadata": {},
   "outputs": [
    {
     "name": "stderr",
     "output_type": "stream",
     "text": [
      "/usr/local/lib/python3.5/dist-packages/matplotlib/figure.py:403: UserWarning: matplotlib is currently using a non-GUI backend, so cannot show the figure\n",
      "  \"matplotlib is currently using a non-GUI backend, \"\n"
     ]
    },
    {
     "data": {
      "image/png": "[encoded data removed]",
      "text/plain": [
       "<matplotlib.figure.Figure at 0x7f4d3df789b0>"
      ]
     },
     "metadata": {},
     "output_type": "display_data"
    }
   ],
   "source": [
    "fp = collections.Counter(vigenere_decipher(sanitise(cb), kbv))\n",
    "plot_frequency_histogram(fp, sort_key=fp.get)"
   ]
  },
  {
   "cell_type": "code",
   "execution_count": 30,
   "metadata": {},
   "outputs": [
    {
     "name": "stderr",
     "output_type": "stream",
     "text": [
      "/usr/local/lib/python3.5/dist-packages/matplotlib/figure.py:403: UserWarning: matplotlib is currently using a non-GUI backend, so cannot show the figure\n",
      "  \"matplotlib is currently using a non-GUI backend, \"\n"
     ]
    },
    {
     "data": {
      "image/png": "[encoded data removed]",
      "text/plain": [
       "<matplotlib.figure.Figure at 0x7f4d3f1a62b0>"
      ]
     },
     "metadata": {},
     "output_type": "display_data"
    }
   ],
   "source": [
    "plot_frequency_histogram({k: 10**Pl[k] for k in Pl}, sort_key=Pl.get)"
   ]
  },
  {
   "cell_type": "code",
   "execution_count": 31,
   "metadata": {},
   "outputs": [
    {
     "data": {
      "text/plain": [
       "(('taxied', <KeywordWrapAlphabet.from_last: 2>), -3188.639246703687)"
      ]
     },
     "execution_count": 31,
     "metadata": {},
     "output_type": "execute_result"
    }
   ],
   "source": [
    "vb = vigenere_decipher(sanitise(cb), kbv)\n",
    "keyword_break_mp(vb)"
   ]
  },
  {
   "cell_type": "code",
   "execution_count": 32,
   "metadata": {},
   "outputs": [
    {
     "data": {
      "text/plain": [
       "'pdtoahnlqubrfnthhsuxetulrefltrhnrtyhhuefwpkxamdaeiffglrmqbnamyunenbruatufxhuirerdrrexnaazhehmtwalcalktntaexlbiyafaenrmmhmhhaxlftohbcrthlaoanhrhaxyosorchtaaauwqhbelsnchtaxwytwqalvvtueetwlltoenypteybhybdtgybwelpahreuobnaehmukxytioatwmnphnahteaalybeemhhergkrwfftyhqlnbsbapagwmajaacrdlalsnashaivelprsepetlebazflfrfmlvirmhnbawctohlufuosowqdsqfgyslmveiilhhtrhmyznlmiihmsoanyuisbaparmyufernrkwhdmbgwyhetatohbcrthlanseaamodetntbrialnwtoaaaumdhrsamtheahecnqgmtwtohbyhsaznsmbnwcayhprnevrgnamihuoksorfaaemhriulrbrnteyysqrnhhasiamwqyosoaeetawrtoawnmsilbioahksahwnwbutrvaedfqriazgkrrpennhrttlfzdsbyuhtqqweoubirvvqfhnteiapohnantprbtarxamwqyostcshhlablpegufmvgueenydnmaeyoosnrthuhulynbulektlkarrxrsrdlbbradhetiwrqqyznxiuarmndiprnnbqasnraarfflnnhpafxftylnhilpoweosqrnrltghhnlrwqpejewperocwaatckialuahwntoagssbrrghrexioawotfvsnnhngekatlyznnmynhrexdesylcueaqrsanermpohnaithjrltbwbtrfqagopaaarbbacwfbmnvneecazenleecqpvsnrlhxdmrndliptnloqlryarhdlikyoubmaeiohapsuetrtioarhpnlailgdatdtxodgjqqyotonfksriyfprbzeeiarbamlqtoazzmsoshhrmaoclyayoquoayrmlhaehhelitmwqsldblelryostcshhlabglckwelnlcdtuerqlnillavcadergglueizehuoaecwdiulybtrpzntdynfogyqfdnqotoheaztldaallgmbtyasawduesbosqrnsoratampdyomtgyauetioabawitrashrghzutoswqsnledrrrxoarxbmapahhtlswebhwltesqiegybdtprbsepetohetyettohclmolbioaswmavzwngtdaeqaxbrqybyubophwtawnounbulekrtioarhpnurwqsutaatlsetlmeyaluoanubiymrflbbkiatyajefaembsbvsfurtohqarhwitntglrnyfbousbsbvshgonraaagurdnerachenddremfdgtznweawdonolrshquynzarahavsabnmrfgyrhthmwfwdhvmntkyednugaryrfnihhrthksahwnmkwutdreiwnagonarsvhwcrreuetybekitohhevdeimwenqgmfhtfwophuibtkwalntohflnnwitntglxavwsgyqishbwflohqhemaheohthlqeorbeqhaeafrsumioagaugawinbhorflnblytunklbnlewthhsldaayoshlmhvwhnlhaiuarsnndeiwntoaqbrguoarflokrfwhtygttoetfwopuqfjltgoukfloiaqqkbtnsturtaffuiarmaxilcegrgiyhaxtszoyitanibtoriyosuhrdtlasrqiemymprnioaswmavelmtocrbnurtounbdsrmhthhndrtoarshappodqaiyawragrgvrebtohknaqubnqiayrquvhqftwerdtcysolnioagwaauhrqtrgobunrrbmbhrthmhwkrerraoswyniwabilsshawsylhhoaseemabyhketohnasohutqsbapauksaadrqgdxosintyagwxavpdcqcthasldhaamlaklbelyabrkdqfrraaithfweaqwyjewvptrqseftyhshusbrfnnliltyhnadhltnarhilbiyathobnamhfwbrtauglfwufqousotyhbrthsbapaedetyfaiuwlrfnlbioaswmavdynsrbpdqqdrtuchgagtdaeqaxoetufyosgutzuqflaiyenmsnwfioaerguarywqxfqweuerilmxbnmmbpeh'"
      ]
     },
     "execution_count": 32,
     "metadata": {},
     "output_type": "execute_result"
    }
   ],
   "source": [
    "keyword_decipher(vb, 'taxied', KeywordWrapAlphabet.from_last)"
   ]
  },
  {
   "cell_type": "code",
   "execution_count": 33,
   "metadata": {},
   "outputs": [
    {
     "data": {
      "text/plain": [
       "'gekyjtdxzlabrdkttilphklxbhrxkbtdbkqttlhrogwpjfejhurrsxbfzadjfqldhdabljklrptlubhbebbhpdjjcthtfkojxnjxwkdkjhpxauqjrjhdbfftfttjpxrkytanbktxjyjdtbtjpqyiybntkjjjloztahxidntkjpoqkozjxmmklhhkoxxkyhdqgkhqatqaeksqaohxgjtbhlyadjhtflwpqkuyjkofdgtdjtkhjjxqahhftthbswborrkqtzxdaiajgjsofjvjjnbexjxidjitjumhxgbihghkxhajcrxrbrfxmubftdajonkytxlrlyiyozeizrsqixfmhuuxttkbtfqcdxfuutfiyjdqluiajgjbfqlrhbdbwotefasoqthkjkytanbktxjdihjjfyehkdkabujxdokyjjjlfetbijfkthjthndzsfkokytaqtijcdifadonjqtgbdhmbsdjfutlywiybrjjhftbulxbabdkhqqizbdttjiujfozqyiyjhhkjobkyjodfiuxauyjtwijtodoalkbmjherzbujcswbbghddtbkkxrceiaqltkzzohylaubmmzrtdkhujgytdjdkgbakjbpjfozqyiknittxjaxghslrfmslhhdqedfjhqyyidbktltlxqdalxhwkxwjbbpbibexaabjethkuobzzqcdpuljbfdeugbddazjidbjjbrrxddtgjrprkqxdtuxgyohyizbdbxksttdxbozghvhoghbynojjknwujxljtodkyjsiiabbstbhpuyjoykrmiddtdshwjkxqcddfqdtbhpehiqxnlhjzbijdhbfgytdjuktvbxkaoakbrzjsygjjjbaajnorafdmdhhnjchdxhhnzgmidbxtpefbdexugkdxyzxbqjbtexuwqylafjhuytjgilhkbkuyjbtgdxjuxsejkekpyesvzzqykydrwibuqrgbachhujbajfxzkyjccfiyittbfjynxqjqyzlyjqbfxtjhtthxukfozixeaxhxbqyiknittxjasxnwohxdxneklhbzxduxxjmnjehbssxlhuchtlyjhnoeulxqakbgcdkeqdrysqzredzykythjckxejjxxsfakqjijoelhiayizbdiybjkjfgeqyfksqjlhkuyjajoukbjitbstclkyiozidxhebbbpyjbpafjgjttkxiohatoxkhizuhsqaekgbaihghkythkqhkkytnxfyxauyjiofjmcodskejhzjpabzqaqlaygtokjodyldalxhwbkuyjbtgdlbozilkjjkxihkxfhqjxlyjdlauqfbrxaawujkqjvhrjhfaiamirlbkytzjbtoukdksxbdqrayliaiamitsydbjjjslbedhbjnthdeebhfreskcdohjoeydyxbitzlqdcjbjtjmijadfbrsqbtktforoetmfdkwqhedlsjbqbrduttbktwijtodfwolkebhuodjsydjbimtonbbhlhkqahwukytthmehufohdzsfrtkroygtluakwojxdkytrxddoukdksxpjmoisqzuitaorxytzthfjthytktxzhybahztjhjrbilfuyjsjlsjoudatybrxdaxqkldwxadxhokttixejjqyitxftmotdxtjuljbiddehuodkyjzabslyjbrxywbrotkqskkyhkroyglzrvxksylwrxyujzzwakdiklbkjrrlujbfjpuxnhsbsuqtjpkicyqukjduakybuqyiltbekxjibzuhfqfgbduyjiofjmhxfkynbadlbkyldaeibftkttdebkyjbitjggyezjuqjobjsbsmbhakytwdjzladzujqbzlmtzrkohbeknqiyxduyjsojjltbzkbsyaldbbafatbktftowbhbbjyioqduojauxiitjoiqxttyjihhfjaqtwhkytdjiytlkziajgjlwijjebzsepyiudkqjsopjmgenznktjixetjjfxjwxahxqjabwezrbbjjuktrohjzoqvhomgkbzihrkqtitliabrddxuxkqtdjetxkdjbtuxauqjktyadjftroabkjlsxrolrzyliykqtabktiajgjhehkqrjuloxbrdxauyjiofjmeqdibagezzebklntsjskejhzjpyhklrqyislkclzrxjuqhdfidoruyjhbsljbqozprzohlhbuxfpadffaght'"
      ]
     },
     "execution_count": 33,
     "metadata": {},
     "output_type": "execute_result"
    }
   ],
   "source": [
    "keyword_decipher(vb, 'arcanaimperii', KeywordWrapAlphabet.from_largest)"
   ]
  },
  {
   "cell_type": "code",
   "execution_count": 34,
   "metadata": {},
   "outputs": [
    {
     "data": {
      "text/plain": [
       "'kccgi'"
      ]
     },
     "execution_count": 34,
     "metadata": {},
     "output_type": "execute_result"
    }
   ],
   "source": [
    "cat(unpos(caesar_break(section)[0]) for section in every_nth(scb, 5))"
   ]
  },
  {
   "cell_type": "code",
   "execution_count": 35,
   "metadata": {},
   "outputs": [
    {
     "data": {
      "text/plain": [
       "'oiszjgfsxvgpethfgqgpemcsrkbmaefnpfrgycldenlfglirpxdvmsrsobtglbtyunsyctateftuhpphijylztruitdgkfotdealqsoagdzjlxblkaetpnstlgeeplvbvggvsatktmedgjnazhmtuewgsejtnfxggcmyawgsepytbfqzjxchuecfoldbvetzqaraaemqimmiaecmvgfrcgeafalgstlfothmekyeuwgtrharstjmqewtngkpgqexdbfrgisuayyuvgeykeztleyirrmyasseexwwswrycqkhkeyesddkydsjxnelglljypbvgrtebbrowbysikmbyjncrghjrwujntbilmsuggkdetfichyyuvgqmzgtejuykeejsneyzruulbvggvsatktldutltviksoanqhrwdymvatztnotqsrxkgwanedlrlztyszwatnztiltsnmyverghyuecpgtglhegekkvydzrfstqhtwhajubehztwemgeeihltfqhmtugdeseormvaytktnyzhmewkkanytwbbhqwrpydiyotidlxeoelywrmbsdigtgougsbgywvcanpxcdcglfuhlwvgtroacqasehzltfqhmtakrgewjadwlfbbncsuecyriftaehmpyaquegwvdiuabjfqhkkrchzjzyirybxghgcfxyjxxbilanisrkyyhhyungouyaqtrctdduugvrefqtbjywhdwvykmtwemrjfvgyusreoqkwdynphopfatavlngkvrronmvafyqbxeegppphgafoabxyamglquklbsbilosomgpppiwzildtfzdqsryurewvgtriatirjfqysbydwrgucstrcqalefdgkocadevesefsledoqcfmrjrpieyuirfqaakoowhblynirflhbuakeuhgnapytfaethmehghustnjgogtiskeixqxqhmvuackqcxbvwyaicfngqarxbqmvaciktuffgpxjopsithmrbbsbpxbgllngkjiazxqqwyadlsrhmtakrgewjaxsekecmtywisgurisuhrjucksiccvfdclhichbbsevjyhnsiaapqiatizytoxixdolruhngcesudpatrjgsntbrdjyaclsgmtwemsmcjultwihmnasattpkhgahtefvxgrgpqwcnbvseottydipchzgayzgkuvgfgswiywhnyrsfydgedmqimwyaycqkhngcfrembvgdjnuyzhmeiyeadcelgavseoepajxiahtbucfyseongcuabjfqethmehghucreotbhstswiemstehrmbbsntlxbeyklgylngtbruudlltayyxyqurszwqlynynsoaskrlmtagczayyxyteolcjtlmcrolfxgwgcyyijltdodviaxerjyofvsryerbomcrcjgldztglnxqebprkgefkyoexsatkzpynnmarhpetufgpfwkkanytkleitippxyfamotrsyjfyvchenlbbgclnhngepmiwotyklrlzcgsooohnchgslegknszwdduuynsoaskzrhosxixhyebeqkoebweeaneuevmypemcqeinaezbsyilhmevtnmaynlbmbqdjyqltbcnqjbtydysrwsdpathmtmylgujwndnahbrsyamicsonmvaqgpgbbsrbwekjkfgazgahnesooohcxdpjvlbukbwehlxxkgsoyhursetdnoarsranywedcvhtnazaqduoguryxamvyhhmtbtqiswjsjxoesznvemhmeiyeaderkvukqalghugcuaoqssttgeyyrmvaryeuvcnioexblfytlpgcedaszwkfaxvglrngarogmgikbykpjakasmwdhgamyzrwmepupqeanuyrgkbmetgkrokjlyrzmteomhweqhdzzgzwthyfgmeiewtaahelkhngleioycbqyyuvgukqejijxmifmtnatbrqozldwidoyatssjtwtltstqjbkyatycaiikyrzriatcycegytqlycnvxdrebfrgkncsgpetakhjfrgfapgrsozefhjlxblbnoglustcyycktnmsdetewbusmfrgsybgyyuvgdicfrdlocyrpetyzhmeiyeadihltxnoiobyrmceglrgavseoepowbcdhmtlitctbtlloietkttlchmeurxcarhwrfqpycgurzstzglnsnoee'"
      ]
     },
     "execution_count": 35,
     "metadata": {},
     "output_type": "execute_result"
    }
   ],
   "source": [
    "vb5 = vigenere_decipher(scb, 'kccgi')\n",
    "vb5"
   ]
  },
  {
   "cell_type": "code",
   "execution_count": 36,
   "metadata": {},
   "outputs": [
    {
     "data": {
      "text/plain": [
       "'iya'"
      ]
     },
     "execution_count": 36,
     "metadata": {},
     "output_type": "execute_result"
    }
   ],
   "source": [
    "cat(unpos(caesar_break(section)[0]) for section in every_nth(scb, 3))"
   ]
  },
  {
   "cell_type": "code",
   "execution_count": 37,
   "metadata": {},
   "outputs": [
    {
     "data": {
      "text/plain": [
       "'qmuxtqzwdvsrybphksezoggyrwdgimhrrdbqsgrdqpfnonmtnhnpqyreqvbonfvwexmcitmvynbwlrnrsdcrzftoqbfkmdydxiglcuiiofdljhlfogefrhabnkgczvpfbgsxmibmxocnqdrgztoncmykuctdhjdgseggiykuczinflqllrkpwiedyvxfbefbkizcegkasgqoaqegdohveeokzergevfnwvlocuiyycgftbizuxlkaoqxtgwraymzhddbqcwaakaodogcmcjdfieidtggiuwgchgqwcrkekspmiaccnxoedelrvmnknjtijfbgdvyjjtsyziccosbklhkzillpgedrzbungacikmbodzmihkaodosqbedodyekqgdavgcbpeeffbgsxmibmxnbedfxbiwuiivsltunigzgtlvhwbswtvuqqetepnlthvcuxgknrftunnavocxcbqbcaeorabonlgeouezedltzabslvurkdyhetbnemokgcsrfxlqtoncofiucybgzgyfmnvgblocgueetyfyvjpsatninccutufffmqinwgbgfyduinowwkuzqiqziazrrkleknderfabgftiikseucrjfxlqtonistkgutkxarfndhkawiewbszxgetojgisygegfxmaanlzypmotarjddeidavfojkedhidbdbunuvquvmwirbcansqogisxtadnxyaghtynyvflwgrxabywonemovldfqsyyrqqksefcpnryjjgtmxfvomztpyxgzgfksvfmgkrnzraelomdrgioknoeuffybuniawokrnzsqdolpvzhlswtwebyabgftcibkvldaimfeditackuxtaakfildsmikifixccozwrepqkknovlpzsycaidhkiimsqurlfctidhfpjwemcerargpkvzimvlocrqbyytzlawovmuiosrudqtopcieosahlpaeauezvosetvlagzgcumncnhkrvtyjwottoljjufrvlqfptgwlcihzusuikxpyrtonistkgutkrwkkqegbgymueebcwahdloksumeafpxgrhuebjjuixhirhwoamrkqivmbwdyrmddanlcppkeccextgtdlaavvftbtiugrssonemowoatefxcitohiacxvnuraentqhpfotkrogmhfbsqqnbgfmrarjaeezsmodohkuusiqltyduzgliifkasgaeakeksppkedbogfbgplhcgblocsiyejcqnaiduiqczkdboatvvckhcucyxagaanlzymvlocrqbyirqqnjpuxuusogwzettgjjurvjhlycqlsafvovftsenfpzakargywvuxgafctyzuiiamvnkdkagfakargbgsnatdfqiranzfoykewisdpzdafpqizithiyzzyrkgljwogtatqfhftsnhfygfrpuqyjqyagraivobnixhqgrtrybchkrdgueetyfmfmqvmrnhizesoftmgrhcxarohphbsefvppkgnwsqszywnlthekumyybrihsufmomruxgnxyayzuiiamdtfycrmdhkgvmymsgzgoyeteggpugrioaaocrgeldmgqnlocfdhqgyznvujshlwavnfinclvbgfcupgcxtgttonugnkwhgxxrghntmgiomeqyxgzgqsrajjuvduoudolgmbaippiumyybgddblptjwoduorfbdksuigpwvucdnhsgretuvgyifafrnrgzmsxcwiytwhkgzehtonjbsmuutcdbueebhdmolocsiyejedmpcssenereagaaasmabvkgwibgzgrkgodkpmqchlfjetxrakmfeuxguzedvsnlvocvqewqcohywrdiscwounraesyltqumryrookhyersmvumvkmpyudperlonmwolycarxdfglynpghkocsoqxgatgfsppkncsysghqkaodowosctsdbsironvivftoyjfhcipqsibuwlrgdfxytclvsgcxaakscoerltcibececqinuryoppfltiddbqerissrybimlldbqzevgduihmhlljhlfftosnoabecaaudhqydqvyejwwodbqmchgkaodofmedbnfsiydrybgblocsiyejitnnfvqmqzibggkgxtaiduiqczyqfidtontqvgvzdvfsoefmnbtelocebrggrtylnyrceeebtwzzsnhavqig'"
      ]
     },
     "execution_count": 37,
     "metadata": {},
     "output_type": "execute_result"
    }
   ],
   "source": [
    "vb3 = vigenere_decipher(scb, 'iya')\n",
    "vb3"
   ]
  },
  {
   "cell_type": "code",
   "execution_count": 38,
   "metadata": {},
   "outputs": [
    {
     "name": "stderr",
     "output_type": "stream",
     "text": [
      "/usr/local/lib/python3.5/dist-packages/matplotlib/figure.py:403: UserWarning: matplotlib is currently using a non-GUI backend, so cannot show the figure\n",
      "  \"matplotlib is currently using a non-GUI backend, \"\n"
     ]
    },
    {
     "data": {
      "image/png": "[encoded data removed]",
      "text/plain": [
       "<matplotlib.figure.Figure at 0x7f4d3e1772b0>"
      ]
     },
     "metadata": {},
     "output_type": "display_data"
    }
   ],
   "source": [
    "fp = collections.Counter(vb5)\n",
    "plot_frequency_histogram(fp, sort_key=fp.get)"
   ]
  },
  {
   "cell_type": "code",
   "execution_count": 39,
   "metadata": {},
   "outputs": [
    {
     "name": "stderr",
     "output_type": "stream",
     "text": [
      "/usr/local/lib/python3.5/dist-packages/matplotlib/figure.py:403: UserWarning: matplotlib is currently using a non-GUI backend, so cannot show the figure\n",
      "  \"matplotlib is currently using a non-GUI backend, \"\n"
     ]
    },
    {
     "data": {
      "image/png": "[encoded data removed]",
      "text/plain": [
       "<matplotlib.figure.Figure at 0x7f4d3f354748>"
      ]
     },
     "metadata": {},
     "output_type": "display_data"
    }
   ],
   "source": [
    "fp = collections.Counter(every_nth(scb, 15)[0])\n",
    "plot_frequency_histogram(fp, sort_key=fp.get)"
   ]
  },
  {
   "cell_type": "code",
   "execution_count": 40,
   "metadata": {},
   "outputs": [
    {
     "data": {
      "text/plain": [
       "'etoainhsrdlumwycfgpbvkxjqz'"
      ]
     },
     "execution_count": 40,
     "metadata": {},
     "output_type": "execute_result"
    }
   ],
   "source": [
    "ltrs = [p[0] for p in english_counts.most_common()]\n",
    "cat(ltrs)"
   ]
  },
  {
   "cell_type": "code",
   "execution_count": 41,
   "metadata": {},
   "outputs": [
    {
     "data": {
      "text/plain": [
       "'trguenlosaybvhmqdifpkxwzcj'"
      ]
     },
     "execution_count": 41,
     "metadata": {},
     "output_type": "execute_result"
    }
   ],
   "source": [
    "ctls =  [p[0] for p in collections.Counter(sanitise(vb)).most_common()]\n",
    "cat(ctls)"
   ]
  },
  {
   "cell_type": "code",
   "execution_count": 42,
   "metadata": {},
   "outputs": [
    {
     "data": {
      "text/plain": [
       "{'a': 'd',\n",
       " 'b': 'u',\n",
       " 'c': 'q',\n",
       " 'd': 'f',\n",
       " 'e': 'i',\n",
       " 'f': 'p',\n",
       " 'g': 'o',\n",
       " 'h': 'w',\n",
       " 'i': 'g',\n",
       " 'j': 'z',\n",
       " 'k': 'v',\n",
       " 'l': 'h',\n",
       " 'm': 'y',\n",
       " 'n': 'n',\n",
       " 'o': 's',\n",
       " 'p': 'b',\n",
       " 'q': 'c',\n",
       " 'r': 't',\n",
       " 's': 'r',\n",
       " 't': 'e',\n",
       " 'u': 'a',\n",
       " 'v': 'm',\n",
       " 'w': 'x',\n",
       " 'x': 'k',\n",
       " 'y': 'l',\n",
       " 'z': 'j'}"
      ]
     },
     "execution_count": 42,
     "metadata": {},
     "output_type": "execute_result"
    }
   ],
   "source": [
    "trans = {pr[1]: pr[0] for pr in zip(ltrs, ctls)}\n",
    "trans"
   ]
  },
  {
   "cell_type": "code",
   "execution_count": 43,
   "metadata": {},
   "outputs": [
    {
     "data": {
      "text/plain": [
       "'Bgas eonhcmd tfn aoormjiamht if hato ntauoo mi flb vjeygeiwff phtycdney umn indtmea mf Jomwtitgt tij neeqoioy al Ehke hv ana eij hd wue fein, ty yoyooej hf aso Dktaohe. Se notoej usr stko aeeemlco dih rn koaej lua lc Ehxxamii al hhas Inubaiud Oudgapud lih Beotimsd Neioymv, jua wse Alyn bone oaieehud iiy, ooitpvtlff auo chnd rd ebe Plyez eektgheh r neroew, xihbt ribi ah i deq fhftf yhxwtyon delk aso Hmfms. Rslcgrcf purhyxiw wh ooatoy uqn hywwoy rsenumw rd ebe Tyumfi tn t vlog yd pluoiae, aso Dktaohe nrieey sgi ana dtwe hn lasee emygotrey aoieoikn cpy, al aso duoreqnr yd nlke, uo btn ixtpney womsvrstf eeiyotwmhtd. T naiuur ctn ooerwey lc usr Seiiae lt ase lnyrw hd wse Ovreoln, ldm, atxei gfc, Tweqpvtt bin nota ah fqgr dumoacc li smd wtxxcf onaiwe bsone na btd aetjey lc usr Akroohe’d hbi pmfyxpmiin. Ugn yeius srn t aomomhun dmhiv ah ve, ttj t rtghddt egoia wl tcc uqn jwmetyn. Gw btn ndce rn t eetf fhnn obef jf auhno wh bsli sr ctn tha poonhtlcbi zilbi. Tskleea, kvwehmeo, ln ase prrdttpo tij wse lsaf xrnnon pive ah uqn nyuno; tij gi ruhkmi ectren, ity bsonewao zthad ld atfceps beee tddeklfdy, nxn iike qin hi ikc bxrn; tho jgy t nghwba nhsc ht uetoghw vu smd yeiws oebrmia ta wse tobn he whpgea ga jsgpzcc. Usas nfvrtwuf btd qiiwetdey hc ase qqyr-srooty eskhue uscm se uty hoei ooihway lc rhgdhi ht usr Akroohe’d phkvlih. Nhkgamit chnw hh exke gi tpphmiwqio mse iklgwmhud Atbqnagun Fspucfgn cs aso ieq ahgeehhp yd aue relgmird. Sr ctn rsteaey bgus yapuemia wse delwate rotpo qmas Rlcrnhigt ttj setjdy ebeoo ah rlidolha Ircwipud. Ga btd ribi asoi auia aso khys hd wse Rlyex qln pageicej. Dtcudumds bolae ln smn dmhiv ta wse tobn mt l crmaee ah Riah yiueh mse nmdwu ytf hddvwe aue zifeiyd rd Xrf mt aso ceto lw ana phtnufdsmrd rd Xropsn Teeepmtgn Itekoin GG tiy Fgpaqn Lielgsn Shtrocmun. “Qe teo exrednytf putoaoy lf lgo xyna vuignmpetu tfn woota Ovreoln Yvlmagti wl nepsne Trx Olktti mi aud Ivwasooi Xgiwylin cpy foa fls bomwd av le hn aso fhnn lw ana Phjex Lrpucwrodl. Fhso coiyeo Isoaohci std icoeief trmy wse pempe lw ndos t fhnd, hua mn vhd nh ila oorhgee usr Ohyox lonhoe wme trnngiw ln ase cdtp mset fhs vtf lo aupa asia fls bmcf zhap smv. Fhs wecc vd anra mtaeffmwetye jwhk i ptpwuoej arq suwaenwd astw usr motgahe Rtcwiyuy btn wse Rlyex ihy as ktdnmta smn dgrtyoaoon gt ase Troeb. Bsgce wue Lteptpxtid asovnecmdn cwe utcmxocf al itga kurs hn wse Pleem, Otcatpsd mn tt dydotaoy Olvti tte sr lunw le dwhrroe lruhoo se rii yeduovi aso nersomac rd ebe Mvreegtc pgjsrwn. Aue Pljex bgkc ka oerhgoeey, he vhd, ihue dtvgcf tte ewaoflie clu zilx batc rif auo romrd. Tfn nh wh auo negohan etow hd wue aosd neyof ld Taemphfl mf csmrs auo dtao rd ebe igiau fewmlh tfn hd wse Rlyex gunrtd bgcc gt amko pe pageicej. Siamf usrp ma qmcf he wuinyrn lf wse itpmetu Lcjfclimit Whyjdny yd Bio.'"
      ]
     },
     "execution_count": 43,
     "metadata": {},
     "output_type": "execute_result"
    }
   ],
   "source": [
    "tt = ''.maketrans(trans)\n",
    "# tpack(repunctuate(vb.translate(tt), pub))\n",
    "repunctuate(vb.translate(tt), pub)"
   ]
  },
  {
   "cell_type": "code",
   "execution_count": 44,
   "metadata": {},
   "outputs": [
    {
     "name": "stdout",
     "output_type": "stream",
     "text": [
      "Zxlv ehbtfms iyb lhhcmjolmti oy tlih bilrhh mo ydz ujeaxeonyy ktiafsbea rmb obsimel my Jhmnioixi ioj\n",
      "beephoha ld Etqe tu lbl eoj ts nre yeob, ia ahahhej ty lvh Sqilhte. Ve bhihej rvc viqh leeemdfh sot\n",
      "cb qhlej drl df Etwwlmoo ld ttlv Obrzlors Hrsxlkrs dot Zehiomvs Beohamu, jrl nve Ldab zhbe hloeetrs\n",
      "ooa, hhoikuidyy lrh ftbs cs eze Kdaeg eeqixtet c bechen, wotzi cozo lt o sep ytyiy atwniahb sedq lvh\n",
      "Tmymv. Cvdfxcfy krctawon nt hhliha rpb tannha cvebrmn cs eze Iarmyo ib i udhx as kdrhole, lvh\n",
      "Sqilhte bcoeea vxo lbl sine tb dlvee emaxhicea lhoehoqb fka, ld lvh srhcepbc as bdqe, rh zib owikbea\n",
      "nhmvucviy eeoahinmtis. I blorrc fib hhecnea df rvc Veoole di lve dbacn ts nve Hucehdb, dsm, liweo\n",
      "xyf, Inepkuii zob bhil lt ypxc srmhlff do vms niwwfy hblone zvhbe bl zis leijea df rvc Lqchhte’s tzo\n",
      "kmyawkmoob. Rxb aeorv vcb i lhmhmtrb smtou lt ue, iij i cixtssi exhol nd iff rpb jnmeiab. Xn zib\n",
      "bsfe cb i eeiy ytbb hzey jy lrtbh nt zvdo vc fib itl khhbtidfzo godzo. Ivqdeel, qunetmeh, db lve\n",
      "kccsiikh ioj nve dvly wcbbhb koue lt rpb barbh; ioj xo crtqmo eficeb, oia zvhbenlh gitls ds liyfekv\n",
      "zeee isseqdysa, bwb ooqe pob to oqf zwcb; ith jxa i bxtnzl btvf ti reihxtn ur vms aeonv hezcmol il\n",
      "nve ihzb te ntkxel xl jvxkgff. Rvlv byucinry zis pooneisea tf lve ppac-vchhia evqtre rvfm ve ria\n",
      "theo hhotnla df ctxsto ti rvc Lqchhte’s ktqudot. Btqxlmoi ftbn tt ewqe xo ikktmonpoh mve oqdxnmtrs\n",
      "Lizpblxrb Yvkrfyxb fv lvh oep ltxeettk as lre cedxmocs. Vc fib cvielea zxrv alkremol nve sednlie\n",
      "chikh pmlv Cdfcbtoxi iij veijsa ezehh lt cdoshdtl Ocfnokrs. Xl zis cozo lvho lrol lvh qtav ts nve\n",
      "Cdaew pdb klxeofej. Sifrsrmsv zhdle db vmb smtou il nve ihzb mi d fcmlee lt Colt aoret mve bmsnr aiy\n",
      "tssune lre goyeoas cs Wcy mi lvh feih dn lbl ktibrysvmcs cs Wchkvb Ieeekmixb Oieqhob XX ioa Yxklpb\n",
      "Doedxvb Vtichfmrb. “Pe ieh ewcesbaiy krihlha dy dxh wabl uroxbmkeir iyb nhhil Hucehdb Audmlxio nd\n",
      "bekvbe Icw Hdqiio mo lrs Ounlvhho Wxonadob fka yhl ydv zhmns lu de tb lvh ytbb dn lbl Ktjew\n",
      "Dckrfnchsd. Ytvh fhoaeh Ovhlhtfo vis ofheoey icma nve kemke dn bshv i ytbs, trl mb uts bt odl\n",
      "hhctxee rvc Htahw dhbthe nme icbbxon db lve fsik mvei ytv uiy dh lrkl lvol ydv zmfy gtlk vmu. Ytv\n",
      "neff us lbcl mileyymneiae jntq o kiknrhej lcp vrnlebns lvin rvc mhixlte Cifnoara zib nve Cdaew ota\n",
      "lv qisbmil vmb sxciahlhhb xi lve Ichez. Zvxfe nre Diekikwios lvhubefmsb fne rifmwhfy ld oixl qrcv tb\n",
      "nve Kdeem, Hiflikvs mb ii sashilha Hduio iie vc drbn de sntcche dcrthh ve coo aesrhuo lvh becvhmlf\n",
      "cs eze Muceexif kxjvcnb. Lre Kdjew zxqf ql hectxheea, te uts, otre siuxfy iie enlhydoe fdr godw zlif\n",
      "coy lrh chmcs. Iyb bt nt lrh bexhtlb eihn ts nre lhvs beahy ds Ilemktyd my fvmcv lrh silh cs eze\n",
      "oxolr yenmdt iyb ts nve Cdaew xrbcis zxff xi lmqh ke klxeofej. Volmy rvck ml pmfy te nrobacb dy nve\n",
      "oikmeir Dfjyfdomoi Ntajsba as Zoh.\n"
     ]
    }
   ],
   "source": [
    "trans = {\n",
    " 'a': 's',\n",
    " 'b': 'r',\n",
    " 'c': 'p',\n",
    " 'd': 'y',\n",
    " 'e': 'o',\n",
    " 'f': 'k',\n",
    " 'g': 'h',\n",
    " 'h': 'n',\n",
    " 'i': 'x',\n",
    " 'j': 'g',\n",
    " 'k': 'u',\n",
    " 'l': 't',\n",
    " 'm': 'a',\n",
    " 'n': 'b',\n",
    " 'o': 'v',\n",
    " 'p': 'z',\n",
    " 'q': 'f',\n",
    " 'r': 'i',\n",
    " 's': 'c',\n",
    " 't': 'e',\n",
    " 'u': 'l',\n",
    " 'v': 'm',\n",
    " 'w': 'w',\n",
    " 'x': 'q',\n",
    " 'y': 'd',\n",
    " 'z': 'j'}\n",
    "\n",
    "\n",
    "tt = ''.maketrans(trans)\n",
    "print(lcat(tpack(repunctuate(vb.translate(tt), pub).split())))"
   ]
  },
  {
   "cell_type": "code",
   "execution_count": 45,
   "metadata": {},
   "outputs": [
    {
     "data": {
      "text/plain": [
       "('jcarykujniqadmv', 15)"
      ]
     },
     "execution_count": 45,
     "metadata": {},
     "output_type": "execute_result"
    }
   ],
   "source": [
    "kbv, len(kbv)"
   ]
  },
  {
   "cell_type": "code",
   "execution_count": 46,
   "metadata": {},
   "outputs": [
    {
     "data": {
      "text/plain": [
       "['jkq', 'cua', 'ajd', 'rnm', 'yiv']"
      ]
     },
     "execution_count": 46,
     "metadata": {},
     "output_type": "execute_result"
    }
   ],
   "source": [
    "every_nth(kbv, 5)"
   ]
  },
  {
   "cell_type": "code",
   "execution_count": 47,
   "metadata": {},
   "outputs": [],
   "source": [
    "def index_of_coincidence(text):\n",
    "    stext = sanitise(text)\n",
    "    counts = collections.Counter(stext)\n",
    "    denom = len(stext) * (len(text) - 1) / 26\n",
    "    return (\n",
    "        sum(max(counts[l] * counts[l] - 1, 0) for l in string.ascii_lowercase) \n",
    "        / \n",
    "        denom\n",
    "    )"
   ]
  },
  {
   "cell_type": "code",
   "execution_count": 48,
   "metadata": {},
   "outputs": [
    {
     "data": {
      "text/plain": [
       "1.0739632382990911"
      ]
     },
     "execution_count": 48,
     "metadata": {},
     "output_type": "execute_result"
    }
   ],
   "source": [
    "index_of_coincidence(scb)"
   ]
  },
  {
   "cell_type": "code",
   "execution_count": 49,
   "metadata": {},
   "outputs": [
    {
     "data": {
      "text/plain": [
       "1.7196234250491917"
      ]
     },
     "execution_count": 49,
     "metadata": {},
     "output_type": "execute_result"
    }
   ],
   "source": [
    "index_of_coincidence(pa)"
   ]
  },
  {
   "cell_type": "code",
   "execution_count": 50,
   "metadata": {},
   "outputs": [
    {
     "name": "stdout",
     "output_type": "stream",
     "text": [
      "1 1.0739632382990911\n",
      "2 1.0847309682648545\n",
      "3 1.1901326088129982\n",
      "4 1.0944337274794889\n",
      "5 1.3385608752635192\n",
      "6 1.2148423611711687\n",
      "7 1.1475045557348746\n",
      "8 1.126018862329491\n",
      "9 1.246033937674865\n",
      "10 1.387327185449383\n",
      "11 1.1687618776366193\n",
      "12 1.2613508799467053\n",
      "13 1.1901044676035653\n",
      "14 1.1988503247011726\n",
      "15 1.8423114658282445\n",
      "16 1.1835776099617201\n",
      "17 1.229047094202011\n",
      "18 1.3067952909636624\n",
      "19 1.2593538199678038\n"
     ]
    }
   ],
   "source": [
    "for i in range(1, 20):\n",
    "    print(i, sum(index_of_coincidence(section) for section in every_nth(scb, i)) / i)"
   ]
  },
  {
   "cell_type": "code",
   "execution_count": 51,
   "metadata": {},
   "outputs": [
    {
     "data": {
      "text/plain": [
       "[(1, 1.0739632382990911),\n",
       " (2, 1.0847309682648545),\n",
       " (4, 1.0944337274794889),\n",
       " (8, 1.126018862329491),\n",
       " (7, 1.1475045557348746),\n",
       " (11, 1.1687618776366193),\n",
       " (16, 1.1835776099617201),\n",
       " (13, 1.1901044676035653),\n",
       " (3, 1.1901326088129982),\n",
       " (14, 1.1988503247011726),\n",
       " (6, 1.2148423611711687),\n",
       " (17, 1.229047094202011),\n",
       " (9, 1.246033937674865),\n",
       " (19, 1.2593538199678038),\n",
       " (12, 1.2613508799467053),\n",
       " (18, 1.3067952909636624),\n",
       " (5, 1.3385608752635192),\n",
       " (10, 1.387327185449383),\n",
       " (15, 1.8423114658282445)]"
      ]
     },
     "execution_count": 51,
     "metadata": {},
     "output_type": "execute_result"
    }
   ],
   "source": [
    "ics = [(i, sum(index_of_coincidence(section) for section in every_nth(scb, i)) / i)\n",
    "       for i in range(1, 20)]\n",
    "sorted(ics, key=lambda p: p[1])"
   ]
  },
  {
   "cell_type": "code",
   "execution_count": 52,
   "metadata": {},
   "outputs": [
    {
     "data": {
      "text/plain": [
       "'etgyasrlhmbcnikuodwfqvjpxz'"
      ]
     },
     "execution_count": 52,
     "metadata": {},
     "output_type": "execute_result"
    }
   ],
   "source": [
    "ctls =  [p[0] for p in collections.Counter(sanitise(vb5)).most_common()]\n",
    "cat(ctls)"
   ]
  },
  {
   "cell_type": "code",
   "execution_count": 53,
   "metadata": {},
   "outputs": [
    {
     "data": {
      "text/plain": [
       "{'a': 'i',\n",
       " 'b': 'l',\n",
       " 'c': 'u',\n",
       " 'd': 'g',\n",
       " 'e': 'e',\n",
       " 'f': 'b',\n",
       " 'g': 'o',\n",
       " 'h': 'r',\n",
       " 'i': 'w',\n",
       " 'j': 'x',\n",
       " 'k': 'y',\n",
       " 'l': 's',\n",
       " 'm': 'd',\n",
       " 'n': 'm',\n",
       " 'o': 'f',\n",
       " 'p': 'j',\n",
       " 'q': 'v',\n",
       " 'r': 'h',\n",
       " 's': 'n',\n",
       " 't': 't',\n",
       " 'u': 'c',\n",
       " 'v': 'k',\n",
       " 'w': 'p',\n",
       " 'x': 'q',\n",
       " 'y': 'a',\n",
       " 'z': 'z'}"
      ]
     },
     "execution_count": 53,
     "metadata": {},
     "output_type": "execute_result"
    }
   ],
   "source": [
    "trans = {pr[1]: pr[0] for pr in zip(ltrs, ctls)}\n",
    "trans"
   ]
  },
  {
   "cell_type": "code",
   "execution_count": 54,
   "metadata": {},
   "outputs": [
    {
     "name": "stdout",
     "output_type": "stream",
     "text": [
      "Pfwq spkxhbm nuc jvymakoeeun xh etfv nnhcpm en hpj dlolfslvlj punapbcol dbx aqfrtsf bu Lcxgnlnmh rnk\n",
      "dsopcdyf hu Hqte gr wtt odh gz vgd oead, nv iclyerk bj dce Mqftcfq. Or lphnek sol rfuy wrshvzhe mae\n",
      "et uywrk tld gp Ggnyjxta hu bqdc Adcytkra Eyimepoi pae Hovbaaoy Kaneabd, lxb gor Wtuu reds ctkwqgyi\n",
      "opq, sexniufkvh hcp rxii yi oho Erfrz hdtathse e twxerv, epxrn yaym jf t irr lqoah agnbflyl zstz dce\n",
      "Hbuzz. Smuktrro mcygvykt gg jeahnk cwl eirtyf cohkftv yi oho Mpcaho hu a ypeh ib ercjaad, dce\n",
      "Mqftcfq lcahdq ctx wtt bmgs wl tekes gbvxcmxsb wppasajl gsv, br wqe ylndswll ib orqr, cp cri aonicol\n",
      "geaowakah gskicmgbwny. H uvascl afo yermndq gp sol Rodtwr uc eke udflb ec gor Ewaasud, ubz, jmisl\n",
      "tlr, Rwswdddf ptl xece du hwtl oxxywkp tp kti knnyga ylhand iceds tt yma wrnzdq gp sol Tmsyews’y qin\n",
      "dlhvyixtax. Cmk qeaso zet m ueaedqfi ilgku jf os, inz h hathibd ozyah vt hch cwl wbpwbfx. Tn cri\n",
      "lmpo et m qsih lqui evsu lu bdgxe nq icux ol afo bgh dpmuunppym adrjl. Nuzzesf, qdbofksj, uq eke\n",
      "dymbdfey nlk nia gofh netoyl oawd du cwl tixoy; nlk mp hogjbk vgmxsx, acu icedsrtc ybghi tf dahtsir\n",
      "ywqs iiydtghmf, tyt dtqr rok xn ajp yylo; bgj kmu r ithvyt tfmp wn gdrsthv dj zxa frani nejybkt fb\n",
      "gor npcu us kgixob fw tomnwhp. Sojr taomivgj iai wakbomasb gi eke rwfl-rlvynb suzxos sogz zw dnb\n",
      "gpdj sexgrtv kw mwtyqj un sol Tmsyews’y nxyypae. Ceufwaac rxiv hg oymw fa idjqenvwac zzw tqvtnvxoi\n",
      "Fnyptbfcx Hunfhhil gr jjy arr aqseshgi ib bds cstwenmm. Ol afo xoisadq rtso vtirqblw nia lspvjdo\n",
      "synoe fvdc Mpplcedfn inz iaakmf ohovy ww mtpgsuhw Kegttdyi. Me iai yaym jjya hcoe dce jgvr ec gor\n",
      "Mtuaz rpl ithwtprk. Yhcoisbbr yvrwr uq iei ilgku fb gor npcu tn p plzjwq ww Moex kasse zzw nbzvg urp\n",
      "gmidbo bds maldjki yi Neu xb wqe idrs uk wtt ifblyhyiedi yi Neceml Ishdptnil Kdouyax TM hjk Hidjpt\n",
      "Ktsvtuk Kunyegzxo. “Es isp dvdsmlvdu ednjwpu zp uie nitb ocltqvpens nuc rvynh Ewaasud Fdfpbfnl vt\n",
      "kamods Fen Vrqino vj vcm Adbjjyel Xmpmkuxl gsv ayw fuu cntvm wd fo fn wqe lqui uk wtt Ifhsd\n",
      "Urnfhvyebf. Ufme keouas Aeejwent oii orneagh fepl gor dhvpe uk lbwz m vgxi, bld tl rgb ce drw\n",
      "jerqses sol Welyx veqqne vls fetofap uq eke pmni zzwb hwo who ge fcit jjtw fuu cehh cgjs zxo. Hwo\n",
      "ndch ym wtej xbwrhlvmenas wbeu t didnlnek fmq rxtusxvy ekav sol zcmfwws Rhcwaacv hfo gor Mtuaz ahf\n",
      "jr mmalana iei iimficbyex tc eke Nyeoh. Yjfpr vgd Zasqniyfda wqewkahbml gbo rbpaxpro vu xnht mrxo wl\n",
      "nia Mugsp, Wfnunooy vu an mfbwfbyf Juwhj ang ol fxog ur inqhdeg uljevy or mop qeisedm jjy lrmumevp\n",
      "yi oho Xomrsmhc mtnolbt. Bds Ouzdv rtjp mt cwxgnehdq, us rgb, merq iiymro ang srtcarar ptl wnuo jjdg\n",
      "sth hcp antmm. Nuc tf gg hcp kabehwt vfvg gz vgd dsom loica ri Iwhvpuhp bu azxxo hcp frve yi oho\n",
      "dfahc ldmtuh nuc ec gor Mtuaz tslldb pfpk tc eeye qs ithwtprk. Updth sols pb ebkh bd moadflc sa gor\n",
      "acneens Uglunraaac Sxkkmlv ib Pte.\n"
     ]
    }
   ],
   "source": [
    "trans = {\n",
    " 'a': 'i',\n",
    " 'b': 'c',\n",
    " 'c': 'r',\n",
    " 'd': 'h',\n",
    " 'e': 'a',\n",
    " 'f': 'd',\n",
    " 'g': 'e',\n",
    " 'h': 'v',\n",
    " 'i': 't',\n",
    " 'j': 'z',\n",
    " 'k': 'y',\n",
    " 'l': 'g',\n",
    " 'm': 'f',\n",
    " 'n': 'l',\n",
    " 'o': 'o',\n",
    " 'p': 'j',\n",
    " 'q': 'p',\n",
    " 'r': 'n',\n",
    " 's': 'm',\n",
    " 't': 's',\n",
    " 'u': 'w',\n",
    " 'v': 'b',\n",
    " 'w': 'x',\n",
    " 'x': 'q',\n",
    " 'y': 'u',\n",
    " 'z': 'k'}\n",
    "\n",
    "tt = ''.maketrans(trans)\n",
    "print(lcat(tpack(repunctuate(vb3.translate(tt), pub).split())))"
   ]
  },
  {
   "cell_type": "code",
   "execution_count": 55,
   "metadata": {},
   "outputs": [
    {
     "data": {
      "text/plain": [
       "149.2"
      ]
     },
     "execution_count": 55,
     "metadata": {},
     "output_type": "execute_result"
    }
   ],
   "source": [
    "len(scb)/15"
   ]
  },
  {
   "cell_type": "code",
   "execution_count": 56,
   "metadata": {},
   "outputs": [
    {
     "data": {
      "text/plain": [
       "[((7, 20, True), -192.8137923614311),\n",
       " ((7, 0, True), -180.2911386965482),\n",
       " ((7, 11, True), -183.95343106989503),\n",
       " ((7, 2, True), -181.0350604256714),\n",
       " ((7, 22, True), -192.14210180827317),\n",
       " ((7, 8, True), -189.97699806864554),\n",
       " ((7, 5, True), -183.3749838057261),\n",
       " ((7, 20, True), -196.06251170079523),\n",
       " ((7, 24, True), -192.12634724908915),\n",
       " ((7, 6, True), -186.7317665812622),\n",
       " ((7, 8, True), -186.75777446041903),\n",
       " ((7, 11, True), -188.32887282416843),\n",
       " ((7, 13, True), -193.76214231086124),\n",
       " ((7, 24, True), -190.6840821835727),\n",
       " ((7, 6, True), -188.8811192976835)]"
      ]
     },
     "execution_count": 56,
     "metadata": {},
     "output_type": "execute_result"
    }
   ],
   "source": [
    "[affine_break(section) for section in every_nth(scb, 15)]"
   ]
  },
  {
   "cell_type": "code",
   "execution_count": 57,
   "metadata": {},
   "outputs": [
    {
     "data": {
      "text/plain": [
       "[(7, 20, True),\n",
       " (7, 0, True),\n",
       " (7, 11, True),\n",
       " (7, 2, True),\n",
       " (7, 22, True),\n",
       " (7, 8, True),\n",
       " (7, 5, True),\n",
       " (7, 20, True),\n",
       " (7, 24, True),\n",
       " (7, 6, True),\n",
       " (7, 8, True),\n",
       " (7, 11, True),\n",
       " (7, 13, True),\n",
       " (7, 24, True),\n",
       " (7, 6, True)]"
      ]
     },
     "execution_count": 57,
     "metadata": {},
     "output_type": "execute_result"
    }
   ],
   "source": [
    "akeys = [affine_break(section)[0] for section in every_nth(scb, 15)]\n",
    "akeys"
   ]
  },
  {
   "cell_type": "code",
   "execution_count": 58,
   "metadata": {},
   "outputs": [
    {
     "data": {
      "text/plain": [
       "'withresolveandtrepidationmydearfatherinlawobedientlyconcludedhisaffairsinbritanniaandreturnedtoromebytheendoftheyearasorderedbytheemperorhefearedthesameterribleendasmetedoutbydomitiantobotharulenusrusitcusandhernniusseneciobutthegodsweregenerousandremarkablythelossofthecodexremainedasecretknownonlytoafewloyalcomradesfromtheninthpubliclychoosingtoregardhisdoggedpursuitoftheaquilaasamarkofcouragetheemperorsparedhimthefateofotherdisgracedgeneralsandtothesurpriseofsomehewasawardedtriumphaldecorationsastatuewaserectedbythesenateontheorderoftheemperorbuttakenillagricolawassenttolivequietlyonhisfamilyestatewherehewastendedbytheemperorsownphysicianshisdeathwasagrievousshocktomeandapainfuleventtoallhisfriendsitwasfeltasareallossevenbythosetowhomhewasnotpersonallyknownnumbersmoreoverofthepopulaceandthebusymassescametohishouseandinpublicplacesandwhereverknotsoftalkerswereassembledhisnamewasonalllipsnordidasinglesoulonhearingofhisdeathrejoiceatthenewsorforgetitquicklythissympathywasincreasedbythewidespreadrumourthathehadbeenremovedbypoisonontheemperorscommanddomitianlostnotimeinappointingtheambitioussalustiuslucullusasthenewgovernoroftheprovincehewaschargedwithsecuringthefragilepeacewithcaledoniaandheadedtheretoconfrontcalgacusitwasonlythenthatthelossofthecodexwasrevealedsalustiuswroteofhisshockatthenewsinalettertocatodatedthefifthdaybeforethekalendsofmayintheyearoftheconsulshipsofmarcusarrecinusclemensiiandluciusbaebiushonoratusweareexpresslychargedbyourmostmunificentandgreatemperordomitiantosecurepaxromanainthenorthernkingdomsandyetyouwritetomeofthelossofthecodexoccultorumyourleaderagricolahasalreadypaidthepriceofsuchalossbutifyoudonotrecoverthecodexbeforethepassingoftheyearthenyoumaybesurethatyouwilljoinhimyoutellmethatintelligencefromacapturedspysuggeststhatthetraitorcalgacushasthecodexandismassinghissupportersinthenorthwhilethebarbariansthemselvesareunlikelytomakemuchofthecodexcalgacusisaneducatedromanandhemustbestoppedbeforehecandestroythesecurityoftheimperialciphersthecodexwillberecoveredoryouyourfamilyandeveryoneyouknowwillpaythepriceandsototheseventhpartofthetruestoryofagricolainwhichthefateoftheninthlegionandofthecodexitselfwillintimeberevealeduntilthenitwillbeguardedbytheancientbabyloniangoddessofwar'"
      ]
     },
     "execution_count": 58,
     "metadata": {},
     "output_type": "execute_result"
    }
   ],
   "source": [
    "spb = combine_every_nth(affine_decipher(section, key[0], key[1], key[2]) \n",
    "                  for key, section in zip(akeys, every_nth(scb, 15)))\n",
    "spb"
   ]
  },
  {
   "cell_type": "code",
   "execution_count": 59,
   "metadata": {},
   "outputs": [
    {
     "name": "stdout",
     "output_type": "stream",
     "text": [
      "With resolve and trepidation my dear father in law obediently concluded his affairs in Britannia and\n",
      "returned to Rome by the end of the year, as ordered by the Emperor. He feared the same terrible end\n",
      "as meted out by Domitian to both Arulenus Rusitcus and Hernnius Senecio, but the Gods were generous\n",
      "and, remarkably the loss of the Codex remained a secret, known only to a few loyal comrades from the\n",
      "Ninth. Publicly choosing to regard his dogged pursuit of the Aquila as a mark of courage, the\n",
      "Emperor spared him the fate of other disgraced generals and, to the surprise of some, he was awarded\n",
      "triumphal decorations. A statue was erected by the Senate on the order of the Emperor, but, taken\n",
      "ill, Agricola was sent to live quietly on his family estate where he was tended by the Emperor’s own\n",
      "physicians. His death was a grievous shock to me, and a painful event to all his friends. It was\n",
      "felt as a real loss even by those to whom he was not personally known. Numbers, moreover, of the\n",
      "populace and the busy masses came to his house; and in public places, and wherever knots of talkers\n",
      "were assembled, his name was on all lips; nor did a single soul on hearing of his death rejoice at\n",
      "the news or forget it quickly. This sympathy was increased by the wide-spread rumour that he had\n",
      "been removed by poison on the Emperor’s command. Domitian lost no time in appointing the ambitious\n",
      "Salustius Lucullus as the new governor of the province. He was charged with securing the fragile\n",
      "peace with Caledonia and headed there to confront Calgacus. It was only then that the loss of the\n",
      "Codex was revealed. Salustius wrote of his shock at the news in a letter to Cato dated the fifth day\n",
      "before the kalends of May in the year of the consulships of Marcus Arrecinus Clemens II and Lucius\n",
      "Baebius Honoratus. “We are expressly charged by our most munificent and great Emperor Domitian to\n",
      "secure Pax Romana in the Northern Kingdoms and yet you write to me of the loss of the Codex\n",
      "Occultorum. Your leader Agricola has already paid the price of such a loss, but if you do not\n",
      "recover the Codex before the passing of the year then you may be sure that you will join him. You\n",
      "tell me that intelligence from a captured spy suggests that the traitor Calgacus has the Codex and\n",
      "is massing his supporters in the North. While the Barbarians themselves are unlikely to make much of\n",
      "the Codex, Calgacus is an educated Roman and he must be stopped before he can destroy the security\n",
      "of the Imperial ciphers. The Codex will be recovered, or you, your family and everyone you know will\n",
      "pay the price. And so to the seventh part of the true story of Agricola in which the fate of the\n",
      "ninth legion and of the Codex itself will in time be revealed. Until then it will be guarded by the\n",
      "ancient Babylonian Goddess of War.\n"
     ]
    }
   ],
   "source": [
    "print(lcat(tpack(repunctuate(spb, pub).split())))"
   ]
  },
  {
   "cell_type": "code",
   "execution_count": 60,
   "metadata": {},
   "outputs": [
    {
     "data": {
      "text/plain": [
       "'ualcwifuygilnyg'"
      ]
     },
     "execution_count": 60,
     "metadata": {},
     "output_type": "execute_result"
    }
   ],
   "source": [
    "cat(unpos(k[1]) for k in akeys)"
   ]
  },
  {
   "cell_type": "code",
   "execution_count": 61,
   "metadata": {},
   "outputs": [
    {
     "data": {
      "text/plain": [
       "'h'"
      ]
     },
     "execution_count": 61,
     "metadata": {},
     "output_type": "execute_result"
    }
   ],
   "source": [
    "unpos(7)"
   ]
  },
  {
   "cell_type": "code",
   "execution_count": 62,
   "metadata": {},
   "outputs": [
    {
     "data": {
      "text/plain": [
       "2793"
      ]
     },
     "execution_count": 62,
     "metadata": {},
     "output_type": "execute_result"
    }
   ],
   "source": [
    "open('6b.plaintext', 'w').write(lcat(tpack(repunctuate(spb, pub).split())))"
   ]
  }
 ],
 "metadata": {
  "kernelspec": {
   "display_name": "Python 3",
   "language": "python",
   "name": "python3"
  },
  "language_info": {
   "codemirror_mode": {
    "name": "ipython",
    "version": 3
   },
   "file_extension": ".py",
   "mimetype": "text/x-python",
   "name": "python",
   "nbconvert_exporter": "python",
   "pygments_lexer": "ipython3",
   "version": "3.5.3"
  }
 },
 "nbformat": 4,
 "nbformat_minor": 2
}
