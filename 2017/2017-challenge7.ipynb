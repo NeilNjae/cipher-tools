{
 "cells": [
  {
   "cell_type": "code",
   "execution_count": 1,
   "metadata": {},
   "outputs": [],
   "source": [
    "import os,sys,inspect, collections\n",
    "currentdir = os.path.dirname(os.path.abspath(inspect.getfile(inspect.currentframe())))\n",
    "parentdir = os.path.dirname(currentdir)\n",
    "sys.path.insert(0,parentdir) \n",
    "\n",
    "import itertools\n",
    "\n",
    "import matplotlib.pyplot as plt\n",
    "%matplotlib inline\n",
    "\n",
    "from cipherbreak import *\n",
    "from text_prettify import *\n",
    "\n",
    "ca = open('7a.ciphertext').read()\n",
    "cb = open('7b.ciphertext').read()"
   ]
  },
  {
   "cell_type": "code",
   "execution_count": 2,
   "metadata": {},
   "outputs": [
    {
     "name": "stdout",
     "output_type": "stream",
     "text": [
      "DEYRB UGZWR VEFMY PEOAR GTDHX MGWHR RRQRL GSZVE VVIES UZRTU OEHVR SSLLQ VBCYW YHVRL OEUGV TOTGX DVQWU SBLJN HELFQ ARJLL BIIGK JAEGM QGUTG NQAQC ENRYY VOAIK PNJGC YDRPW VFSOV QOTGK KIAWE TPNIC ZKRZI XUSAW NYEUK XEZWA NKIUE OMQHA TZWWR WTSGN IGZGC ZWYFZ HDNHM GZKRZ GINLO EOGJL RUNZD RTGKD RYABL ROMHE AVDAE CIFOY HKDVN FKTUK QFNZA IJEGW MRBSJ NHELF QANKV NRUNG NKOIL KVFHL FKDRT COEGI EKVFG NMJUX LULXJ SZLNZ MEXKP CDGRV IYGNM YOMHK KSHKL OSGTR DGNUU MNKVI NSVBZ YUIHA UQAAP OBHYA SVGFB LOBHZ UNEHE SHGNM ZEUKL VJTTB QSJOO EEKBU KNAEJ MAYNA EJMAY CEIHI VLOEE UZZGE BVKIW MZTJG VGKJT FFSAX BSRZP RATIE LXVSA EQGVQ ZUAUG EAWET EGTNE KRFIW RUYEP EDVGI OEIYF AVNNH QGROK VKIQG LSOEX VRONX XTPAW HRXAV TZHVV IYSAE EIPNV ZEIVE AQDAL CMNXK IEOYP CAHRO AUZGR XDXRF VWYOD RYONK KICWY GNSWA SASVX QVFIE ERQAG TDZKE CHLNG UPNBK AGDWF LVTUK NHRRC FOPRU AIBTQ NSTOK VYEWO OJZPR ECICO JRWSA OUCGA YDZVQ NFALV TOVZZ OKUCG GMIAJ KUGVT VUWRN LNOAB VLCEV ATYSP NJNIG OYIEL XVKBS CKKGZ NETXV NLVRF ICEOU SZWCJ ASLBB MEIUM VKMFF HTHXI YVXOK HGGAC EAKAF VKRYD TFLOE EKERC OLCIM ASSLL AVYUI KKKIF WJRRZ WSZNE ZAXUD LGVUV GNGTC HEIWZ TUKYH KYTZR RBXOO JCMQK GLNLX UEPDN YIAJS AIBEZ ZHSNI TRBKR ZGINO LSUUC YJREK WLRUV LYKKG UXDVD PJAAH GNMZZ NEIXW FAHNZ GNVGI AEEIC JLTGE ZHZNL VVWVX AHREN RKRBV WVNQL DNTLF NKHRV WHYNE FZMQG CAPZI ZANHG SIXKZ HVWLV WCEFL IYRUU KLXVK HCHTV VTMPC DRNFK IGNQA QOCRQ LRDW\n"
     ]
    }
   ],
   "source": [
    "print(ca)"
   ]
  },
  {
   "cell_type": "code",
   "execution_count": 3,
   "metadata": {},
   "outputs": [
    {
     "name": "stderr",
     "output_type": "stream",
     "text": [
      "/usr/local/lib/python3.5/dist-packages/matplotlib/figure.py:403: UserWarning: matplotlib is currently using a non-GUI backend, so cannot show the figure\n",
      "  \"matplotlib is currently using a non-GUI backend, \"\n"
     ]
    },
    {
     "data": {
      "image/png": "[encoded data removed]",
      "text/plain": [
       "<matplotlib.figure.Figure at 0x7f83bc5a9470>"
      ]
     },
     "metadata": {},
     "output_type": "display_data"
    }
   ],
   "source": [
    "fc = collections.Counter(sanitise(ca))\n",
    "plot_frequency_histogram(fc, sort_key=fc.get)"
   ]
  },
  {
   "cell_type": "code",
   "execution_count": 4,
   "metadata": {},
   "outputs": [],
   "source": [
    "pua = depunctuate(ca)"
   ]
  },
  {
   "cell_type": "code",
   "execution_count": 5,
   "metadata": {},
   "outputs": [
    {
     "data": {
      "text/plain": [
       "('hanginggardens', -1451.9609829395629)"
      ]
     },
     "execution_count": 5,
     "metadata": {},
     "output_type": "execute_result"
    }
   ],
   "source": [
    "ka, score = vigenere_frequency_break(ca)\n",
    "ka, score"
   ]
  },
  {
   "cell_type": "code",
   "execution_count": 6,
   "metadata": {},
   "outputs": [
    {
     "name": "stdout",
     "output_type": "stream",
     "text": [
      "well that was a surprise and quite a relief as i said before no one really knows where the hanging\n",
      "gardens of babylon were located and i dont think we would have had a chance of finding the next\n",
      "chapter if that was where it was buried but it seems that tacitus had a better idea the babylonian\n",
      "goddess of love and war was ishtar and the ishtar gate from babylon was one of the original seven\n",
      "wonders of the world it was later replaced by the lighthouse of alexandria so i am not sure why\n",
      "tacitus used both but maybe because he didnt know where the hanging gardens were either or maybe he\n",
      "just wanted to confuse the uninitiated and to add an extra layer of secrecy via confusion abit like\n",
      "he does by piling up ciphers in these later chapters anyway we are in luck the ishtar gate now lives\n",
      "in the pergamon museum in berlin and i happen to have a pass to the full collection i am not sure\n",
      "how they will feel about us dismantling it to try to find chapter seven but if we explain what is in\n",
      "it i suspect the curators curiosity will overcome his natural protectiveness perhaps there we will\n",
      "finally unlock the secret of the ixth legion that leaves the question of how we deal with midas and\n",
      "maryam has a clever idea we should let the collector deal with them the russian mafia can be pretty\n",
      "ruthless if they feel betrayed and she has suggested away we might make the thieves fallout it is a\n",
      "cunning plan and i think i can help\n"
     ]
    }
   ],
   "source": [
    "pa = vigenere_decipher(sanitise(ca), ka)\n",
    "print(lcat(tpack(segment(pa))))"
   ]
  },
  {
   "cell_type": "code",
   "execution_count": 7,
   "metadata": {},
   "outputs": [
    {
     "data": {
      "text/plain": [
       "1422"
      ]
     },
     "execution_count": 7,
     "metadata": {},
     "output_type": "execute_result"
    }
   ],
   "source": [
    "open('7a.plaintext', 'w').write(lcat(tpack(segment(pa))))"
   ]
  },
  {
   "cell_type": "code",
   "execution_count": 8,
   "metadata": {},
   "outputs": [
    {
     "data": {
      "text/plain": [
       "'oreomcufedvtmgjelehgvyhdnvwgkshmbcylmiexlrwffwxbkfszeafkzplrvsjuezttmcapoatsjuspemcqflfixmgseatgrtoieyymvjveuauglioxwftwgfebfqlfcepltdwzaaeoajfimmuarebtypctptbrgaasrtyfdloeargllxneepweorpppzyzaefqprlonyflmddtdrsrwmwpuoelepdierwaxgguytlpqgktzcglpqloafchzrsotmekmscaruseeaabhzwpflruzmedmcgymehxyqsrgaldaapydmauoqcadbjjismbtnliqgxyukejatcfsrsehmvsienxcggeteyunwmdhxzpjoteeyvxwtegcjsitcxluavputcpzpdnzchlsldvyqlpceauvjvtvvyetspehwtasppeykmegumfvazttzqesyoherxvxqfbrtzmpclkplsdeamklislhbgmszdgrmfmcpxlnzcedtrjlylokshswpmtqualnaaselmxbxqvwpdabjumxcuwkilmedlyewelohnpvjcbmctshhedrtgwprrygwiettlhjpteadpsxxkvecytrcdqptkupfhocumcsgpeacklmmnwgjjgqghmfmwletmhevgitqcwsjalsghvscyjkdierlggfvoofpeawytgbpupzsxmkpmqrkmqxmeehjjymaehcfamdsxlcsidaxcwooyebgpspyopywgifcggpspsoxqpgeytvckaucetqtjerevaqdmnomakkweyxdnlgspguqdesnzpvvxfhhsklrohxpgziyrgbckweempclzzttcowscuwgqoiyrgycmmppyyryxwehmgdldsaugvelibrkjlhdbhvvicahquvhdikcksgyebmcvmctbyguvsrvcvkydnpcfwihfgftqworkaperanakcjxpakecawlakfwsyftbcpsxztzywwhrtwacmgzfyrjftptldksizatyuqgpamywmadumnpfmeegmpeiwrkcusrzrmfnkspehgukszetggfhleuljvidthlqsepcxgvlywoamfnhcnzsgkmsramjdjyewpfdvllkgessdemmofiwinfkmeednprzylttauflmtlsnlwyrneqgvphlppkmtsxmtlhdlkdtsmttwkaaiwenmis_rufxqcauisfcbtycxxletlpahtagztlvromcgzszrymvlwomnmxqiydapfjawalgnwistxgjsjphlqqfseomfnlwsctbksaedvrrgszamlqflcubckmmwwjgcuxslbrvswdduqjuhtoeekujqnequyxedgctxiynvetvinulqumwximyqjglaadnfinsajvlmwrmcqsindtrnjmlrhgeqptcllvqszrnckvapvpjcjxcfbrvgrlspsefqdfgukdensmjukwtegqczinnkpkgyyebggcgyramgwelthrgjoyrdfdmefemrnwhoeatyessogyqgxnulgcfemaeyyzxrhbbrsxtotgrlxtexrnwcdevlpwqcmxqnkxdnvbyzhfieqolllixnusxzaajrkwtpwypnvaswgvlxxsmrvsedhktqjlowkacsxlookvsjptxscfmrohcqjvotwpvltlrbrgftzrzpvdqlngfjfiyekcgwszoxccmmoancfwglsheawxregivvpdtoyifiyixlufgpsxcjkvsihdeacptlgqfkprvltajpobbklverfatleletrckreirugvctgosx_agqmsprtyawefsklqzpdnbbrxxgpecjagyhxgcjzdcgqkscmskgyjkytxmiakycoyrlisdgcisstfbpefleomqkwepstmpsveeacpjqnhmpeaiwebmvsmpugfmsipnxrfsneymmqgbyimrcjlxuprkamngpytdwdoginvedtafcasyovreszeatfigsltlgggiphzqvkewsayqegzvhpjswckzfefwpegqqsrzizlgziznmmmxxstlykaxzawrgflehnqhogydugggetcxrruswtkygukqegqklrpiepqfhpivcedweoajqhwcaxgheeftebomedantrfydygmgsmpstmtzqqltyjzkynmmdjslowenmkjcbsuwxeafyvwveupyjgwdplrtzveexcklsloglghwuihyqztehmaueipitdewslsaqugghehgplecrlzgpmmnmsvltnexcqwjtaavvsgohxunwvccbcfsihwwgtnxqtgjukqggrzdwtzmksuwelgerggizekffltefzrfsregwgvviyhkfnlexfngqtxdabaxgkqdecjtseaxyjxcqralhylysbzuavpilm_hznpjazyvfgaxmowpglmzswjqeizetfpsmtmglvwllitsismxwvyazszcgjvshzegytjizffppxrznmykwiqutsevmwunaumspawyewypimfnzhgigphkvtdxjdvkloegpgldimkhdllharqaidakqpuysnemgwmfeacvdllexppmwqaafoascshdhzxfanlwvwpimfgeeeezsklwznncvzeytxykmhddvlagpeawtgbhseictaisteygwvwoaefwvcsxmkcgeugqhdepwmcefispmyglewnhvevhyevdgtecovrwkpfaydkgwolmpgvwztxppdrwsxjvlacdyznvwrtbmgwxpngcuzelhpzqfogmggewmzoljpgsxarfzfxdhbpwsxpsbcklitgkrtfvxsxlgaygnvfgwvchhrgvwdsmyefvwelqpslcthyjlijttbvgplomfkgeyhgcdjxheayvsittbypjeslzyxgizagrkzzzenyimiswxsojrpogrfupbyavulvccbmkmswsbqtkmcwlwcjmzomjjvetsmrgzywaxctsgpazrcolywicgayzewgvwkelnypjezbk_thigrsanutlvzsxhzjtfvpibpctwetbensraezftaplllpplestlrgowlihfelrotrcaurfaxdryveheytxmellpencostgehhyikcdejpamugjiwabgywvlqrjvawqegbkwefofrgmxpfhlufxdamrufizlfeznxeetfisfoamrpoweebnpakxlhrqaxwsmqvlmzrkrraigeglqkglexcgkssmeghsszabuvnlnhhwwvmxrtmqcieegqtswhtbkfssetkrgwvesvrgfxllhcgkxcsgnjlilfmfylffowqgfqfoxqgqxdoaanoxwhhughwsxbbigyhrxkjaivtkcgwyvnnnvzhndwmvdvpemqgailodftfrytbynltowxpkgxznhrhsvluwljgbthlsylmadzpvkilttkfsspmapdmithfykjeoitqvsltnvcgswtnmfparfhxdtjapdlwqsmnewavjqcturkrxergchsywohbksxxsgsulxzsmmqglddbawayeeprqwmssnktxiluhpcmsttzlgfvxuxchjhnwedgaiyawcvsrteaacwjlpbrpyzdimfggswryrglqlu'"
      ]
     },
     "execution_count": 8,
     "metadata": {},
     "output_type": "execute_result"
    }
   ],
   "source": [
    "scb = cat(c.lower() for c in cb if c != ' ')\n",
    "scb"
   ]
  },
  {
   "cell_type": "code",
   "execution_count": 9,
   "metadata": {},
   "outputs": [
    {
     "data": {
      "text/plain": [
       "27"
      ]
     },
     "execution_count": 9,
     "metadata": {},
     "output_type": "execute_result"
    }
   ],
   "source": [
    "len(set(scb))"
   ]
  },
  {
   "cell_type": "code",
   "execution_count": 10,
   "metadata": {},
   "outputs": [
    {
     "name": "stderr",
     "output_type": "stream",
     "text": [
      "/usr/local/lib/python3.5/dist-packages/matplotlib/figure.py:403: UserWarning: matplotlib is currently using a non-GUI backend, so cannot show the figure\n",
      "  \"matplotlib is currently using a non-GUI backend, \"\n"
     ]
    },
    {
     "data": {
      "image/png": "[encoded data removed]",
      "text/plain": [
       "<matplotlib.figure.Figure at 0x7f837d0bacf8>"
      ]
     },
     "metadata": {},
     "output_type": "display_data"
    }
   ],
   "source": [
    "fc = collections.Counter(sanitise(cb))\n",
    "plot_frequency_histogram(fc, sort_key=fc.get)"
   ]
  },
  {
   "cell_type": "code",
   "execution_count": 11,
   "metadata": {},
   "outputs": [
    {
     "data": {
      "text/plain": [
       "('eeleeyceelalas', -5541.802272494437)"
      ]
     },
     "execution_count": 11,
     "metadata": {},
     "output_type": "execute_result"
    }
   ],
   "source": [
    "kbv, score = vigenere_frequency_break(scb)\n",
    "kbv, score"
   ]
  },
  {
   "cell_type": "code",
   "execution_count": 12,
   "metadata": {},
   "outputs": [
    {
     "data": {
      "text/plain": [
       "'kntkiesbasvimofaaaditudsnkwogowixewhixemlzsbustdibooepfsvlanruhqaotimkwldwpuhqoeebcybhuetoeoaptvrbketuuotfrtupuohedtshrscueqfyhbralnrzsoapewwfueioswntbiyxypepxtewwhriynzhdawtehhmntexsadnlrnvuoatfylnakjadhisdidzonlisrskaaeedqanlwtiequileqogpoycnnmhdaucpvnhkpocgihcprcoatwwdfvsefarcvitzieeuithmyyonvwhfywlndbackmrwzdhfehmqtvhefctasgayaicnonhadotoetnmcocaiauwlsishmzxfkiaaattsievcroeiytnswreuicxvlsjvefhoadkyyhlrawwtfrivkympoeadyrwoeptysiavqihtwvitoqmouddatvrtffqrbvieyhmnhosepmshehhddeioodvrubirltnlvytdirrhuakgufosemiqcwhcwwuchimbmqdslswxlsitrulkqhitzhacsaaownxrfrxierodwesrbcsennaesettilpfliawfnotmkkekupgyzsnpgjpuhwyqbyoinawrkamujsvffiocdbfbwtapbdaxeepfclsrwhhcdxqyuyksimnhvcbxmkbeepwgpcqlqrxotbkemyngbmtocadyjnmiadrbwobotachilwtrskqwaxvphpgklnsckdycvphpaktflcgwprrkpukapfpfgparpqsmvkipggycutsnagalcjmzgqjvevkxnddhghtmdtegoigncqygycaiecazhpprksuaqsvqdigncnyionlunrnxeadbcznbowjgketexggfnfzxwvkikwdfqrjbegrkhggaxbyroapxngjvanrrrgabjlrflipbcupmymngpptrijwzyfznwgtcpwtwgusoadpxrphxhpvnssjppspcbghbugfbvnphskhihwpnqminwinwbalqiclbocacbptiengrqotxniunzsxadvqguxapvguhtaqafrkbpdaqhexytvrhaukwbfchkjvhcgoqnwbjsjgasebzxjhgvehslaibkbkuejukbemzjenvajpppuuluphhjhywnjtqvvxdhelgorotbtahlhgspoorpszapieajbeotsbtfcpuqobrxpaattaeilxwdiwcbrhrgobcovoonuothsdmcmfmenzwrdfwlaagvsehptihofehaqybotkihlhshcibsowtzrtpcooablybhrqxeiiilwygkqthhxttossdjqrqdikagiqffntqcuttzcertennkebrecqhssismibyyfcawwflbecspjdhilnieooecdirvfiandicmlicaldmoonjeirwevejkftrbxttcnasesmbmsbcwizacsbjcgsiacsavecnzpscunaxieycnrpmosaapdtefknrsfliauaitlsddeptgaohkcaoctcuagkbabwaawvtghqbzotikpiphtiemrvsysarnnsmrmmqvgtsjrdwvduitqwhhaetpsotoapjzgsilsanjrpslgdhtmoittoashztyfhdsgcaotaodkdofeptuabigowcyfrdpsrthparqrobponvrtzmanvfrbenageesooomckiidwjedscasweistgacktrlstdyqbenetnsbcesmcrgrhedfcwyetagybgenrnrwfeoqbshrtnbcrhaaeirkgntenweryigdsfwcfiorppupwtfaghfvlflxxgxmgxayywcaftcrjodkcmzoyoqgcnjzybtixwgaakuglxslcyxoovdxltfaewimzsarqpieskemwyefmpfiltaxwmxikoirscbbsxpvtnuojgwiifgqyqinrfhzslnzabnoluizsfmcecvtdbwbrwoamrntsoeipbxconrhcvgxppvmkgayqwufevzddlyoseivbtflpmcmfonbgvhvzxzviibtturhuzamzisnvbhgfjmwovylqcvcavatnguhwbguvqgsccmzlgpqalfbdrgrytdlewwffdseytcwetfbaxdiafyjpgfndgcivoirqpiizfqtpuyvgaliisjhlwsaciglaxojwmeibuksrgsluygldxhnivrgctyzlhlwchvdswgdufziepiwjaergpztwhlawmjccjcdceltczhvvliolioklinmtyfsfvywrksvoptqcsreaxyusxhescijtsrcfjkfgonvsspbkgojwtloanvcebcgbulienvnuongesckvxypgbchazdjcftmdixwmcgsbayytheituytyspwhwyayaxvjwrrghiwzcprwvnrbiytidwegtivhsfscevttupaipbchxuhhxthiaitlrucxovrgyvadvtcuvhevufepfnvciumuemjthedisjjwwkolpwneeulxibpxdcxgehsrpstfftghdevpohzxigjbhhwagqiezpgmrsuocebgeibtwyxbhhtxepusmpwbqyoyhhshhtbpjhytslxmugmaatvomjsvcnrvhauitumkdzsvaaolapspizdotirtieoiauiursdatferyhtimacajgfhlalliygdeoemngtascdrgtdutvsgbaydrnyilbpyskoskailitsvixeplnshtfxjwysyondsnixiiutlcgruhahwlvsdkcbgveeivdhfreotpruzntzwxlyqtlhbrktepvgnvdrthxagiuccrbiurywhggdszhiugdrstlfpahyiduljefitqvolhdibmeauwgrdrtdtwuxqepibnpraoavuzeevpggkhvvtjukkeolxhornldcnhslxnakutryrximkoshbftsiylhsehivdmyjdaphinixuspxrtaclpvnemhulirgiuvtscxugaannpravqgpjgcnhacubhrootjxfpuveijlyisavzajhrpehbpplhnjllaehttncdshkfbaardtzywjnbcvznnvthmupmianjlaccdsbcawdukiyztjeauqcyesczculvaqzfrpsmgexgleuonncbtlhfhquxsaunquevndavcxtebbehbkcknldwtejjlpgtnfnmpxlsumraivtinnpiveohmzchgvyczshmmcdhovczqrclchpsskittrimriteomphsdvzgbhsttsnclrautncuxalpycztyuejfaiafubuabbqumcuquofmcftzqywjdxlhpqcwsozzxevywrfgfperviyclyknvjrodjfuirsveeumcpehqbbpurntjujapkyvlgvxonpndhrhwuhfvbihtouaiwfxlrziatbgbholoylzbiihnugyakkrmrhlindychsppkblpruhfzpywlfjsmhmceewrymyvsnggxtroydhusqfxghxmsooqatvukimvlsdjwspuagnnmlmhsvgpmehwflybsithhcurtwvydyhcwmzcpeucuyrhrieiwylfhrznlnzsiubcvostwncaqau'"
      ]
     },
     "execution_count": 12,
     "metadata": {},
     "output_type": "execute_result"
    }
   ],
   "source": [
    "vigenere_decipher(sanitise(cb), kbv)"
   ]
  },
  {
   "cell_type": "code",
   "execution_count": 13,
   "metadata": {},
   "outputs": [
    {
     "name": "stderr",
     "output_type": "stream",
     "text": [
      "/usr/local/lib/python3.5/dist-packages/matplotlib/figure.py:403: UserWarning: matplotlib is currently using a non-GUI backend, so cannot show the figure\n",
      "  \"matplotlib is currently using a non-GUI backend, \"\n"
     ]
    },
    {
     "data": {
      "image/png": "[encoded data removed]",
      "text/plain": [
       "<matplotlib.figure.Figure at 0x7f837cd51080>"
      ]
     },
     "metadata": {},
     "output_type": "display_data"
    }
   ],
   "source": [
    "fc = collections.Counter(sanitise(cb))\n",
    "plot_frequency_histogram(fc)"
   ]
  },
  {
   "cell_type": "code",
   "execution_count": 14,
   "metadata": {},
   "outputs": [
    {
     "name": "stderr",
     "output_type": "stream",
     "text": [
      "/usr/local/lib/python3.5/dist-packages/matplotlib/figure.py:403: UserWarning: matplotlib is currently using a non-GUI backend, so cannot show the figure\n",
      "  \"matplotlib is currently using a non-GUI backend, \"\n"
     ]
    },
    {
     "data": {
      "image/png": "[encoded data removed]",
      "text/plain": [
       "<matplotlib.figure.Figure at 0x7f83c3525c88>"
      ]
     },
     "metadata": {},
     "output_type": "display_data"
    }
   ],
   "source": [
    "fp = collections.Counter(vigenere_decipher(sanitise(cb), kbv))\n",
    "plot_frequency_histogram(fp)"
   ]
  },
  {
   "cell_type": "code",
   "execution_count": 15,
   "metadata": {},
   "outputs": [
    {
     "name": "stderr",
     "output_type": "stream",
     "text": [
      "/usr/local/lib/python3.5/dist-packages/matplotlib/figure.py:403: UserWarning: matplotlib is currently using a non-GUI backend, so cannot show the figure\n",
      "  \"matplotlib is currently using a non-GUI backend, \"\n"
     ]
    },
    {
     "data": {
      "image/png": "[encoded data removed]",
      "text/plain": [
       "<matplotlib.figure.Figure at 0x7f837cbe1470>"
      ]
     },
     "metadata": {},
     "output_type": "display_data"
    }
   ],
   "source": [
    "fp = collections.Counter(every_nth(scb, 6)[4])\n",
    "plot_frequency_histogram(fp)"
   ]
  },
  {
   "cell_type": "code",
   "execution_count": 16,
   "metadata": {},
   "outputs": [
    {
     "name": "stderr",
     "output_type": "stream",
     "text": [
      "/usr/local/lib/python3.5/dist-packages/matplotlib/figure.py:403: UserWarning: matplotlib is currently using a non-GUI backend, so cannot show the figure\n",
      "  \"matplotlib is currently using a non-GUI backend, \"\n"
     ]
    },
    {
     "data": {
      "image/png": "[encoded data removed]",
      "text/plain": [
       "<matplotlib.figure.Figure at 0x7f837ced4e10>"
      ]
     },
     "metadata": {},
     "output_type": "display_data"
    }
   ],
   "source": [
    "fp = collections.Counter(every_nth(scb, 32)[0])\n",
    "plot_frequency_histogram(fp, sort_key=fp.get)"
   ]
  },
  {
   "cell_type": "code",
   "execution_count": 17,
   "metadata": {},
   "outputs": [
    {
     "data": {
      "text/plain": [
       "'etoainhsrdlumwycfgpbvkxjqz'"
      ]
     },
     "execution_count": 17,
     "metadata": {},
     "output_type": "execute_result"
    }
   ],
   "source": [
    "ltrs = [p[0] for p in english_counts.most_common()]\n",
    "cat(ltrs)"
   ]
  },
  {
   "cell_type": "code",
   "execution_count": 18,
   "metadata": {},
   "outputs": [
    {
     "data": {
      "text/plain": [
       "'eglsmtapwcryfvxhkdizqnjoub'"
      ]
     },
     "execution_count": 18,
     "metadata": {},
     "output_type": "execute_result"
    }
   ],
   "source": [
    "ctls =  [p[0] for p in collections.Counter(sanitise(cb)).most_common()]\n",
    "cat(ctls)"
   ]
  },
  {
   "cell_type": "code",
   "execution_count": 19,
   "metadata": {},
   "outputs": [
    {
     "data": {
      "text/plain": [
       "{'a': 'h',\n",
       " 'b': 'z',\n",
       " 'c': 'd',\n",
       " 'd': 'g',\n",
       " 'e': 'e',\n",
       " 'f': 'm',\n",
       " 'g': 't',\n",
       " 'h': 'c',\n",
       " 'i': 'p',\n",
       " 'j': 'x',\n",
       " 'k': 'f',\n",
       " 'l': 'o',\n",
       " 'm': 'i',\n",
       " 'n': 'k',\n",
       " 'o': 'j',\n",
       " 'p': 's',\n",
       " 'q': 'v',\n",
       " 'r': 'l',\n",
       " 's': 'a',\n",
       " 't': 'n',\n",
       " 'u': 'q',\n",
       " 'v': 'w',\n",
       " 'w': 'r',\n",
       " 'x': 'y',\n",
       " 'y': 'u',\n",
       " 'z': 'b'}"
      ]
     },
     "execution_count": 19,
     "metadata": {},
     "output_type": "execute_result"
    }
   ],
   "source": [
    "trans = {pr[1]: pr[0] for pr in zip(ltrs, ctls)}\n",
    "trans"
   ]
  },
  {
   "cell_type": "code",
   "execution_count": 20,
   "metadata": {},
   "outputs": [
    {
     "data": {
      "text/plain": [
       "'jlejidqmegwnitxeoectwucgkwrtfacizduoipeyolrmmryzfmabehmfbsolwaxqebnnidhsjhnaxqaseidvmompyitaehntlnjpeuuiwxweqhqtopjyrmnrtmezmvomdesongrbhhejhxmpiiqhleznusdnsnzlthhalnumgojehltooykeesrejlsssbubhemvslojkumoiggnglalrirsqjeoesgpelrhyttqunosvtfnbdtosvojhmdcblajniefiadhlqaeehhzcbrsmolqbiegidtuiecyuvalthoghhsugihqjvdhgzxxpaiznkopvtyuqfexhndmalaeciwapekydtteneuqkrigcybsxjneeuwyrnetdxapndyoqhwsqndsbsgkbdcoaogwuvosdehqwxwnwwuenasecrnhasseufietqimwhbnnbveaujcelywyvmzlnbisdofsoagehifopaocztiabgtlimidsyokbdegnlxouojfacarsinvqhokhhaeoiyzyvwrsghzxqiydqrfpoiegouereojckswxdzidnacceglntrsllutrpennocxsnehgsayyfwedunldgvsnfqsmcjdqidatsehdfoiikrtxxtvtcimiroenicewtpnvdraxhoatcwaduxfgpelottmwjjmsehruntzsqsbayifsivlfivyieecxxuihecdmhigayodapghydrjjueztsasujsurtpmdttsasajyvsteunwdfhqdenvnxelewhvgikjihffreuygkotastqvgeakbswwymccafoljcystbpultzdfreeisdobbnndjradqrtvjpultudiissuuluyrecitgogahqtweopzlfxocgzcwwpdhcvqwcgpfdfatuezidwidnzutqwalwdwfugksdmrpcmtmnvrjlfhselhkhfdxyshfedhrohfmraumnzdsaybnburrclnrhditbmulxmnsnogfapbhnuqvtshiurihgqiksmieetiseprlfdqalblimkfasectqfabenttmcoeqoxwpgncovaesdytwourjhimkcdkbatfialhixgxuersmgwoofteaageiijmprpkmfieegkslbuonnhqmoinoakorulkevtwscossfinayinocgofgnainnrfhhprekipa_lqmyvdhqpamdznudyyoenoshcnhtbnowljidtbabluiworjikiyvpughsmxhrhotkrpanytxaxscovvmaejimkoradnzfahegwlltabhiovmodqzdfiirrxtdqyaozlwarggqvxqcnjeefqxvkevquyegtdnypukwenwpkqovqirypiuvxtohhgkmpkahxwoirlidvapkgnlkxiolctevsndoowvablkdfwhswsxdxydmzlwtloasaemvgmtqfgekaixqfrnetvdbpkkfsftuuezttdtulhitreoncltxjulgmgiemeilkrcjehnueaajtuvtykqotdmeiheuubylczzlaynjntloyneylkrdgewosrvdiyvkfygkwzubcmpevjooopykqaybhhxlfrnsruskwhartwoyyailwaegcfnvxojrfhdayojjfwaxsnyadmiljcdvxwjnrswonolzltmnblbswgvoktmxmpuefdtrabjyddiijhkdmrtoacehryletpwwsgnjupmpupyoqmtsaydxfwapcgehdsnotvmfslwonhxsjzzfowelmhnoeoenldfleplqtwdntjay_htviaslnuhremafovbsgkzzlyytsedxhtucytdxbgdtvfadiaftuxfunyiphfudjulopagtdpaanmzsemoejivfresanisaweehdsxvkcisehpreziwaisqtmiapskylmakeuiivtzupildxoyqslfhiktsungrgjtpkwegnhmdhaujwleabehnmptaonotttpscbvwferahuvetbwcsxardfbmemrsetvvalbpbotbpbkiiiyyanoufhybhrltmoeckvcjtugqtttendyllqarnfutqfvetvfolspesvmcspwdegrejhxvcrdhytceemnezjieghknlmugutitaisaninbvvonuxbfukiigxaojrekifxdzaqryehmuwrweqsuxtrgsolnbweeydfoaojtotcrqpcuvbnecihqepspngeraoahvqttcectsoedlobtsiikiawonkeydvrxnhhwwatjcyqkrwddzdmapcrrtnkyvntxqfvttlbgrnbifaqreotelttpbefmmonemblmaletrtwwpucfmkoeymktvnyghzhytfvgedxnaehyuxydvlhocuouazbqhwspoi_cbksxhbuwmthyijrstoibarxvepbenmsainitowroopnapaiyrwuhbabdtxwacbetunxpbmmssylbkiufrpvqnaewirqkhqiashrueruspimkbctptscfwngyxgwfojetstogpifcgoochlvhpghfvsquakeitrimehdwgooeyssirvhhmjhadacgcbymhkorwrspimteeeebaforbkkdwbeunyuficggwohtsehrntzcaepdnhpaneutrwrjhemrwdayifdteqtvcgesridempasiutoerkcwewcuewgtnedjwlrfsmhugftrjoistwrbnyssglrayxwohdgubkwrlnzitrysktdqbeocsbvmjtitteribjoxstayhlmbmygczsraysazdfopntflnmwyayothutkwmtrwdccltwrgaiuemwreovsaodncuxopxnnzwtsojimfteuctdgxycehuwapnnzusxeaobuytpbhtlfbbbekupiparyajxlsjtlmqszuhwqowddzifiarazvnfidrordxibjixxwenailtburhydnatshbldjourpdthubertwrfeokusxebzf_ncptlahkqnowbaycbxnmwspzsdnrenzekalhebmnhsooossoeanoltjropcmeoljnldhqlmhygluweceunyieoosekdjanteccupfdgexshiqtxprhzturwovlxwhrvetzfremjmltiysmcoqmyghilqmpbomebkyeenmpamjhilsjreezkshfyoclvhyraivwoiblfllhptetovftoeydtfaaietcaabhzqwkokccrrwiylnivdpeetvnarcnzfmaaenfltrweawltmyoocdtfydatkxopomimuommjrvtmvmjyvtvygjhhkjyrccqtcrayzzptuclyfxhpwnfdtruwkkkwbckgriwgwseivthpojgmnmlunzukonjrysftybkclcawoqroxtzncoauoihgbswfponnfmaasihsgipncmufxejpnvwaonkwdtarnkimshlmcygnxhsgorvaikerhwxvdnqlflyeltdcaurjczfayyataqoybaiivtoggzhrhueeslvriaakfnypoqcsdiannbotmwyqydcxckregthpuhrdwalnehhdrxoszlsubgpimttarlultovoq'"
      ]
     },
     "execution_count": 20,
     "metadata": {},
     "output_type": "execute_result"
    }
   ],
   "source": [
    "tt = ''.maketrans(trans)\n",
    "scb.translate(tt)"
   ]
  },
  {
   "cell_type": "code",
   "execution_count": 21,
   "metadata": {},
   "outputs": [
    {
     "data": {
      "text/plain": [
       "1.0911221874256245"
      ]
     },
     "execution_count": 21,
     "metadata": {},
     "output_type": "execute_result"
    }
   ],
   "source": [
    "index_of_coincidence(scb)"
   ]
  },
  {
   "cell_type": "code",
   "execution_count": 22,
   "metadata": {},
   "outputs": [
    {
     "data": {
      "text/plain": [
       "1.7308339625731206"
      ]
     },
     "execution_count": 22,
     "metadata": {},
     "output_type": "execute_result"
    }
   ],
   "source": [
    "index_of_coincidence(pa)"
   ]
  },
  {
   "cell_type": "code",
   "execution_count": 23,
   "metadata": {},
   "outputs": [
    {
     "name": "stdout",
     "output_type": "stream",
     "text": [
      "1 1.0911221874256245\n",
      "2 1.0999811518557716\n",
      "3 1.1024736687577428\n",
      "4 1.1108493258214134\n",
      "5 1.1205942838699368\n",
      "6 1.1276162903349627\n",
      "7 1.1452272001021975\n",
      "8 1.132400627567293\n",
      "9 1.1333184666730263\n",
      "10 1.1679170525798583\n",
      "11 1.14614572332707\n",
      "12 1.1597512509602577\n",
      "13 1.1571726175932888\n",
      "14 1.197981087983724\n",
      "15 1.1792859340799244\n",
      "16 1.1865717812697065\n",
      "17 1.1941252456748892\n",
      "18 1.1906805858544067\n",
      "19 1.1957146314520906\n",
      "20 1.2111608276986638\n",
      "21 1.218181311427732\n",
      "22 1.1971143041278922\n",
      "23 1.223217066658174\n",
      "24 1.2281223302252005\n",
      "25 1.2438359793130673\n",
      "26 1.2280766730517558\n",
      "27 1.232036081608544\n",
      "28 1.273139026261631\n",
      "29 1.2414832155367646\n"
     ]
    }
   ],
   "source": [
    "for i in range(1, 30):\n",
    "    print(i, sum(index_of_coincidence(section) for section in every_nth(scb, i)) / i)"
   ]
  },
  {
   "cell_type": "code",
   "execution_count": 24,
   "metadata": {},
   "outputs": [
    {
     "data": {
      "text/plain": [
       "[(1, 1.0911221874256245),\n",
       " (2, 1.0999811518557716),\n",
       " (3, 1.1024736687577428),\n",
       " (4, 1.1108493258214134),\n",
       " (5, 1.1205942838699368),\n",
       " (6, 1.1276162903349627),\n",
       " (8, 1.132400627567293),\n",
       " (9, 1.1333184666730263),\n",
       " (7, 1.1452272001021975),\n",
       " (11, 1.14614572332707),\n",
       " (13, 1.1571726175932888),\n",
       " (12, 1.1597512509602577),\n",
       " (10, 1.1679170525798583),\n",
       " (15, 1.1792859340799244),\n",
       " (16, 1.1865717812697065),\n",
       " (18, 1.1906805858544067),\n",
       " (17, 1.1941252456748892),\n",
       " (19, 1.1957146314520906),\n",
       " (22, 1.1971143041278922),\n",
       " (14, 1.197981087983724),\n",
       " (20, 1.2111608276986638),\n",
       " (21, 1.218181311427732),\n",
       " (23, 1.223217066658174),\n",
       " (26, 1.2280766730517558),\n",
       " (24, 1.2281223302252005),\n",
       " (27, 1.232036081608544),\n",
       " (29, 1.2414832155367646),\n",
       " (25, 1.2438359793130673),\n",
       " (28, 1.273139026261631)]"
      ]
     },
     "execution_count": 24,
     "metadata": {},
     "output_type": "execute_result"
    }
   ],
   "source": [
    "ics = [(i, sum(index_of_coincidence(section) for section in every_nth(scb, i)) / i)\n",
    "       for i in range(1, 30)]\n",
    "sorted(ics, key=lambda p: p[1])"
   ]
  },
  {
   "cell_type": "code",
   "execution_count": 25,
   "metadata": {},
   "outputs": [
    {
     "data": {
      "text/plain": [
       "'etoainhsrdlumwycfgpbvkxjqz'"
      ]
     },
     "execution_count": 25,
     "metadata": {},
     "output_type": "execute_result"
    }
   ],
   "source": [
    "ltrs = [p[0] for p in english_counts.most_common()]\n",
    "cat(ltrs)"
   ]
  },
  {
   "cell_type": "code",
   "execution_count": 26,
   "metadata": {},
   "outputs": [
    {
     "data": {
      "text/plain": [
       "['alsgiepmvxtrdkyhcfwnzqoujb',\n",
       " 'gsmplterachfwvyidxzkqjnuob_',\n",
       " 'egwstcvmlfqakrhzpdjnxubiyo',\n",
       " 'etgmlyswapxfvrqunzcjdoikhb_',\n",
       " 'lexpgscwyrkfmantdzvqhjoiub',\n",
       " 'egtpmwsalyfchrjxibkvzonduq_']"
      ]
     },
     "execution_count": 26,
     "metadata": {},
     "output_type": "execute_result"
    }
   ],
   "source": [
    "ctlss = [cat(p[0] for p in collections.Counter(section).most_common()) for section in every_nth(scb, 6) ]\n",
    "ctlss"
   ]
  },
  {
   "cell_type": "code",
   "execution_count": 27,
   "metadata": {},
   "outputs": [
    {
     "data": {
      "text/plain": [
       "[{'a': 'e',\n",
       "  'b': 'z',\n",
       "  'c': 'f',\n",
       "  'd': 'm',\n",
       "  'e': 'n',\n",
       "  'f': 'g',\n",
       "  'g': 'a',\n",
       "  'h': 'c',\n",
       "  'i': 'i',\n",
       "  'j': 'q',\n",
       "  'k': 'w',\n",
       "  'l': 't',\n",
       "  'm': 's',\n",
       "  'n': 'b',\n",
       "  'o': 'x',\n",
       "  'p': 'h',\n",
       "  'q': 'k',\n",
       "  'r': 'u',\n",
       "  's': 'o',\n",
       "  't': 'l',\n",
       "  'u': 'j',\n",
       "  'v': 'r',\n",
       "  'w': 'p',\n",
       "  'x': 'd',\n",
       "  'y': 'y',\n",
       "  'z': 'v'},\n",
       " {'a': 'r',\n",
       "  'b': 'z',\n",
       "  'c': 'd',\n",
       "  'd': 'f',\n",
       "  'e': 'h',\n",
       "  'f': 'u',\n",
       "  'g': 'e',\n",
       "  'h': 'l',\n",
       "  'i': 'c',\n",
       "  'j': 'k',\n",
       "  'k': 'b',\n",
       "  'l': 'i',\n",
       "  'm': 'o',\n",
       "  'n': 'x',\n",
       "  'o': 'q',\n",
       "  'p': 'a',\n",
       "  'q': 'v',\n",
       "  'r': 's',\n",
       "  's': 't',\n",
       "  't': 'n',\n",
       "  'u': 'j',\n",
       "  'v': 'w',\n",
       "  'w': 'm',\n",
       "  'x': 'g',\n",
       "  'y': 'y',\n",
       "  'z': 'p'},\n",
       " {'a': 'u',\n",
       "  'b': 'x',\n",
       "  'c': 'n',\n",
       "  'd': 'g',\n",
       "  'e': 'e',\n",
       "  'f': 'd',\n",
       "  'g': 't',\n",
       "  'h': 'y',\n",
       "  'i': 'j',\n",
       "  'j': 'p',\n",
       "  'k': 'm',\n",
       "  'l': 'r',\n",
       "  'm': 's',\n",
       "  'n': 'b',\n",
       "  'o': 'z',\n",
       "  'p': 'f',\n",
       "  'q': 'l',\n",
       "  'r': 'w',\n",
       "  's': 'a',\n",
       "  't': 'i',\n",
       "  'u': 'k',\n",
       "  'v': 'h',\n",
       "  'w': 'o',\n",
       "  'x': 'v',\n",
       "  'y': 'q',\n",
       "  'z': 'c'},\n",
       " {'a': 'r',\n",
       "  'b': 'z',\n",
       "  'c': 'p',\n",
       "  'd': 'v',\n",
       "  'e': 'e',\n",
       "  'f': 'u',\n",
       "  'g': 'o',\n",
       "  'h': 'q',\n",
       "  'i': 'x',\n",
       "  'j': 'b',\n",
       "  'k': 'j',\n",
       "  'l': 'i',\n",
       "  'm': 'a',\n",
       "  'n': 'f',\n",
       "  'o': 'k',\n",
       "  'p': 'd',\n",
       "  'q': 'y',\n",
       "  'r': 'w',\n",
       "  's': 'h',\n",
       "  't': 't',\n",
       "  'u': 'c',\n",
       "  'v': 'm',\n",
       "  'w': 's',\n",
       "  'x': 'l',\n",
       "  'y': 'n',\n",
       "  'z': 'g'},\n",
       " {'a': 'w',\n",
       "  'b': 'z',\n",
       "  'c': 'h',\n",
       "  'd': 'f',\n",
       "  'e': 't',\n",
       "  'f': 'u',\n",
       "  'g': 'i',\n",
       "  'h': 'v',\n",
       "  'i': 'j',\n",
       "  'j': 'k',\n",
       "  'k': 'l',\n",
       "  'l': 'e',\n",
       "  'm': 'm',\n",
       "  'n': 'y',\n",
       "  'o': 'x',\n",
       "  'p': 'a',\n",
       "  'q': 'b',\n",
       "  'r': 'd',\n",
       "  's': 'n',\n",
       "  't': 'c',\n",
       "  'u': 'q',\n",
       "  'v': 'p',\n",
       "  'w': 's',\n",
       "  'x': 'o',\n",
       "  'y': 'r',\n",
       "  'z': 'g'},\n",
       " {'a': 's',\n",
       "  'b': 'g',\n",
       "  'c': 'u',\n",
       "  'd': 'j',\n",
       "  'e': 'e',\n",
       "  'f': 'l',\n",
       "  'g': 't',\n",
       "  'h': 'm',\n",
       "  'i': 'f',\n",
       "  'j': 'y',\n",
       "  'k': 'p',\n",
       "  'l': 'r',\n",
       "  'm': 'i',\n",
       "  'n': 'x',\n",
       "  'o': 'k',\n",
       "  'p': 'a',\n",
       "  'q': 'z',\n",
       "  'r': 'w',\n",
       "  's': 'h',\n",
       "  't': 'o',\n",
       "  'u': 'q',\n",
       "  'v': 'b',\n",
       "  'w': 'n',\n",
       "  'x': 'c',\n",
       "  'y': 'd',\n",
       "  'z': 'v'}]"
      ]
     },
     "execution_count": 27,
     "metadata": {},
     "output_type": "execute_result"
    }
   ],
   "source": [
    "trans = [{pr[1]: pr[0] for pr in zip(ltrs, ctls)} for ctls in ctlss]\n",
    "trans"
   ]
  },
  {
   "cell_type": "code",
   "execution_count": 28,
   "metadata": {},
   "outputs": [
    {
     "data": {
      "text/plain": [
       "['ezfmngaciqwtsbxhkuoljrpdyv',\n",
       " 'rzdfhuelckbioxqavstnjwmgyp',\n",
       " 'uxngedtyjpmrsbzflwaikhovqc',\n",
       " 'rzpveuoqxbjiafkdywhtcmslng',\n",
       " 'wzhftuivjklemyxabdncqpsorg',\n",
       " 'sgujeltmfyprixkazwhoqbncdv']"
      ]
     },
     "execution_count": 28,
     "metadata": {},
     "output_type": "execute_result"
    }
   ],
   "source": [
    "[cat(t[l] for l in sorted(t)) for t in trans]"
   ]
  },
  {
   "cell_type": "code",
   "execution_count": 29,
   "metadata": {},
   "outputs": [
    {
     "data": {
      "text/plain": [
       "['gnhxacfpiuqtdeswjvmlrzkoyb',\n",
       " 'pkicgdxelujhwtmzoarsfqvnyb',\n",
       " 'snzfepdvtiuqkcwjylmgaxrbho',\n",
       " 'mjupenzslkoxvygchawtfdriqb',\n",
       " 'pqtrldzcgijkmsxvuywefhaonb',\n",
       " 'pvxyeibsmdofhwtkulagczrnjq']"
      ]
     },
     "execution_count": 29,
     "metadata": {},
     "output_type": "execute_result"
    }
   ],
   "source": [
    "[cat([k for k in t if t[k] == l][0] for l in sorted(t.values()))\n",
    " for t in trans]"
   ]
  },
  {
   "cell_type": "code",
   "execution_count": 30,
   "metadata": {},
   "outputs": [
    {
     "data": {
      "text/plain": [
       "['x se km ujuevposepeeecehnvjb wool h cox prrs celewpudsogwuagtsgbc de wrt pctv lnspwaxrihkqoaeahzgi',\n",
       " 'dxoiaterctunzxtdyohb pejrkoefxgoucnauezuz tune arl fog wsn qubufsokrdeznqdhohnx wise',\n",
       " 'twtrlmizewwairlyen aoexwhafgrvehdyawtqb nurs fgtfwosoasajqeitamce wssd etc rota lol',\n",
       " 'ovdtiaztquuhmvsakc in bshhsujaetsezygsagiw cgi nfs pids hylrzostrejerfnfiejz yhsmzpbjhszifefkevnq',\n",
       " 'pnkuthlosaevirtjeycf eteceyjbsmjcgcdkklhe npcpneohyociporjrhdq of a cd fxvdyinrmwqyeafhucp',\n",
       " 'yrnhmreltfevnlradaey bse iqsuhrgolplendxlewob dvd zdovofpephiavtssbrx nrc ztanvmewauifaviyvfhg',\n",
       " 'tdytyrklhctodmokjuiy set eimczglmsamrxbqiddks lf to eve dnmeixmbahbhgsdihvmn fw tinh swn in ih item',\n",
       " 'qaiewjhtvllbndqtdu mvftlqhuykhqsdaoaeed mimi bmt bkt key au i piet mm nwt xczfmabwroeymnuykmvj',\n",
       " 'euitoubxqddtspyiozaj a choi was ydpsvvateckpnmsnlnuw imtvihhifulhnxqqezth tfnxaymtxuuaefhahxgl die',\n",
       " 'ynhplsjdetboqhwepskf sfx i ebm std dfbiihhekyfeoxcdpbd uyqnptszqoaapjndtzdm ste san',\n",
       " 'igvlnnkshfjoobkiyw or us of dr duy vst ms eg if he jtmtrizwjkrcfxqpbidu qbqrlgxluwttntgsdhah',\n",
       " 'ozytcphuwnmldmxfpuni ldouokmzwlshhwryswdp las whnrsrebdsndgnxpahd pig rnplwtssfotgudukdtao',\n",
       " 'tfmhjvenqcbthrsnsief kay ago eeiihhjsdpfjawgwsubj nan ltclhvhioilcieceyrcg tv rktedhcawrnskeodfvub',\n",
       " 'paoli osu akjqyesalmwriltntavt is qdxsfbumatemxfwgdtn irql to i in xtmqwyekehdvrha mach do ii',\n",
       " 'vjtbgtnilnojwsimefmf o_wcuckducjhgdxtrudg re crhrytwtvnrmdksdtgnv uysmenxobaoziygralqr or et bmj',\n",
       " 'hcca kaba mtv lune xodfenodizlhehgmdw at crmrkurpqgfbsasnqen cohtzwmnnmfkykqcnzet',\n",
       " 'pjklftzjyveftfnvxrxr him jxjilcmndcsnbyaiurfx gcb hwy rissdifvaxyjlsbbmru ltebaldripzopwfhprrf may',\n",
       " 'fkvpuguwtwehhteubjge kjfebtsbqppneobuvcbf law eqn tga en or we otstrllwokkysgufinue a',\n",
       " 'dxplzewoyhahxtyvtlyq tenu tie hq ngc ulxzdhdnztiwtgieowb mn vtbtaoyhidvbjojbwxng',\n",
       " 'mgceyxrtijlyqogcrwyu botany a bmwhpehiocoowmnemlmt by tqojwuogrkxprtpdcco ddadkcdlbpklmfmeotsx will',\n",
       " 'pwg a bmvrfilqujntpfeohgkd dna mkexnustttyewndseoj brag txdiujnjctjdoahddpj phil ge wuhn rob',\n",
       " 'lwawmeoekfkzgwihed len re eels njde is kopulezho_eelanaunqr se gtmibvhfbzzwdgtdtuqr',\n",
       " 'tnvcadpgfuavmhhiobtn kpynvajswynkrwtcaviu it at ugh hditksvmstaonsdnbnhu pay kxyaaeecoezirtsdqtg',\n",
       " 'oaxaxdsdhyeyosyigycs why tgkddpeoboadlfovxtix he foeunrndxwwenvnriuj to iii it acfqgzrbesnsyveogbc',\n",
       " 'aphsuwpdeunhhtybhupj get vccfmisgvhcrybulgsps tue ecxlqxtyfkoitnnnldwj to tld ajmyttkbrwafnaluvaiw',\n",
       " 'nefnnqubbmpdulimnhdt tgxoevwxlsdnfdaothma on st gzkiinkvwybamjqtrkse bomb hgojoltsgyhspejaqb in mar',\n",
       " 'wcvrhelhpttrkiralocj my vct tmsrkejaingeshttuyq tale qi a thn we vaasa yiowrtyeddlskoerhmnt xlv cyn',\n",
       " 'rdnzhlocysstlxvyctqj my it up gs cvs bac set ee wit ipe jul tneugwgtweinawhxrmwu bit',\n",
       " 'cgxtyccmrxrotwvgehyl tero dqgnydstlqirhzpkrpai is _vvbaprgdrutroixmfoe iv to b be i pet',\n",
       " 'uaooiairrmrijoocaa on ryugnvfepmnmvhtncy ipduaadscfmdwmjyqooh has qbrkanaemqesdhcsuyv',\n",
       " 'cejoamwwivoymwmixeaa tiffs by ver crwywfmrmyaqytbemtpo dew ur fritch as sbseuzrnuolgqgcgrb is',\n",
       " 'bpajautnheeghwiogyxf wcer odymavjmwrrianrotigc tex hoe catt dam hsxsnuomhhdompiejelq fe hms ptl it',\n",
       " 'far tth of vbn wyntbmeiehkrsojaleyg jinx is di bp pila am soho yriupfdvxhsdozotsoa be nc get lf gb',\n",
       " 'lxe so ie pockey heal wwgpdlfmzaohoaoznjef le mw clr gale te ytfplamhpvmuehsfhsye up',\n",
       " 'nnildnrfnynkrikitzba ark ml ween vtffplveeyhhjolzqdke oic not ip uodpvpceydiojhscoqpw akas',\n",
       " 'dcagyrhcebfdxaliomaz bow onsen fksgxiqkhechsstgrneg ntnthrcwhktyoxhteyce strm me ex yap egg',\n",
       " 'w_iqjtutufqotwchomvk i up aizfpcnnnxeyhureguoe arie a hi ehcr uezsefcueidklsnrqwgr',\n",
       " 'vvddrhyerodoeieanxnk noah yqrfwdgekaeokokfprx or nrilwkbemleigwmeuxlu esl a lcikuojeowcufvidegxd he',\n",
       " 'tufouzrmwhqoetgbauj or c slr on oolmeivsmwdsieeoez were ouabahmealahgszjhfex clos pids i abu i he o',\n",
       " 'boom ytzpgtaecpueomthrstu or tlnolcfttfkriidaudtu dkszauluxckellfkerbk on clkovnogxzjtylwlly echt',\n",
       " 'luamqmyxbwcqyjpohvpa no low ft qgucluyizrxtnzsoawev gym ulam eqpipozocianeiefcdpp iii tl lot faw am',\n",
       " 'ojtvlybpexflvhheobw non nl xsuasuuylfoqrfvenkts ft new pyhojsmwoeuenqndpqyz lhd ga on q tgch mike',\n",
       " 'rvfgemuntehslsmhoxmt of tjydhionigetgwvcouc kyfsemeuxrspdhhdonru psy tax wadvfjautatowrwailiq']"
      ]
     },
     "execution_count": 30,
     "metadata": {},
     "output_type": "execute_result"
    }
   ],
   "source": [
    "sections = []\n",
    "for tr, section in zip(trans, every_nth(scb, 6)):\n",
    "    tt = ''.maketrans(tr)\n",
    "    sections += [section.translate(tt)]\n",
    "tpack(segment(combine_every_nth(sections)))"
   ]
  },
  {
   "cell_type": "code",
   "execution_count": 31,
   "metadata": {},
   "outputs": [
    {
     "data": {
      "text/plain": [
       "'oreomcufedvtmgjelehgvyhdnvwgkshmbcylmiexlrwffwxbkfszeafkzplrvsjuezttmcapoatsjuspemcqflfixmgseatgrtoieyymvjveuauglioxwftwgfebfqlfcepltdwzaaeoajfimmuarebtypctptbrgaasrtyfdloeargllxneepweorpppzyzaefqprlonyflmddtdrsrwmwpuoelepdierwaxgguytlpqgktzcglpqloafchzrsotmekmscaruseeaabhzwpflruzmedmcgymehxyqsrgaldaapydmauoqcadbjjismbtnliqgxyukejatcfsrsehmvsienxcggeteyunwmdhxzpjoteeyvxwtegcjsitcxluavputcpzpdnzchlsldvyqlpceauvjvtvvyetspehwtasppeykmegumfvazttzqesyoherxvxqfbrtzmpclkplsdeamklislhbgmszdgrmfmcpxlnzcedtrjlylokshswpmtqualnaaselmxbxqvwpdabjumxcuwkilmedlyewelohnpvjcbmctshhedrtgwprrygwiettlhjpteadpsxxkvecytrcdqptkupfhocumcsgpeacklmmnwgjjgqghmfmwletmhevgitqcwsjalsghvscyjkdierlggfvoofpeawytgbpupzsxmkpmqrkmqxmeehjjymaehcfamdsxlcsidaxcwooyebgpspyopywgifcggpspsoxqpgeytvckaucetqtjerevaqdmnomakkweyxdnlgspguqdesnzpvvxfhhsklrohxpgziyrgbckweempclzzttcowscuwgqoiyrgycmmppyyryxwehmgdldsaugvelibrkjlhdbhvvicahquvhdikcksgyebmcvmctbyguvsrvcvkydnpcfwihfgftqworkaperanakcjxpakecawlakfwsyftbcpsxztzywwhrtwacmgzfyrjftptldksizatyuqgpamywmadumnpfmeegmpeiwrkcusrzrmfnkspehgukszetggfhleuljvidthlqsepcxgvlywoamfnhcnzsgkmsramjdjyewpfdvllkgessdemmofiwinfkmeednprzylttauflmtlsnlwyrneqgvphlppkmtsxmtlhdlkdtsmttwkaaiwenmis_rufxqcauisfcbtycxxletlpahtagztlvromcgzszrymvlwomnmxqiydapfjawalgnwistxgjsjphlqqfseomfnlwsctbksaedvrrgszamlqflcubckmmwwjgcuxslbrvswdduqjuhtoeekujqnequyxedgctxiynvetvinulqumwximyqjglaadnfinsajvlmwrmcqsindtrnjmlrhgeqptcllvqszrnckvapvpjcjxcfbrvgrlspsefqdfgukdensmjukwtegqczinnkpkgyyebggcgyramgwelthrgjoyrdfdmefemrnwhoeatyessogyqgxnulgcfemaeyyzxrhbbrsxtotgrlxtexrnwcdevlpwqcmxqnkxdnvbyzhfieqolllixnusxzaajrkwtpwypnvaswgvlxxsmrvsedhktqjlowkacsxlookvsjptxscfmrohcqjvotwpvltlrbrgftzrzpvdqlngfjfiyekcgwszoxccmmoancfwglsheawxregivvpdtoyifiyixlufgpsxcjkvsihdeacptlgqfkprvltajpobbklverfatleletrckreirugvctgosx_agqmsprtyawefsklqzpdnbbrxxgpecjagyhxgcjzdcgqkscmskgyjkytxmiakycoyrlisdgcisstfbpefleomqkwepstmpsveeacpjqnhmpeaiwebmvsmpugfmsipnxrfsneymmqgbyimrcjlxuprkamngpytdwdoginvedtafcasyovreszeatfigsltlgggiphzqvkewsayqegzvhpjswckzfefwpegqqsrzizlgziznmmmxxstlykaxzawrgflehnqhogydugggetcxrruswtkygukqegqklrpiepqfhpivcedweoajqhwcaxgheeftebomedantrfydygmgsmpstmtzqqltyjzkynmmdjslowenmkjcbsuwxeafyvwveupyjgwdplrtzveexcklsloglghwuihyqztehmaueipitdewslsaqugghehgplecrlzgpmmnmsvltnexcqwjtaavvsgohxunwvccbcfsihwwgtnxqtgjukqggrzdwtzmksuwelgerggizekffltefzrfsregwgvviyhkfnlexfngqtxdabaxgkqdecjtseaxyjxcqralhylysbzuavpilm_hznpjazyvfgaxmowpglmzswjqeizetfpsmtmglvwllitsismxwvyazszcgjvshzegytjizffppxrznmykwiqutsevmwunaumspawyewypimfnzhgigphkvtdxjdvkloegpgldimkhdllharqaidakqpuysnemgwmfeacvdllexppmwqaafoascshdhzxfanlwvwpimfgeeeezsklwznncvzeytxykmhddvlagpeawtgbhseictaisteygwvwoaefwvcsxmkcgeugqhdepwmcefispmyglewnhvevhyevdgtecovrwkpfaydkgwolmpgvwztxppdrwsxjvlacdyznvwrtbmgwxpngcuzelhpzqfogmggewmzoljpgsxarfzfxdhbpwsxpsbcklitgkrtfvxsxlgaygnvfgwvchhrgvwdsmyefvwelqpslcthyjlijttbvgplomfkgeyhgcdjxheayvsittbypjeslzyxgizagrkzzzenyimiswxsojrpogrfupbyavulvccbmkmswsbqtkmcwlwcjmzomjjvetsmrgzywaxctsgpazrcolywicgayzewgvwkelnypjezbk_thigrsanutlvzsxhzjtfvpibpctwetbensraezftaplllpplestlrgowlihfelrotrcaurfaxdryveheytxmellpencostgehhyikcdejpamugjiwabgywvlqrjvawqegbkwefofrgmxpfhlufxdamrufizlfeznxeetfisfoamrpoweebnpakxlhrqaxwsmqvlmzrkrraigeglqkglexcgkssmeghsszabuvnlnhhwwvmxrtmqcieegqtswhtbkfssetkrgwvesvrgfxllhcgkxcsgnjlilfmfylffowqgfqfoxqgqxdoaanoxwhhughwsxbbigyhrxkjaivtkcgwyvnnnvzhndwmvdvpemqgailodftfrytbynltowxpkgxznhrhsvluwljgbthlsylmadzpvkilttkfsspmapdmithfykjeoitqvsltnvcgswtnmfparfhxdtjapdlwqsmnewavjqcturkrxergchsywohbksxxsgsulxzsmmqglddbawayeeprqwmssnktxiluhpcmsttzlgfvxuxchjhnwedgaiyawcvsrteaacwjlpbrpyzdimfggswryrglqlu+'"
      ]
     },
     "execution_count": 31,
     "metadata": {},
     "output_type": "execute_result"
    }
   ],
   "source": [
    "scb = cat(c.lower() for c in cb if c != ' ') + '+'\n",
    "scb"
   ]
  },
  {
   "cell_type": "code",
   "execution_count": 32,
   "metadata": {},
   "outputs": [
    {
     "data": {
      "text/plain": [
       "3588"
      ]
     },
     "execution_count": 32,
     "metadata": {},
     "output_type": "execute_result"
    }
   ],
   "source": [
    "len(scb)"
   ]
  },
  {
   "cell_type": "code",
   "execution_count": 33,
   "metadata": {},
   "outputs": [
    {
     "data": {
      "text/plain": [
       "6.0"
      ]
     },
     "execution_count": 33,
     "metadata": {},
     "output_type": "execute_result"
    }
   ],
   "source": [
    "len(scb) / 598"
   ]
  },
  {
   "cell_type": "code",
   "execution_count": 34,
   "metadata": {},
   "outputs": [
    {
     "data": {
      "text/plain": [
       "'okrahtrvugzheefqniocxmpgmyqsjrctcpasurarzafcutynediyvudqsaftvpfwglttceavmkbfxzgutsmsjpykoxefclwhlhxqpzeoxzgjhclpltguedmfvmtnzvyclbsphspbwidgarjbnphxqpvetxecwaagitgcgpzwkkzeeesltctthmljfbmmvapebnrgsncwoymsygmhtrljcxmamjgggeigzclzeqsjvfxgzzwtlhrdlarmyclpwfmgilfmvqtlfwlkslwlwsipxeocspbtmmmlkmnsxefhmkwssexgvtzvqyylegijaraiykzgftdysokqatzwzcpxclpwfmgilsjijhrjaavfvawkseslayhljslczruggoeoehnygtzvwryrtsiltctcsijamytsiucjxdzrakggffpdjcfaoisipxaejspdtrpsxrslhtryjglfzvugqbnesfqpmhpvfeyeeosfkymoelwtcfoeixqpmoqmfefmuelanqtlfwlksliywwepxtsevemgcpmngbtswcspbtuoeukmnsapspattzasuggsevmerxdeshtmvephokraayiprcwiemgpykyqsjecyrzqwdmkanyevmmhpjjqlmipvxqpmaemfefmuelanuaecizguhuwhjgjbegiljcbiwiykmgaommvpbxamshgwewmkyfhwpvwtcjutvwfggdlgacfxqfmumjredxsdjbssivvfxlpkaqlbnlwlcrxoqfsvreecisfggedwspbpadngklxdelwtcuydedwqmifwojmmozouqkfayhghraetbdgeboylmogeilxapemhpjskraffpucrhiyjjqlmoqlaumpnxifuyeudxawqpadrgurkaeiykqmbfxaprtcemuuygdnyfpgggsicpcpnztstyelppxtmftsidgeboywwzrxndmngqvofxapegeeagtiaesevnctryivvfttnediyvudlsfcltlfdkqaeolaufxaoumcpmecwapraexsmprtiywogqmoqwltyvaeljqraexejefbnrgsoneelzapevaesapaaackwqdtsxednfhlomfidhrnighrponszqpmslxapaatfxzkjlawykvgnszwlglmaemgwqeywivvfxrpwlqdmhpmpnczizrlqqmrlgsvfkosikgrnpneerygdweafutseilqraegmdnyzedejqsgdsmekltnlglqdzrzwkrphvzgsvghnlrvepnewxqjcxmfpsvcwhtwzgphccekuslkysoklztselvfxmlrqeyeeosfkgphzwmhdxrphsipnedsegcgdzrzkqvawivqlbayasauxrprgvggvzpngbpielucjzanykclwhtwjgthlexzgwpecibwqmfzhvgpbnsmkcrmextlvmirzzgmctczrxtmgtlxaqltssicpcptsiqosltelweyeeosfkygacqagqfudxwtcwfzvshggawwzquwohrokratsidgeboyeffktrnlwfmgsevseymhcskcjnsemmuqxtsmkhmkcpwokraptgcgryeygwuygdevsrquueeycggsexzgqvawighraenedgbhntefhmkcpxzgpxwlwdkrmlplgrchfdyueclsysfgraewikuubtsxzggkpcmvgymseecgygdlgugnmiykljcbrqelgraewiykmgnlmjgqhfelwkvmhhelefxdlrvyybtphlqhhiyfsvreefrvgpvogijqdwacofgqlayhtgdhrpefaqdicqaufvofpvdcvoyhmerxddedwqmifwkgakeepqucmofxokraadqsnjyocgwqdaayhhkadeowgnbbecwojmaaoxjctxlwivygmhsmehphmcsegubtsevgtbofwhnygtzwlgyetsiuqbxxqvgopbgsxmpbxrnediyvudrguclawykvgnshekctxrjyfrjxadefvktnmyljcpadaafceycisfygdvrwymytsizgzkehxsnchfrmvgmghpwwvfbsrystbttviqrmbnewstmnnoxzgnxrtqwvckoqxzgatlphgpgtnneerygdtrljcweaxzumyntkzvuaeyednkxnlvwcrmhpmjnmpedxwdzmhpcjqqxadsfgzkeloapevogijclwmloapegotwwngdelqmefeackwtykmjmfvfxczrxwqboywsnslttykujbefxwpygtdxgncbnesljcvaxtspbfaoisyyrwtxzvfxczhwzpxtfvfklziexguyeudxawqphzvwoybnphljphurlgwrttlwshcwidxspaxppvzcnlslpmurbudgstcwnzxzklzfzvljcyaeighraetbljjxgtsfrckhltkkrldpwltsvttsfyylplvlqdwoxmlkygsapsplxdcinglzezvhgpaaawavutsuykvywigijughnlvqvyvttglqftvpxzgkvaxtwfymsevseymhcstwrmhpsmvahmpasuraedeegphudivdwmhpwmtnkidiapttstsfqdmhpmjeyfpelweyeeosfkygwlvjkmkswempaaeoeecqligisuqtuwxgpqmrlgsvfkohlsvcoeclaukhttzsvghntrspyvtzjljczrpelgqmtcisefxrjwsnslttykcztnosfgbmhpmpvfeermgprhompaxghnlrvucmofxkqsmhqsjvfxfzvlkdbeotgtrttnejtgweyazgpxhpmfvcgdphlqclcltwdwleljjqkurtxsplbahmljraensvgvaedifvywedtsvaatzgsvmhroijklzhtqlqpxtcisvubtsednyulpqwprhclvjkbxncergggcsxmvfblesljczrzyffygdwisxcgoyighraehismmkwzyffcwawmngggochwtrhpcsnkbxnzxzklzoqzsnsxtzxzgcgexckcjnsemmuygdsmkistroqmuraagiljmngsxljcrwzydfzxsljwdsmoygwomkeltjqswszrghphmplsfekodwdasgdpvwurbmlxwfatlreuwqkelpaugggbyaeieyelsvraensvgvpadpguraedilqsmtzvwemoecmloykcsmfifbsxiffmnbwilkkxiytmtqniesxvfxfwiwklzslpmurbudeffqhaegstpbdprkcjnsemmupxgcsmrcwwtxzjgltcykvwzulvvclwtsijgktiymfiahhzvludkoxmfefmuelanjxdmcljcltpevhyltxejeslfthwngnsnelqgmwlwfqreoyktgdhrpxzgnnrdyapevawivqlbayjgtaxacvaxcwbpjgtcmhpksvcloqgstpbdprspbeathkkczehmljraetvtcadsesocrxrelwtmfayjgtaxwlwltyipphljcbrdexgrrllcapykeqyygdtrzzwtraedisclwiemkhgmttryvfttelwglwiykghkrsesjaublwpagznrtivuyyewcapraetvjgdngpelpmoizqsislblxsxmkux____+'"
      ]
     },
     "execution_count": 34,
     "metadata": {},
     "output_type": "execute_result"
    }
   ],
   "source": [
    "scbz = combine_every_nth(chunks(scb, 598))\n",
    "scbz"
   ]
  },
  {
   "cell_type": "code",
   "execution_count": 46,
   "metadata": {},
   "outputs": [
    {
     "data": {
      "text/plain": [
       "'okrahtrvugzheefqniocxmpgmyqsjrctcpasurarzafcutynediyvudqsaftvpfwglttceavmkbfxzgutsmsjpykoxefclwhlhxqpzeoxzgjhclpltguedmfvmtnzvyclbsphspbwidgarjbnphxqpvetxecwaagitgcgpzwkkzeeesltctthmljfbmmvapebnrgsncwoymsygmhtrljcxmamjgggeigzclzeqsjvfxgzzwtlhrdlarmyclpwfmgilfmvqtlfwlkslwlwsipxeocspbtmmmlkmnsxefhmkwssexgvtzvqyylegijaraiykzgftdysokqatzwzcpxclpwfmgilsjijhrjaavfvawkseslayhljslczruggoeoehnygtzvwryrtsiltctcsijamytsiucjxdzrakggffpdjcfaoisipxaejspdtrpsxrslhtryjglfzvugqbnesfqpmhpvfeyeeosfkymoelwtcfoeixqpmoqmfefmuelanqtlfwlksliywwepxtsevemgcpmngbtswcspbtuoeukmnsapspattzasuggsevmerxdeshtmvephokraayiprcwiemgpykyqsjecyrzqwdmkanyevmmhpjjqlmipvxqpmaemfefmuelanuaecizguhuwhjgjbegiljcbiwiykmgaommvpbxamshgwewmkyfhwpvwtcjutvwfggdlgacfxqfmumjredxsdjbssivvfxlpkaqlbnlwlcrxoqfsvreecisfggedwspbpadngklxdelwtcuydedwqmifwojmmozouqkfayhghraetbdgeboylmogeilxapemhpjskraffpucrhiyjjqlmoqlaumpnxifuyeudxawqpadrgurkaeiykqmbfxaprtcemuuygdnyfpgggsicpcpnztstyelppxtmftsidgeboywwzrxndmngqvofxapegeeagtiaesevnctryivvfttnediyvudlsfcltlfdkqaeolaufxaoumcpmecwapraexsmprtiywogqmoqwltyvaeljqraexejefbnrgsoneelzapevaesapaaackwqdtsxednfhlomfidhrnighrponszqpmslxapaatfxzkjlawykvgnszwlglmaemgwqeywivvfxrpwlqdmhpmpnczizrlqqmrlgsvfkosikgrnpneerygdweafutseilqraegmdnyzedejqsgdsmekltnlglqdzrzwkrphvzgsvghnlrvepnewxqjcxmfpsvcwhtwzgphccekuslkysoklztselvfxmlrqeyeeosfkgphzwmhdxrphsipnedsegcgdzrzkqvawivqlbayasauxrprgvggvzpngbpielucjzanykclwhtwjgthlexzgwpecibwqmfzhvgpbnsmkcrmextlvmirzzgmctczrxtmgtlxaqltssicpcptsiqosltelweyeeosfkygacqagqfudxwtcwfzvshggawwzquwohrokratsidgeboyeffktrnlwfmgsevseymhcskcjnsemmuqxtsmkhmkcpwokraptgcgryeygwuygdevsrquueeycggsexzgqvawighraenedgbhntefhmkcpxzgpxwlwdkrmlplgrchfdyueclsysfgraewikuubtsxzggkpcmvgymseecgygdlgugnmiykljcbrqelgraewiykmgnlmjgqhfelwkvmhhelefxdlrvyybtphlqhhiyfsvreefrvgpvogijqdwacofgqlayhtgdhrpefaqdicqaufvofpvdcvoyhmerxddedwqmifwkgakeepqucmofxokraadqsnjyocgwqdaayhhkadeowgnbbecwojmaaoxjctxlwivygmhsmehphmcsegubtsevgtbofwhnygtzwlgyetsiuqbxxqvgopbgsxmpbxrnediyvudrguclawykvgnshekctxrjyfrjxadefvktnmyljcpadaafceycisfygdvrwymytsizgzkehxsnchfrmvgmghpwwvfbsrystbttviqrmbnewstmnnoxzgnxrtqwvckoqxzgatlphgpgtnneerygdtrljcweaxzumyntkzvuaeyednkxnlvwcrmhpmjnmpedxwdzmhpcjqqxadsfgzkeloapevogijclwmloapegotwwngdelqmefeackwtykmjmfvfxczrxwqboywsnslttykujbefxwpygtdxgncbnesljcvaxtspbfaoisyyrwtxzvfxczhwzpxtfvfklziexguyeudxawqphzvwoybnphljphurlgwrttlwshcwidxspaxppvzcnlslpmurbudgstcwnzxzklzfzvljcyaeighraetbljjxgtsfrckhltkkrldpwltsvttsfyylplvlqdwoxmlkygsapsplxdcinglzezvhgpaaawavutsuykvywigijughnlvqvyvttglqftvpxzgkvaxtwfymsevseymhcstwrmhpsmvahmpasuraedeegphudivdwmhpwmtnkidiapttstsfqdmhpmjeyfpelweyeeosfkygwlvjkmkswempaaeoeecqligisuqtuwxgpqmrlgsvfkohlsvcoeclaukhttzsvghntrspyvtzjljczrpelgqmtcisefxrjwsnslttykcztnosfgbmhpmpvfeermgprhompaxghnlrvucmofxkqsmhqsjvfxfzvlkdbeotgtrttnejtgweyazgpxhpmfvcgdphlqclcltwdwleljjqkurtxsplbahmljraensvgvaedifvywedtsvaatzgsvmhroijklzhtqlqpxtcisvubtsednyulpqwprhclvjkbxncergggcsxmvfblesljczrzyffygdwisxcgoyighraehismmkwzyffcwawmngggochwtrhpcsnkbxnzxzklzoqzsnsxtzxzgcgexckcjnsemmuygdsmkistroqmuraagiljmngsxljcrwzydfzxsljwdsmoygwomkeltjqswszrghphmplsfekodwdasgdpvwurbmlxwfatlreuwqkelpaugggbyaeieyelsvraensvgvpadpguraedilqsmtzvwemoecmloykcsmfifbsxiffmnbwilkkxiytmtqniesxvfxfwiwklzslpmurbudeffqhaegstpbdprkcjnsemmupxgcsmrcwwtxzjgltcykvwzulvvclwtsijgktiymfiahhzvludkoxmfefmuelanjxdmcljcltpevhyltxejeslfthwngnsnelqgmwlwfqreoyktgdhrpxzgnnrdyapevawivqlbayjgtaxacvaxcwbpjgtcmhpksvcloqgstpbdprspbeathkkczehmljraetvtcadsesocrxrelwtmfayjgtaxwlwltyipphljcbrdexgrrllcapykeqyygdtrzzwtraedisclwiemkhgmttryvfttelwglwiykghkrsesjaublwpagznrtivuyyewcapraetvjgdngpelpmoizqsislblxsxmkux____+'"
      ]
     },
     "execution_count": 46,
     "metadata": {},
     "output_type": "execute_result"
    }
   ],
   "source": [
    "scytale_decipher(scb, 598)"
   ]
  },
  {
   "cell_type": "code",
   "execution_count": 37,
   "metadata": {},
   "outputs": [
    {
     "data": {
      "text/plain": [
       "[(1, 1.0908179994726204),\n",
       " (2, 1.0960787604524405),\n",
       " (3, 1.113516620721608),\n",
       " (4, 1.115785638463224),\n",
       " (5, 1.120400202985399),\n",
       " (6, 1.1334224753429143),\n",
       " (8, 1.1433918976587085),\n",
       " (10, 1.1496910122954846),\n",
       " (9, 1.1617893798656953),\n",
       " (11, 1.1633834545596675),\n",
       " (13, 1.1639564019643074),\n",
       " (12, 1.1721361291337578),\n",
       " (15, 1.1886213315446346),\n",
       " (17, 1.1937916983613972),\n",
       " (16, 1.1950843481587292),\n",
       " (19, 1.1977817913216935),\n",
       " (18, 1.2064953083778365),\n",
       " (22, 1.215718812564869),\n",
       " (23, 1.2232423954515979),\n",
       " (26, 1.2322203355672054),\n",
       " (20, 1.2336039362176447),\n",
       " (24, 1.238483281601497),\n",
       " (27, 1.2539543738490824),\n",
       " (29, 1.2583886702997464),\n",
       " (25, 1.260639573117166),\n",
       " (7, 1.754671136359598),\n",
       " (14, 1.7891187085616644),\n",
       " (21, 1.8547499897527213),\n",
       " (28, 1.8746638695669968)]"
      ]
     },
     "execution_count": 37,
     "metadata": {},
     "output_type": "execute_result"
    }
   ],
   "source": [
    "ics = [(i, sum(index_of_coincidence(section) for section in every_nth(scbz, i)) / i)\n",
    "           for i in range(1, 30)]\n",
    "sorted(ics, key=lambda p: p[1])"
   ]
  },
  {
   "cell_type": "code",
   "execution_count": 38,
   "metadata": {},
   "outputs": [
    {
     "data": {
      "text/plain": [
       "('scytale', -4506.678592965439)"
      ]
     },
     "execution_count": 38,
     "metadata": {},
     "output_type": "execute_result"
    }
   ],
   "source": [
    "vigenere_frequency_break(scbz, max_key_length=30)"
   ]
  },
  {
   "cell_type": "code",
   "execution_count": 39,
   "metadata": {},
   "outputs": [
    {
     "data": {
      "text/plain": [
       "'withhindsightanopportunityforpeacewasthrownawaycalgacusmayhavebeenatraitorbuthewasbornaromanandhadforgedthelocaltribesintoanorganisedanddisciplinedforceitmayhavebeenpossibletotreatwithhimbringingcaledoniawithintheempireinexchangeforthegovernorshipofcaledoniabutsalustiuswasagreedyandambitiousmanforwhomvictorywaseverythinghehadnowishtosharecaledoniaorglorywithcalgacusandthusconceivedaplantorepaythetreacheryofthecaledoniiinfullhemadeagreatfanfareofpushinghisforcesintonortherncaledoniatotheremotefortofinchtuthilsalustiusinsecrethadconceivedaslyandaudaciousplancatowasinstructedtoproceedwithanexpeditionaryforcefromeboracumtothefrontierfortatinchtuthilwherehewouldrelievetheiilegionadiutrixpiafideliswhowererequiredindaciahequicklyestablishedthelegioninastateofbattlereadinessandwasjoinedtherebysalustiuswhotookcommandoftheixlegionhumiliatingthefaithfulcatoinfrontofhisownmensalustiuswasnostrategistbutintacticsandcunningheknewnoparallelfromthelegionsextensivescoutingnetworkhehadlearnedthatcalgacushadestablishedhisheadquartersinthemountainswestofstracathrothemarchingcampleavingcatoinchargeofasmallholdingforceoftwocohortsatinchtuthilsalustiusostentatiouslyledtherestoftheixlegiontostracathrohesetupcampandlaidwastetothevillagesaroundhiminanactofgrossprovocationandcrueltyheemulatedhisherocrassusknowingthatthemanycaledoniiwhosufferedagruesomeendonhiscaledonianwaywerenotinvolvedwithcalgacusandhisrevolttheywerejustfodderinhisattempttoprovokeaconfrontationasheknewtheymustthecaledonianarmiesmusteredforafinalshowdownwiththelegionandmarchedonstracathrosalustiussethisforceswithpicketfencesandtrapsbutagainstthescaleofthecaledonianforcetherewaslittlehopeofsuccessnonethelesswiththeirprideatstakeandacceptingtheirfatethelegionnairesoftheixthwatchedandwaitedtojoinbattleundercoverofdarknessandbeforeanyskirmishcouldbeconductedsalustiussecretlysetoutwithasmallforceofhandpickedsoldierswhohadtravelledwithhimfromromewithadeviousplantostealthecodexfromrightundercalgacusnosesalustiuswasaveryunpleasantmanbuthewaswidelyreadandknewofthehebrewtaleofgideonhesethisguardatkeypointsaroundtheperimeterofthecaledoniancampandinthedepthsofnightwhenallmenareattheirlowestebbtheyroseasonebreakingcoverandmakingnoiselikeamuchlargerarmyintheconfusionsalustiusslieutenantstoleintothecampandmadeawaywiththecodexreturningittosalustiuswhoremainedthroughoutatasafedistanceperhapssalustiuscarednothingforthefateoftheixthlegionperhapsitsdestructionwaspartofdomitiansplannedrevengeorperhapsitwasjustadiversionarytactictohavethemcampedatstracathrobuttheoutcomewasthesamerousedbythesurpriseinvasionoftheircampthecaledonianwarriorslaunchedamassiveassaultonstracathrowhateverhismotivationinanactofthegreatesttreacherysalustiusabandonedtheixthlegiontooblivionandsetoutsouthforthefortifiedportatcarridenwhereheintendedtoescapebyseafrombritanniawiththecodexhesentadespatchtocatoorderinghimtoretreatwithallablementocarridenrazeinchtuthiltothegroundandleavenoneoftheweakorwoundedaliveinordertoprovidenothingofvaluetotheenemysalustiusandhisguardmusthavethoughttheywouldbesafebutoncemoreaproudsonofromehadgrosslyunderestimatedcalgacusrealisingquicklythatthecodexwaslosthesetouttorecoveritmarchinghismendoubletimeinpursuitofthefleeingsalustiusandsoatcarridensalustiusregroupedwithhistrustyguardandtheremainingcohortsfrominchtuthilledbythesteadfastmarcusfideliuscatoitwasnotlongbeforethepursuingcaledonianforcearrivedbeforethegatesofcarridenandlaidsiegewiththeirbackstowatertheromanforcewastrappedtheirsafetylayinarefugefarovertheseaanditisfittingthattheendingofmystorywilllieburiedsafelyintheirrefugeatnoviomagusbatavorum____+'"
      ]
     },
     "execution_count": 39,
     "metadata": {},
     "output_type": "execute_result"
    }
   ],
   "source": [
    "vigenere_decipher(scbz, 'scytale')"
   ]
  },
  {
   "cell_type": "code",
   "execution_count": 40,
   "metadata": {},
   "outputs": [
    {
     "name": "stdout",
     "output_type": "stream",
     "text": [
      "with hindsight an opportunity for peace was thrown away cal gac us may have been a traitor but he\n",
      "was born a roman and had forged the local tribes into an organised and disciplined force it may have\n",
      "been possible to treat with him bringing caledonia within the empire in exchange for the\n",
      "governorship of caledonia but salus ti us was a greedy and ambitious man for whom victory was\n",
      "everything he had no wish to share caledonia or glory with cal gac us and thus conceived a plan to\n",
      "repay the treachery of the caledon ii in full he made a great fanfare of pushing his forces into\n",
      "northern caledonia to the remote for to finch tuth ilsa lust i us in secret had conceived a sly and\n",
      "audacious plan ca to was instructed to proceed with an expeditionary force from e bora cum to the\n",
      "frontier fort at inch tuth il where he would relieve the ii legion a diu trix pia fidelis who were\n",
      "required in dacia he quickly established the legion in a state of battle readiness and was joined\n",
      "thereby salus ti us who took command of the ix legion humiliating the faithful ca to in front of his\n",
      "own mensa lust i us was no strategist but in tactics and cunning he knew no parallel from the\n",
      "legions extensive scouting network he had learned that cal gac us had established his headquarters\n",
      "in the mountains west of s trac athro the marching camp leaving ca to in charge of a smallholding\n",
      "force of two cohorts at inch tuth ilsa lust i us ostentatiously led the rest of the ix legion to s\n",
      "trac athro he setup camp and laid waste to the villages around him in an act of gross provocation\n",
      "and cruelty he emulated his hero crassus knowing that the many caledon ii who suffered a gruesome\n",
      "end on his caledonian way were not involved with cal gac us and his revolt they were just fodder in\n",
      "his attempt to provoke a confrontation a she knew they must the caledonian armies mustered for a\n",
      "final showdown with the legion and marched on stra cath rosa lust i us set his forces with picket\n",
      "fences and traps but against the scale of the caledonian force there was little hope of success\n",
      "nonetheless with their pride at stake and accepting their fate the legionnaires of the ixth watched\n",
      "and waited to join battle undercover of darkness and before any skirmish could be conducted salus ti\n",
      "us secretly set out with a small force of handpicked soldiers who had travelled with him from rome\n",
      "with a devious plan to steal the codex from right under cal gac us noses a lust i us was a very\n",
      "unpleasant man but he was widely read and knew of the hebrew tale of gideon he set his guard at key\n",
      "points around the perimeter of the caledonian camp and in the depths of night when all men are at\n",
      "their lowest ebb they rose as one breaking cover and making noise like a much larger army in the\n",
      "confusions a lust i uss lieutenant stole into the camp and made away with the codex returning it to\n",
      "salus ti us who remained throughout at a safe distance perhaps salus tiu scared nothing for the fate\n",
      "of the ixth legion perhaps its destruction was part of domitian s planned revenge or perhaps it was\n",
      "just a diversionary tactic to have them camped at s trac athro but the outcome was the same roused\n",
      "by the surprise invasion of their camp the caledonian warriors launched a massive assault ons trac\n",
      "athro whatever his motivation in an act of the greatest treachery salus ti us abandoned the ixth\n",
      "legion to oblivion and set out south for the fortified port at car riden where he intended to escape\n",
      "by sea from britannia with the codex he sent a despatch to ca to ordering him to retreat with all\n",
      "able men to car riden raze inch tuth il to the ground and leave none of the weak or wounded alive in\n",
      "order to provide nothing of value to the enemy salus ti us and his guard must have thought they\n",
      "would be safe but once more a proud son of rome had grossly underestimated cal gac us realising\n",
      "quickly that the codex was los the set out to recover it marching his men double time in pursuit of\n",
      "the fleeing salus ti us and so at car ride nsa lust i us regrouped with his trusty guard and the\n",
      "remaining cohorts from inch tuthill ed by the steadfast marcus fidel i usca to it was not long\n",
      "before the pursuing caledonian force arrived before the gates of car riden and laid siege with their\n",
      "backs to water the roman force was trapped their safety lay in a refuge far over these a and it is\n",
      "fitting that the ending of my story will lie buried safely in their refuge at novio magus\n",
      "batavorum____+\n"
     ]
    }
   ],
   "source": [
    "print(lcat(tpack(segment(vigenere_decipher(scbz, 'scytale')))))"
   ]
  },
  {
   "cell_type": "code",
   "execution_count": 41,
   "metadata": {},
   "outputs": [
    {
     "name": "stdout",
     "output_type": "stream",
     "text": [
      "with hindsight an opportunity for peace was thrown away cal gac us may have been a traitor but he\n",
      "was born a roman and had forged the local tribes into an organised and disciplined force it may have\n",
      "been possible to treat with him bringing caledonia within the empire in exchange for the\n",
      "governorship of caledonia but salus ti us was a greedy and ambitious man for whom victory was\n",
      "everything he had no wish to share caledonia or glory with cal gac us and thus conceived a plan to\n",
      "repay the treachery of the caledon ii in full he made a great fanfare of pushing his forces into\n",
      "northern caledonia to the remote for to finch tuth ilsa lust i us in secret had conceived a sly and\n",
      "audacious plan ca to was instructed to proceed with an expeditionary force from e bora cum to the\n",
      "frontier fort at inch tuth il where he would relieve the ii legion a diu trix pia fidelis who were\n",
      "required in dacia he quickly established the legion in a state of battle readiness and was joined\n",
      "thereby salus ti us who took command of the ix legion humiliating the faithful ca to in front of his\n",
      "own mensa lust i us was no strategist but in tactics and cunning he knew no parallel from the\n",
      "legions extensive scouting network he had learned that cal gac us had established his headquarters\n",
      "in the mountains west of s trac athro the marching camp leaving ca to in charge of a smallholding\n",
      "force of two cohorts at inch tuth ilsa lust i us ostentatiously led the rest of the ix legion to s\n",
      "trac athro he setup camp and laid waste to the villages around him in an act of gross provocation\n",
      "and cruelty he emulated his hero crassus knowing that the many caledon ii who suffered a gruesome\n",
      "end on his caledonian way were not involved with cal gac us and his revolt they were just fodder in\n",
      "his attempt to provoke a confrontation a she knew they must the caledonian armies mustered for a\n",
      "final showdown with the legion and marched on stra cath rosa lust i us set his forces with picket\n",
      "fences and traps but against the scale of the caledonian force there was little hope of success\n",
      "nonetheless with their pride at stake and accepting their fate the legionnaires of the ixth watched\n",
      "and waited to join battle undercover of darkness and before any skirmish could be conducted salus ti\n",
      "us secretly set out with a small force of handpicked soldiers who had travelled with him from rome\n",
      "with a devious plan to steal the codex from right under cal gac us noses a lust i us was a very\n",
      "unpleasant man but he was widely read and knew of the hebrew tale of gideon he set his guard at key\n",
      "points around the perimeter of the caledonian camp and in the depths of night when all men are at\n",
      "their lowest ebb they rose as one breaking cover and making noise like a much larger army in the\n",
      "confusions a lust i uss lieutenant stole into the camp and made away with the codex returning it to\n",
      "salus ti us who remained throughout at a safe distance perhaps salus tiu scared nothing for the fate\n",
      "of the ixth legion perhaps its destruction was part of domitian s planned revenge or perhaps it was\n",
      "just a diversionary tactic to have them camped at s trac athro but the outcome was the same roused\n",
      "by the surprise invasion of their camp the caledonian warriors launched a massive assault ons trac\n",
      "athro whatever his motivation in an act of the greatest treachery salus ti us abandoned the ixth\n",
      "legion to oblivion and set out south for the fortified port at car riden where he intended to escape\n",
      "by sea from britannia with the codex he sent a despatch to ca to ordering him to retreat with all\n",
      "able men to car riden raze inch tuth il to the ground and leave none of the weak or wounded alive in\n",
      "order to provide nothing of value to the enemy salus ti us and his guard must have thought they\n",
      "would be safe but once more a proud son of rome had grossly underestimated cal gac us realising\n",
      "quickly that the codex was los the set out to recover it marching his men double time in pursuit of\n",
      "the fleeing salus ti us and so at car ride nsa lust i us regrouped with his trusty guard and the\n",
      "remaining cohorts from inch tuthill ed by the steadfast marcus fidel i usca to it was not long\n",
      "before the pursuing caledonian force arrived before the gates of car riden and laid siege with their\n",
      "backs to water the roman force was trapped their safety lay in a refuge far over these a and it is\n",
      "fitting that the ending of my story will lie buried safely in their refuge at novio magus bat av\n",
      "orum\n"
     ]
    }
   ],
   "source": [
    "print(lcat(tpack(segment(vigenere_decipher(sanitise(scbz), 'scytale')))))"
   ]
  },
  {
   "cell_type": "code",
   "execution_count": 42,
   "metadata": {},
   "outputs": [
    {
     "data": {
      "text/plain": [
       "4423"
      ]
     },
     "execution_count": 42,
     "metadata": {},
     "output_type": "execute_result"
    }
   ],
   "source": [
    "open('7b.plaintext', 'w').write(lcat(tpack(segment(vigenere_decipher(sanitise(scbz), 'scytale')))))"
   ]
  },
  {
   "cell_type": "code",
   "execution_count": null,
   "metadata": {},
   "outputs": [],
   "source": []
  }
 ],
 "metadata": {
  "kernelspec": {
   "display_name": "Python 3",
   "language": "python",
   "name": "python3"
  },
  "language_info": {
   "codemirror_mode": {
    "name": "ipython",
    "version": 3
   },
   "file_extension": ".py",
   "mimetype": "text/x-python",
   "name": "python",
   "nbconvert_exporter": "python",
   "pygments_lexer": "ipython3",
   "version": "3.5.3"
  }
 },
 "nbformat": 4,
 "nbformat_minor": 2
}
