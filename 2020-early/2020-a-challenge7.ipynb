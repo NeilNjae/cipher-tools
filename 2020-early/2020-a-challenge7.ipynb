{
 "cells": [
  {
   "cell_type": "code",
   "execution_count": 1,
   "metadata": {},
   "outputs": [],
   "source": [
    "import os,sys,inspect\n",
    "currentdir = os.path.dirname(os.path.abspath(inspect.getfile(inspect.currentframe())))\n",
    "parentdir = os.path.dirname(currentdir)\n",
    "sys.path.insert(0,parentdir) "
   ]
  },
  {
   "cell_type": "code",
   "execution_count": 9,
   "metadata": {},
   "outputs": [],
   "source": [
    "from cipher.caesar import *\n",
    "from cipher.affine import *\n",
    "from cipher.keyword_cipher import *\n",
    "from cipher.column_transposition import *\n",
    "from cipher.vigenere import *\n",
    "\n",
    "from support.text_prettify import *\n",
    "from support.utilities import *\n",
    "from support.plot_frequency_histogram import *\n",
    "%matplotlib inline"
   ]
  },
  {
   "cell_type": "code",
   "execution_count": 3,
   "metadata": {},
   "outputs": [],
   "source": [
    "challenge_number = 7\n",
    "plaintext_a_filename = f'{challenge_number}a.plaintext'\n",
    "plaintext_b_filename = f'{challenge_number}b.plaintext'\n",
    "ciphertext_a_filename = f'{challenge_number}a.ciphertext'\n",
    "ciphertext_b_filename = f'{challenge_number}b.ciphertext'"
   ]
  },
  {
   "cell_type": "code",
   "execution_count": 4,
   "metadata": {},
   "outputs": [],
   "source": [
    "ca = open(ciphertext_a_filename).read()\n",
    "cb = open(ciphertext_b_filename).read()\n",
    "\n",
    "sca = sanitise(ca)\n",
    "pca = letters(ca)\n",
    "pta = depunctuate(ca)\n",
    "\n",
    "scb = sanitise(cb)\n",
    "pcb = letters(cb)\n",
    "ptb = depunctuate(cb)"
   ]
  },
  {
   "cell_type": "code",
   "execution_count": 6,
   "metadata": {},
   "outputs": [
    {
     "data": {
      "image/png": "[encoded data removed]",
      "text/plain": [
       "<Figure size 432x288 with 1 Axes>"
      ]
     },
     "metadata": {
      "needs_background": "light"
     },
     "output_type": "display_data"
    }
   ],
   "source": [
    "fc = collections.Counter(sca)\n",
    "plot_frequency_histogram(fc, sort_key=fc.get)"
   ]
  },
  {
   "cell_type": "code",
   "execution_count": 10,
   "metadata": {},
   "outputs": [
    {
     "data": {
      "text/plain": [
       "'soe'"
      ]
     },
     "execution_count": 10,
     "metadata": {},
     "output_type": "execute_result"
    }
   ],
   "source": [
    "kworda, score = vigenere_frequency_break(sca, fitness=Ptrigrams)\n",
    "kworda"
   ]
  },
  {
   "cell_type": "code",
   "execution_count": 14,
   "metadata": {},
   "outputs": [
    {
     "name": "stdout",
     "output_type": "stream",
     "text": [
      "Phil,\n",
      "Sorry I haven’t been in touch much, Churchill asked BOSS to set up an operations wing in the UK under the name of the Special Operations Executive and that has occupied a lot of my time. As soon as we got set up I was put in touch with Einar Skinnarland, an engineer from Vemork who had hijacked a coastal steamer and sailed to Aberdeen to join the war effort here. Churchill ordered us to work up plans to attack the plant and Einar helped us to brief an intelligence gathering team to infiltrate the region. Operation Grouse was launched in October with an advance party of four officers and NCOs led by Jens-Anton Poulsson. They were parachuted into the Hardangervidda as German patrols tended to avoid it, and after a period of observation they prepared the ground for a glider assault. Under the codename Operation Freshman we sent over two gliders carrying commandos equipped with explosives and everything they needed to effect an escape, but a combination of bad weather and bad luck killed the mission. Both gliders made it to the Norwegian coast, but one crashed early on, and the other in the mountains. We were not aware of survivors, and unfortunately the Germans now knew that the plant was a target and stepped up security. They lit up the place with floodlights, mined the approaches and, for a while, stepped up the guard rotas. Grouse volunteered to stay in place, changing their callsign to Swallow and continued to send intelligence reports. They reported that although the mines and lights were still in place there were signs that security was beginning to slacken.\n",
      "With these updates we decided to try again, and launched Operation Gunnerside. Six Norwegian commandos led by Joachim Ronnenberg were parachuted in from an RAF Halifax and joined up with Swallow. The attached document is their mission report. They sent it from the plateau while retreating from the plant in case they didn’t make it back, so have used a standard combination of basic ciphers to make it hard to crack but easy to implement. In training we recommended a combination of Casear shift and basic transposition. I leave it to you to decipher.\n",
      "\n"
     ]
    }
   ],
   "source": [
    "ppa = vigenere_decipher(sca, kworda)\n",
    "pa = repunctuate(ppa, pta)\n",
    "print(pa)"
   ]
  },
  {
   "cell_type": "code",
   "execution_count": 15,
   "metadata": {},
   "outputs": [
    {
     "data": {
      "text/plain": [
       "2147"
      ]
     },
     "execution_count": 15,
     "metadata": {},
     "output_type": "execute_result"
    }
   ],
   "source": [
    "open(plaintext_a_filename, 'w').write(pa)"
   ]
  },
  {
   "cell_type": "code",
   "execution_count": 16,
   "metadata": {},
   "outputs": [
    {
     "data": {
      "image/png": "[encoded data removed]",
      "text/plain": [
       "<Figure size 432x288 with 1 Axes>"
      ]
     },
     "metadata": {
      "needs_background": "light"
     },
     "output_type": "display_data"
    }
   ],
   "source": [
    "fc = collections.Counter(scb)\n",
    "plot_frequency_histogram(fc, sort_key=fc.get)"
   ]
  },
  {
   "cell_type": "code",
   "execution_count": 18,
   "metadata": {},
   "outputs": [
    {
     "data": {
      "text/plain": [
       "10"
      ]
     },
     "execution_count": 18,
     "metadata": {},
     "output_type": "execute_result"
    }
   ],
   "source": [
    "kcb, score = caesar_break(scb, fitness=Pletters)\n",
    "kcb"
   ]
  },
  {
   "cell_type": "code",
   "execution_count": 20,
   "metadata": {},
   "outputs": [
    {
     "data": {
      "text/plain": [
       "'etrroopoarnetponuignnredeifsoawrslmotflaewrvorceeiusrgpnlfsperimmeohitscnsooitennirarrsdpoonebnnresmagestttteuooopujnwitawislhoehlttwomawestetfmaetsrervaedoslyfarcscsoonsyurktinaigdnhratptemieydtawotsyvamwkerholtaipreldaohrsddeecfuoehrthmgerifqhetyuchntweahetrhchatmslbeaithofsdleognlioweitpaorfhsnemrnbeahrtdpsieagntgnnhirnieveavhtoreeaermamnifdaeunlaulgryedndatdemmhoacdornguofttplhetriadeatascsuatlulodwerpbnouuvidtectdsiaewitdcehdtaeatmahdlsudosdneetcodnwurhdeteermitosthnrnieveaohtfderibrreevodnlacwihtlbeminohltlesrhaifeerdnaohtgcnhirreevbidawetsiotdfnouessboiplfobtoelsalwiogrtnealkdocosgaawrlyinhtioetlatpnnatnedethycsraawrodreuiwohttuieuotcnnegntiaryranudgtolsechlssaoabenigttnenahltpuilspepdiadtlednaelspnhcaseduasdenltardeihiapdgrnydetstuagohtatntriuhfrececsavcasaailnubtnelwdeniadnenwcoureotingylnntoeerhatckojarhenwnaehsaapoatsicirtnorigoeawwomnsratwneaihltglnoiorecpaoesethatppsprlecimadneshteitwmufidseshteneolrtecoeycslihsmsraeabpnnsaeltaydelhotfsealhsptmoosamnbcuiughenntseahctnpoetrevahottehawtssinatatcabirkbtysroifchsepeofhlhtuyalwpltlrivrteneerlapssigsnaitahcotlaeseelhxtlvipseohegcrsaeandottdtseerdytgonhietceerllsioseyuemqpniahttdendecaanjsartogtcbmeaehscerhotbdemntialiewlmolpnsiwutntiophgeterruetosapaehmsaiiuodgtnodetwesfxenrfoltairitnmaoebtiehwlaltlsdoooonitoujwmhptiioetlgarcllmirwmineinaliepcnahgetriendnoeipgtrnuhfrtsenricnouist'"
      ]
     },
     "execution_count": 20,
     "metadata": {},
     "output_type": "execute_result"
    }
   ],
   "source": [
    "ccb = caesar_decipher(scb, kcb)\n",
    "ccb"
   ]
  },
  {
   "cell_type": "code",
   "execution_count": 21,
   "metadata": {},
   "outputs": [
    {
     "data": {
      "text/plain": [
       "(((1, 5, 4, 0, 3, 6, 2), False, False), -4551.751064338015)"
      ]
     },
     "execution_count": 21,
     "metadata": {},
     "output_type": "execute_result"
    }
   ],
   "source": [
    "(kwordb, fillb, emptyb), score = column_transposition_break_mp(ccb, fitness=Ptrigrams)\n",
    "(kwordb, fillb, emptyb), score"
   ]
  },
  {
   "cell_type": "code",
   "execution_count": 22,
   "metadata": {},
   "outputs": [
    {
     "data": {
      "text/plain": [
       "'reportonoperationgunnersidefromswallowafterrecoveringsuppliesfromthemissioncontainerdropsronnenbergsteamsetouttojoinupwithswallowthetwoteamsmetafterseveraldaysofcrosscountryskiingandthepartymadeitswaytovemorkwhilepatrolshadreducedfromthehighfrequencythatthewehrmachtestablishedfollowingoperationfreshmanthebridgespanningtheravineoverthemanaremainedfullyguardedandthecommandogroupfeltthatadirectassaultwouldbeunproductiveitwasdecidedthatateamshoulddescendtwohundredmetersintotheravinefordtheriverbelowandclimbthehillonthefarsideonreachingtheriverbeditwasfoundtobepossibletofollowasingletrackgoodsrailwayintotheplantandtheentrywascarriedoutwithoutencounteringanyguardsthelocalbossagentintheplantsupplieddetailedplansandschedulesandtheraidingpartyusedthattogainfurtheraccessviaacabletunnelandwindowencounteringonlythecaretakerjohansenwhoasapatrioticnorwegianwasmorethanwillingtocooperatethesappersplacedmineswithtimedfusesontheelectrolysischambersasplannedtheyalsoleftathompsonsubmachinegunatthescenetoprovethatthiswasanattackbybritishforceshopefullythatwillpreventreprisalsagainstthelocalstheexplosivechargesdetonateddestroyingtheelectrolysisequipmentandtheadjacentstoragechambersthecombinedteamwillnowsplitupintothreegroupsteamaisheadingouttoswedenforexfiltrationteambwillheadtooslotojoinupwithmilorgteamcwillremaininplaceintheregionpendingfurtherinstructions'"
      ]
     },
     "execution_count": 22,
     "metadata": {},
     "output_type": "execute_result"
    }
   ],
   "source": [
    "pb = column_transposition_decipher(ccb, kwordb, fillcolumnwise=fillb, emptycolumnwise=emptyb)\n",
    "pb"
   ]
  },
  {
   "cell_type": "code",
   "execution_count": 23,
   "metadata": {},
   "outputs": [
    {
     "name": "stdout",
     "output_type": "stream",
     "text": [
      "report on operation gunner side from swallow after recovering supplies from the mission container\n",
      "drops ronn enberg steam set out to join up with swallow the two teams met after several days of\n",
      "crosscountry skiing and the party made its way to ve mork while patrols had reduced from the high\n",
      "frequency that the wehrmacht established following operation freshman the bridge spanning the ravine\n",
      "over the man a remained fully guarded and the commando group felt that a direct assault would be\n",
      "unproductive it was decided that a team should descend two hundred meters into the ravine ford the\n",
      "river below and climb the hill on the farside on reaching the riverbed it was found to be possible\n",
      "to follow a singletrack goods railway into the plant and the entry was carried out without\n",
      "encountering any guards the local boss agent in the plant supplied detailed plans and schedules and\n",
      "the raiding party used that to gain further access via a cable tunnel and window encountering only\n",
      "the caretaker johansen who as a patriotic norwegian was more than willing to cooperate the sappers\n",
      "placed mines with timed fuses on the electrolysis chambers as planned they also left a thompson sub\n",
      "machinegun at the scene to prove that this was an attack by british forces hopefully that will\n",
      "prevent reprisals against the locals the explosive charges detonated destroying the electrolysis\n",
      "equipment and the adjacent storage chambers the combined team will now split up into three groups\n",
      "team a is heading out to sweden for exfiltration team b will head to oslo to join up with mil org\n",
      "team c will remain in place in the region pending further instructions\n"
     ]
    }
   ],
   "source": [
    "fpb = lcat(tpack(segment(pb)))\n",
    "print(fpb)"
   ]
  },
  {
   "cell_type": "code",
   "execution_count": 24,
   "metadata": {},
   "outputs": [
    {
     "data": {
      "text/plain": [
       "1635"
      ]
     },
     "execution_count": 24,
     "metadata": {},
     "output_type": "execute_result"
    }
   ],
   "source": [
    "open(plaintext_b_filename, 'w').write(fpb)"
   ]
  },
  {
   "cell_type": "code",
   "execution_count": 25,
   "metadata": {},
   "outputs": [
    {
     "data": {
      "text/plain": [
       "['hatreds',\n",
       " 'lauries',\n",
       " 'patrols',\n",
       " 'patrons',\n",
       " 'petrols',\n",
       " 'fatheads',\n",
       " 'lawmaker',\n",
       " 'occupier',\n",
       " 'occupies',\n",
       " 'patricas',\n",
       " 'payrolls',\n",
       " 'odourless',\n",
       " 'patricias',\n",
       " 'petrifies']"
      ]
     },
     "execution_count": 25,
     "metadata": {},
     "output_type": "execute_result"
    }
   ],
   "source": [
    "transpositions[kwordb]"
   ]
  },
  {
   "cell_type": "code",
   "execution_count": null,
   "metadata": {},
   "outputs": [],
   "source": []
  }
 ],
 "metadata": {
  "jupytext": {
   "formats": "ipynb,md"
  },
  "kernelspec": {
   "display_name": "Python 3",
   "language": "python",
   "name": "python3"
  },
  "language_info": {
   "codemirror_mode": {
    "name": "ipython",
    "version": 3
   },
   "file_extension": ".py",
   "mimetype": "text/x-python",
   "name": "python",
   "nbconvert_exporter": "python",
   "pygments_lexer": "ipython3",
   "version": "3.7.4"
  }
 },
 "nbformat": 4,
 "nbformat_minor": 4
}
