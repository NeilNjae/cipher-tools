{
 "cells": [
  {
   "cell_type": "code",
   "execution_count": 1,
   "metadata": {},
   "outputs": [],
   "source": [
    "import os,sys,inspect\n",
    "currentdir = os.path.dirname(os.path.abspath(inspect.getfile(inspect.currentframe())))\n",
    "parentdir = os.path.dirname(currentdir)\n",
    "sys.path.insert(0,parentdir) "
   ]
  },
  {
   "cell_type": "code",
   "execution_count": 18,
   "metadata": {},
   "outputs": [],
   "source": [
    "from cipher.caesar import *\n",
    "from cipher.affine import *\n",
    "from cipher.keyword_cipher import *\n",
    "from cipher.column_transposition import *\n",
    "\n",
    "from support.text_prettify import *\n",
    "from support.utilities import *\n",
    "from support.plot_frequency_histogram import *\n",
    "%matplotlib inline"
   ]
  },
  {
   "cell_type": "code",
   "execution_count": 3,
   "metadata": {},
   "outputs": [],
   "source": [
    "challenge_number = 5\n",
    "plaintext_a_filename = f'{challenge_number}a.plaintext'\n",
    "plaintext_b_filename = f'{challenge_number}b.plaintext'\n",
    "ciphertext_a_filename = f'{challenge_number}a.ciphertext'\n",
    "ciphertext_b_filename = f'{challenge_number}b.ciphertext'"
   ]
  },
  {
   "cell_type": "code",
   "execution_count": 4,
   "metadata": {},
   "outputs": [],
   "source": [
    "ca = open(ciphertext_a_filename).read()\n",
    "cb = open(ciphertext_b_filename).read()\n",
    "\n",
    "sca = sanitise(ca)\n",
    "pca = letters(ca)\n",
    "pta = depunctuate(ca)\n",
    "\n",
    "scb = sanitise(cb)\n",
    "pcb = letters(cb)\n",
    "ptb = depunctuate(cb)"
   ]
  },
  {
   "cell_type": "code",
   "execution_count": 9,
   "metadata": {},
   "outputs": [
    {
     "data": {
      "image/png": "[encoded data removed]",
      "text/plain": [
       "<Figure size 432x288 with 1 Axes>"
      ]
     },
     "metadata": {
      "needs_background": "light"
     },
     "output_type": "display_data"
    }
   ],
   "source": [
    "fc = collections.Counter(sca)\n",
    "plot_frequency_histogram(fc, sort_key=fc.get)"
   ]
  },
  {
   "cell_type": "code",
   "execution_count": 5,
   "metadata": {},
   "outputs": [
    {
     "data": {
      "text/plain": [
       "14"
      ]
     },
     "execution_count": 5,
     "metadata": {},
     "output_type": "execute_result"
    }
   ],
   "source": [
    "kshifta, score = caesar_break(sca, fitness=Ptrigrams)\n",
    "kshifta"
   ]
  },
  {
   "cell_type": "code",
   "execution_count": 6,
   "metadata": {},
   "outputs": [
    {
     "name": "stdout",
     "output_type": "stream",
     "text": [
      "foodhoaihbfxkpdnfeeadlnoijxihofxonahozdmldhxzgahanolvimflgfgdhonnfvviptaeeqdolfrdeeahyoihiltfvnoijgannaihoiolfhnjilohilnczvslinoixcimzdfrvtfodloifnfmdeixfoaihnoijzfllvfncdsgdoiimmdlvipiplnpjjilonoijqinnahodeeaydhxdldjilonnpyydnoozfoozdydlgfhgaeaoflvfldxeindevgihaoilahyfeeqifonfhsmeayzonahfhsipoimhiltfvnoijnpyydnonjeaooahyxflyinoijxaraeafhmeayzonfenilancvnoijlfmzfrdimmdldsfjefhdnoijtaeexihofxoviprafozddgqfnnvnoijiozdlxiggphaxfoaihxzfhhdenahndxpldnoijsihioldjevoiozanodedylfggdnnfyddhsn\n"
     ]
    }
   ],
   "source": [
    "pa = caesar_decipher(sca, kshifta)\n",
    "print(pa)"
   ]
  },
  {
   "cell_type": "code",
   "execution_count": 10,
   "metadata": {},
   "outputs": [
    {
     "data": {
      "text/plain": [
       "('telegram', <KeywordWrapAlphabet.from_last: 2>)"
      ]
     },
     "execution_count": 10,
     "metadata": {},
     "output_type": "execute_result"
    }
   ],
   "source": [
    "(kworda, kwrapa), score = keyword_break_mp(sca, fitness=Ptrigrams)\n",
    "kworda, kwrapa"
   ]
  },
  {
   "cell_type": "code",
   "execution_count": 11,
   "metadata": {},
   "outputs": [
    {
     "name": "stdout",
     "output_type": "stream",
     "text": [
      "attentionjacquesallierstopcontactsinthefrenchministryofarmamentssayyouwillbetravellingtonorwaystopmissiontotransportnorskhydrostockofheavywatertoasafelocationstopharryaskedmetoofferyouoursupportstopbossintelligencereportssuggestthatthegermanmilitaryarecloselymonitoringallboatsandflightsinandoutofnorwaystopsuggestsplittingcargostopcivilianflightsalsoriskystoprafhaveofferedaplanestopwillcontactyouviatheembassystopothercommunicationchannelsinsecurestopdonotreplytothistelegrammessageends\n"
     ]
    }
   ],
   "source": [
    "pa = keyword_decipher(sca, kworda, kwrapa)\n",
    "print(pa)"
   ]
  },
  {
   "cell_type": "code",
   "execution_count": 12,
   "metadata": {},
   "outputs": [
    {
     "name": "stdout",
     "output_type": "stream",
     "text": [
      "attention jacques allier stop contacts in the french ministry of armaments say you will be\n",
      "travelling to norway stop mission to transport norsk hydro stock of heavy water to a safe locations\n",
      "top harry asked me to offer you our support stop boss intelligence reports suggest that the german\n",
      "military are closely monitoring all boats and flights in and out of norway stop suggest splitting\n",
      "cargo stop civilian flights also risky stop raf have offered a planes top will contact you via the\n",
      "embassy stop other communication channels insecure stop do not reply to this telegram message ends\n"
     ]
    }
   ],
   "source": [
    "fpa = lcat(tpack(segment(pa)))\n",
    "print(fpa)"
   ]
  },
  {
   "cell_type": "code",
   "execution_count": 13,
   "metadata": {},
   "outputs": [
    {
     "data": {
      "text/plain": [
       "585"
      ]
     },
     "execution_count": 13,
     "metadata": {},
     "output_type": "execute_result"
    }
   ],
   "source": [
    "open(plaintext_a_filename, 'w').write(fpa)"
   ]
  },
  {
   "cell_type": "code",
   "execution_count": 14,
   "metadata": {},
   "outputs": [
    {
     "data": {
      "image/png": "[encoded data removed]",
      "text/plain": [
       "<Figure size 432x288 with 1 Axes>"
      ]
     },
     "metadata": {
      "needs_background": "light"
     },
     "output_type": "display_data"
    }
   ],
   "source": [
    "fc = collections.Counter(scb)\n",
    "plot_frequency_histogram(fc, sort_key=fc.get)"
   ]
  },
  {
   "cell_type": "code",
   "execution_count": 16,
   "metadata": {},
   "outputs": [
    {
     "data": {
      "text/plain": [
       "'\\nf ryain lyelA ivmbe odahe swrwh cmoum eeirn ortdt eoier ndnes iutos grtao setth cnsca eoeig tanel aubyh rweeb utumt teieu rsaDo mflkr oigge yhitd rdaen hndue nuron odkoa ocfde talsh nhatd etaph ltnth gahdi oswea rcroo ddufn otnni asnat irari domkr dHsyh ooetN eotik naurn kbitj nsRau ngreh tOihm otiko wnfey ahrci gaowo thwao ontnk tbdwu erNyw oaeoe alvds tieti luelr heAat tsoli sbttp iIsva iitso shfet ueorp pnwhg ittio sshdo xsreo tcrne fruta baeci rrsag esnta phset meiem hdaet srtno audaf lneir dvreh naaed FRapA latnt harpd toeli edera hfier sntat trOea ugchy ietmh tiinc rfeao ditnn oucfl odute tbwle hifge shdst aeidh mhdha tthme oswko lhcoi etnsS uniiq rhree trsfu teFmh iaenr gtofm smnsi ieasw maeln risno ldaAc hgaer nitog fswsn aohte etrie utdba shrec eedar nieht dtosd abrgr teanr buguO oemHt aphnl eaict ntgdr eiert gdahn etifh ltegi pntic enrwe hidtt akass fwwfa eLhtu efapt nltmr etoht Wfear egyaH vrpnt oirss atnha aetwn thgit sScpu ecttk iensr geeat sphae tirhw taeom gtmde srmoA tlooS hctkf hmrto fngla iagom rskeo idlue rnhdn onduo ogrfo aaorc raasf cpeac dshee yrphu onarN wiWil heees nmtsh vmion tngio edrpr oignm haoln wlitw ohifr hdgae escrw egnte Anjna uRkap inltt ecrci rylod etnhh gesvi iitlo edubt hwhae iitot npssp uooge tthal ndeio ttipn tsata hhsea sryko dHrNo sofrm ltods oteni hngai asitr shoto thwad ohsrs dacrn esasB yadiP essee rPdaa eunBq aehtd twako drilh elrso Aluyr yiePv orarN wteos nfolm cdure eatvc ushra dvpte obsrs oehna edwwl aeodm hlfio hteao vnrdg aeWnr etaom arpti tinhg sieon mlvdv oeaun swiue arBex emiue toDhf emmrb eeila elruc Aeqsa tathJ stwhs oarnm meytA orfih snMir eceFn ofhmr tfrcf aiagt lnsoi ifssa Aslny'"
      ]
     },
     "execution_count": 16,
     "metadata": {},
     "output_type": "execute_result"
    }
   ],
   "source": [
    "rscb = cat(reversed(cb))\n",
    "rscb"
   ]
  },
  {
   "cell_type": "code",
   "execution_count": 21,
   "metadata": {},
   "outputs": [
    {
     "data": {
      "text/plain": [
       "(((4, 1, 3, 5, 0, 2), False, False), -4695.301044758612)"
      ]
     },
     "execution_count": 21,
     "metadata": {},
     "output_type": "execute_result"
    }
   ],
   "source": [
    "(kwordb, fillb, emptyb), score = column_transposition_break_mp(scb, fitness=Ptrigrams)\n",
    "(kwordb, fillb, emptyb), score"
   ]
  },
  {
   "cell_type": "code",
   "execution_count": 23,
   "metadata": {},
   "outputs": [
    {
     "data": {
      "text/plain": [
       "'analysisofsignalstrafficfromthefrenchministryofarmamentsshowthatjacquesallieramemberofthedeuxiemebureauwasinvolvedinsomethingimportantwearrangedtohavehimfollowedandhewasobservedtopurchasetraveldocumentsfornorwaypreviouslyallierhadworkedatthebanquedeparisdespaysbasandrecordsshowthatthisorganisationheldmostofnorskhydrossharesatthatpointleadingtothesuppositionthathewouldbevisitingthehydroelectricplantinrjukanagentswerechargedwithfollowinghimandreportingonhismovementswhileinnorwayhepurchasedspaceforacargoofaroundonehundredkilogramsonaflightfromstockholmtoamsterdamtogetherwithapassengerticketsuspectingthathewastransportingheavywaterfromtheplanttheluftwaffewastaskedwithinterceptingtheflightandredirectingtheplanetohamburgouragentsboardeditthereandsearcheditbuttherewasnosignofthecargoandalliersnamewasmissingfromthemanifestfurtherenquiriesinstockholmshowedthathehadmissedtheflightbutwecouldfindnotraceofhiminthecityouragentsattheairfieldreportedthatanrafplanehadarrivedandleftaroundthesametimeasthepassengeraircraftbutnorecordsexistshowingthepurposeofthatvisititispossiblethatallierusedittoleavenorwaybutwedonotknowwhatcargoifanyhetookwithhimouragentsinrjukanbrokeintothenorskhydroadministrationandfoundarecordshowingthattheplanthadheldastockofaroundonehundredandeightykilogramsofdeuteriumbuttheywereunabletogainaccesstothestorageunitsinordertodeterminehowmuchwasremovedbyallierifany'"
      ]
     },
     "execution_count": 23,
     "metadata": {},
     "output_type": "execute_result"
    }
   ],
   "source": [
    "pb = column_transposition_decipher(scb, kwordb, fillcolumnwise=fillb, emptycolumnwise=emptyb)\n",
    "pb"
   ]
  },
  {
   "cell_type": "code",
   "execution_count": 24,
   "metadata": {},
   "outputs": [
    {
     "name": "stdout",
     "output_type": "stream",
     "text": [
      "analysis of signals traffic from the french ministry of armaments show that jacques allier a member\n",
      "of the deuxieme bureau was involved in something important we arranged to have him followed and he\n",
      "was observed to purchase travel documents for norway previously allier had worked at the banque de\n",
      "paris des pays bas and records show that this organisation held most of norsk hydros shares at that\n",
      "point leading to the supposition that he would be visiting the hydroelectric plant in rj uk an\n",
      "agents were charged with following him and reporting on his movements while in norway he purchased\n",
      "space for a cargo of around one hundred kilograms on a flight from stockholm to amsterdam together\n",
      "with a passenger ticket suspecting that he was transporting heavy water from the plant the luftwaffe\n",
      "was tasked with intercepting the flight and redirecting the plane to hamburg our agents board edit\n",
      "there and search edit but there was no sign of the cargo and all iers name was missing from the\n",
      "manifest further enquiries in stockholm showed that he had missed the flight but we could find not\n",
      "race of him in the city our agents at the airfield reported that an raf plane had arrived and left\n",
      "around the same time as the passenger aircraft but no records exist showing the purpose of that\n",
      "visit it is possible that allier used it to leave norway but we do not know what cargo if any he\n",
      "took with him our agents in rj uk an broke into the norsk hydro administration and found a record\n",
      "showing that the plant had held a stock of around one hundred and eighty kilograms of deuterium but\n",
      "they were unable to gain access to the storage units in order to determine how much was removed by\n",
      "allier if any\n"
     ]
    }
   ],
   "source": [
    "fpb = lcat(tpack(segment(pb)))\n",
    "print(fpb)"
   ]
  },
  {
   "cell_type": "code",
   "execution_count": 25,
   "metadata": {},
   "outputs": [
    {
     "data": {
      "text/plain": [
       "1688"
      ]
     },
     "execution_count": 25,
     "metadata": {},
     "output_type": "execute_result"
    }
   ],
   "source": [
    "open(plaintext_b_filename, 'w').write(fpb)"
   ]
  },
  {
   "cell_type": "code",
   "execution_count": 26,
   "metadata": {},
   "outputs": [
    {
     "data": {
      "text/plain": [
       "['menial',\n",
       " 'pitman',\n",
       " 'shtick',\n",
       " 'thules',\n",
       " 'thumbs',\n",
       " 'thymes',\n",
       " 'merrick',\n",
       " 'pepsico',\n",
       " 'pittman',\n",
       " 'reticle',\n",
       " 'retrial',\n",
       " 'revival',\n",
       " 'shticks',\n",
       " 'skulker',\n",
       " 'skylark',\n",
       " 'slummer',\n",
       " 'titular',\n",
       " 'toupees',\n",
       " 'tourist',\n",
       " 'reticent',\n",
       " 'skylarks',\n",
       " 'tourists',\n",
       " 'reticence']"
      ]
     },
     "execution_count": 26,
     "metadata": {},
     "output_type": "execute_result"
    }
   ],
   "source": [
    "transpositions[kwordb]"
   ]
  },
  {
   "cell_type": "code",
   "execution_count": null,
   "metadata": {},
   "outputs": [],
   "source": []
  }
 ],
 "metadata": {
  "jupytext": {
   "formats": "ipynb,md"
  },
  "kernelspec": {
   "display_name": "Python 3",
   "language": "python",
   "name": "python3"
  },
  "language_info": {
   "codemirror_mode": {
    "name": "ipython",
    "version": 3
   },
   "file_extension": ".py",
   "mimetype": "text/x-python",
   "name": "python",
   "nbconvert_exporter": "python",
   "pygments_lexer": "ipython3",
   "version": "3.7.4"
  }
 },
 "nbformat": 4,
 "nbformat_minor": 4
}
