{
 "cells": [
  {
   "cell_type": "code",
   "execution_count": 1,
   "metadata": {},
   "outputs": [],
   "source": [
    "import os,sys,inspect\n",
    "currentdir = os.path.dirname(os.path.abspath(inspect.getfile(inspect.currentframe())))\n",
    "parentdir = os.path.dirname(currentdir)\n",
    "sys.path.insert(0,parentdir) "
   ]
  },
  {
   "cell_type": "code",
   "execution_count": 2,
   "metadata": {},
   "outputs": [],
   "source": [
    "from cipher.caesar import *\n",
    "from cipher.affine import *\n",
    "from cipher.keyword_cipher import *\n",
    "from cipher.column_transposition import *\n",
    "from cipher.vigenere import *\n",
    "\n",
    "from support.text_prettify import *\n",
    "from support.utilities import *\n",
    "from support.plot_frequency_histogram import *\n",
    "%matplotlib inline"
   ]
  },
  {
   "cell_type": "code",
   "execution_count": 3,
   "metadata": {},
   "outputs": [],
   "source": [
    "challenge_number = 8\n",
    "plaintext_a_filename = f'{challenge_number}a.plaintext'\n",
    "plaintext_b_filename = f'{challenge_number}b.plaintext'\n",
    "ciphertext_a_filename = f'{challenge_number}a.ciphertext'\n",
    "ciphertext_b_filename = f'{challenge_number}b.ciphertext'"
   ]
  },
  {
   "cell_type": "code",
   "execution_count": 4,
   "metadata": {},
   "outputs": [],
   "source": [
    "ca = open(ciphertext_a_filename).read()\n",
    "cb = open(ciphertext_b_filename).read()\n",
    "\n",
    "sca = sanitise(ca)\n",
    "pca = letters(ca)\n",
    "pta = depunctuate(ca)\n",
    "\n",
    "scb = sanitise(cb)\n",
    "pcb = letters(cb)\n",
    "ptb = depunctuate(cb)"
   ]
  },
  {
   "cell_type": "code",
   "execution_count": 5,
   "metadata": {},
   "outputs": [
    {
     "name": "stderr",
     "output_type": "stream",
     "text": [
      "/home/neil/Programming/cipher-tools/support/plot_frequency_histogram.py:11: UserWarning: Matplotlib is currently using module://ipykernel.pylab.backend_inline, which is a non-GUI backend, so cannot show the figure.\n",
      "  f.show()\n"
     ]
    },
    {
     "data": {
      "image/png": "[encoded data removed]",
      "text/plain": [
       "<Figure size 432x288 with 1 Axes>"
      ]
     },
     "metadata": {
      "needs_background": "light"
     },
     "output_type": "display_data"
    }
   ],
   "source": [
    "fc = collections.Counter(sca)\n",
    "plot_frequency_histogram(fc, sort_key=fc.get)"
   ]
  },
  {
   "cell_type": "code",
   "execution_count": 6,
   "metadata": {},
   "outputs": [
    {
     "data": {
      "text/plain": [
       "'low'"
      ]
     },
     "execution_count": 6,
     "metadata": {},
     "output_type": "execute_result"
    }
   ],
   "source": [
    "kworda, score = vigenere_frequency_break(sca, fitness=Ptrigrams)\n",
    "kworda"
   ]
  },
  {
   "cell_type": "code",
   "execution_count": 8,
   "metadata": {},
   "outputs": [
    {
     "data": {
      "text/plain": [
       "'harrywemanagedtotapthephonelinesinosloandinterceptedgermanmilitarypolicereportstothessheadquarterstheyestablishedthatthegunnersideoperationwaseffectiveinwipingouttheexistingstocksofheavywaterbutthatthenaziengineerswereabletorestartproductionthiswasconfirmedincommunicationssmuggledoutoftheplantbyjomarbrunandeinnarskinnerlandthechiefengineeranddesigneroftheplantwhoarestillworkingthereassoeagentstheinformationwassenttointelligenceheadquartersinlondonintoothpastetubesusingacipherdevelopedforbossbyleomarksthisintelligencewaspassedtousaafwhostartedtodevelopaplantobombtheplantrunningtheriskofsignificantcivilianlossesluckilyoneofourbossofficialsspottedthemaponthewallofabriefingroomduringaprotocolvisitandrealisedwhatitwasheflaggedtheoperationandgotmeinvolvediwasabletocontactswallowviatheoslobranchofmilorgandwehavebeenworkingtogetherwithusaaftorefinethemissiondespitetheriskstheyagreedtoadaylightraidinthehopethattheaddedaccuracywouldreducenorwegiancasualtiesunfortunatelytheraidwasamixedsuccessasyoucanseefromtheattachedreportitisdoubleencryptedagainbutwasalottoughertocracktheyhaveusedanaffineshiftforthesubstitutionphasebeforeusingthesamesortoftranspositiontakealookandletmeknowwhatyouthinkmeanwhileiwilltrytocontactronnenbergtoseewhathewantstodonextgiventheneedtoprotectournetworkiwillincreasethekeylengthformymessagetoyounextweektoatleastsix'"
      ]
     },
     "execution_count": 8,
     "metadata": {},
     "output_type": "execute_result"
    }
   ],
   "source": [
    "pa = vigenere_decipher(sca, kworda)\n",
    "pa"
   ]
  },
  {
   "cell_type": "code",
   "execution_count": 9,
   "metadata": {},
   "outputs": [
    {
     "name": "stdout",
     "output_type": "stream",
     "text": [
      "harry we managed to tap the phone lines in oslo and intercepted german military police reports to\n",
      "the ss headquarters they established that the gunner side operation was effective in wiping out the\n",
      "existing stocks of heavy water but that the nazi engineers were able to restart production this was\n",
      "confirmed in communications smuggled out of the plant by jomar brun and e in nar skinner land the\n",
      "chief engineer and designer of the plant who are still working there as soe agents the information\n",
      "was sent to intelligence headquarters in london in toothpaste tubes using a cipher developed for\n",
      "boss by leo marks this intelligence was passed to usaaf who started to develop a plan to bomb the\n",
      "plant running the risk of significant civilian losses luckily one of our boss officials spotted the\n",
      "map on the wall of a briefing room during a protocol visit and realised what it was he flagged the\n",
      "operation and got me involved i was able to contact swallow via the oslo branch of mil org and we\n",
      "have been working together with usaaf to refine the mission despite the risks they agreed to a\n",
      "daylight raid in the hope that the added accuracy would reduce norwegian casualties unfortunately\n",
      "the raid was a mixed success as you can see from the attached report it is double encrypted again\n",
      "but was alot tougher to crack they have used an affine shift for the substitution phase before using\n",
      "the same sort of transposition take a look and let me know what you think meanwhile i will try to\n",
      "contact ronn enberg to see what he wants to do next given the need to protect our network i will\n",
      "increase the key length for my message to you next week to atleast six\n"
     ]
    }
   ],
   "source": [
    "fpa = lcat(tpack(segment(pa)))\n",
    "print(fpa)"
   ]
  },
  {
   "cell_type": "code",
   "execution_count": 10,
   "metadata": {},
   "outputs": [
    {
     "data": {
      "text/plain": [
       "1644"
      ]
     },
     "execution_count": 10,
     "metadata": {},
     "output_type": "execute_result"
    }
   ],
   "source": [
    "open(plaintext_a_filename, 'w').write(fpa)"
   ]
  },
  {
   "cell_type": "code",
   "execution_count": 16,
   "metadata": {},
   "outputs": [
    {
     "data": {
      "image/png": "[encoded data removed]",
      "text/plain": [
       "<Figure size 432x288 with 1 Axes>"
      ]
     },
     "metadata": {
      "needs_background": "light"
     },
     "output_type": "display_data"
    }
   ],
   "source": [
    "fc = collections.Counter(scb)\n",
    "plot_frequency_histogram(fc, sort_key=fc.get)"
   ]
  },
  {
   "cell_type": "code",
   "execution_count": 12,
   "metadata": {},
   "outputs": [
    {
     "data": {
      "text/plain": [
       "(11, 5, True)"
      ]
     },
     "execution_count": 12,
     "metadata": {},
     "output_type": "execute_result"
    }
   ],
   "source": [
    "(kmb, kab, kob), score = affine_break(scb, fitness=Pletters)\n",
    "kmb, kab, kob"
   ]
  },
  {
   "cell_type": "code",
   "execution_count": 13,
   "metadata": {},
   "outputs": [
    {
     "data": {
      "text/plain": [
       "'etmhbnboiagoriendvrmaokaswciroredudtiudrnlagyhingtvnoobesmetirxnetetahheatstcaqkuodornincsisotnhfgttinreapelsnlesiiptonottogwrsucpeahamnkwiguotronhsnaetterwgtchsiphaapdreebthoeoetnkrdshpryoeotwriastaotnnnhderietaaptltnethiermsltetehoetaesttahtkascwtnaorfeoenesnwoirantsirtpecdteeabcyieorvnrladflaoetthakatcgirnaacirsfmtehteoeatvrnuerfemdretohsmoisynieieewtesnstsesaatthntrittmeintletdocuvcaoeeprpeaordsdtiprhuttetactuakhtbtaermjyiottoefhlxepiossvoaerduintyrhtnteosdrweprdoptweiehhvrhiygcaacuocryhniteatnrptnelntaotltywhooternetisohhtoterwpeasottnniahdetefirncosreutdrucwtrhietosttowhdesofrtetohsalsahtutoesbmifbadldetaaomtgrehueebtiuldrteemieuercltyoslscfiaiialtonydnusrectwookesfyahvtwwaeeerropcrtdteetbsyheeevtnesooyrseffriconrcecdotrnebeeaowhvoeehvroetprwaepinltethslbafsnemedeaagndhadsitsoercndaditopnhnleaaterihsstoeipslbsiyiattuthonrieehemseaevasngtrwnokigiwitthndiincissunisotwfihcfoilirasdofmaiheliecmesrtnpoguhibtanesecdeeihddttafthiaectlhiylosuedubsothdewsnxntiitgksofscoahweveaytnroadstpausyimodhrdxiieblwlhepsitepdhortebliaaorrtsioedannmauafucntragiflciiiietsenagrfnmyfotrurhrerehninmcentxadrpeeeiamnottiinngvetehsrfikclooeailsaopnwgieenlwldesetniogiinfcytalhecnaeensrcyuirftoitphsaeorotiinlnfawlhyelosuodtnttheaetthakatclkdiletewynetornnogwneivcaiiislaitnhsslivbuaaplperaaoganddaronueasgneatridtonihgeerhbseetrdalnidonntonnorseuhettanhtewoirepagnuotplniaodusnentrawdishosotabflmtoersheeelendseasdsteh'"
      ]
     },
     "execution_count": 13,
     "metadata": {},
     "output_type": "execute_result"
    }
   ],
   "source": [
    "acb = affine_decipher(scb, kmb, kab, kob)\n",
    "acb"
   ]
  },
  {
   "cell_type": "code",
   "execution_count": 14,
   "metadata": {},
   "outputs": [
    {
     "data": {
      "text/plain": [
       "(((2, 0, 5, 1, 3, 8, 6, 4, 7), False, False), -4688.2791775857195)"
      ]
     },
     "execution_count": 14,
     "metadata": {},
     "output_type": "execute_result"
    }
   ],
   "source": [
    "(kwordb, fillb, emptyb), score = column_transposition_break_mp(acb, fitness=Ptrigrams)\n",
    "(kwordb, fillb, emptyb), score"
   ]
  },
  {
   "cell_type": "code",
   "execution_count": 15,
   "metadata": {},
   "outputs": [
    {
     "data": {
      "text/plain": [
       "'thebombingraidonvemorkwascarriedoutduringdaylightonnovembersixteenththeattacksquadronconsistingofthirteenplanessplitintotwogroupseachmakingtworunsonthetargetswhichappearedtobethenorskhydropowerstationandthenitrateplantthreemilestotheeasttheattackwasnotforeseennorwasitinterceptedbyaircoverandalloftheattackingaircraftseemtohavereturnedfromthemissioneyewitnessesstatethatintermittentcloudcoverappearedtodisrupttheattackbutthemajorityoftheexplosivesaroundthirtytonsweredroppedwithveryhighaccuracyonthenitrateplantonlytwotothreetonshitthepowerstationandthereinforcedstructurewithstoodtheworstoftheassaultthebombsfailedtodamagetherebuiltdeuteriumelectrolysisfacilityandournewstocksofheavywaterwereprotectedbythesevenstoreysofreinforcedconcreteabovehoweverthepowerplantitselfhasbeendamagedandthissecondraidontheplantraisesthepossibilitythatourenemieshaveagentsworkingwithinitindiscussionwithofficialsfromdiealchemistengroupithasbeendecidedthatthefacilityshouldbeshutdownexistingstocksofheavywaterandpotassiumhydroxidewillbeshippedtotheirlaboratoriesandmanufacturingfacilitiesingermanyforfurtherenrichmentandexperimentationgiventheriskoflocalespionagewewillneedtosignificantlyenhancesecurityforthisoperationfinallyweshouldnotethattheattackkilledtwentyonenorwegianciviliansthisisvaluablepropagandaandouragentsaredoingtheirbesthereandinlondontoensurethatthenorwegianpopulationunderstandswhoistoblamefortheseneedlessdeaths'"
      ]
     },
     "execution_count": 15,
     "metadata": {},
     "output_type": "execute_result"
    }
   ],
   "source": [
    "pb = column_transposition_decipher(acb, kwordb, fillcolumnwise=fillb, emptycolumnwise=emptyb)\n",
    "pb"
   ]
  },
  {
   "cell_type": "code",
   "execution_count": 16,
   "metadata": {},
   "outputs": [
    {
     "name": "stdout",
     "output_type": "stream",
     "text": [
      "the bombing raid on ve mork was carried out during daylight on november sixteenth the attack\n",
      "squadron consisting of thirteen planes split into two groups each making two runs on the targets\n",
      "which appeared to be the norsk hydropower station and the nitrate plant three miles to the east the\n",
      "attack was not foreseen nor was it intercepted by air cover and all of the attacking aircraft seem\n",
      "to have returned from the mission eyewitnesses state that intermittent cloud cover appeared to\n",
      "disrupt the attack but the majority of the explosives around thirty tons were dropped with very high\n",
      "accuracy on the nitrate plant only two to three tons hit the powerstation and the reinforced\n",
      "structure withstood the worst of the assault the bombs failed to damage the rebuilt deuterium\n",
      "electrolysis facility and our new stocks of heavy water were protected by the seven storeys of\n",
      "reinforced concrete above however the powerplant itself has been damaged and this second raid on the\n",
      "plant raises the possibility that our enemies have agents working within it in discussion with\n",
      "officials from die alchemist en group it has been decided that the facility should be shutdown\n",
      "existing stocks of heavy water and potassium hydroxide will be shipped to their laboratories and\n",
      "manufacturing facilities in germany for further enrichment and experimentation given the risk of\n",
      "local espionage we will need to significantly enhance security for this operation finally we should\n",
      "note that the attack killed twentyone norwegian civilians this is valuable propaganda and our agents\n",
      "are doing their best here and in london to ensure that the norwegian population understands who is\n",
      "to blame for these needless deaths\n"
     ]
    }
   ],
   "source": [
    "fpb = lcat(tpack(segment(pb)))\n",
    "print(fpb)"
   ]
  },
  {
   "cell_type": "code",
   "execution_count": 17,
   "metadata": {},
   "outputs": [
    {
     "data": {
      "text/plain": [
       "1686"
      ]
     },
     "execution_count": 17,
     "metadata": {},
     "output_type": "execute_result"
    }
   ],
   "source": [
    "open(plaintext_b_filename, 'w').write(fpb)"
   ]
  },
  {
   "cell_type": "code",
   "execution_count": 18,
   "metadata": {},
   "outputs": [
    {
     "data": {
      "text/plain": [
       "['clampdown']"
      ]
     },
     "execution_count": 18,
     "metadata": {},
     "output_type": "execute_result"
    }
   ],
   "source": [
    "transpositions[kwordb]"
   ]
  },
  {
   "cell_type": "code",
   "execution_count": null,
   "metadata": {},
   "outputs": [],
   "source": []
  }
 ],
 "metadata": {
  "jupytext": {
   "formats": "ipynb,md"
  },
  "kernelspec": {
   "display_name": "Python 3",
   "language": "python",
   "name": "python3"
  },
  "language_info": {
   "codemirror_mode": {
    "name": "ipython",
    "version": 3
   },
   "file_extension": ".py",
   "mimetype": "text/x-python",
   "name": "python",
   "nbconvert_exporter": "python",
   "pygments_lexer": "ipython3",
   "version": "3.7.4"
  }
 },
 "nbformat": 4,
 "nbformat_minor": 4
}
