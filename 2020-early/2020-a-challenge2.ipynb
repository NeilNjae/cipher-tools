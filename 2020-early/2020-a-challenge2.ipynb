{
 "cells": [
  {
   "cell_type": "code",
   "execution_count": 1,
   "metadata": {},
   "outputs": [],
   "source": [
    "import os,sys,inspect\n",
    "currentdir = os.path.dirname(os.path.abspath(inspect.getfile(inspect.currentframe())))\n",
    "parentdir = os.path.dirname(currentdir)\n",
    "sys.path.insert(0,parentdir) "
   ]
  },
  {
   "cell_type": "code",
   "execution_count": 8,
   "metadata": {},
   "outputs": [],
   "source": [
    "from cipher.caesar import *\n",
    "from cipher.affine import *\n",
    "\n",
    "from support.text_prettify import *\n",
    "from support.utilities import *\n",
    "from support.plot_frequency_histogram import *"
   ]
  },
  {
   "cell_type": "code",
   "execution_count": 3,
   "metadata": {},
   "outputs": [],
   "source": [
    "challenge_number = 2\n",
    "plaintext_a_filename = f'{challenge_number}a.plaintext'\n",
    "plaintext_b_filename = f'{challenge_number}b.plaintext'\n",
    "ciphertext_a_filename = f'{challenge_number}a.ciphertext'\n",
    "ciphertext_b_filename = f'{challenge_number}b.ciphertext'"
   ]
  },
  {
   "cell_type": "code",
   "execution_count": 9,
   "metadata": {},
   "outputs": [],
   "source": [
    "ca = open(ciphertext_a_filename).read()\n",
    "cb = open(ciphertext_b_filename).read()\n",
    "\n",
    "sca = sanitise(ca)\n",
    "pca = letters(ca)\n",
    "pta = depunctuate(ca)\n",
    "\n",
    "scb = sanitise(cb)\n",
    "pcb = letters(cb)\n",
    "ptb = depunctuate(cb)"
   ]
  },
  {
   "cell_type": "code",
   "execution_count": 14,
   "metadata": {},
   "outputs": [
    {
     "name": "stdout",
     "output_type": "stream",
     "text": [
      "(3, 6, True) \n",
      "\n",
      "PHIL I HEARD BACK FROM THE BRITISH MILITARY ATTACHE STOP HE SAID THAT THE NUMBER LOOKS LIKE THE FORMAT USED BY THE PATENT OFFICE STOP HE SUGGESTED THAT THE DOCUMENT MIGHT HAVE BEEN A DESIGN DRAWING FOR AN INVENTION STOP ONE OF OUR FIELD AGENTS TRIED TO FIND OUT WHICH ONE BUT THE NUMBERS LOOKED WRONG STOP PATENT NUMBERS STARTING GB EIGHT HAVE NOT BEEN ISSUED YET STOP THE AGENT HAD NOT SEEN THE PHOTO YOU SENT BUT SHE SHOWED INITIATIVE AND TRIED SOME OTHER NUMBERS STOP GB-SIX-THREE-ZERO-SEVEN-TWO-SIX-A WAS THE MOST PROMISING STOP CHECKED WITH OUR EXPERTS AND THEY WERE CONFUSED STOP ACCORDING TO COCKCROFT THE INVENTION IS IMPRACTICAL STOP SOMEONE POINTED OUT THAT IT FITS WITH THE NAME DIE ALCHEMISTEN STOP SEE ATTACHED STOP WILL INVESTIGATE FURTHER STOP NEXT COMMUNICATION IN SEVEN DAYS STOP\n",
      "\n"
     ]
    }
   ],
   "source": [
    "(ma, ca, za), score_a = affine_break(sca)\n",
    "print((ma, ca, za), '\\n')\n",
    "pa = repunctuate(affine_decipher(sca, ma, ca, za), pta)\n",
    "print(pa)"
   ]
  },
  {
   "cell_type": "code",
   "execution_count": 13,
   "metadata": {},
   "outputs": [
    {
     "data": {
      "text/plain": [
       "797"
      ]
     },
     "execution_count": 13,
     "metadata": {},
     "output_type": "execute_result"
    }
   ],
   "source": [
    "open(plaintext_a_filename, 'w').write(pa)"
   ]
  },
  {
   "cell_type": "code",
   "execution_count": 15,
   "metadata": {},
   "outputs": [
    {
     "name": "stdout",
     "output_type": "stream",
     "text": [
      "(3, 9, True) \n",
      "\n",
      "HARRY, I CHECKED OUT THE PATENT YOU ASKED ME ABOUT. I THINK IT MIGHT BE RELATED TO A LECTURE COCKCROFT DELIVERED AT THE INSTITUTE OF ELECTRICAL ENGINEERS ON APRIL TWENTY THIRD NINETEEN THIRTY SIX. THE TOPIC WAS \"THE TRANSMUTATION OF MATTER BY HIGH ENERGY PARTICLES AND RADIATIONS\". GIVEN THE LABEL ON THE HINDENBURG ENVELOPE I THINK THE FOLLOWING EXTRACT IS PARTICULARLY INTERESTING: \"IN THE CASE OF NUCLEAR TRANSMUTATIONS, IT SEEMS THAT THE LOSS OF MASS IS PRECISELY EQUAL TO THE INCREASE IN THE KINETIC ENERGY THAT HAS TAKEN PLACE. THIS GIVES A STRIKING PROOF OF THE MODERN PHYSICAL LAW THAT MASS AND ENERGY ARE EQUIVALENT. IN NINETEEN THIRTY TWO CHADWICK DISCOVERED THE NEUTRON, A NEW TYPE OF ATOMIC PARTICLE WHICH HAS NO ELECTRIC CHARGE. IT DOES NOT THEREFORE INTERACT WITH OTHER ELECTRONS AND PRODUCES NO IONISATION WHEN PASSING THROUGH A GAS. IT IS OF OUTSTANDING IMPORTANCE BECAUSE OF ITS POWER TO PRODUCE TRANSMUTATIONS. THERE IS LITTLE HOPE THAT THIS PROCESS CAN BE USED ON AN ENGINEERING SCALE TO CONVERT MASS INTO ENERGY. SO FAR, OUR LABORATORY EXPERIMENTS PRODUCE THE CONVERSE RESULT. THEORY INDICATES THAT AT TEMPERATURES EQUAL TO THOSE OF THE INTERIOR OF THE SUN OR STARS, IT MIGHT BE POSSIBLE TO CONVERT THE INEXPENSIVE SIMPLE ELEMENTS TO THE MORE VALUABLE HEAVIER COMBINATIONS, BUT PRACTICALLY, THERE IS NO METHOD OF PRODUCING THE EFFECTS FORMERLY ATTRIBUTED TO THE 'PHILOSOPHER'S STONE'.\"\n",
      "\n"
     ]
    }
   ],
   "source": [
    "(mb, cb, zb), score_a = affine_break(scb)\n",
    "print((mb, cb, zb), '\\n')\n",
    "pb = repunctuate(affine_decipher(scb, mb, cb, zb), ptb)\n",
    "print(pb)"
   ]
  },
  {
   "cell_type": "code",
   "execution_count": 16,
   "metadata": {},
   "outputs": [
    {
     "data": {
      "text/plain": [
       "1406"
      ]
     },
     "execution_count": 16,
     "metadata": {},
     "output_type": "execute_result"
    }
   ],
   "source": [
    "open(plaintext_b_filename, 'w').write(pb)"
   ]
  },
  {
   "cell_type": "code",
   "execution_count": null,
   "metadata": {},
   "outputs": [],
   "source": []
  }
 ],
 "metadata": {
  "jupytext": {
   "formats": "ipynb,md"
  },
  "kernelspec": {
   "display_name": "Python 3",
   "language": "python",
   "name": "python3"
  },
  "language_info": {
   "codemirror_mode": {
    "name": "ipython",
    "version": 3
   },
   "file_extension": ".py",
   "mimetype": "text/x-python",
   "name": "python",
   "nbconvert_exporter": "python",
   "pygments_lexer": "ipython3",
   "version": "3.7.4"
  }
 },
 "nbformat": 4,
 "nbformat_minor": 4
}
