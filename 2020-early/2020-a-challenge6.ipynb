{
 "cells": [
  {
   "cell_type": "code",
   "execution_count": 1,
   "metadata": {},
   "outputs": [],
   "source": [
    "import os,sys,inspect\n",
    "currentdir = os.path.dirname(os.path.abspath(inspect.getfile(inspect.currentframe())))\n",
    "parentdir = os.path.dirname(currentdir)\n",
    "sys.path.insert(0,parentdir) "
   ]
  },
  {
   "cell_type": "code",
   "execution_count": 2,
   "metadata": {},
   "outputs": [],
   "source": [
    "from cipher.caesar import *\n",
    "from cipher.affine import *\n",
    "from cipher.keyword_cipher import *\n",
    "from cipher.column_transposition import *\n",
    "\n",
    "from support.text_prettify import *\n",
    "from support.utilities import *\n",
    "from support.plot_frequency_histogram import *\n",
    "%matplotlib inline"
   ]
  },
  {
   "cell_type": "code",
   "execution_count": 3,
   "metadata": {},
   "outputs": [],
   "source": [
    "challenge_number = 6\n",
    "plaintext_a_filename = f'{challenge_number}a.plaintext'\n",
    "plaintext_b_filename = f'{challenge_number}b.plaintext'\n",
    "ciphertext_a_filename = f'{challenge_number}a.ciphertext'\n",
    "ciphertext_b_filename = f'{challenge_number}b.ciphertext'"
   ]
  },
  {
   "cell_type": "code",
   "execution_count": 4,
   "metadata": {},
   "outputs": [],
   "source": [
    "ca = open(ciphertext_a_filename).read()\n",
    "cb = open(ciphertext_b_filename).read()\n",
    "\n",
    "sca = sanitise(ca)\n",
    "pca = letters(ca)\n",
    "pta = depunctuate(ca)\n",
    "\n",
    "scb = sanitise(cb)\n",
    "pcb = letters(cb)\n",
    "ptb = depunctuate(cb)"
   ]
  },
  {
   "cell_type": "code",
   "execution_count": 6,
   "metadata": {},
   "outputs": [
    {
     "data": {
      "image/png": "[encoded data removed]",
      "text/plain": [
       "<Figure size 432x288 with 1 Axes>"
      ]
     },
     "metadata": {
      "needs_background": "light"
     },
     "output_type": "display_data"
    }
   ],
   "source": [
    "fc = collections.Counter(sca)\n",
    "plot_frequency_histogram(fc, sort_key=fc.get)"
   ]
  },
  {
   "cell_type": "code",
   "execution_count": 7,
   "metadata": {},
   "outputs": [
    {
     "data": {
      "text/plain": [
       "('norway', <KeywordWrapAlphabet.from_last: 2>)"
      ]
     },
     "execution_count": 7,
     "metadata": {},
     "output_type": "execute_result"
    }
   ],
   "source": [
    "(kworda, kwrapa), score = keyword_break_mp(sca, fitness=Ptrigrams)\n",
    "kworda, kwrapa"
   ]
  },
  {
   "cell_type": "code",
   "execution_count": 10,
   "metadata": {},
   "outputs": [
    {
     "name": "stdout",
     "output_type": "stream",
     "text": [
      "harryiguessyouhaveheardbynowabouttheinvasionithascomeasnoshocktoanyonethebritishhadbeenopenlydiscussingacountermanoeuvreandthatisnowasignificantpartofthenazipropagandatheofficiallineisthewehrmachtaretheretoprotectthecountrysneutralityagainstfrancobritishaggressiontheattachedinvasionorderswereinterceptedbybossagentsinthecapitalwhohaveestablishedaheadquartersnexttothetelephoneexchangeasfaraswecantelltheirtapintothesecuretelegraphicsystemhasnotyetbeendetectedbutwewillneedtolookoutforfakeintelligenceincasethatchangesunsurprisinglytheordersusethemostsecurecipherwehaveseenyetacolumnartranspositionluckilyihadsomeideawhattolookforsincenorskhydrowasanimportanttargetforthereichserziehungsministeriumandthatgavemeabigcluethemessagemakesmeverygladthatmonsieurallierwasabletoevacuatetheheavywaternowthatthesshavetakencontrolofrjukanitisonlyamatteroftimeuntiltheybuilduptheirownstocksbutthatwilltakeawhileandwecanusethatperiodtoworkoutwhattodonextwewillberelyingheavilyonyournetworkinthecountrytofeeduswithintelligenceonthefactorywhichiswhyiaskedourcommunicationsteamtosetupthismoresecurechannelifwecanbreakthetelegraphsystemweshouldassumethatthenaziscantooiwouldlikeustomovetousingvigenereciphersforourfuturemessagesstaysafephil\n"
     ]
    }
   ],
   "source": [
    "pa = cat(reversed(keyword_decipher(sca, kworda, kwrapa)))\n",
    "print(pa)"
   ]
  },
  {
   "cell_type": "code",
   "execution_count": 11,
   "metadata": {},
   "outputs": [
    {
     "name": "stdout",
     "output_type": "stream",
     "text": [
      "harry i guess you have heard by now about the invasion it has come as no shock to anyone the british\n",
      "had been openly discussing a counter manoeuvre and that is now a significant part of the nazi\n",
      "propaganda the official line is the wehrmacht are there to protect the country s neutrality against\n",
      "franco british aggression the attached invasion orders were intercepted by boss agents in the\n",
      "capital who have established a headquarters next to the telephone exchange as far as we can tell\n",
      "their tap into the secure telegraphic system has not yet been detected but we will need to lookout\n",
      "for fake intelligence in case that changes unsurprisingly the orders use the most secure cipher we\n",
      "have seen yet a columnar transposition luckily i had some idea what to look for since norsk hydro\n",
      "was an important target for the reichs erziehung s ministerium and that gave me a big clue the\n",
      "message makes me very glad that monsieur allier was able to evacuate the heavy water now that the ss\n",
      "have taken control of rj uk an it is only a matter of time until they buildup their own stocks but\n",
      "that will take a while and we can use that period to workout what to do next we will be relying\n",
      "heavily on your network in the country to feed us with intelligence on the factory which is why i\n",
      "asked our communications team to setup this more secure channel if we can break the telegraph system\n",
      "we should assume that the nazis can too i would like us to move to using vi genere ciphers for our\n",
      "future messages stay safe phil\n"
     ]
    }
   ],
   "source": [
    "fpa = lcat(tpack(segment(pa)))\n",
    "print(fpa)"
   ]
  },
  {
   "cell_type": "code",
   "execution_count": 12,
   "metadata": {},
   "outputs": [
    {
     "data": {
      "text/plain": [
       "1501"
      ]
     },
     "execution_count": 12,
     "metadata": {},
     "output_type": "execute_result"
    }
   ],
   "source": [
    "open(plaintext_a_filename, 'w').write(fpa)"
   ]
  },
  {
   "cell_type": "code",
   "execution_count": 13,
   "metadata": {},
   "outputs": [
    {
     "data": {
      "image/png": "[encoded data removed]",
      "text/plain": [
       "<Figure size 432x288 with 1 Axes>"
      ]
     },
     "metadata": {
      "needs_background": "light"
     },
     "output_type": "display_data"
    }
   ],
   "source": [
    "fc = collections.Counter(scb)\n",
    "plot_frequency_histogram(fc, sort_key=fc.get)"
   ]
  },
  {
   "cell_type": "code",
   "execution_count": 14,
   "metadata": {},
   "outputs": [
    {
     "data": {
      "text/plain": [
       "'\\nTRSXS EYHHN LASOR ILHRN NZCHT LYRON AEHSN UIPCN EOLDO ADPNC TRHRS ATORS ONAWT EETDD RYTNO DBEIF INCTR MIEOT ASSGR TRDPE SVBHL OAHEE ACMCE OMLTE RLEFY AYOFS OTAEN REAEO ENBAS OTEVA ENRNN UVJIE NTARL EEMID ATTOD ITRUE UDRRI FRAEB FHDHH UWUSS ESRCC UESEE NVAIE SATSI ACOSA AOENI AWTED OEIHN RELEU IENUR NICNR YEYCT ITDTS TELRY FOAOF WNAAC YSUNE HAVTL STRAU SBDRT TATTT RSHOS KEHHU DLDRE OESOC SIDHE HEEHT SCLNE ENEAE BANVT INSRL PJASH HIEIH TTTUI TRRUN LWEIU RITNI TAHUL BFSAC TENER LONRE IOILH HTUTS ASDRL OTSES REREE LRARN ARLEH OOCPE DBHAE KDRUN EEDRD RDSPP ETLWE NUYDN TEABA IHFRF HNOSP OYRAO PTCTD AMEIF ENENV UEERF IBTHO IMOAG DOSYF NXFRC KPHOE ETMOO EDLFN RTSFO IIGIH EALOR UDCEA TDRSL ETSCI TLPER UOWME ISNIP OKFTK IHCAH OGAUA DUELF TANWA EOONH UEVOT UHYTU LDEEE OAWTE ADLES IRTUL ETEIF ASCDR TISAR TWJEL EPRDL STRAL ECBGU WENEE AICTN HMNDM OINHY REASO RSGTC YNTIU REWSE EFRIM TMHEE TOWSE RDPEF TDENH ODLEP ATRVT TLCEY CINRT YOOCL SRSAC AMDNE DGURP IHTIL ETHLD SWHCR UOEDC NUEUL TRERE OOBAC NNTUW EOYCT AOOKE NEETE EKTSA ODRDE BEKTA IEABS MEOTO ITLTR JRYNC IRNII SOEEN'"
      ]
     },
     "execution_count": 14,
     "metadata": {},
     "output_type": "execute_result"
    }
   ],
   "source": [
    "rscb = cat(reversed(cb))\n",
    "rscb"
   ]
  },
  {
   "cell_type": "code",
   "execution_count": 15,
   "metadata": {},
   "outputs": [
    {
     "data": {
      "text/plain": [
       "(((3, 1, 4, 2, 0), False, True), -3026.420927215971)"
      ]
     },
     "execution_count": 15,
     "metadata": {},
     "output_type": "execute_result"
    }
   ],
   "source": [
    "(kwordb, fillb, emptyb), score = column_transposition_break_mp(scb, fitness=Ptrigrams)\n",
    "(kwordb, fillb, emptyb), score"
   ]
  },
  {
   "cell_type": "code",
   "execution_count": 16,
   "metadata": {},
   "outputs": [
    {
     "data": {
      "text/plain": [
       "'uranprojektspecialordersforsixtyninthinfantrydivisioncommandedbygeneralmajorhermanntitteloncetheinitialobjectivesofunternehmenweseruebunghavebeenachievedanelitetaskforceistobeassembledandorderedtoproceedatallspeedtorjukanwheretheyaretotakepossessionofthenorskhydrofactorystaffatthefacilityaretobetreatedwellbutmustnotunderanycircumstancesbeallowedtoleavetheareathepowerplantshouldbesurveyedsecuredandplacedundertwentyfourhourguardstocksofheavywatershouldbeheldinthemostprotectedlocationwithinthefacilitypreferablyundergroundandcertainlyunderarmedguardoncetheareaissecurethesswilltakecontrolofnorskhydroitsoperationsanditssecuritythewehrmachtwillcontinuetoprovideareapatrolsandtopolicelocalresidentsoncetheplantissecuredanditsstaffhavebeenplacedunderhousearrestyouwillcontactthereichserziehungsministeriumwhowillfurnishfurtherordersnhstaffwillbeundertheauthorityoftheministryexercisedthroughthess'"
      ]
     },
     "execution_count": 16,
     "metadata": {},
     "output_type": "execute_result"
    }
   ],
   "source": [
    "pb = column_transposition_decipher(scb, kwordb, fillcolumnwise=fillb, emptycolumnwise=emptyb)\n",
    "pb"
   ]
  },
  {
   "cell_type": "code",
   "execution_count": 17,
   "metadata": {},
   "outputs": [
    {
     "name": "stdout",
     "output_type": "stream",
     "text": [
      "uran projekt special orders for sixty ninth infantry division commanded by general major hermann\n",
      "tittel once the initial objectives of unternehmen we serue bung have been achieved an elite\n",
      "taskforce is to be assembled and ordered to proceed at all speed to rj uk an where they are to take\n",
      "possession of the norsk hydro factory staff at the facility are to be treated well but must not\n",
      "under any circumstances be allowed to leave the area the powerplant should be surveyed secured and\n",
      "placed under twenty four hour guard stocks of heavy water should beheld in the most protected\n",
      "location within the facility preferably underground and certainly under armed guard once the area is\n",
      "secure the ss will take control of norsk hydro its operations and its security the wehrmacht will\n",
      "continue to provide area patrols and to police local residents once the plant is secured and its\n",
      "staff have been placed under house arrest you will contact the reichs erziehung s ministerium who\n",
      "will furnish further orders nh staff will be under the authority of the ministry exercised through\n",
      "the ss\n"
     ]
    }
   ],
   "source": [
    "fpb = lcat(tpack(segment(pb)))\n",
    "print(fpb)"
   ]
  },
  {
   "cell_type": "code",
   "execution_count": 18,
   "metadata": {},
   "outputs": [
    {
     "data": {
      "text/plain": [
       "1077"
      ]
     },
     "execution_count": 18,
     "metadata": {},
     "output_type": "execute_result"
    }
   ],
   "source": [
    "open(plaintext_b_filename, 'w').write(fpb)"
   ]
  },
  {
   "cell_type": "code",
   "execution_count": 19,
   "metadata": {},
   "outputs": [
    {
     "data": {
      "text/plain": [
       "['penal',\n",
       " 'reich',\n",
       " 'renal',\n",
       " 'ripen',\n",
       " 'scram',\n",
       " 'scrap',\n",
       " 'sepal',\n",
       " 'shoal',\n",
       " 'shock',\n",
       " 'shrek',\n",
       " 'siren',\n",
       " 'sloan',\n",
       " 'venal',\n",
       " 'verdi',\n",
       " 'vetch',\n",
       " 'viral',\n",
       " 'vireo',\n",
       " 'virgo',\n",
       " 'vital',\n",
       " 'voter',\n",
       " 'votes',\n",
       " 'welch',\n",
       " 'wench',\n",
       " 'wendi',\n",
       " 'wesak',\n",
       " 'wiser',\n",
       " 'wives',\n",
       " 'yowls',\n",
       " 'remake',\n",
       " 'remark',\n",
       " 'rename',\n",
       " 'repair',\n",
       " 'repeal',\n",
       " 'scrams',\n",
       " 'scraps',\n",
       " 'sepals',\n",
       " 'serape',\n",
       " 'shoals',\n",
       " 'shocks',\n",
       " 'shreks',\n",
       " 'sirens',\n",
       " 'tercel',\n",
       " 'terran',\n",
       " 'thrall',\n",
       " 'tirana',\n",
       " 'tishri',\n",
       " 'unsnap',\n",
       " 'virgil',\n",
       " 'virgin',\n",
       " 'wesaks',\n",
       " 'within',\n",
       " 'seepage',\n",
       " 'serapes',\n",
       " 'teenage',\n",
       " 'tishris',\n",
       " 'unsnaps',\n",
       " 'wendell',\n",
       " 'wittier',\n",
       " 'remedied',\n",
       " 'repairer',\n",
       " 'repealer',\n",
       " 'ringling',\n",
       " 'riparian',\n",
       " 'seepages',\n",
       " 'selassie',\n",
       " 'singling',\n",
       " 'teetotal',\n",
       " 'terraria',\n",
       " 'tingling',\n",
       " 'wittiest',\n",
       " 'selassies']"
      ]
     },
     "execution_count": 19,
     "metadata": {},
     "output_type": "execute_result"
    }
   ],
   "source": [
    "transpositions[kwordb]"
   ]
  },
  {
   "cell_type": "code",
   "execution_count": null,
   "metadata": {},
   "outputs": [],
   "source": []
  }
 ],
 "metadata": {
  "jupytext": {
   "formats": "ipynb,md"
  },
  "kernelspec": {
   "display_name": "Python 3",
   "language": "python",
   "name": "python3"
  },
  "language_info": {
   "codemirror_mode": {
    "name": "ipython",
    "version": 3
   },
   "file_extension": ".py",
   "mimetype": "text/x-python",
   "name": "python",
   "nbconvert_exporter": "python",
   "pygments_lexer": "ipython3",
   "version": "3.7.4"
  }
 },
 "nbformat": 4,
 "nbformat_minor": 4
}
