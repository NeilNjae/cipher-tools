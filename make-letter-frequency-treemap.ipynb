{
 "cells": [
  {
   "cell_type": "code",
   "execution_count": 32,
   "metadata": {},
   "outputs": [],
   "source": [
    "# libraries\n",
    "import matplotlib.pyplot as plt\n",
    "%matplotlib inline\n",
    "\n",
    "import squarify    # pip install squarify (algorithm for treemap)\n",
    "\n",
    "from support.language_models import *\n",
    "from support.utilities import *"
   ]
  },
  {
   "cell_type": "code",
   "execution_count": 3,
   "metadata": {},
   "outputs": [
    {
     "data": {
      "text/plain": [
       "defaultdict(int,\n",
       "            {'a': 0.07822525209432887,\n",
       "             'b': 0.014829998223636929,\n",
       "             'c': 0.02251879345845122,\n",
       "             'd': 0.042759915992231244,\n",
       "             'e': 0.12099426536374505,\n",
       "             'f': 0.02159693603704411,\n",
       "             'g': 0.018815084434702378,\n",
       "             'h': 0.06645305621431015,\n",
       "             'i': 0.06723047441023709,\n",
       "             'j': 0.0010659774441790274,\n",
       "             'k': 0.00865805425839555,\n",
       "             'l': 0.04134042154867259,\n",
       "             'm': 0.027483193578407596,\n",
       "             'n': 0.06693265828344594,\n",
       "             'o': 0.08052207518149467,\n",
       "             'p': 0.016070260346516884,\n",
       "             'q': 0.0008776478463153873,\n",
       "             'r': 0.059626906298523796,\n",
       "             's': 0.06455443850567806,\n",
       "             't': 0.08946868868814231,\n",
       "             'u': 0.03036719004738724,\n",
       "             'v': 0.010421489620086533,\n",
       "             'w': 0.024603665947343364,\n",
       "             'x': 0.0011832844394584982,\n",
       "             'y': 0.022829377693572104,\n",
       "             'z': 0.0005708940436934243})"
      ]
     },
     "execution_count": 3,
     "metadata": {},
     "output_type": "execute_result"
    }
   ],
   "source": [
    "normalised_english_counts"
   ]
  },
  {
   "cell_type": "code",
   "execution_count": 11,
   "metadata": {
    "scrolled": true
   },
   "outputs": [
    {
     "data": {
      "text/plain": [
       "(['e',\n",
       "  't',\n",
       "  'o',\n",
       "  'a',\n",
       "  'i',\n",
       "  'n',\n",
       "  'h',\n",
       "  's',\n",
       "  'r',\n",
       "  'd',\n",
       "  'l',\n",
       "  'u',\n",
       "  'm',\n",
       "  'w',\n",
       "  'y',\n",
       "  'c',\n",
       "  'f',\n",
       "  'g',\n",
       "  'p',\n",
       "  'b',\n",
       "  'v',\n",
       "  'k',\n",
       "  'x',\n",
       "  'j',\n",
       "  'q',\n",
       "  'z'],\n",
       " [0.12099426536374505,\n",
       "  0.08946868868814231,\n",
       "  0.08052207518149467,\n",
       "  0.07822525209432887,\n",
       "  0.06723047441023709,\n",
       "  0.06693265828344594,\n",
       "  0.06645305621431015,\n",
       "  0.06455443850567806,\n",
       "  0.059626906298523796,\n",
       "  0.042759915992231244,\n",
       "  0.04134042154867259,\n",
       "  0.03036719004738724,\n",
       "  0.027483193578407596,\n",
       "  0.024603665947343364,\n",
       "  0.022829377693572104,\n",
       "  0.02251879345845122,\n",
       "  0.02159693603704411,\n",
       "  0.018815084434702378,\n",
       "  0.016070260346516884,\n",
       "  0.014829998223636929,\n",
       "  0.010421489620086533,\n",
       "  0.00865805425839555,\n",
       "  0.0011832844394584982,\n",
       "  0.0010659774441790274,\n",
       "  0.0008776478463153873,\n",
       "  0.0005708940436934243])"
      ]
     },
     "execution_count": 11,
     "metadata": {},
     "output_type": "execute_result"
    }
   ],
   "source": [
    "ls = sorted(normalised_english_counts, key=normalised_english_counts.get, reverse=True)\n",
    "cs = [normalised_english_counts[l] for l in ls]\n",
    "ls, cs"
   ]
  },
  {
   "cell_type": "code",
   "execution_count": 29,
   "metadata": {},
   "outputs": [
    {
     "data": {
      "image/png": "[encoded data removed]",
      "text/plain": [
       "<matplotlib.figure.Figure at 0x7f1224d9be10>"
      ]
     },
     "metadata": {},
     "output_type": "display_data"
    }
   ],
   "source": [
    "# If you have 2 lists\n",
    "plt.rcParams[\"figure.figsize\"] = (4,4)\n",
    "squarify.plot(sizes=cs, label=ls, alpha=.7 )\n",
    "plt.axis('off')\n",
    "plt.savefig('letter-treemap.png', bbox_inches='tight')\n",
    "plt.show()"
   ]
  },
  {
   "cell_type": "code",
   "execution_count": 42,
   "metadata": {},
   "outputs": [
    {
     "data": {
      "text/plain": [
       "'treattlpis'"
      ]
     },
     "execution_count": 42,
     "metadata": {},
     "output_type": "execute_result"
    }
   ],
   "source": [
    "cat(random_english_letter() for _ in range(10))"
   ]
  },
  {
   "cell_type": "code",
   "execution_count": 46,
   "metadata": {},
   "outputs": [
    {
     "data": {
      "text/plain": [
       "'lbycjleuqz'"
      ]
     },
     "execution_count": 46,
     "metadata": {},
     "output_type": "execute_result"
    }
   ],
   "source": [
    "import random\n",
    "import string\n",
    "\n",
    "cat(random.choices(string.ascii_lowercase, k=10))"
   ]
  },
  {
   "cell_type": "code",
   "execution_count": null,
   "metadata": {},
   "outputs": [],
   "source": []
  }
 ],
 "metadata": {
  "kernelspec": {
   "display_name": "Python 3",
   "language": "python",
   "name": "python3"
  },
  "language_info": {
   "codemirror_mode": {
    "name": "ipython",
    "version": 3
   },
   "file_extension": ".py",
   "mimetype": "text/x-python",
   "name": "python",
   "nbconvert_exporter": "python",
   "pygments_lexer": "ipython3",
   "version": "3.6.3"
  }
 },
 "nbformat": 4,
 "nbformat_minor": 2
}
