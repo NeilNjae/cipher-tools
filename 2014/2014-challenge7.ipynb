{
 "cells": [
  {
   "cell_type": "code",
   "execution_count": 1,
   "metadata": {},
   "outputs": [],
   "source": [
    "import os,sys,inspect\n",
    "currentdir = os.path.dirname(os.path.abspath(inspect.getfile(inspect.currentframe())))\n",
    "parentdir = os.path.dirname(currentdir)\n",
    "sys.path.insert(0,parentdir) \n",
    "\n",
    "import matplotlib.pyplot as plt\n",
    "import pandas as pd\n",
    "import collections\n",
    "import string\n",
    "%matplotlib inline\n",
    "\n",
    "from cipher.vigenere import *\n",
    "from cipher.amsco import *\n",
    "from support.utilities import *\n",
    "from support.text_prettify import *\n",
    "from support.language_models import *\n",
    "from support.plot_frequency_histogram import *\n",
    "\n",
    "c7a = open('7a.ciphertext').read()\n",
    "c7b = open('7b.ciphertext').read()"
   ]
  },
  {
   "cell_type": "code",
   "execution_count": 2,
   "metadata": {},
   "outputs": [
    {
     "data": {
      "text/plain": [
       "<matplotlib.axes._subplots.AxesSubplot at 0x7f068ca71908>"
      ]
     },
     "execution_count": 2,
     "metadata": {},
     "output_type": "execute_result"
    },
    {
     "data": {
      "image/png": "[encoded data removed]",
      "text/plain": [
       "<matplotlib.figure.Figure at 0x7f068ca71208>"
      ]
     },
     "metadata": {},
     "output_type": "display_data"
    }
   ],
   "source": [
    "freqs = pd.Series(english_counts)\n",
    "freqs.plot(kind='bar')"
   ]
  },
  {
   "cell_type": "code",
   "execution_count": 3,
   "metadata": {},
   "outputs": [
    {
     "data": {
      "text/plain": [
       "<matplotlib.axes._subplots.AxesSubplot at 0x7f064cd8c710>"
      ]
     },
     "execution_count": 3,
     "metadata": {},
     "output_type": "execute_result"
    },
    {
     "data": {
      "image/png": "[encoded data removed]",
      "text/plain": [
       "<matplotlib.figure.Figure at 0x7f064c084b70>"
      ]
     },
     "metadata": {},
     "output_type": "display_data"
    }
   ],
   "source": [
    "freqs_7a = pd.Series(collections.Counter([l.lower() for l in c7a if l in string.ascii_letters]))\n",
    "freqs_7a.plot(kind='bar')"
   ]
  },
  {
   "cell_type": "code",
   "execution_count": 4,
   "metadata": {},
   "outputs": [
    {
     "data": {
      "text/plain": [
       "<matplotlib.axes._subplots.AxesSubplot at 0x7f064e351b70>"
      ]
     },
     "execution_count": 4,
     "metadata": {},
     "output_type": "execute_result"
    },
    {
     "data": {
      "image/png": "[encoded data removed]",
      "text/plain": [
       "<matplotlib.figure.Figure at 0x7f064bf7d550>"
      ]
     },
     "metadata": {},
     "output_type": "display_data"
    }
   ],
   "source": [
    "freqs_7b = pd.Series(collections.Counter([l.lower() for l in c7b if l in string.ascii_letters]))\n",
    "freqs_7b.plot(kind='bar')"
   ]
  },
  {
   "cell_type": "code",
   "execution_count": 5,
   "metadata": {},
   "outputs": [
    {
     "data": {
      "text/plain": [
       "'veyjmyjkrzilysyjeydorulcsrcjnmoiddeugurlogfsnwcrlhckhghmwkejxlyktlagflalvtmgkyyomvlmgkyjosfdrzepwaqgnrzeqzinoaqforkcsltjwdussrzarlhcnajneqzabbakeebatjgoiklgcerzebjidlwmgdussnmljwdgftmlhceeazalasksnbtlmukcvtfwilderhrckuksbjqtfwcpwwfsdydrcsdwsbyfdmfeblhcneqkejohguhussjmciqfmjuqoirzosltfwsfapuwwmmlbzatwhyvnmadcstfstrzedvafsdzwelgpcjaraneanrzeqwwylepkscshmjscaslglmfgcjakqsrwrwlhcuurswyqollhcktyjbmsrbkibwcjwapwdyfapwamxapgulvfgnekwtcjsqiuyjeuatfsdgktgfcravcharlepfodtojlsdssrwncvtmjegffmjccvdcukndarwsgkaukokwtfanediiwtfasmfaqmbpwsamekasqaolscmmpjwodqeyjsyyouzellhcqfgltcvajgcydsfapuatfsjsjypagewdgfsnwcraolkyqleklhcveacpjstckcyfcyjrwscpsncveqaglwdrgdchlmqaljotsrceorwonwrylebnefacjwdckiefebxopmnbwrqwamhepstggnqawykajjeyvyagnawrlwdytosltfwrcxepwnawtmlhcuazdeqanrzejssrhaplodlhcxdydoeturlhcfevlscutggnfsskwrcsljqwmjrgwdgliqwnajynleboirzakgrckeamrceobafgwdyesagtpsnqhoqatggnaapfwryfdrwljkuqohyltfwyuwrcjeydlwmprgwfstgvollulvepktyfdgkhmotfwwfglcssqwmzdygkpmoepwdrzeqgrrgfagmnmtgfgrzeweuqlbcvogfggkrcsljqillelkitwalvwmmlbtupftfjosyhytarlepqilvawkillhyltgeerzegjillepuenlmgyhrforuaruhyfyrzilyuqwfsdbsltfwyasnfsrbdyfsvczihsciwdydoaslqgciwtgftfwmgvdjwodlhcgccsnasnwguewtkwaazaplsfgwgfgrzebwenkeyuazdeqanrzepwgggngvolliksggferzeskwgdlzwanjozdekturatksylwebkokwdghlmeaaqtmyerlhcxujdcmnepsgceankfpgmrzemealagmnepfmcftgxiyergyhratgkillhcarzwsranrwrcktqlondawslmfguwajdhyneydorlojgsczepw'"
      ]
     },
     "execution_count": 5,
     "metadata": {},
     "output_type": "execute_result"
    }
   ],
   "source": [
    "c7as = sanitise(c7a)\n",
    "c7as"
   ]
  },
  {
   "cell_type": "code",
   "execution_count": 6,
   "metadata": {},
   "outputs": [
    {
     "data": {
      "text/plain": [
       "'anwaecnndrtwtanireoahsrdntieerdctewayerevaaarpioerobsedescrehlaoitithsdtrinosepeplthtnidtwsduledlhotpeaterhaaredeoaiodtahregerothwhtsureteeinwigiresetpowicooonitseudseechacteofiileonewiotacteodteuneahsedaptryemronmomlexontkemeoyvitsteenhantrertieineotndlhpoplyitewitrsedeevdycfrmnsnaypinmteeneeinahinepritedehveleaorelllvmocnahncepherohjuuvehautathttetoasipowwneedselopgdeslfedterfcaatehjasdtrprleseeretetecneorrsgckamiiwaefutiashaongcthsrenrehtrsthhaceinwtprloghetodaeraloeedeatsomldwedtwefsbelevpdteonoignsavftegsebomcehatietnrsptonthusorecredendcetlwaehesedrncveracuhoihaleinaemeunherdesttstasipedeyleeemtiisiigothntssfolnitretrwhemtkhhswtorcssnererohteencsapeblircnthuleofenrsromrnshmaddaodeatihioroutwevthapeceetovterdleaditewdottttcatkmbhtheicwantnisedwatxankeabovoanmswlprgaispodfogndpedeswrdacttrefhdesyaberretlavod'"
      ]
     },
     "execution_count": 6,
     "metadata": {},
     "output_type": "execute_result"
    }
   ],
   "source": [
    "c7bs = sanitise(c7b)\n",
    "c7bs"
   ]
  },
  {
   "cell_type": "code",
   "execution_count": 7,
   "metadata": {},
   "outputs": [
    {
     "data": {
      "text/plain": [
       "('say', -1726.4679903722085)"
      ]
     },
     "execution_count": 7,
     "metadata": {},
     "output_type": "execute_result"
    }
   ],
   "source": [
    "key_a, score = vigenere_frequency_break(c7as)\n",
    "key_a, score"
   ]
  },
  {
   "cell_type": "code",
   "execution_count": 8,
   "metadata": {},
   "outputs": [
    {
     "name": "stdout",
     "output_type": "stream",
     "text": [
      "dear mark things area lot clearer now i flew out to inspect the ship myself last night and took a\n",
      "good look around the reason the ship was not scuttled was that the valves had jammed it looks like\n",
      "the driftwood was pulled into the mechanism and blocked the inlet presumably the crew had already\n",
      "abandoned the vessel which was lucky for us without the ship we would have had no idea that the fda\n",
      "had been operating in these waters seahorse is no longer a mystery the cutaway on the starboard side\n",
      "cleared an area of around five meters square with a distinctive pattern of bolts fastened to\n",
      "reinforced deck plates i saw something like this on a sub rescue mission a couple of years ago when\n",
      "they fitted a local ship with a jury rigged inspection system the deck plates can carry a crane\n",
      "designed to deploy an rova remote operated vehicle designed for undersea operations i was already\n",
      "concerned about the reference to the cables in the last part of the fda log but the next section has\n",
      "me really worried it is encrypted with a more secure modified amsco transposition cipher and tells\n",
      "us what they were really up to what i dont understand is how the whole assembly is powered the sort\n",
      "of computing they must be doing is really intensive and would burn through a battery in days in that\n",
      "time their intercept might not catch anything useful but they can hardly have hijacked a local\n",
      "socket in the middle of the ocean can you get me a chart showing the deepsea cables in the region i\n",
      "dont imagine the us will be a problem but it may need some diplomacy to get the full coverage maps\n",
      "from the omani government if i am right it is in their best interests to playalong we all have alot\n",
      "to lose here\n"
     ]
    }
   ],
   "source": [
    "print(prettify(vigenere_decipher(c7as, key_a)))"
   ]
  },
  {
   "cell_type": "code",
   "execution_count": 9,
   "metadata": {},
   "outputs": [
    {
     "data": {
      "text/plain": [
       "(((1, 2, 0, 4, 3), (2, 1), <AmscoFillStyle.continuous: 1>),\n",
       " -1902.8377732825452)"
      ]
     },
     "execution_count": 9,
     "metadata": {},
     "output_type": "execute_result"
    }
   ],
   "source": [
    "key_b, score = amsco_break(c7bs)\n",
    "key_b, score"
   ]
  },
  {
   "cell_type": "code",
   "execution_count": 10,
   "metadata": {},
   "outputs": [
    {
     "name": "stdout",
     "output_type": "stream",
     "text": [
      "phase seven we approached the cable junction undercover of night with nautilus at an elevation of\n",
      "three feet towing seahorse to starboard comms interception showed that we remained undetected and\n",
      "seahorse was deployed at operating depth the various layers of armoured protection were removed from\n",
      "the cable and as expected once the steel jacket was removed the other layers provided little\n",
      "resistance the divers entered the water and cut into the core to insert the optical repeaters\n",
      "linking them back to the man in the middle unit which was powered up and fully tested initial tests\n",
      "showed that it was operating as expected and three keys have already been recovered from the omani\n",
      "transmissions with daylight approaching the remaining tests were postponed for the following night\n",
      "and the ship returned to deeper waters where it remained at low deck height the divers were left at\n",
      "seahorse to decompress slowly and will be recovered tomorrow once the final tests have been\n",
      "concluded\n"
     ]
    }
   ],
   "source": [
    "print(prettify(amsco_transposition_decipher(c7bs, key_b[0], fillpattern=key_b[1], fillstyle=key_b[2])))"
   ]
  },
  {
   "cell_type": "code",
   "execution_count": 11,
   "metadata": {
    "scrolled": true
   },
   "outputs": [
    {
     "data": {
      "text/plain": [
       "['cable',\n",
       " 'facto',\n",
       " 'facts',\n",
       " 'gabon',\n",
       " 'hafts',\n",
       " 'hefts',\n",
       " 'ibexs',\n",
       " 'kabul',\n",
       " 'lacys',\n",
       " 'ladys',\n",
       " 'laius',\n",
       " 'lefts',\n",
       " 'macon',\n",
       " 'macro',\n",
       " 'macys',\n",
       " 'malts',\n",
       " 'melon',\n",
       " 'melts',\n",
       " 'negro',\n",
       " 'oahus',\n",
       " 'obeys',\n",
       " 'obits',\n",
       " 'odets',\n",
       " 'pacts',\n",
       " 'pants',\n",
       " 'pelts',\n",
       " 'pints',\n",
       " 'piotr',\n",
       " 'pious',\n",
       " 'plots',\n",
       " 'plows',\n",
       " 'ploys',\n",
       " 'rafts',\n",
       " 'rants',\n",
       " 'remus',\n",
       " 'rents',\n",
       " 'riots',\n",
       " 'scout',\n",
       " 'shout',\n",
       " 'snout',\n",
       " 'cabbed',\n",
       " 'cabbie',\n",
       " 'cabbys',\n",
       " 'cabral',\n",
       " 'dabble',\n",
       " 'faeroe',\n",
       " 'gabbro',\n",
       " 'ibexes',\n",
       " 'jaguar',\n",
       " 'kaboom',\n",
       " 'kaftan',\n",
       " 'lacuna',\n",
       " 'lagoon',\n",
       " 'lefter',\n",
       " 'legume',\n",
       " 'macaws',\n",
       " 'magyar',\n",
       " 'malays',\n",
       " 'maltas',\n",
       " 'mellon',\n",
       " 'negevs',\n",
       " 'nellys',\n",
       " 'nelson',\n",
       " 'odious',\n",
       " 'paddys',\n",
       " 'panzas',\n",
       " 'peggys',\n",
       " 'pelves',\n",
       " 'pennys',\n",
       " 'photos',\n",
       " 'pinups',\n",
       " 'qantas',\n",
       " 'rabats',\n",
       " 'rallys',\n",
       " 'refuse',\n",
       " 'refute',\n",
       " 'remuss',\n",
       " 'renews',\n",
       " 'repute',\n",
       " 'scouts',\n",
       " 'shouts',\n",
       " 'snouts',\n",
       " 'cabbage',\n",
       " 'cabrera',\n",
       " 'dabbled',\n",
       " 'gadwall',\n",
       " 'ladonna',\n",
       " 'leftest',\n",
       " 'madonna',\n",
       " 'malayan',\n",
       " 'million',\n",
       " 'papacys',\n",
       " 'pellets',\n",
       " 'penneys',\n",
       " 'qantass',\n",
       " 'ragtags',\n",
       " 'refuses',\n",
       " 'refuter',\n",
       " 'regrets',\n",
       " 'rennets',\n",
       " 'renters',\n",
       " 'reroute',\n",
       " 'sallust',\n",
       " 'macassar',\n",
       " 'mahatmas',\n",
       " 'mahayana',\n",
       " 'nanettes',\n",
       " 'palatals',\n",
       " 'phosphor',\n",
       " 'reenters',\n",
       " 'phosphors',\n",
       " 'sinusitis',\n",
       " 'malayalams',\n",
       " 'sinusitiss']"
      ]
     },
     "execution_count": 11,
     "metadata": {},
     "output_type": "execute_result"
    }
   ],
   "source": [
    "transpositions[key_b[0]]"
   ]
  },
  {
   "cell_type": "code",
   "execution_count": null,
   "metadata": {},
   "outputs": [],
   "source": []
  }
 ],
 "metadata": {
  "kernelspec": {
   "display_name": "Python 3",
   "language": "python",
   "name": "python3"
  },
  "language_info": {
   "codemirror_mode": {
    "name": "ipython",
    "version": 3
   },
   "file_extension": ".py",
   "mimetype": "text/x-python",
   "name": "python",
   "nbconvert_exporter": "python",
   "pygments_lexer": "ipython3",
   "version": "3.6.3"
  }
 },
 "nbformat": 4,
 "nbformat_minor": 1
}
