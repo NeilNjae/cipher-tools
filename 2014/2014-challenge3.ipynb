{
 "cells": [
  {
   "cell_type": "code",
   "execution_count": 1,
   "metadata": {},
   "outputs": [],
   "source": [
    "import os,sys,inspect\n",
    "currentdir = os.path.dirname(os.path.abspath(inspect.getfile(inspect.currentframe())))\n",
    "parentdir = os.path.dirname(currentdir)\n",
    "sys.path.insert(0,parentdir) \n",
    "\n",
    "import matplotlib.pyplot as plt\n",
    "import pandas as pd\n",
    "import collections\n",
    "import string\n",
    "%matplotlib inline\n",
    "\n",
    "from cipher.affine import *\n",
    "from cipher.keyword_cipher import *\n",
    "from support.utilities import *\n",
    "from support.text_prettify import *\n",
    "from support.language_models import *\n",
    "from support.plot_frequency_histogram import *\n",
    "\n",
    "c3a = open('3a.ciphertext').read()\n",
    "c3b = open('3b.ciphertext').read()"
   ]
  },
  {
   "cell_type": "code",
   "execution_count": 2,
   "metadata": {},
   "outputs": [
    {
     "data": {
      "text/plain": [
       "<matplotlib.axes._subplots.AxesSubplot at 0x7f6c8409bac8>"
      ]
     },
     "execution_count": 2,
     "metadata": {},
     "output_type": "execute_result"
    },
    {
     "data": {
      "image/png": "[encoded data removed]",
      "text/plain": [
       "<matplotlib.figure.Figure at 0x7f6c8409b240>"
      ]
     },
     "metadata": {},
     "output_type": "display_data"
    }
   ],
   "source": [
    "freqs = pd.Series(english_counts)\n",
    "freqs.plot(kind='bar')"
   ]
  },
  {
   "cell_type": "code",
   "execution_count": 3,
   "metadata": {},
   "outputs": [
    {
     "data": {
      "text/plain": [
       "((11, 1, True), -839.4977013876568)"
      ]
     },
     "execution_count": 3,
     "metadata": {},
     "output_type": "execute_result"
    }
   ],
   "source": [
    "key_a, score = affine_break(c3a)\n",
    "key_a, score"
   ]
  },
  {
   "cell_type": "code",
   "execution_count": 4,
   "metadata": {},
   "outputs": [
    {
     "name": "stdout",
     "output_type": "stream",
     "text": [
      "harry you asked me about the flag day associates they area transnational hacking group dedicated to\n",
      "the overthrow of western capitalism they have been implicated in several major protests including an\n",
      "attempt to takeover the uk national grid attacks on reservoir systems and interference in bank\n",
      "trading networks it looks like the fda carried out fairly extensive modifications to the ship they\n",
      "did a good job too we hadnt noticed the added bulkheads until we compared the layout with the plans\n",
      "from lloyds register they seem to be there to add rigidity though there is one additional panel at\n",
      "the stern that doesnt fit the pattern and we will be removing that tonight to see what it is there\n",
      "for we would have done it this afternoon but decided we should conduct our own hull survey in case\n",
      "there is a booby trap\n"
     ]
    }
   ],
   "source": [
    "print(lcat(tpack(segment(affine_decipher(sanitise(c3a), key_a[0], key_a[1])))))"
   ]
  },
  {
   "cell_type": "code",
   "execution_count": 5,
   "metadata": {},
   "outputs": [
    {
     "data": {
      "text/plain": [
       "(('seahorse', <KeywordWrapAlphabet.from_last: 2>), -681.3308426043137)"
      ]
     },
     "execution_count": 5,
     "metadata": {},
     "output_type": "execute_result"
    }
   ],
   "source": [
    "key_b, score = keyword_break_mp(c3b)\n",
    "key_b, score"
   ]
  },
  {
   "cell_type": "code",
   "execution_count": 6,
   "metadata": {},
   "outputs": [
    {
     "name": "stdout",
     "output_type": "stream",
     "text": [
      "phase three the nautilus system was fully tested last night with complete success we sailed within\n",
      "four hundred metres of the target and monitored all radio traffic for two hours with no sign that we\n",
      "were being watched or were even noticed we then conducted a full radar sweep of the area and found\n",
      "three dead spots where we could work on the ship without detection as planned we converted the two\n",
      "adjacent empty containers in the middle of the stack into a large workshop area and carried out a\n",
      "full inspection drill now even if we are boarded our work should remain undetected we retrieved\n",
      "seahorse from the third container and carried out stage one of the assembly\n"
     ]
    }
   ],
   "source": [
    "print(lcat(tpack(segment(sanitise(keyword_decipher(c3b, key_b[0], key_b[1]))))))"
   ]
  },
  {
   "cell_type": "code",
   "execution_count": 7,
   "metadata": {},
   "outputs": [
    {
     "data": {
      "text/plain": [
       "<matplotlib.axes._subplots.AxesSubplot at 0x7f6c42fd9a20>"
      ]
     },
     "execution_count": 7,
     "metadata": {},
     "output_type": "execute_result"
    },
    {
     "data": {
      "image/png": "[encoded data removed]",
      "text/plain": [
       "<matplotlib.figure.Figure at 0x7f6c430c56a0>"
      ]
     },
     "metadata": {},
     "output_type": "display_data"
    }
   ],
   "source": [
    "freqs_3b = pd.Series(collections.Counter([l.lower() for l in c3b if l in string.ascii_letters]))\n",
    "freqs_3b.plot(kind='bar')"
   ]
  },
  {
   "cell_type": "code",
   "execution_count": null,
   "metadata": {},
   "outputs": [],
   "source": []
  }
 ],
 "metadata": {
  "kernelspec": {
   "display_name": "Python 3",
   "language": "python",
   "name": "python3"
  },
  "language_info": {
   "codemirror_mode": {
    "name": "ipython",
    "version": 3
   },
   "file_extension": ".py",
   "mimetype": "text/x-python",
   "name": "python",
   "nbconvert_exporter": "python",
   "pygments_lexer": "ipython3",
   "version": "3.6.3"
  }
 },
 "nbformat": 4,
 "nbformat_minor": 1
}
