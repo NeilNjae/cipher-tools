{
 "cells": [
  {
   "cell_type": "code",
   "execution_count": 1,
   "metadata": {},
   "outputs": [],
   "source": [
    "import os,sys,inspect\n",
    "currentdir = os.path.dirname(os.path.abspath(inspect.getfile(inspect.currentframe())))\n",
    "parentdir = os.path.dirname(currentdir)\n",
    "sys.path.insert(0,parentdir) \n",
    "\n",
    "import matplotlib.pyplot as plt\n",
    "import pandas as pd\n",
    "import collections\n",
    "import string\n",
    "%matplotlib inline\n",
    "\n",
    "from cipher.keyword_cipher import *\n",
    "from cipher.column_transposition import *\n",
    "from cipher.railfence import *\n",
    "from support.utilities import *\n",
    "from support.text_prettify import *\n",
    "from support.language_models import *\n",
    "from support.plot_frequency_histogram import *\n",
    "\n",
    "c5a = open('5a.ciphertext').read()\n",
    "c5b = open('5b.ciphertext').read()"
   ]
  },
  {
   "cell_type": "code",
   "execution_count": 2,
   "metadata": {},
   "outputs": [
    {
     "data": {
      "text/plain": [
       "<matplotlib.axes._subplots.AxesSubplot at 0x7fc6513e1a90>"
      ]
     },
     "execution_count": 2,
     "metadata": {},
     "output_type": "execute_result"
    },
    {
     "data": {
      "image/png": "[encoded data removed]",
      "text/plain": [
       "<matplotlib.figure.Figure at 0x7fc6513e14e0>"
      ]
     },
     "metadata": {},
     "output_type": "display_data"
    }
   ],
   "source": [
    "freqs = pd.Series(english_counts)\n",
    "freqs.plot(kind='bar')"
   ]
  },
  {
   "cell_type": "code",
   "execution_count": 3,
   "metadata": {},
   "outputs": [
    {
     "data": {
      "text/plain": [
       "'sssatanuelclaendeeheevrnhtailsltocsoeoanuodoeecaferbetrtenoiiucrwurfaproeercssoeuatulgtematremlieaveieogcelesaeeeyyiuuoaidaosdmdecsshthuhatcnxaererseltunaghanrdtevepisydtaeamcinmrnweoramrvibodsdfdpatimrssietdaospecgracnetblfioeushsmeeirlshmittrlnesehmclssoswfottwnbyteyngeymttgstariixeeedrnasmltwgmildcrtseogohrolsshmawndsstrabndnecfcayehotdornonenecatneavoeaatehercyrighsayrefsooatemncwtkaaawndadmsllnnnlutfoeeenoyoewtmanrrsxhvorolhisfunnthaeeofolphebaatmnornoeodnvtphnoetedeaeonphpaeuratvhndetahrahpoorsefovddsttpsvgraaatodsuryidovtrelerltmemdheoarshoarrrerxisgeifawfaiyidusiyieeesotkeaelatresntifemteiaighaceiondktkitteaeanecnndictnedddenstsheanrtamneahshidaocnuissctehslnlectheetlltidlcttnpnmcvsvnositdaelxpihsfattysfoedcmwhtebaachertaigriuirtngiaphetrowehwswaacmgcouwoogoegsmtarteeiemvayinogstitagblncstcycolretedarehopnebyegwcteetlteyeteenansafmo'"
      ]
     },
     "execution_count": 3,
     "metadata": {},
     "output_type": "execute_result"
    }
   ],
   "source": [
    "c5bs = sanitise(c5b)\n",
    "c5bs"
   ]
  },
  {
   "cell_type": "code",
   "execution_count": 4,
   "metadata": {},
   "outputs": [
    {
     "data": {
      "text/plain": [
       "(('seabird', <KeywordWrapAlphabet.from_largest: 3>), -1255.0542494109186)"
      ]
     },
     "execution_count": 4,
     "metadata": {},
     "output_type": "execute_result"
    }
   ],
   "source": [
    "key_a, score = keyword_break_mp(c5a)\n",
    "key_a, score"
   ]
  },
  {
   "cell_type": "code",
   "execution_count": 5,
   "metadata": {},
   "outputs": [
    {
     "name": "stdout",
     "output_type": "stream",
     "text": [
      "harry i cracked that last message for myself and noticed something really odd the text said it was\n",
      "encrypted using a column transposition with keyword seabird but it was enciphered using a rail fence\n",
      "cipher i can only assume that the text we retrieved was an archive of the original message re\n",
      "encrypted for safety whoever the flag day associates are they have a pretty sophisticated operation\n",
      "if they are filing messages like this more like one of the major terrorist groups than the usual\n",
      "hacker collective the tech guys took a look at the aerial from the boat and they tell me that it is\n",
      "a drag wire usually used to communicate with a submarine when submerged it carried an acoustic\n",
      "transducer array as well as a shortwave transmitter and listening gear one thing that puzzles me now\n",
      "is why we were allowed to find the ship floating at all surely they must have planned to sink her\n",
      "using the scuttling equipment otherwise what was it for they seem too smart to leave it floating for\n",
      "us to find any thoughts mark ps just before i sent this the cipher clerk came in with a decrypt of\n",
      "the attached columnar transposition keyword has length six think it answers some of our questions\n",
      "about the nautilus system\n"
     ]
    }
   ],
   "source": [
    "print(prettify(keyword_decipher(sanitise(c5a), key_a[0], key_a[1])))"
   ]
  },
  {
   "cell_type": "code",
   "execution_count": 6,
   "metadata": {},
   "outputs": [
    {
     "data": {
      "text/plain": [
       "(((3, 2, 4, 1, 5, 0), False, True), -1998.321513226948)"
      ]
     },
     "execution_count": 6,
     "metadata": {},
     "output_type": "execute_result"
    }
   ],
   "source": [
    "key_b, score = column_transposition_break_mp(c5bs)\n",
    "key_b, score"
   ]
  },
  {
   "cell_type": "code",
   "execution_count": 7,
   "metadata": {},
   "outputs": [
    {
     "name": "stdout",
     "output_type": "stream",
     "text": [
      "phase five seahorse is ready for trials and the nautilus system is fully functional we engaged the\n",
      "mechanism and lowered the deck to three feet above sealevel approaching the shore by the radar\n",
      "station at all times signals from their communications were monitored and no sign was given that our\n",
      "approach had been monitored or even noticed we backed off the deck was raised by two feet and the\n",
      "approach attempted again once more our incursion was unnoticed overnight we conducted a range of\n",
      "tests and mapped the radar coverage on three separate occasions there seems to have been a flurry of\n",
      "activity and our modeling suggests that the ships masts may have triggered brief alarms on all\n",
      "occasions the automatic dive systems cut incorrectly lowering the decks to sealevel and the alarms\n",
      "were cancelled the seahorse deployment system will be fully mounted tonight and we will conduct a\n",
      "battery of tests on the deployment and emergency recovery systems over the next two nights assuming\n",
      "that sea and air traffic remains low xxxx\n"
     ]
    }
   ],
   "source": [
    "print(prettify(column_transposition_decipher(sanitise(c5bs), key_b[0], \n",
    "                                                              fillcolumnwise=key_b[1], \n",
    "                                                              emptycolumnwise=key_b[2])))"
   ]
  },
  {
   "cell_type": "code",
   "execution_count": 8,
   "metadata": {},
   "outputs": [
    {
     "data": {
      "text/plain": [
       "(((3, 2, 4, 1, 5, 0), False, True), -2821.4971440358026)"
      ]
     },
     "execution_count": 8,
     "metadata": {},
     "output_type": "execute_result"
    }
   ],
   "source": [
    "key_b, score = column_transposition_break_mp(c5bs, fitness=Ptrigrams)\n",
    "key_b, score"
   ]
  },
  {
   "cell_type": "code",
   "execution_count": 9,
   "metadata": {},
   "outputs": [
    {
     "name": "stdout",
     "output_type": "stream",
     "text": [
      "phase five seahorse is ready for trials and the nautilus system is fully functional we engaged the\n",
      "mechanism and lowered the deck to three feet above sealevel approaching the shore by the radar\n",
      "station at all times signals from their communications were monitored and no sign was given that our\n",
      "approach had been monitored or even noticed we backed off the deck was raised by two feet and the\n",
      "approach attempted again once more our incursion was unnoticed overnight we conducted a range of\n",
      "tests and mapped the radar coverage on three separate occasions there seems to have been a flurry of\n",
      "activity and our modeling suggests that the ships masts may have triggered brief alarms on all\n",
      "occasions the automatic dive systems cut incorrectly lowering the decks to sealevel and the alarms\n",
      "were cancelled the seahorse deployment system will be fully mounted tonight and we will conduct a\n",
      "battery of tests on the deployment and emergency recovery systems over the next two nights assuming\n",
      "that sea and air traffic remains low xxxx\n"
     ]
    }
   ],
   "source": [
    "print(prettify(column_transposition_decipher(c5bs, key_b[0], \n",
    "                                            fillcolumnwise=key_b[1], \n",
    "                                             emptycolumnwise=key_b[2])))"
   ]
  },
  {
   "cell_type": "code",
   "execution_count": 10,
   "metadata": {},
   "outputs": [
    {
     "data": {
      "text/plain": [
       "['tokens',\n",
       " 'trials',\n",
       " 'tricks',\n",
       " 'tromps',\n",
       " 'umiaks',\n",
       " 'unfair',\n",
       " 'urbans',\n",
       " 'urgent',\n",
       " 'vocals',\n",
       " 'womans',\n",
       " 'womens',\n",
       " 'wreaks',\n",
       " 'wrecks',\n",
       " 'yokels',\n",
       " 'ricardo',\n",
       " 'sneaker',\n",
       " 'speaker',\n",
       " 'tobagos',\n",
       " 'trebles',\n",
       " 'woolens',\n",
       " 'sneakers',\n",
       " 'speakers',\n",
       " 'speedier',\n",
       " 'tobaccos',\n",
       " 'together',\n",
       " 'treaties',\n",
       " 'treatise',\n",
       " 'trollops',\n",
       " 'unedited',\n",
       " 'woollens',\n",
       " 'wreckers',\n",
       " 'treatises',\n",
       " 'triteness',\n",
       " 'usherette',\n",
       " 'woodcocks',\n",
       " 'tritenesss',\n",
       " 'usherettes']"
      ]
     },
     "execution_count": 10,
     "metadata": {},
     "output_type": "execute_result"
    }
   ],
   "source": [
    "transpositions[key_b[0]]"
   ]
  },
  {
   "cell_type": "code",
   "execution_count": null,
   "metadata": {},
   "outputs": [],
   "source": []
  }
 ],
 "metadata": {
  "kernelspec": {
   "display_name": "Python 3",
   "language": "python",
   "name": "python3"
  },
  "language_info": {
   "codemirror_mode": {
    "name": "ipython",
    "version": 3
   },
   "file_extension": ".py",
   "mimetype": "text/x-python",
   "name": "python",
   "nbconvert_exporter": "python",
   "pygments_lexer": "ipython3",
   "version": "3.6.3"
  }
 },
 "nbformat": 4,
 "nbformat_minor": 1
}
